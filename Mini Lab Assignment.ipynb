{
 "cells": [
  {
   "cell_type": "code",
   "execution_count": 1,
   "metadata": {
    "collapsed": false
   },
   "outputs": [
    {
     "name": "stdout",
     "output_type": "stream",
     "text": [
      "<class 'pandas.core.frame.DataFrame'>\n",
      "RangeIndex: 887379 entries, 0 to 887378\n",
      "Data columns (total 38 columns):\n",
      "funded_amnt         887379 non-null int64\n",
      "term                887379 non-null int64\n",
      "annual_inc          887379 non-null float64\n",
      "dti                 887379 non-null float64\n",
      "delinq_2yrs         887379 non-null float64\n",
      "inq_last_6mths      887379 non-null float64\n",
      "open_acc            887379 non-null float64\n",
      "out_prncp           887379 non-null float64\n",
      "total_pymnt         887379 non-null float64\n",
      "acc_now_delinq      887379 non-null float64\n",
      "Grade_A             887379 non-null float64\n",
      "Grade_B             887379 non-null float64\n",
      "Grade_C             887379 non-null float64\n",
      "Grade_D             887379 non-null float64\n",
      "Grade_E             887379 non-null float64\n",
      "Grade_F             887379 non-null float64\n",
      "Grade_G             887379 non-null float64\n",
      "Employ_1 year       887379 non-null float64\n",
      "Employ_10+ years    887379 non-null float64\n",
      "Employ_2 years      887379 non-null float64\n",
      "Employ_3 years      887379 non-null float64\n",
      "Employ_4 years      887379 non-null float64\n",
      "Employ_5 years      887379 non-null float64\n",
      "Employ_6 years      887379 non-null float64\n",
      "Employ_7 years      887379 non-null float64\n",
      "Employ_8 years      887379 non-null float64\n",
      "Employ_9 years      887379 non-null float64\n",
      "Employ_< 1 year     887379 non-null float64\n",
      "Employ_n/a          887379 non-null float64\n",
      "Int_Rate_Range      887379 non-null category\n",
      "Loan_Class          887379 non-null float64\n",
      "Verify_Status       887379 non-null float64\n",
      "Home_ANY            887379 non-null float64\n",
      "Home_MORTGAGE       887379 non-null float64\n",
      "Home_NONE           887379 non-null float64\n",
      "Home_OTHER          887379 non-null float64\n",
      "Home_OWN            887379 non-null float64\n",
      "Home_RENT           887379 non-null float64\n",
      "dtypes: category(1), float64(35), int64(2)\n",
      "memory usage: 251.3 MB\n",
      "None\n"
     ]
    }
   ],
   "source": [
    "import pandas as pd\n",
    "import numpy as np\n",
    "import copy\n",
    "\n",
    "import warnings\n",
    "warnings.simplefilter('ignore', DeprecationWarning)\n",
    "warnings.simplefilter('ignore', FutureWarning)\n",
    "warnings.simplefilter(\"ignore\")\n",
    "\n",
    "#Bring in data set\n",
    "loan_df = pd.read_csv('LoanData/loanData.csv')\n",
    "\n",
    "#Remove unwanted attributes from the data set based on specific criteria\n",
    "for col in ['id','funded_amnt_inv','sub_grade','emp_title','pymnt_plan','url','title','zip_code','earliest_cr_line',\n",
    "            'mths_since_last_delinq','mths_since_last_record','pub_rec','revol_bal','revol_util','total_acc',\n",
    "            'initial_list_status','out_prncp_inv','total_pymnt_inv','recoveries','collection_recovery_fee','last_pymnt_d',\n",
    "            'last_pymnt_amnt','next_pymnt_d','last_credit_pull_d','collections_12_mths_ex_med','policy_code','application_type',\n",
    "            'annual_inc_joint','dti_joint','verification_status_joint','open_acc_6m','open_il_6m','open_il_12m','open_il_24m',\n",
    "            'mths_since_rcnt_il','total_bal_il','il_util','open_rv_12m','open_rv_24m','max_bal_bc','all_util',\n",
    "            'total_rev_hi_lim','inq_fi','total_cu_tl','inq_last_12m', 'installment', 'mths_since_last_major_derog', 'desc',\n",
    "           'issue_d', 'addr_state', 'tot_coll_amt', 'tot_cur_bal', 'purpose', 'member_id', 'total_rec_prncp', 'total_rec_int',\n",
    "           'total_rec_late_fee', 'loan_amnt']:\n",
    "    if col in loan_df:\n",
    "        del loan_df[col]\n",
    "\n",
    "#Create new variables for classification\n",
    "#Modify term to be integer for easier analysis\n",
    "loan_df = loan_df.replace(to_replace=\" 36 months\", value=36)\n",
    "loan_df = loan_df.replace(to_replace=\" 60 months\", value=60)\n",
    "\n",
    "#Impute missing data values with median\n",
    "for col in ['annual_inc', 'delinq_2yrs', 'inq_last_6mths', 'open_acc', 'acc_now_delinq']:\n",
    "    df_temp = copy.deepcopy(loan_df[col])\n",
    "    df_temp = df_temp.replace(to_replace=np.nan, value=df_temp.median())\n",
    "    loan_df[col] = df_temp\n",
    "    \n",
    "#Numerical classification of grade\n",
    "tmp_df = pd.get_dummies(loan_df.grade,prefix='Grade')\n",
    "loan_df = pd.concat((loan_df,tmp_df),axis=1) # add back into the dataframe\n",
    "\n",
    "if \"grade\" in loan_df:\n",
    "    del loan_df[\"grade\"]\n",
    "    \n",
    "#Numerical classification of employment length\n",
    "tmp_df = pd.get_dummies(loan_df.emp_length,prefix='Employ')\n",
    "loan_df = pd.concat((loan_df,tmp_df),axis=1) # add back into the dataframe\n",
    "\n",
    "if \"emp_length\" in loan_df:\n",
    "    del loan_df[\"emp_length\"]\n",
    "\n",
    "#Range of interest rates\n",
    "loan_df['Int_Rate_Range'] = pd.cut(loan_df.int_rate, [0, 5,10,15,20,25, 30], 6, labels=[0, 1, 2, 3, 4, 5])\n",
    "\n",
    "if \"int_rate\" in loan_df:\n",
    "    del loan_df[\"int_rate\"]\n",
    "\n",
    "#Nominal classification of loan_status\n",
    "loan_df.loc[loan_df['loan_status'] == 'Charged Off' , 'Loan_Class'] = 0\n",
    "loan_df.loc[loan_df['loan_status'] == 'Default' , 'Loan_Class'] = 0\n",
    "loan_df.loc[loan_df['loan_status'] == 'Late (31-120 days)' , 'Loan_Class'] = 0\n",
    "loan_df.loc[loan_df['loan_status'] == 'Late (16-30 days)' , 'Loan_Class'] = 0\n",
    "loan_df.loc[loan_df['loan_status'] == 'Does not meet the credit policy. Status:Charged Off' , 'Loan_Class'] = 0\n",
    "\n",
    "loan_df.loc[loan_df['loan_status'] == 'Fully Paid' , 'Loan_Class'] = 1\n",
    "loan_df.loc[loan_df['loan_status'] == 'Does not meet the credit policy. Status:Fully Paid' , 'Loan_Class'] = 1\n",
    "\n",
    "loan_df.loc[loan_df['loan_status'] == 'Current' , 'Loan_Class'] = 1\n",
    "loan_df.loc[loan_df['loan_status'] == 'In Grace Period' , 'Loan_Class'] = 1\n",
    "loan_df.loc[loan_df['loan_status'] == 'Issued' , 'Loan_Class'] = 1\n",
    "\n",
    "#Secondary classification of loan class for further analysis of data\n",
    "# comparing the historical data (good/bad loans) to current data (loans still in progress)\n",
    "# Loans are classified as 'Bad' if loans are bad\n",
    "loan_df.loc[loan_df['loan_status'] == 'Charged Off' , 'Loan_Class2'] = 'Bad'\n",
    "loan_df.loc[loan_df['loan_status'] == 'Default' , 'Loan_Class2'] = 'Bad'\n",
    "loan_df.loc[loan_df['loan_status'] == 'Late (31-120 days)' , 'Loan_Class2'] = 'Bad'\n",
    "loan_df.loc[loan_df['loan_status'] == 'Late (16-30 days)' , 'Loan_Class2'] = 'Bad'\n",
    "loan_df.loc[loan_df['loan_status'] == 'Does not meet the credit policy. Status:Charged Off' , 'Loan_Class2'] = 'Bad'\n",
    "# Loans are classified as 'Good' if loans are good\n",
    "loan_df.loc[loan_df['loan_status'] == 'Fully Paid' , 'Loan_Class2'] = 'Good'\n",
    "loan_df.loc[loan_df['loan_status'] == 'Does not meet the credit policy. Status:Fully Paid' , 'Loan_Class2'] = 'Good'\n",
    "# Loans are classified as 'Current' if loans are current/still in progress\n",
    "loan_df.loc[loan_df['loan_status'] == 'Current' , 'Loan_Class2'] = 'Current'\n",
    "loan_df.loc[loan_df['loan_status'] == 'In Grace Period' , 'Loan_Class2'] = 'Current'\n",
    "loan_df.loc[loan_df['loan_status'] == 'Issued' , 'Loan_Class2'] = 'Current'\n",
    "\n",
    "if \"loan_status\" in loan_df:\n",
    "    del loan_df[\"loan_status\"]\n",
    "\n",
    "#Nominal classification of verification status\n",
    "loan_df.loc[loan_df['verification_status'] == 'Verified', 'Verify_Status'] = 1\n",
    "loan_df.loc[loan_df['verification_status'] == 'Source Verified', 'Verify_Status'] = 1\n",
    "loan_df.loc[loan_df['verification_status'] == 'Not Verified', 'Verify_Status'] = 0\n",
    "\n",
    "if \"verification_status\" in loan_df:\n",
    "    del loan_df[\"verification_status\"]\n",
    "\n",
    "#Nominal classification of home ownership\n",
    "tmp_df = pd.get_dummies(loan_df.home_ownership,prefix='Home')\n",
    "loan_df = pd.concat((loan_df,tmp_df),axis=1) # add back into the dataframe\n",
    "\n",
    "if \"home_ownership\" in loan_df:\n",
    "    del loan_df[\"home_ownership\"]\n",
    "\n",
    "# Create separate data frames for future analysis and breakdown\n",
    "loan_df_unfinished = loan_df[loan_df['Loan_Class2'] == 'Current'] #Data of uncompleted loans\n",
    "loan_df_finished = loan_df[(loan_df['Loan_Class2'] == 'Bad') | (loan_df['Loan_Class2']=='Good')] #Data of completed loans\n",
    "\n",
    "if \"Loan_Class2\" in loan_df:\n",
    "    del loan_df[\"Loan_Class2\"]\n",
    "\n",
    "print loan_df.info()"
   ]
  },
  {
   "cell_type": "code",
   "execution_count": 2,
   "metadata": {
    "collapsed": false
   },
   "outputs": [
    {
     "name": "stdout",
     "output_type": "stream",
     "text": [
      "ShuffleSplit(887379, n_iter=5, test_size=0.2, random_state=None)\n"
     ]
    }
   ],
   "source": [
    "from sklearn.cross_validation import ShuffleSplit\n",
    "\n",
    "if 'Loan_Class' in loan_df:\n",
    "    y = loan_df['Loan_Class'].values\n",
    "    del loan_df['Loan_Class']\n",
    "    X = loan_df.values\n",
    "    \n",
    "num_cv_iterations = 5\n",
    "num_instances = len(y)\n",
    "cv_obj = ShuffleSplit(n = num_instances, n_iter = num_cv_iterations, test_size = 0.2)\n",
    "\n",
    "print cv_obj"
   ]
  },
  {
   "cell_type": "code",
   "execution_count": 3,
   "metadata": {
    "collapsed": false
   },
   "outputs": [
    {
     "name": "stdout",
     "output_type": "stream",
     "text": [
      "====Iteration 0  ====\n",
      "accuracy 0.970931280849\n",
      "confusion matrix\n",
      "[[  7070   5089]\n",
      " [    70 165247]]\n",
      "====Iteration 1  ====\n",
      "accuracy 0.971032703013\n",
      "confusion matrix\n",
      "[[  7302   5071]\n",
      " [    70 165033]]\n",
      "====Iteration 2  ====\n",
      "accuracy 0.971511641011\n",
      "confusion matrix\n",
      "[[  7234   4981]\n",
      " [    75 165186]]\n",
      "====Iteration 3  ====\n",
      "accuracy 0.971218643648\n",
      "confusion matrix\n",
      "[[  7216   5040]\n",
      " [    68 165152]]\n",
      "====Iteration 4  ====\n",
      "accuracy 0.970756609344\n",
      "confusion matrix\n",
      "[[  7143   5126]\n",
      " [    64 165143]]\n"
     ]
    }
   ],
   "source": [
    "from sklearn.linear_model import LogisticRegression\n",
    "from sklearn import metrics as mt\n",
    "\n",
    "logreg_obj = LogisticRegression(penalty='l2', C=1.0, class_weight=None)\n",
    "\n",
    "for iter_num, (train_indices, test_indices) in enumerate(cv_obj):\n",
    "    logreg_obj.fit(X[train_indices],y[train_indices])  # train object\n",
    "    y_hat = logreg_obj.predict(X[test_indices]) # get test set precitions\n",
    "\n",
    "    # print the accuracy and confusion matrix \n",
    "    print \"====Iteration\",iter_num,\" ====\"\n",
    "    print \"accuracy\", mt.accuracy_score(y[test_indices],y_hat) \n",
    "    print \"confusion matrix\\n\",mt.confusion_matrix(y[test_indices],y_hat)"
   ]
  },
  {
   "cell_type": "code",
   "execution_count": 4,
   "metadata": {
    "collapsed": false
   },
   "outputs": [
    {
     "name": "stdout",
     "output_type": "stream",
     "text": [
      "<class 'pandas.core.frame.DataFrame'>\n",
      "Int64Index: 270887 entries, 0 to 887371\n",
      "Data columns (total 38 columns):\n",
      "funded_amnt         270887 non-null int64\n",
      "term                270887 non-null int64\n",
      "annual_inc          270887 non-null float64\n",
      "dti                 270887 non-null float64\n",
      "delinq_2yrs         270887 non-null float64\n",
      "inq_last_6mths      270887 non-null float64\n",
      "open_acc            270887 non-null float64\n",
      "out_prncp           270887 non-null float64\n",
      "total_pymnt         270887 non-null float64\n",
      "acc_now_delinq      270887 non-null float64\n",
      "Grade_A             270887 non-null float64\n",
      "Grade_B             270887 non-null float64\n",
      "Grade_C             270887 non-null float64\n",
      "Grade_D             270887 non-null float64\n",
      "Grade_E             270887 non-null float64\n",
      "Grade_F             270887 non-null float64\n",
      "Grade_G             270887 non-null float64\n",
      "Employ_1 year       270887 non-null float64\n",
      "Employ_10+ years    270887 non-null float64\n",
      "Employ_2 years      270887 non-null float64\n",
      "Employ_3 years      270887 non-null float64\n",
      "Employ_4 years      270887 non-null float64\n",
      "Employ_5 years      270887 non-null float64\n",
      "Employ_6 years      270887 non-null float64\n",
      "Employ_7 years      270887 non-null float64\n",
      "Employ_8 years      270887 non-null float64\n",
      "Employ_9 years      270887 non-null float64\n",
      "Employ_< 1 year     270887 non-null float64\n",
      "Employ_n/a          270887 non-null float64\n",
      "Int_Rate_Range      270887 non-null category\n",
      "Verify_Status       270887 non-null float64\n",
      "Home_ANY            270887 non-null float64\n",
      "Home_MORTGAGE       270887 non-null float64\n",
      "Home_NONE           270887 non-null float64\n",
      "Home_OTHER          270887 non-null float64\n",
      "Home_OWN            270887 non-null float64\n",
      "Home_RENT           270887 non-null float64\n",
      "isGoodLoan          270887 non-null int32\n",
      "dtypes: category(1), float64(34), int32(1), int64(2)\n",
      "memory usage: 77.8 MB\n"
     ]
    }
   ],
   "source": [
    "loan_df_finished['isGoodLoan'] = loan_df_finished['Loan_Class2'] == 'Good'\n",
    "loan_df_finished.isGoodLoan = loan_df_finished.isGoodLoan.astype(np.int)\n",
    "\n",
    "#Remove Loan_Class and Loan_Class2 from the data frame\n",
    "if \"Loan_Class\" in loan_df_finished:\n",
    "    del loan_df_finished[\"Loan_Class\"]\n",
    "if \"Loan_Class2\" in loan_df_finished:\n",
    "    del loan_df_finished[\"Loan_Class2\"]\n",
    "    \n",
    "loan_df_finished.info()"
   ]
  },
  {
   "cell_type": "code",
   "execution_count": 5,
   "metadata": {
    "collapsed": false
   },
   "outputs": [
    {
     "name": "stdout",
     "output_type": "stream",
     "text": [
      "ShuffleSplit(270887, n_iter=5, test_size=0.2, random_state=None)\n"
     ]
    }
   ],
   "source": [
    "if 'isGoodLoan' in loan_df_finished:\n",
    "    updated_y = loan_df_finished['isGoodLoan'].values\n",
    "    del loan_df_finished['isGoodLoan']\n",
    "    updated_X = loan_df_finished.values\n",
    "    \n",
    "num_cv_iterations = 5\n",
    "num_instances = len(updated_y)\n",
    "updated_cv_obj = ShuffleSplit(n = num_instances, n_iter = num_cv_iterations, test_size = 0.2)\n",
    "\n",
    "print updated_cv_obj"
   ]
  },
  {
   "cell_type": "code",
   "execution_count": 6,
   "metadata": {
    "collapsed": false
   },
   "outputs": [
    {
     "name": "stdout",
     "output_type": "stream",
     "text": [
      "====Iteration 0  ====\n",
      "accuracy 0.983166598989\n",
      "confusion matrix\n",
      "[[11553   837]\n",
      " [   75 41713]]\n",
      "====Iteration 1  ====\n",
      "accuracy 0.983111225959\n",
      "confusion matrix\n",
      "[[11380   828]\n",
      " [   87 41883]]\n",
      "====Iteration 2  ====\n",
      "accuracy 0.983720329285\n",
      "confusion matrix\n",
      "[[11501   799]\n",
      " [   83 41795]]\n",
      "====Iteration 3  ====\n",
      "accuracy 0.983923363727\n",
      "confusion matrix\n",
      "[[11368   798]\n",
      " [   73 41939]]\n",
      "====Iteration 4  ====\n",
      "accuracy 0.983037395253\n",
      "confusion matrix\n",
      "[[11296   833]\n",
      " [   86 41963]]\n"
     ]
    }
   ],
   "source": [
    "updated_logreg_obj = LogisticRegression(penalty='l2', C=1.0, class_weight=None)\n",
    "\n",
    "for iter_num, (train_indices, test_indices) in enumerate(updated_cv_obj):\n",
    "    updated_logreg_obj.fit(updated_X[train_indices],updated_y[train_indices])  # train object\n",
    "    updated_y_hat = updated_logreg_obj.predict(updated_X[test_indices]) # get test set precitions\n",
    "\n",
    "    # print the accuracy and confusion matrix \n",
    "    print \"====Iteration\",iter_num,\" ====\"\n",
    "    print \"accuracy\", mt.accuracy_score(updated_y[test_indices],updated_y_hat) \n",
    "    print \"confusion matrix\\n\",mt.confusion_matrix(updated_y[test_indices],updated_y_hat)"
   ]
  },
  {
   "cell_type": "code",
   "execution_count": 7,
   "metadata": {
    "collapsed": false
   },
   "outputs": [
    {
     "name": "stdout",
     "output_type": "stream",
     "text": [
      "funded_amnt has weight of -0.00174596521907\n",
      "term has weight of 0.0169387012865\n",
      "annual_inc has weight of 1.87799861862e-05\n",
      "dti has weight of 0.00861623998063\n",
      "delinq_2yrs has weight of 6.65236442372e-05\n",
      "inq_last_6mths has weight of -2.3759753321e-05\n",
      "open_acc has weight of 0.00458861659387\n",
      "out_prncp has weight of -0.0185949317843\n",
      "total_pymnt has weight of 0.00176215241386\n",
      "acc_now_delinq has weight of 3.38484226796e-06\n",
      "Grade_A has weight of 0.000346064204174\n",
      "Grade_B has weight of 0.000245984337118\n",
      "Grade_C has weight of 0.000104937725549\n",
      "Grade_D has weight of -6.12698178969e-05\n",
      "Grade_E has weight of -5.38770616151e-05\n",
      "Grade_F has weight of -3.13783916938e-05\n",
      "Grade_G has weight of -1.42624824314e-05\n",
      "Employ_1 year has weight of 4.56735407285e-05\n",
      "Employ_10+ years has weight of 9.25723170684e-05\n",
      "Employ_2 years has weight of 6.99158748643e-05\n",
      "Employ_3 years has weight of 5.67413119391e-05\n",
      "Employ_4 years has weight of 3.29873599891e-05\n",
      "Employ_5 years has weight of 2.15172236754e-05\n",
      "Employ_6 years has weight of 2.29435966193e-05\n",
      "Employ_7 years has weight of 1.41575618358e-05\n",
      "Employ_8 years has weight of 2.86148332483e-05\n",
      "Employ_9 years has weight of 9.09611504375e-06\n",
      "Employ_< 1 year has weight of 8.24432363627e-05\n",
      "Employ_n/a has weight of 5.95355418293e-05\n",
      "Int_Rate_Range has weight of 0.000364527642687\n",
      "Verify_Status has weight of 0.000236580014664\n",
      "Home_ANY has weight of 6.78228011609e-08\n",
      "Home_MORTGAGE has weight of 0.000182289930506\n",
      "Home_NONE has weight of -3.87410448709e-07\n",
      "Home_OTHER has weight of -1.79744869752e-06\n",
      "Home_OWN has weight of 9.37099741327e-05\n",
      "Home_RENT has weight of 0.00026231564491\n"
     ]
    }
   ],
   "source": [
    "from sklearn.preprocessing import StandardScaler\n",
    "\n",
    "# iterate over the coefficients\n",
    "weights = updated_logreg_obj.coef_.T # take transpose to make a column vector\n",
    "variable_names = loan_df_finished.columns\n",
    "for coef, name in zip(weights,variable_names):\n",
    "    print name, 'has weight of', coef[0]"
   ]
  },
  {
   "cell_type": "code",
   "execution_count": 14,
   "metadata": {
    "collapsed": false
   },
   "outputs": [
    {
     "name": "stdout",
     "output_type": "stream",
     "text": [
      "accuracy: 0.982077596072\n",
      "[[11244   885]\n",
      " [   86 41963]]\n",
      "\n",
      "Employ_1 year has weight of -0.00413567996064\n",
      "term has weight of -0.007525320467\n",
      "Employ_< 1 year has weight of 0.00770048841189\n",
      "Employ_9 years has weight of -0.00947885280789\n",
      "Grade_F has weight of -0.0100470938369\n",
      "Employ_6 years has weight of -0.0113274961484\n",
      "Grade_E has weight of -0.0114516373415\n",
      "Employ_4 years has weight of -0.012469077061\n",
      "dti has weight of -0.0131641667797\n",
      "Grade_B has weight of -0.0148327250148\n",
      "Employ_2 years has weight of 0.0148448870181\n",
      "Employ_3 years has weight of 0.0155021662887\n",
      "Grade_G has weight of -0.0158441810535\n",
      "Home_ANY has weight of 0.0176938400466\n",
      "Home_NONE has weight of -0.0197713548372\n",
      "Employ_7 years has weight of -0.0218785515382\n",
      "Grade_C has weight of -0.0249341381013\n",
      "Home_OWN has weight of 0.0277355202682\n",
      "Employ_5 years has weight of -0.029269547777\n",
      "Employ_10+ years has weight of 0.031450779157\n",
      "delinq_2yrs has weight of 0.0317140650378\n",
      "Home_OTHER has weight of -0.0322581379017\n",
      "Employ_8 years has weight of 0.0344561871504\n",
      "Home_MORTGAGE has weight of 0.04514915002\n",
      "acc_now_delinq has weight of 0.0569642438282\n",
      "Employ_n/a has weight of -0.0576721547521\n",
      "Grade_D has weight of -0.0587458934418\n",
      "Home_RENT has weight of -0.059418278821\n",
      "open_acc has weight of 0.0901633884584\n",
      "Verify_Status has weight of 0.112588710275\n",
      "inq_last_6mths has weight of -0.123781478002\n",
      "Grade_A has weight of 0.125621840195\n",
      "annual_inc has weight of 0.280285083745\n",
      "Int_Rate_Range has weight of -0.446452405492\n",
      "funded_amnt has weight of -13.2632846382\n",
      "total_pymnt has weight of 15.3775955248\n",
      "out_prncp has weight of -19.2848622006\n"
     ]
    }
   ],
   "source": [
    "warnings.simplefilter(\"ignore\")\n",
    "\n",
    "#normalize the features\n",
    "scale_obj = StandardScaler()\n",
    "scale_obj.fit(updated_X[train_indices])\n",
    "\n",
    "X_train_scaled = scale_obj.transform(updated_X[train_indices]) # apply to training\n",
    "X_test_scaled = scale_obj.transform(updated_X[test_indices])\n",
    "\n",
    "updated_logreg_obj.fit(X_train_scaled, updated_y[train_indices])\n",
    "\n",
    "y_hat = updated_logreg_obj.predict(X_test_scaled)\n",
    "\n",
    "acc = mt.accuracy_score(updated_y[test_indices],y_hat)\n",
    "conf = mt.confusion_matrix(updated_y[test_indices],y_hat)\n",
    "print 'accuracy:', acc \n",
    "print conf\n",
    "print \n",
    "\n",
    "# sort these attributes and spit them out\n",
    "zip_vars = zip(updated_logreg_obj.coef_.T,loan_df_finished.columns) # combine attributes\n",
    "zip_vars.sort(key = lambda t: np.abs(t[0])) # sort them by the magnitude of the weight\n",
    "for coef, name in zip_vars:\n",
    "    print name, 'has weight of', coef[0] # now print them out"
   ]
  },
  {
   "cell_type": "code",
   "execution_count": 13,
   "metadata": {
    "collapsed": false
   },
   "outputs": [
    {
     "name": "stdout",
     "output_type": "stream",
     "text": [
      "SVM: 0.875669090775\n"
     ]
    }
   ],
   "source": [
    "warnings.simplefilter(\"ignore\")\n",
    "\n",
    "# SVM using 'hash' for loss\n",
    "from sklearn.linear_model import SGDClassifier\n",
    "\n",
    "regularize_const = 0.1\n",
    "iterations = 5\n",
    "svm_sgd = SGDClassifier(alpha=regularize_const,\n",
    "        fit_intercept=True, l1_ratio=0.0, learning_rate='optimal',\n",
    "        loss='hinge', n_iter=iterations, n_jobs=-1, penalty='l2')\n",
    "\n",
    "scl = StandardScaler()\n",
    "for train_idx, test_idx in updated_cv_obj:\n",
    "    svm_sgd.fit(scl.fit_transform(updated_X[train_idx]),updated_y[train_idx])\n",
    "    yhat = svm_sgd.predict(scl.transform(updated_X[test_idx]))\n",
    "    \n",
    "    conf = mt.confusion_matrix(updated_y[test_idx],yhat)\n",
    "    acc = mt.accuracy_score(updated_y[test_idx],yhat)\n",
    "\n",
    "print 'SVM:', acc"
   ]
  },
  {
   "cell_type": "code",
   "execution_count": 11,
   "metadata": {
    "collapsed": false
   },
   "outputs": [
    {
     "data": {
      "image/png": "[encoded data removed]",
      "text/plain": [
       "<matplotlib.figure.Figure at 0x9329e320>"
      ]
     },
     "metadata": {},
     "output_type": "display_data"
    }
   ],
   "source": [
    "# now let's make a pandas Series with the names and values, and plot them\n",
    "from matplotlib import pyplot as plt\n",
    "%matplotlib inline\n",
    "plt.style.use('ggplot')\n",
    "fig = plt.figure(figsize=(20, 20))\n",
    "\n",
    "weights = pd.Series(updated_logreg_obj.coef_[0],index=loan_df_finished.columns)\n",
    "weights.plot(kind='bar')\n",
    "plt.show()"
   ]
  },
  {
   "cell_type": "code",
   "execution_count": 12,
   "metadata": {
    "collapsed": false
   },
   "outputs": [
    {
     "name": "stdout",
     "output_type": "stream",
     "text": [
      "SVM: 0.845583078002\n"
     ]
    }
   ],
   "source": [
    "warnings.simplefilter(\"ignore\")\n",
    "\n",
    "# SVM using 'log' for loss instead of 'hinge'\n",
    "from sklearn.linear_model import SGDClassifier\n",
    "\n",
    "regularize_const = 0.1\n",
    "iterations = 5\n",
    "svm_sgd = SGDClassifier(alpha=regularize_const,\n",
    "        fit_intercept=True, l1_ratio=0.0, learning_rate='optimal',\n",
    "        loss='log', n_iter=iterations, n_jobs=-1, penalty='l2')\n",
    "\n",
    "scl = StandardScaler()\n",
    "for train_idx, test_idx in updated_cv_obj:\n",
    "    svm_sgd.fit(scl.fit_transform(updated_X[train_idx]),updated_y[train_idx])\n",
    "    yhat = svm_sgd.predict(scl.transform(updated_X[test_idx]))\n",
    "    \n",
    "    conf = mt.confusion_matrix(updated_y[test_idx],yhat)\n",
    "    acc = mt.accuracy_score(updated_y[test_idx],yhat)\n",
    "\n",
    "print 'SVM:', acc"
   ]
  },
  {
   "cell_type": "code",
   "execution_count": null,
   "metadata": {
    "collapsed": true
   },
   "outputs": [],
   "source": []
  }
 ],
 "metadata": {
  "kernelspec": {
   "display_name": "Python 2",
   "language": "python",
   "name": "python2"
  },
  "language_info": {
   "codemirror_mode": {
    "name": "ipython",
    "version": 2
   },
   "file_extension": ".py",
   "mimetype": "text/x-python",
   "name": "python",
   "nbconvert_exporter": "python",
   "pygments_lexer": "ipython2",
   "version": "2.7.11"
  }
 },
 "nbformat": 4,
 "nbformat_minor": 0
}
