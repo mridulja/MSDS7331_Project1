{
 "cells": [
  {
   "cell_type": "markdown",
   "metadata": {},
   "source": [
    "# Mini Lab\n",
    "\n",
    "## Brett Hallum, Mridul Jain, and Solomon Ndungu\n",
    "\n",
    "The purpose of this project is to use logistic regression and SVM to create a classification model for a loan data. We will use the model to classify loans as good if the loan end up as current, fully paid or in grace period and bad if those laons eventually end up in default, late or charged off.\n",
    "\n",
    "We started by filtering out our unwanted data. A lot of this information was removed in Lab 1 due to missing values, single values for whole set, and a minimal distribution of values. Additionally, we do some imputation to fill in minor missing data values. Finally, we do some nominal classification on some of our data variables for ease of use in classification.\n",
    "\n",
    "We also create two additional data frames, loan_df_finished and loan_df_unfinished, at this point as well. Their purpose and usage will be discussed shortly.\n"
   ]
  },
  {
   "cell_type": "markdown",
   "metadata": {},
   "source": [
    "# Resubmission part:\n",
    "We have created Subsampled dataset from the complete data in Line [7] using the code mentioned below:\n",
    "### Randomly sample X% of your dataframe for future use (We will use small subset of data for SVM (Batch) classification)\n",
    "\n",
    "'subsampled_df = loan_df_finished.copy().sample(frac=0.05)'\n",
    "\n",
    "For the analysis part, a new section right after \"Analysis 2: Reduced Number of Factors\" is added at the end. \n",
    "\n",
    "i.e. Section with \"Look at the chosen support vectors for the classification task. Do these provide any insight into the data? Explain\""
   ]
  },
  {
   "cell_type": "code",
   "execution_count": 1,
   "metadata": {
    "collapsed": false
   },
   "outputs": [
    {
     "data": {
      "text/plain": [
       "'C:\\\\Users\\\\emrijai\\\\Documents\\\\IPython Notebooks\\\\MS7331\\\\Project1\\\\MSDS7331_Project1'"
      ]
     },
     "execution_count": 1,
     "metadata": {},
     "output_type": "execute_result"
    }
   ],
   "source": [
    "import os\n",
    "os.chdir('C:/Users/emrijai/Documents/IPython Notebooks/MS7331/Project1/MSDS7331_Project1')\n",
    "os.getcwd()"
   ]
  },
  {
   "cell_type": "code",
   "execution_count": 2,
   "metadata": {
    "collapsed": false,
    "scrolled": false
   },
   "outputs": [
    {
     "name": "stdout",
     "output_type": "stream",
     "text": [
      "<class 'pandas.core.frame.DataFrame'>\n",
      "RangeIndex: 887379 entries, 0 to 887378\n",
      "Data columns (total 52 columns):\n",
      "funded_amnt                        887379 non-null float64\n",
      "term                               887379 non-null int64\n",
      "annual_inc                         887379 non-null float64\n",
      "dti                                887379 non-null float64\n",
      "delinq_2yrs                        887379 non-null float64\n",
      "inq_last_6mths                     887379 non-null float64\n",
      "open_acc                           887379 non-null float64\n",
      "total_acc                          887379 non-null float64\n",
      "total_pymnt                        887379 non-null float64\n",
      "acc_now_delinq                     887379 non-null float64\n",
      "Grade_A                            887379 non-null float64\n",
      "Grade_B                            887379 non-null float64\n",
      "Grade_C                            887379 non-null float64\n",
      "Grade_D                            887379 non-null float64\n",
      "Grade_E                            887379 non-null float64\n",
      "Grade_F                            887379 non-null float64\n",
      "Grade_G                            887379 non-null float64\n",
      "Employ_1 year                      887379 non-null float64\n",
      "Employ_10+ years                   887379 non-null float64\n",
      "Employ_2 years                     887379 non-null float64\n",
      "Employ_3 years                     887379 non-null float64\n",
      "Employ_4 years                     887379 non-null float64\n",
      "Employ_5 years                     887379 non-null float64\n",
      "Employ_6 years                     887379 non-null float64\n",
      "Employ_7 years                     887379 non-null float64\n",
      "Employ_8 years                     887379 non-null float64\n",
      "Employ_9 years                     887379 non-null float64\n",
      "Employ_< 1 year                    887379 non-null float64\n",
      "Employ_n/a                         887379 non-null float64\n",
      "Int_Rate_Range                     887379 non-null category\n",
      "Loan_Class                         887379 non-null float64\n",
      "Verify_Status                      887379 non-null float64\n",
      "Home_ANY                           887379 non-null float64\n",
      "Home_MORTGAGE                      887379 non-null float64\n",
      "Home_NONE                          887379 non-null float64\n",
      "Home_OTHER                         887379 non-null float64\n",
      "Home_OWN                           887379 non-null float64\n",
      "Home_RENT                          887379 non-null float64\n",
      "Loan_Purpose_car                   887379 non-null float64\n",
      "Loan_Purpose_credit_card           887379 non-null float64\n",
      "Loan_Purpose_debt_consolidation    887379 non-null float64\n",
      "Loan_Purpose_educational           887379 non-null float64\n",
      "Loan_Purpose_home_improvement      887379 non-null float64\n",
      "Loan_Purpose_house                 887379 non-null float64\n",
      "Loan_Purpose_major_purchase        887379 non-null float64\n",
      "Loan_Purpose_medical               887379 non-null float64\n",
      "Loan_Purpose_moving                887379 non-null float64\n",
      "Loan_Purpose_other                 887379 non-null float64\n",
      "Loan_Purpose_renewable_energy      887379 non-null float64\n",
      "Loan_Purpose_small_business        887379 non-null float64\n",
      "Loan_Purpose_vacation              887379 non-null float64\n",
      "Loan_Purpose_wedding               887379 non-null float64\n",
      "dtypes: category(1), float64(50), int64(1)\n",
      "memory usage: 346.1 MB\n",
      "None\n"
     ]
    }
   ],
   "source": [
    "import pandas as pd\n",
    "import numpy as np\n",
    "import copy\n",
    "\n",
    "import warnings\n",
    "warnings.simplefilter('ignore', DeprecationWarning)\n",
    "warnings.simplefilter('ignore', FutureWarning)\n",
    "warnings.simplefilter(\"ignore\")\n",
    "\n",
    "#Bring in data set\n",
    "loan_df = pd.read_csv('LoanData/loanData.csv')\n",
    "\n",
    "#Remove unwanted attributes from the data set based on specific criteria\n",
    "for col in ['id','funded_amnt_inv','sub_grade','emp_title','pymnt_plan','url','title','zip_code','earliest_cr_line',\n",
    "            'mths_since_last_delinq','mths_since_last_record','pub_rec','revol_bal','revol_util',\n",
    "            'initial_list_status','out_prncp_inv','total_pymnt_inv','recoveries','collection_recovery_fee','last_pymnt_d',\n",
    "            'last_pymnt_amnt','next_pymnt_d','last_credit_pull_d','collections_12_mths_ex_med','policy_code','application_type',\n",
    "            'annual_inc_joint','dti_joint','verification_status_joint','open_acc_6m','open_il_6m','open_il_12m','open_il_24m',\n",
    "            'mths_since_rcnt_il','total_bal_il','il_util','open_rv_12m','open_rv_24m','max_bal_bc','all_util',\n",
    "            'total_rev_hi_lim','inq_fi','total_cu_tl','inq_last_12m', 'installment', 'mths_since_last_major_derog', 'desc',\n",
    "           'issue_d', 'addr_state', 'tot_coll_amt', 'tot_cur_bal', 'member_id', 'total_rec_prncp', 'total_rec_int',\n",
    "           'total_rec_late_fee', 'loan_amnt', 'out_prncp']:\n",
    "    if col in loan_df:\n",
    "        del loan_df[col]\n",
    "\n",
    "#Create new variables for classification\n",
    "#Modify term to be integer for easier analysis\n",
    "loan_df = loan_df.replace(to_replace=\" 36 months\", value=36)\n",
    "loan_df = loan_df.replace(to_replace=\" 60 months\", value=60)\n",
    "\n",
    "#Impute missing data values with median\n",
    "for col in ['annual_inc', 'delinq_2yrs', 'inq_last_6mths', 'open_acc', 'acc_now_delinq']:\n",
    "    df_temp = copy.deepcopy(loan_df[col])\n",
    "    df_temp = df_temp.replace(to_replace=np.nan, value=df_temp.median())\n",
    "    loan_df[col] = df_temp\n",
    "    \n",
    "#Numerical classification of grade\n",
    "tmp_df = pd.get_dummies(loan_df.grade,prefix='Grade')\n",
    "loan_df = pd.concat((loan_df,tmp_df),axis=1) # add back into the dataframe\n",
    "\n",
    "if \"grade\" in loan_df:\n",
    "    del loan_df[\"grade\"]\n",
    "    \n",
    "#Numerical classification of employment length\n",
    "tmp_df = pd.get_dummies(loan_df.emp_length,prefix='Employ')\n",
    "loan_df = pd.concat((loan_df,tmp_df),axis=1) # add back into the dataframe\n",
    "\n",
    "if \"emp_length\" in loan_df:\n",
    "    del loan_df[\"emp_length\"]\n",
    "\n",
    "#Range of interest rates\n",
    "loan_df['Int_Rate_Range'] = pd.cut(loan_df.int_rate, [0, 5,10,15,20,25, 30], 6, labels=[0, 1, 2, 3, 4, 5])\n",
    "\n",
    "if \"int_rate\" in loan_df:\n",
    "    del loan_df[\"int_rate\"]\n",
    "\n",
    "#Nominal classification of loan_status\n",
    "loan_df.loc[loan_df['loan_status'] == 'Charged Off' , 'Loan_Class'] = 0\n",
    "loan_df.loc[loan_df['loan_status'] == 'Default' , 'Loan_Class'] = 0\n",
    "loan_df.loc[loan_df['loan_status'] == 'Late (31-120 days)' , 'Loan_Class'] = 0\n",
    "loan_df.loc[loan_df['loan_status'] == 'Late (16-30 days)' , 'Loan_Class'] = 0\n",
    "loan_df.loc[loan_df['loan_status'] == 'Does not meet the credit policy. Status:Charged Off' , 'Loan_Class'] = 0\n",
    "\n",
    "loan_df.loc[loan_df['loan_status'] == 'Fully Paid' , 'Loan_Class'] = 1\n",
    "loan_df.loc[loan_df['loan_status'] == 'Does not meet the credit policy. Status:Fully Paid' , 'Loan_Class'] = 1\n",
    "\n",
    "loan_df.loc[loan_df['loan_status'] == 'Current' , 'Loan_Class'] = 1\n",
    "loan_df.loc[loan_df['loan_status'] == 'In Grace Period' , 'Loan_Class'] = 1\n",
    "loan_df.loc[loan_df['loan_status'] == 'Issued' , 'Loan_Class'] = 1\n",
    "\n",
    "#Secondary classification of loan class for further analysis of data (used for new data frames)\n",
    "# comparing the historical data (good/bad loans) to current data (loans still in progress)\n",
    "# Loans are classified as 'Bad' if loans are bad\n",
    "loan_df.loc[loan_df['loan_status'] == 'Charged Off' , 'Loan_Class2'] = 'Bad'\n",
    "loan_df.loc[loan_df['loan_status'] == 'Default' , 'Loan_Class2'] = 'Bad'\n",
    "loan_df.loc[loan_df['loan_status'] == 'Late (31-120 days)' , 'Loan_Class2'] = 'bad'\n",
    "loan_df.loc[loan_df['loan_status'] == 'Late (16-30 days)' , 'Loan_Class2'] = 'Bad'\n",
    "loan_df.loc[loan_df['loan_status'] == 'Does not meet the credit policy. Status:Charged Off' , 'Loan_Class2'] = 'Bad'\n",
    "# Loans are classified as 'Good' if loans are good\n",
    "loan_df.loc[loan_df['loan_status'] == 'Fully Paid' , 'Loan_Class2'] = 'Good'\n",
    "loan_df.loc[loan_df['loan_status'] == 'Does not meet the credit policy. Status:Fully Paid' , 'Loan_Class2'] = 'Good'\n",
    "# Loans are classified as 'Current' if loans are current/still in progress\n",
    "loan_df.loc[loan_df['loan_status'] == 'Current' , 'Loan_Class2'] = 'Current'\n",
    "loan_df.loc[loan_df['loan_status'] == 'In Grace Period' , 'Loan_Class2'] = 'Current'\n",
    "loan_df.loc[loan_df['loan_status'] == 'Issued' , 'Loan_Class2'] = 'Current'\n",
    "\n",
    "if \"loan_status\" in loan_df:\n",
    "    del loan_df[\"loan_status\"]\n",
    "\n",
    "#Nominal classification of verification status\n",
    "loan_df.loc[loan_df['verification_status'] == 'Verified', 'Verify_Status'] = 1\n",
    "loan_df.loc[loan_df['verification_status'] == 'Source Verified', 'Verify_Status'] = 1\n",
    "loan_df.loc[loan_df['verification_status'] == 'Not Verified', 'Verify_Status'] = 0\n",
    "\n",
    "if \"verification_status\" in loan_df:\n",
    "    del loan_df[\"verification_status\"]\n",
    "\n",
    "#Nominal classification of home ownership\n",
    "tmp_df = pd.get_dummies(loan_df.home_ownership,prefix='Home')\n",
    "loan_df = pd.concat((loan_df,tmp_df),axis=1) # add back into the dataframe\n",
    "\n",
    "if \"home_ownership\" in loan_df:\n",
    "    del loan_df[\"home_ownership\"]\n",
    "\n",
    "#Impute missing data values with median\n",
    "for col in ['total_acc']:\n",
    "    df_temp = copy.deepcopy(loan_df[col])\n",
    "    df_temp = df_temp.replace(to_replace=np.nan, value= 0 )\n",
    "    loan_df[col] = df_temp    \n",
    "\n",
    "    \n",
    "tmp_df = pd.get_dummies(loan_df.purpose,prefix='Loan_Purpose')\n",
    "loan_df = pd.concat((loan_df,tmp_df),axis=1)\n",
    "\n",
    "if 'purpose' in loan_df:\n",
    "    del loan_df['purpose']    \n",
    "    \n",
    "# Create separate data frames for future analysis and breakdown\n",
    "loan_df_unfinished = loan_df[loan_df['Loan_Class2'] == 'Current'] #Data of uncompleted loans\n",
    "loan_df_finished = loan_df[(loan_df['Loan_Class2'] == 'Bad') | (loan_df['Loan_Class2']=='Good')] #Data of completed loans\n",
    "\n",
    "\n",
    "loan_df.copy()\n",
    "\n",
    "if \"Loan_Class2\" in loan_df:\n",
    "    del loan_df[\"Loan_Class2\"]\n",
    "\n",
    "print loan_df.info()"
   ]
  },
  {
   "cell_type": "code",
   "execution_count": 3,
   "metadata": {
    "collapsed": false
   },
   "outputs": [
    {
     "name": "stdout",
     "output_type": "stream",
     "text": [
      "<class 'pandas.core.frame.DataFrame'>\n",
      "Int64Index: 887379 entries, 0 to 887378\n",
      "Data columns (total 52 columns):\n",
      "funded_amnt                        887379 non-null float64\n",
      "term                               887379 non-null int64\n",
      "annual_inc                         887379 non-null float64\n",
      "dti                                887379 non-null float64\n",
      "delinq_2yrs                        887379 non-null float64\n",
      "inq_last_6mths                     887379 non-null float64\n",
      "open_acc                           887379 non-null float64\n",
      "total_acc                          887379 non-null float64\n",
      "total_pymnt                        887379 non-null float64\n",
      "acc_now_delinq                     887379 non-null float64\n",
      "Grade_A                            887379 non-null float64\n",
      "Grade_B                            887379 non-null float64\n",
      "Grade_C                            887379 non-null float64\n",
      "Grade_D                            887379 non-null float64\n",
      "Grade_E                            887379 non-null float64\n",
      "Grade_F                            887379 non-null float64\n",
      "Grade_G                            887379 non-null float64\n",
      "Employ_1 year                      887379 non-null float64\n",
      "Employ_10+ years                   887379 non-null float64\n",
      "Employ_2 years                     887379 non-null float64\n",
      "Employ_3 years                     887379 non-null float64\n",
      "Employ_4 years                     887379 non-null float64\n",
      "Employ_5 years                     887379 non-null float64\n",
      "Employ_6 years                     887379 non-null float64\n",
      "Employ_7 years                     887379 non-null float64\n",
      "Employ_8 years                     887379 non-null float64\n",
      "Employ_9 years                     887379 non-null float64\n",
      "Employ_< 1 year                    887379 non-null float64\n",
      "Employ_n/a                         887379 non-null float64\n",
      "Int_Rate_Range                     887379 non-null category\n",
      "Loan_Class                         887379 non-null float64\n",
      "Verify_Status                      887379 non-null float64\n",
      "Home_ANY                           887379 non-null float64\n",
      "Home_MORTGAGE                      887379 non-null float64\n",
      "Home_NONE                          887379 non-null float64\n",
      "Home_OTHER                         887379 non-null float64\n",
      "Home_OWN                           887379 non-null float64\n",
      "Home_RENT                          887379 non-null float64\n",
      "Loan_Purpose_car                   887379 non-null float64\n",
      "Loan_Purpose_credit_card           887379 non-null float64\n",
      "Loan_Purpose_debt_consolidation    887379 non-null float64\n",
      "Loan_Purpose_educational           887379 non-null float64\n",
      "Loan_Purpose_home_improvement      887379 non-null float64\n",
      "Loan_Purpose_house                 887379 non-null float64\n",
      "Loan_Purpose_major_purchase        887379 non-null float64\n",
      "Loan_Purpose_medical               887379 non-null float64\n",
      "Loan_Purpose_moving                887379 non-null float64\n",
      "Loan_Purpose_other                 887379 non-null float64\n",
      "Loan_Purpose_renewable_energy      887379 non-null float64\n",
      "Loan_Purpose_small_business        887379 non-null float64\n",
      "Loan_Purpose_vacation              887379 non-null float64\n",
      "Loan_Purpose_wedding               887379 non-null float64\n",
      "dtypes: category(1), float64(50), int64(1)\n",
      "memory usage: 352.9 MB\n",
      "None\n"
     ]
    }
   ],
   "source": [
    "loan_df = loan_df.dropna()\n",
    "print loan_df.info()"
   ]
  },
  {
   "cell_type": "code",
   "execution_count": 4,
   "metadata": {
    "collapsed": false
   },
   "outputs": [
    {
     "name": "stdout",
     "output_type": "stream",
     "text": [
      "Loan_Class\n",
      "0.0     61176\n",
      "1.0    826203\n",
      "Name: Loan_Class, dtype: int64\n"
     ]
    }
   ],
   "source": [
    "#Count for each class\n",
    "df_grouped = loan_df.groupby(by='Loan_Class')\n",
    "print df_grouped.Loan_Class.count()"
   ]
  },
  {
   "cell_type": "code",
   "execution_count": 5,
   "metadata": {
    "collapsed": false,
    "scrolled": false
   },
   "outputs": [
    {
     "name": "stdout",
     "output_type": "stream",
     "text": [
      "ShuffleSplit(887379, n_iter=5, test_size=0.2, random_state=None)\n"
     ]
    }
   ],
   "source": [
    "from sklearn.cross_validation import ShuffleSplit\n",
    "\n",
    "# Split our data frame into our classification of Loan_Class and the rest of the data set\n",
    "if 'Loan_Class' in loan_df:\n",
    "    y = loan_df['Loan_Class'].values\n",
    "    del loan_df['Loan_Class']\n",
    "    X = loan_df.values\n",
    "\n",
    "# Shuffle split our data into an 80/20 breakdown. The 80 will be used for training and the 20 for testing\n",
    "num_cv_iterations = 5\n",
    "num_instances = len(y)\n",
    "cv_obj = ShuffleSplit(n = num_instances, n_iter = num_cv_iterations, test_size = 0.2)\n",
    "\n",
    "print cv_obj"
   ]
  },
  {
   "cell_type": "markdown",
   "metadata": {},
   "source": [
    "### Logistic Regression\n",
    "\n",
    "We will begin by conducting a logistic regression on the full data set. We will look at the accuracy of the classification to see how accurate the regression model is and the confusion matrix to see if there are any oddities in the breakdown."
   ]
  },
  {
   "cell_type": "code",
   "execution_count": 6,
   "metadata": {
    "collapsed": false
   },
   "outputs": [
    {
     "name": "stdout",
     "output_type": "stream",
     "text": [
      "====Iteration 0  ====\n",
      "accuracy 0.930317338682\n",
      "confusion matrix\n",
      "[[     0  12367]\n",
      " [     0 165109]]\n",
      "====Iteration 1  ====\n",
      "accuracy 0.931016024702\n",
      "confusion matrix\n",
      "[[     0  12243]\n",
      " [     0 165233]]\n",
      "====Iteration 2  ====\n",
      "accuracy 0.931235772724\n",
      "confusion matrix\n",
      "[[     0  12204]\n",
      " [     0 165272]]\n",
      "====Iteration 3  ====\n",
      "accuracy 0.931224503595\n",
      "confusion matrix\n",
      "[[     0  12206]\n",
      " [     0 165270]]\n",
      "====Iteration 4  ====\n",
      "accuracy 0.930852622326\n",
      "confusion matrix\n",
      "[[     0  12272]\n",
      " [     0 165204]]\n"
     ]
    }
   ],
   "source": [
    "from sklearn.linear_model import LogisticRegression\n",
    "from sklearn import metrics as mt\n",
    "\n",
    "logreg_obj = LogisticRegression(penalty='l2', C=1.0, class_weight=None)\n",
    "\n",
    "# Fit and test the regression model for each shuffled instance\n",
    "for iter_num, (train_indices, test_indices) in enumerate(cv_obj):\n",
    "    logreg_obj.fit(X[train_indices],y[train_indices])  # train object\n",
    "    y_hat = logreg_obj.predict(X[test_indices]) # get test set precitions\n",
    "\n",
    "    # print the accuracy and confusion matrix \n",
    "    print \"====Iteration\",iter_num,\" ====\"\n",
    "    print \"accuracy\", mt.accuracy_score(y[test_indices],y_hat) \n",
    "    print \"confusion matrix\\n\",mt.confusion_matrix(y[test_indices],y_hat)"
   ]
  },
  {
   "cell_type": "markdown",
   "metadata": {},
   "source": [
    "The average accuracy is around 93.1%. It seems logistic regression method is effective in  classifying the loans. However, if we look at the confusion matrix, all of the \"Bad\" classifications of the loans are getting classified as \"Good\". This most likely  because our data is heavily skewed. Of the total data set, only about 7% of the loans are classified as bad. The data set is further skewed due to loans that are in different payment lifecyle. We have data that has been through the full process of the loan and has been determined to be either good, meaning the loan is complete, or bad, meaning the loan went into default and the company has written it off. The rest of our data, which is a good portion of it, are loans that are still current, or in the process of going through the full life cycle. Some of these loans could still go into default, but we do not know if they will or not.\n",
    "\n",
    "To handle this in our classification, we split our data up. We created a data frame of finished loans (loan_df_finished) to clarify those that have been completed and a data frame of current loans (loan_df_unfinished) to specify those that have not finished their life cycle. We will use the finished loans data frame to try to classify our data better. The unfinished data frame can then be used later for cross validation."
   ]
  },
  {
   "cell_type": "code",
   "execution_count": 7,
   "metadata": {
    "collapsed": false
   },
   "outputs": [],
   "source": [
    "# Add column to determine if loan is good or bad based on classification in data set\n",
    "loan_df_finished['isGoodLoan'] = loan_df_finished['Loan_Class2'] == 'Good'\n",
    "loan_df_finished.isGoodLoan = loan_df_finished.isGoodLoan.astype(np.int)\n",
    "\n",
    "\n",
    "import pandas\n",
    "# Randomly sample X% of your dataframe for future use (We will use small subset of data for SVM (Batch) classification)\n",
    "subsampled_df = loan_df_finished.copy().sample(frac=0.05)\n",
    "\n",
    "#Remove Loan_Class and Loan_Class2 from the data frame so they are no longer observed for classification\n",
    "if \"Loan_Class\" in loan_df_finished:\n",
    "    del loan_df_finished[\"Loan_Class\"]\n",
    "if \"Loan_Class2\" in loan_df_finished:\n",
    "    del loan_df_finished[\"Loan_Class2\"]\n",
    "    \n",
    "#Remove Loan_Class and Loan_Class2 from the data frame so they are no longer observed for classification\n",
    "if \"Loan_Class\" in subsampled_df:\n",
    "    del subsampled_df[\"Loan_Class\"]\n",
    "if \"Loan_Class2\" in subsampled_df:\n",
    "    del subsampled_df[\"Loan_Class2\"]"
   ]
  },
  {
   "cell_type": "code",
   "execution_count": 8,
   "metadata": {
    "collapsed": false
   },
   "outputs": [
    {
     "name": "stdout",
     "output_type": "stream",
     "text": [
      "ShuffleSplit(259296, n_iter=5, test_size=0.2, random_state=None)\n"
     ]
    }
   ],
   "source": [
    "# Split the data into our x and y matrices for testing\n",
    "if 'isGoodLoan' in loan_df_finished:\n",
    "    updated_y = loan_df_finished['isGoodLoan'].values\n",
    "    del loan_df_finished['isGoodLoan']\n",
    "    updated_X = loan_df_finished.values\n",
    "\n",
    "# Create a new Shuffle split on the narrowed classification data\n",
    "num_cv_iterations = 5\n",
    "num_instances = len(updated_y)\n",
    "updated_cv_obj = ShuffleSplit(n = num_instances, n_iter = num_cv_iterations, test_size = 0.2)\n",
    "print updated_cv_obj"
   ]
  },
  {
   "cell_type": "code",
   "execution_count": 9,
   "metadata": {
    "collapsed": false
   },
   "outputs": [
    {
     "name": "stdout",
     "output_type": "stream",
     "text": [
      "<class 'pandas.core.frame.DataFrame'>\n",
      "Int64Index: 12965 entries, 879706 to 434437\n",
      "Data columns (total 52 columns):\n",
      "funded_amnt                        12965 non-null float64\n",
      "term                               12965 non-null int64\n",
      "annual_inc                         12965 non-null float64\n",
      "dti                                12965 non-null float64\n",
      "delinq_2yrs                        12965 non-null float64\n",
      "inq_last_6mths                     12965 non-null float64\n",
      "open_acc                           12965 non-null float64\n",
      "total_acc                          12965 non-null float64\n",
      "total_pymnt                        12965 non-null float64\n",
      "acc_now_delinq                     12965 non-null float64\n",
      "Grade_A                            12965 non-null float64\n",
      "Grade_B                            12965 non-null float64\n",
      "Grade_C                            12965 non-null float64\n",
      "Grade_D                            12965 non-null float64\n",
      "Grade_E                            12965 non-null float64\n",
      "Grade_F                            12965 non-null float64\n",
      "Grade_G                            12965 non-null float64\n",
      "Employ_1 year                      12965 non-null float64\n",
      "Employ_10+ years                   12965 non-null float64\n",
      "Employ_2 years                     12965 non-null float64\n",
      "Employ_3 years                     12965 non-null float64\n",
      "Employ_4 years                     12965 non-null float64\n",
      "Employ_5 years                     12965 non-null float64\n",
      "Employ_6 years                     12965 non-null float64\n",
      "Employ_7 years                     12965 non-null float64\n",
      "Employ_8 years                     12965 non-null float64\n",
      "Employ_9 years                     12965 non-null float64\n",
      "Employ_< 1 year                    12965 non-null float64\n",
      "Employ_n/a                         12965 non-null float64\n",
      "Int_Rate_Range                     12965 non-null category\n",
      "Verify_Status                      12965 non-null float64\n",
      "Home_ANY                           12965 non-null float64\n",
      "Home_MORTGAGE                      12965 non-null float64\n",
      "Home_NONE                          12965 non-null float64\n",
      "Home_OTHER                         12965 non-null float64\n",
      "Home_OWN                           12965 non-null float64\n",
      "Home_RENT                          12965 non-null float64\n",
      "Loan_Purpose_car                   12965 non-null float64\n",
      "Loan_Purpose_credit_card           12965 non-null float64\n",
      "Loan_Purpose_debt_consolidation    12965 non-null float64\n",
      "Loan_Purpose_educational           12965 non-null float64\n",
      "Loan_Purpose_home_improvement      12965 non-null float64\n",
      "Loan_Purpose_house                 12965 non-null float64\n",
      "Loan_Purpose_major_purchase        12965 non-null float64\n",
      "Loan_Purpose_medical               12965 non-null float64\n",
      "Loan_Purpose_moving                12965 non-null float64\n",
      "Loan_Purpose_other                 12965 non-null float64\n",
      "Loan_Purpose_renewable_energy      12965 non-null float64\n",
      "Loan_Purpose_small_business        12965 non-null float64\n",
      "Loan_Purpose_vacation              12965 non-null float64\n",
      "Loan_Purpose_wedding               12965 non-null float64\n",
      "isGoodLoan                         12965 non-null int32\n",
      "dtypes: category(1), float64(49), int32(1), int64(1)\n",
      "memory usage: 5.1 MB\n"
     ]
    }
   ],
   "source": [
    "subsampled_df.info()"
   ]
  },
  {
   "cell_type": "code",
   "execution_count": 10,
   "metadata": {
    "collapsed": false
   },
   "outputs": [
    {
     "name": "stdout",
     "output_type": "stream",
     "text": [
      "==== Iteration 0  ====\n",
      "accuracy 0.981199382954\n",
      "confusion matrix\n",
      "[[ 8990   890]\n",
      " [   85 41895]]\n",
      "==== Iteration 1  ====\n",
      "accuracy 0.98197069032\n",
      "confusion matrix\n",
      "[[ 8972   849]\n",
      " [   86 41953]]\n",
      "==== Iteration 2  ====\n",
      "accuracy 0.981604319321\n",
      "confusion matrix\n",
      "[[ 9140   862]\n",
      " [   92 41766]]\n",
      "==== Iteration 3  ====\n",
      "accuracy 0.981546471269\n",
      "confusion matrix\n",
      "[[ 9136   891]\n",
      " [   66 41767]]\n",
      "==== Iteration 4  ====\n",
      "accuracy 0.981392209796\n",
      "confusion matrix\n",
      "[[ 8979   889]\n",
      " [   76 41916]]\n"
     ]
    }
   ],
   "source": [
    "updated_logreg_obj = LogisticRegression(penalty='l2', C=10, class_weight=None)\n",
    "\n",
    "for iter_num, (train_indices, test_indices) in enumerate(updated_cv_obj):\n",
    "    updated_logreg_obj.fit(updated_X[train_indices],updated_y[train_indices])  # train object\n",
    "    updated_y_hat = updated_logreg_obj.predict(updated_X[test_indices]) # get test set precitions\n",
    "\n",
    "    # print the accuracy and confusion matrix \n",
    "    print \"==== Iteration\",iter_num,\" ====\"\n",
    "    print \"accuracy\", mt.accuracy_score(updated_y[test_indices],updated_y_hat) \n",
    "    print \"confusion matrix\\n\",mt.confusion_matrix(updated_y[test_indices],updated_y_hat)"
   ]
  },
  {
   "cell_type": "markdown",
   "metadata": {},
   "source": [
    "The results of this classification not only have a higher accuracy than the original, full data set, an average of 98.0% versus 93.1%, but it also has better looking confusion matrices. There are data points that are classified correctly. Although there are still a larger number of bad loans being incorrectly identified as good, it is much better distributed than the original set.\n",
    "\n",
    "We follow up this analysis by looking at the weight of each factor used. This will help us figure out if there are certain features that are more influential than others to help with the classification of each point."
   ]
  },
  {
   "cell_type": "code",
   "execution_count": 11,
   "metadata": {
    "collapsed": false
   },
   "outputs": [
    {
     "name": "stdout",
     "output_type": "stream",
     "text": [
      "funded_amnt has weight of -0.00177440338659\n",
      "term has weight of 0.0163609820238\n",
      "annual_inc has weight of 1.62352652311e-05\n",
      "dti has weight of 0.00816486626097\n",
      "delinq_2yrs has weight of 4.49194115779e-05\n",
      "inq_last_6mths has weight of -5.55046894947e-06\n",
      "open_acc has weight of 0.00421327133909\n",
      "total_acc has weight of 0.0105556553607\n",
      "total_pymnt has weight of 0.00177845260322\n",
      "acc_now_delinq has weight of 2.80661285163e-06\n",
      "Grade_A has weight of 0.000335613712712\n",
      "Grade_B has weight of 0.000237886853425\n",
      "Grade_C has weight of 0.000109362816446\n",
      "Grade_D has weight of -7.39729690476e-05\n",
      "Grade_E has weight of -5.1591079071e-05\n",
      "Grade_F has weight of -3.28529388745e-05\n",
      "Grade_G has weight of -1.00558021344e-05\n",
      "Employ_1 year has weight of 5.03206917685e-05\n",
      "Employ_10+ years has weight of 7.45456407511e-05\n",
      "Employ_2 years has weight of 7.06479572557e-05\n",
      "Employ_3 years has weight of 4.92787504304e-05\n",
      "Employ_4 years has weight of 3.08523789032e-05\n",
      "Employ_5 years has weight of 1.71941942928e-05\n",
      "Employ_6 years has weight of 2.44870596419e-05\n",
      "Employ_7 years has weight of 1.60268331645e-05\n",
      "Employ_8 years has weight of 2.57306942835e-05\n",
      "Employ_9 years has weight of 1.14454082447e-05\n",
      "Employ_< 1 year has weight of 7.95075880405e-05\n",
      "Employ_n/a has weight of 6.43533966788e-05\n",
      "Int_Rate_Range has weight of 0.000323155170016\n",
      "Verify_Status has weight of 0.000217173066924\n",
      "Home_ANY has weight of 6.72468968346e-08\n",
      "Home_MORTGAGE has weight of 0.000173323365038\n",
      "Home_NONE has weight of -7.0125951871e-07\n",
      "Home_OTHER has weight of -1.85832184427e-06\n",
      "Home_OWN has weight of 9.2466599151e-05\n",
      "Home_RENT has weight of 0.000251092963732\n",
      "Loan_Purpose_car has weight of 2.24118754039e-05\n",
      "Loan_Purpose_credit_card has weight of 0.000138129559348\n",
      "Loan_Purpose_debt_consolidation has weight of 0.000265857175398\n",
      "Loan_Purpose_educational has weight of -5.2341669471e-07\n",
      "Loan_Purpose_home_improvement has weight of 2.96372562295e-05\n",
      "Loan_Purpose_house has weight of 8.62219160424e-07\n",
      "Loan_Purpose_major_purchase has weight of 3.8546032895e-05\n",
      "Loan_Purpose_medical has weight of 3.10741146711e-06\n",
      "Loan_Purpose_moving has weight of 6.46643415188e-06\n",
      "Loan_Purpose_other has weight of 2.81383499482e-05\n",
      "Loan_Purpose_renewable_energy has weight of 1.00623632058e-06\n",
      "Loan_Purpose_small_business has weight of -2.44086972299e-05\n",
      "Loan_Purpose_vacation has weight of 7.37863832809e-06\n",
      "Loan_Purpose_wedding has weight of -2.21848126977e-06\n"
     ]
    }
   ],
   "source": [
    "from sklearn.preprocessing import StandardScaler\n",
    "\n",
    "# Non-normalized weights\n",
    "# Iterate over the coefficients to get the weight for each variable\n",
    "weights = updated_logreg_obj.coef_.T # take transpose to make a column vector\n",
    "variable_names = loan_df_finished.columns\n",
    "for coef, name in zip(weights,variable_names):\n",
    "    print name, 'has weight of', coef[0]"
   ]
  },
  {
   "cell_type": "markdown",
   "metadata": {},
   "source": [
    "We want to normalize the weights for each variable so that a much larger valued variable, such as the funded amount, is weighted the same as a small valued variable such as one that is binary or nominal."
   ]
  },
  {
   "cell_type": "code",
   "execution_count": 12,
   "metadata": {
    "collapsed": false
   },
   "outputs": [
    {
     "name": "stdout",
     "output_type": "stream",
     "text": [
      "accuracy: 0.981102969533\n",
      "[[ 8966   902]\n",
      " [   78 41914]]\n",
      "Employ_10+ years has weight of -1.53423371358e-05\n",
      "term has weight of 0.000262357439878\n",
      "delinq_2yrs has weight of -0.00282035064844\n",
      "Employ_6 years has weight of -0.00365172412584\n",
      "Employ_9 years has weight of -0.00441684399368\n",
      "Loan_Purpose_renewable_energy has weight of -0.00546867783808\n",
      "Loan_Purpose_moving has weight of -0.00583685072493\n",
      "Loan_Purpose_home_improvement has weight of -0.00602120180884\n",
      "Employ_4 years has weight of -0.00859950340298\n",
      "Grade_F has weight of 0.00945438347268\n",
      "Loan_Purpose_vacation has weight of -0.00948675075704\n",
      "Employ_1 year has weight of 0.0112296587409\n",
      "Employ_3 years has weight of 0.0122222813838\n",
      "Loan_Purpose_major_purchase has weight of 0.012350220197\n",
      "Loan_Purpose_house has weight of 0.0130084982847\n",
      "Employ_< 1 year has weight of 0.0168992309307\n",
      "Home_ANY has weight of 0.0176784664875\n",
      "Employ_7 years has weight of -0.018601438957\n",
      "Loan_Purpose_car has weight of -0.0186600316737\n",
      "Loan_Purpose_medical has weight of -0.0212071933462\n",
      "Grade_E has weight of 0.0219286090077\n",
      "Grade_C has weight of -0.0262954261072\n",
      "Employ_2 years has weight of 0.0279232377061\n",
      "Grade_G has weight of 0.028027871309\n",
      "Home_NONE has weight of -0.0296353780085\n",
      "Employ_8 years has weight of 0.029975285279\n",
      "Home_OWN has weight of 0.0307748361043\n",
      "Employ_5 years has weight of -0.031881274712\n",
      "Loan_Purpose_educational has weight of -0.0328632551339\n",
      "Loan_Purpose_debt_consolidation has weight of 0.0338537852261\n",
      "Home_OTHER has weight of -0.0347176298361\n",
      "Loan_Purpose_other has weight of -0.0357726287657\n",
      "Grade_B has weight of -0.0388199038558\n",
      "Loan_Purpose_wedding has weight of -0.0392524847908\n",
      "Home_MORTGAGE has weight of 0.03933765708\n",
      "Loan_Purpose_credit_card has weight of 0.0395009500027\n",
      "acc_now_delinq has weight of 0.0457667178339\n",
      "Employ_n/a has weight of -0.0463000771634\n",
      "dti has weight of -0.0479080605792\n",
      "Grade_D has weight of -0.0527292912841\n",
      "Home_RENT has weight of -0.0547568619082\n",
      "open_acc has weight of -0.0682257678499\n",
      "Verify_Status has weight of 0.101509724218\n",
      "Grade_A has weight of 0.104399195759\n",
      "Loan_Purpose_small_business has weight of -0.109317523165\n",
      "inq_last_6mths has weight of -0.126025496003\n",
      "total_acc has weight of 0.243006895046\n",
      "annual_inc has weight of 0.260676582018\n",
      "Int_Rate_Range has weight of -0.485413969518\n",
      "funded_amnt has weight of -13.98572924\n",
      "total_pymnt has weight of 16.1889763884\n"
     ]
    }
   ],
   "source": [
    "warnings.simplefilter(\"ignore\")\n",
    "\n",
    "# Normalize the features\n",
    "scale_obj = StandardScaler()\n",
    "scale_obj.fit(updated_X[train_indices])\n",
    "\n",
    "X_train_scaled = scale_obj.transform(updated_X[train_indices]) # apply to training\n",
    "X_test_scaled = scale_obj.transform(updated_X[test_indices])\n",
    "\n",
    "# Fit the regression to the new scaled data\n",
    "updated_logreg_obj.fit(X_train_scaled, updated_y[train_indices])\n",
    "\n",
    "y_hat = updated_logreg_obj.predict(X_test_scaled)\n",
    "\n",
    "# Rescore the accuracy and confusion matrix for the scaled data\n",
    "acc = mt.accuracy_score(updated_y[test_indices],y_hat)\n",
    "conf = mt.confusion_matrix(updated_y[test_indices],y_hat)\n",
    "print 'accuracy:', acc \n",
    "print conf\n",
    "\n",
    "# Sort the attributes on size and print them out in order of weight\n",
    "zip_vars = zip(updated_logreg_obj.coef_.T,loan_df_finished.columns) # combine attributes\n",
    "zip_vars.sort(key = lambda t: np.abs(t[0])) # sort them by the magnitude of the weight\n",
    "for coef, name in zip_vars:\n",
    "    print name, 'has weight of', coef[0] # now print them out"
   ]
  },
  {
   "cell_type": "markdown",
   "metadata": {},
   "source": [
    "After scaling the data, we still get a similar accuracy to before, if not a little better, and our confusion matrix has remained proportional. The scaled view of the variables provides a better way to compare variables for their significance in the classification.\n",
    "\n",
    "The graph below provides a better visual of the variables with the most impact. \n",
    "\n",
    "- The funded amount and total payment variables have a significant impact over any of the rest of the variables. \n",
    "- Interest Rate Range, annual income and the number of total accounts someone also shows more signifiance than the rest of the variables\n",
    "\n",
    "These results are very reasonable. It makes sense that good loans would have a higher total payment paid off than bad ones, so this would be an important factor in classification. If the loan is in good standing, the full principle amount will be paid off. This will relate positively because as you pay more back to the bank, you will become closer to finishing the loan. Alternatively, the less money you have paid the more likely you are to default on the loan. Funded amount and interest rate range are also valuable. Banks use credit scoring to determine the amount to fund and at what interest rates. Those with bad credit are likely to have lower funded amount and higher interest rate and also a higher chance of the loan ending up as bad. The funded amount and interest rate are both negatively weighted in this case which means the higher the interest rate and the higher the funded amount, the more likely someone is to default. As a loan increases in value and interest rate, it gets more difficult to pay off the loan and so, in general, someone is more likely to go into default and end up with a \"bad\" loan."
   ]
  },
  {
   "cell_type": "code",
   "execution_count": 13,
   "metadata": {
    "collapsed": false
   },
   "outputs": [
    {
     "data": {
      "image/png": "[encoded data removed]",
      "text/plain": [
       "<matplotlib.figure.Figure at 0xe170d160>"
      ]
     },
     "metadata": {},
     "output_type": "display_data"
    }
   ],
   "source": [
    "# now let's make a pandas Series with the names and values, and plot them\n",
    "from matplotlib import pyplot as plt\n",
    "%matplotlib inline\n",
    "plt.style.use('ggplot')\n",
    "fig = plt.figure(figsize=(14, 6))\n",
    "\n",
    "weights = pd.Series(updated_logreg_obj.coef_[0],index=loan_df_finished.columns)\n",
    "weights.plot(kind='bar')\n",
    "plt.show()"
   ]
  },
  {
   "cell_type": "markdown",
   "metadata": {},
   "source": [
    "### Support Vector Machines\n",
    "\n",
    "We continue our trials by observing the Support Vector Machines (SVM) to see if this method of classification can classify our data set better than logistic regression. We will start by observing the SVM of our original data set. Although it will most likely turn out the same way, not giving very good data, the SVM may reveal new splits in the decision. We will follow that up with looking at the SVM of the reduced data set that contains the completed loans. We can compare the accuracy of the SVM with the above logistic regression to determine if one classifies this data better than the other.\n",
    "\n",
    "Note: We use the SGDClassifier due to the size of our data set. Both sets are large and would take too long to train with a normal SVM in a time that is reasonable."
   ]
  },
  {
   "cell_type": "code",
   "execution_count": 15,
   "metadata": {
    "collapsed": false
   },
   "outputs": [
    {
     "name": "stdout",
     "output_type": "stream",
     "text": [
      "SVM: 0.931027293831\n",
      "Confusion Matrix:\n",
      "[[     0  12241]\n",
      " [     0 165235]]\n",
      "Coefficients [[ -2.61804019e-05   1.60758608e-05   8.58794443e-06   4.71063347e-06\n",
      "   -1.76317754e-06  -1.56935341e-06  -4.97724952e-06  -3.09628248e-07\n",
      "    2.45470258e-05   3.89154442e-05  -5.24218218e-06  -2.24773084e-05\n",
      "    2.16812508e-06   1.55429377e-05   6.51239069e-06   2.07760697e-06\n",
      "    4.31819123e-05   6.61608881e-08  -3.36288160e-06   4.86950885e-06\n",
      "   -1.09599453e-05  -1.12889456e-05  -1.60337439e-05   7.58994596e-06\n",
      "    2.73709607e-08   1.88586993e-05   1.32566298e-05   3.10179926e-06\n",
      "    2.55082160e-06  -3.72693065e-05  -1.00493577e-05   2.82448347e-05\n",
      "   -8.14369429e-06  -2.55381160e-04   4.93326417e-05   1.26401005e-06\n",
      "    9.84586314e-06  -1.38714501e-05  -6.75902899e-06  -7.63752777e-06\n",
      "    1.13577728e-04  -2.37837074e-06   5.01864275e-06   4.31925658e-06\n",
      "    2.33487927e-05   2.16657328e-05  -2.49009678e-05   1.01289635e-04\n",
      "   -4.11016557e-06   3.11343738e-05   4.03358685e-05]]\n"
     ]
    },
    {
     "data": {
      "text/plain": [
       "<matplotlib.axes._subplots.AxesSubplot at 0xe50e6278>"
      ]
     },
     "execution_count": 15,
     "metadata": {},
     "output_type": "execute_result"
    },
    {
     "data": {
      "image/png": "[encoded data removed]",
      "text/plain": [
       "<matplotlib.figure.Figure at 0xe50f9a58>"
      ]
     },
     "metadata": {},
     "output_type": "display_data"
    }
   ],
   "source": [
    "# SVM of full data set\n",
    "warnings.simplefilter(\"ignore\")\n",
    "\n",
    "# SGDClassifier using 'hinge' for loss to get an SVM\n",
    "from sklearn.linear_model import SGDClassifier\n",
    "\n",
    "# Get SVM classifier\n",
    "regularize_const = 0.1\n",
    "iterations = 5\n",
    "svm_sgd = SGDClassifier(alpha=regularize_const,\n",
    "        fit_intercept=True, l1_ratio=0.0, learning_rate='optimal',\n",
    "        loss='hinge', n_iter=iterations, n_jobs=-1, penalty='l2')\n",
    "\n",
    "# Fit our data (after it is scaled) to an SVM classification\n",
    "scl = StandardScaler()\n",
    "for train_idx, test_idx in cv_obj:\n",
    "    svm_sgd.fit(scl.fit_transform(X[train_idx]),y[train_idx])\n",
    "    yhat = svm_sgd.predict(scl.transform(X[test_idx]))\n",
    "    \n",
    "    conf = mt.confusion_matrix(y[test_idx],yhat)\n",
    "    acc = mt.accuracy_score(y[test_idx],yhat)\n",
    "\n",
    "print 'SVM:', acc\n",
    "print 'Confusion Matrix:\\n', conf\n",
    "print 'Coefficients', svm_sgd.coef_\n",
    "weights = pd.Series(svm_sgd.coef_[0],index=loan_df_finished.columns)\n",
    "weights.plot(kind='bar', figsize=(14,6))"
   ]
  },
  {
   "cell_type": "markdown",
   "metadata": {},
   "source": [
    "The accuracy of the full data set remained very similar. It stayed at around 93% accuracy, but still has the same style of confusion matrix from the logistic regression with bad loans being classified as good ones. Looking at the breakdown of the weights, there is also no clear classification class. All class values are relatively small, and changing to different breakdowns of the data set lead to different weights having different importances. We now look at the SVM of the reduced data to see how it performs."
   ]
  },
  {
   "cell_type": "code",
   "execution_count": 16,
   "metadata": {
    "collapsed": false
   },
   "outputs": [
    {
     "name": "stdout",
     "output_type": "stream",
     "text": [
      "SVM: 0.873197069032\n",
      "Confusion Matrix:\n",
      "[[ 3351  6547]\n",
      " [   29 41933]]\n",
      "SVM: 0.874739683764\n",
      "Confusion Matrix:\n",
      "[[ 3402  6471]\n",
      " [   25 41962]]\n",
      "SVM: 0.872753567297\n",
      "Confusion Matrix:\n",
      "[[ 3438  6576]\n",
      " [   23 41823]]\n",
      "SVM: 0.874334747397\n",
      "Confusion Matrix:\n",
      "[[ 3451  6494]\n",
      " [   23 41892]]\n",
      "SVM: 0.870439645199\n",
      "Confusion Matrix:\n",
      "[[ 3423  6694]\n",
      " [   25 41718]]\n",
      "Coefficients [[ -7.21201620e-01  -3.56271246e-02  -1.15742701e-03  -1.37793293e-02\n",
      "   -1.86674811e-03  -4.08012004e-03  -5.53128421e-03   1.15811800e-02\n",
      "    8.42966518e-01   9.74851418e-04  -2.92908180e-03   3.79476604e-03\n",
      "    4.84509157e-03   3.86405044e-03  -2.60079333e-04  -1.70712895e-02\n",
      "   -1.29015269e-02   6.92031116e-04   1.85939599e-03   8.07750539e-04\n",
      "    6.32121364e-05  -2.48445458e-04  -2.15807626e-04  -2.04008395e-03\n",
      "   -1.10363526e-03  -3.33605738e-04  -2.30093722e-04   5.87036127e-04\n",
      "   -2.49823265e-03  -4.17788500e-02  -6.43766493e-03   4.39877487e-03\n",
      "    4.07573154e-05  -1.32346485e-03  -1.74654708e-03   2.01729137e-03\n",
      "   -1.08167168e-03   2.93659666e-03  -3.14722222e-03  -3.68942895e-03\n",
      "    1.39279215e-04   2.16834870e-03   2.06101575e-03   4.15715160e-03\n",
      "    2.91826300e-03   4.15883256e-03   4.99047372e-03   2.16777099e-03\n",
      "   -6.86131402e-03   3.91473968e-03   1.19083057e-03]]\n"
     ]
    },
    {
     "data": {
      "text/plain": [
       "<matplotlib.axes._subplots.AxesSubplot at 0xe52e3080>"
      ]
     },
     "execution_count": 16,
     "metadata": {},
     "output_type": "execute_result"
    },
    {
     "data": {
      "image/png": "[encoded data removed]",
      "text/plain": [
       "<matplotlib.figure.Figure at 0xe52e3b70>"
      ]
     },
     "metadata": {},
     "output_type": "display_data"
    }
   ],
   "source": [
    "'''\n",
    "\n",
    "# Running SVM of the loan_df_finished dataset\n",
    "# We are using Stochastic gradient descent (SGD) because it computes the gradient using a single sample\n",
    "One benefit of SGD is that it's computationally a whole lot faster. Large datasets often can't be held in RAM, \n",
    "which makes vectorization much less efficient. \n",
    "Rather, each sample or batch of samples must be loaded, worked with, the results stored, and so on.\n",
    "\n",
    "#SGDClassifier using 'hinge' for loss to get an SVM\n",
    "\n",
    "'''\n",
    "\n",
    "from sklearn.linear_model import SGDClassifier\n",
    "\n",
    "regularize_const = 0.1\n",
    "iterations = 5\n",
    "svm_sgd = SGDClassifier(alpha=regularize_const,\n",
    "        fit_intercept=True, l1_ratio=0.0, learning_rate='optimal',\n",
    "        loss='hinge', n_iter=iterations, n_jobs=-1, penalty='l2')\n",
    "\n",
    "scl = StandardScaler()\n",
    "for train_idx, test_idx in updated_cv_obj:\n",
    "    svm_sgd.fit(scl.fit_transform(updated_X[train_idx]),updated_y[train_idx])\n",
    "    yhat = svm_sgd.predict(scl.transform(updated_X[test_idx]))\n",
    "    \n",
    "    conf = mt.confusion_matrix(updated_y[test_idx],yhat)\n",
    "    acc = mt.accuracy_score(updated_y[test_idx],yhat)\n",
    "\n",
    "    print 'SVM:', acc\n",
    "    print 'Confusion Matrix:\\n', conf\n",
    "    \n",
    "print 'Coefficients', svm_sgd.coef_\n",
    "weights = pd.Series(svm_sgd.coef_[0],index=loan_df_finished.columns)\n",
    "weights.plot(kind='bar', figsize=(14,6))"
   ]
  },
  {
   "cell_type": "markdown",
   "metadata": {},
   "source": [
    "The SVM for the reduced data, which includes just completed loans, has a much lower accuracy than the logistic regression classification of the same data. The accuracy dropped from just below 98.0% to around 87.3%. This is a significant difference. It is possible that part of this is due to SGDClassifier taking the Stochastic Gradient instead of the full gradient of the SVM. Although the SGD runs faster than the linear regression model we used (LinearRegression()), it does not have the accuracy that we would expect or want in this situation, especially when the original data stayed around the same accuracy between the two different classifications.\n",
    "\n",
    "It is interesting to note that the classes that the SVM pulls out are almost identical to the ones the logistic regression uses. Funded amount and total payment are still at the top of the list with Interest Rate Range being a distant fourth, but still near the top. Surprisingly, it has added importance on the 'Term' variable that the logistic regression did not pull out."
   ]
  },
  {
   "cell_type": "markdown",
   "metadata": {},
   "source": [
    "### Additional Analysis: Are there better parameter or variable choices?\n",
    "\n",
    "As suggested by the Batch SVM previously, it looks like there might be better parameter set that can help us generage the best Bias-variance trade-off. \n",
    "In this section, we want to see if we can improve the overall accuracy of our model by adjusting the parameters we pass into our Logistic Regression and SVM models and by reducing the number of variables we look at with our model. Either of these changes could lead to better performance in both accuracy and the confusion mattrices."
   ]
  },
  {
   "cell_type": "markdown",
   "metadata": {},
   "source": [
    "Overfitting is a common problem in machine learning, where a model performs well on training data but does not generalize well to unseen data (test data). If a model suffers from overfitting, we also say that the model has a high variance, which can be caused by having too many parameters that lead to a model that is too complex given the underlying data. Similarly, our model can also suffer from underfitting (high bias), which means that our model is not complex enough to capture the pattern in the training data well and therefore also suffers from low performance\n",
    "on unseen data. There are various parameters for finding a good bias-variance tradeoff and to tune the complexity of the model via regularization. \n",
    "\n",
    "Cost Function 'C' : A large C gives you low bias and high variance. Low bias because you penalize the cost of missclasification a lot. A small C gives you higher bias and lower variance. A lower C means higher regularization. A lower C thus prevents overfitting.\n",
    "\n",
    "L1/L2 Regularization : L2 regularization (sometimes also called L2 shrinkage or weight decay) or L1 regularization where penalty is the sum of the absolute weight coefficients while in L2 that term is quadratic)\n",
    "\n",
    "Below we will try to change the model parameters and try find the optimal values for these parameters.\n",
    "\n",
    "Please note that both SVC and LinearSVC have the regularization hyperparameter C, but the SGDClassifier has the regularization hyperparameter alpha. Where C = n_samples / alpha"
   ]
  },
  {
   "cell_type": "markdown",
   "metadata": {},
   "source": [
    "### Analysis 1: Changing Model Parameters"
   ]
  },
  {
   "cell_type": "markdown",
   "metadata": {},
   "source": [
    "We first look to see if we can alter the parameters of our models to get better accuracy. It may be difficult to see an increase with the Logistic Regression since it is already a high accuracy of 98%, but our stochastic SVM could perform better. We start by changing the C value (the penalty value of the error) and then also look at changing the penalty type itself. Our original set was run at a penalty of L2 and a C of 1.0."
   ]
  },
  {
   "cell_type": "code",
   "execution_count": 17,
   "metadata": {
    "collapsed": false
   },
   "outputs": [
    {
     "name": "stdout",
     "output_type": "stream",
     "text": [
      "======= L1 Penalty with C = 5 ========\n",
      "accuracy: 0.981199382954\n",
      "[[ 8971   897]\n",
      " [   78 41914]]\n",
      "======= L1 Penalty with C = 10 ========\n",
      "accuracy: 0.981199382954\n",
      "[[ 8971   897]\n",
      " [   78 41914]]\n",
      "======= L1 Penalty with C = 15 ========\n",
      "accuracy: 0.981199382954\n",
      "[[ 8971   897]\n",
      " [   78 41914]]\n",
      "======= L1 Penalty with C = 20 ========\n",
      "accuracy: 0.981199382954\n",
      "[[ 8971   897]\n",
      " [   78 41914]]\n",
      "======= L1 Penalty with C = 25 ========\n",
      "accuracy: 0.981199382954\n",
      "[[ 8971   897]\n",
      " [   78 41914]]\n",
      "======= L2 Penalty with C = 5 ========\n",
      "accuracy: 0.981102969533\n",
      "[[ 8966   902]\n",
      " [   78 41914]]\n",
      "======= L2 Penalty with C = 10 ========\n",
      "accuracy: 0.981102969533\n",
      "[[ 8966   902]\n",
      " [   78 41914]]\n",
      "======= L2 Penalty with C = 15 ========\n",
      "accuracy: 0.981141534902\n",
      "[[ 8968   900]\n",
      " [   78 41914]]\n",
      "======= L2 Penalty with C = 20 ========\n",
      "accuracy: 0.981160817586\n",
      "[[ 8969   899]\n",
      " [   78 41914]]\n",
      "======= L2 Penalty with C = 25 ========\n",
      "accuracy: 0.981199382954\n",
      "[[ 8971   897]\n",
      " [   78 41914]]\n"
     ]
    }
   ],
   "source": [
    "# Changing Logistic Regression Model Paramters - can alter penalty and C value\n",
    "\n",
    "\n",
    "for val in range(5):\n",
    "    print \"======= L1 Penalty with C =\", 5*(val+1), \"========\"\n",
    "    updated_logreg_obj = LogisticRegression(penalty='l1', C=5*(val+1), class_weight=None)\n",
    "\n",
    "    # Fit the regression to the new scaled data\n",
    "    updated_logreg_obj.fit(X_train_scaled, updated_y[train_indices])\n",
    "\n",
    "    y_hat = updated_logreg_obj.predict(X_test_scaled)\n",
    "\n",
    "    # Rescore the accuracy and confusion matrix for the scaled data\n",
    "    acc = mt.accuracy_score(updated_y[test_indices],y_hat)\n",
    "    conf = mt.confusion_matrix(updated_y[test_indices],y_hat)\n",
    "    print 'accuracy:', acc \n",
    "    print conf\n",
    "    \n",
    "for val in range(5):\n",
    "    print \"======= L2 Penalty with C =\", 5*(val+1), \"========\"\n",
    "    updated_logreg_obj = LogisticRegression(penalty='l2', C=5*(val+1), class_weight=None)\n",
    "\n",
    "    # Fit the regression to the new scaled data\n",
    "    updated_logreg_obj.fit(X_train_scaled, updated_y[train_indices])\n",
    "\n",
    "    y_hat = updated_logreg_obj.predict(X_test_scaled)\n",
    "\n",
    "    # Rescore the accuracy and confusion matrix for the scaled data\n",
    "    acc = mt.accuracy_score(updated_y[test_indices],y_hat)\n",
    "    conf = mt.confusion_matrix(updated_y[test_indices],y_hat)\n",
    "    print 'accuracy:', acc \n",
    "    print conf"
   ]
  },
  {
   "cell_type": "code",
   "execution_count": 18,
   "metadata": {
    "collapsed": false
   },
   "outputs": [
    {
     "name": "stdout",
     "output_type": "stream",
     "text": [
      "======= L1 Penalty with alpha = 1 ========\n",
      "SVM: 0.80748168145\n",
      "Confusion Matrix:\n",
      "[[    0  9984]\n",
      " [    0 41876]]\n",
      "======= L1 Penalty with alpha = 0.1 ========\n",
      "SVM: 0.806671808716\n",
      "Confusion Matrix:\n",
      "[[    0 10026]\n",
      " [    0 41834]]\n",
      "======= L1 Penalty with alpha = 0.01 ========\n",
      "SVM: 0.983108368685\n",
      "Confusion Matrix:\n",
      "[[ 9299   789]\n",
      " [   87 41685]]\n",
      "======= L1 Penalty with alpha = 0.001 ========\n",
      "SVM: 0.989741612032\n",
      "Confusion Matrix:\n",
      "[[ 9494   445]\n",
      " [   87 41834]]\n",
      "======= L1 Penalty with alpha = 0.0001 ========\n",
      "SVM: 0.9881989973\n",
      "Confusion Matrix:\n",
      "[[ 9396   370]\n",
      " [  242 41852]]\n",
      "======= L1 Penalty with l1_ratio = 0 ========\n",
      "SVM: 0.807211723872\n",
      "Confusion Matrix:\n",
      "[[    0  9998]\n",
      " [    0 41862]]\n",
      "======= L1 Penalty with l1_ratio = 0 ========\n",
      "SVM: 0.810374084073\n",
      "Confusion Matrix:\n",
      "[[    0  9834]\n",
      " [    0 42026]]\n",
      "======= L1 Penalty with l1_ratio = 0 ========\n",
      "SVM: 0.809159274971\n",
      "Confusion Matrix:\n",
      "[[    0  9897]\n",
      " [    0 41963]]\n",
      "======= L1 Penalty with l1_ratio = 0 ========\n",
      "SVM: 0.808098727343\n",
      "Confusion Matrix:\n",
      "[[    0  9952]\n",
      " [    0 41908]]\n",
      "======= L1 Penalty with l1_ratio = 1 ========\n",
      "SVM: 0.810624758966\n",
      "Confusion Matrix:\n",
      "[[    0  9821]\n",
      " [    0 42039]]\n",
      "======= L2 Penalty with alpha = 1 ========\n",
      "SVM: 0.811396066332\n",
      "Confusion Matrix:\n",
      "[[    0  9781]\n",
      " [    0 42079]]\n",
      "======= L2 Penalty with alpha = 0.1 ========\n",
      "SVM: 0.873177786348\n",
      "Confusion Matrix:\n",
      "[[ 3429  6546]\n",
      " [   31 41854]]\n",
      "======= L2 Penalty with alpha = 0.01 ========\n",
      "SVM: 0.948052448901\n",
      "Confusion Matrix:\n",
      "[[ 7202  2634]\n",
      " [   60 41964]]\n",
      "======= L2 Penalty with alpha = 0.001 ========\n",
      "SVM: 0.973332047821\n",
      "Confusion Matrix:\n",
      "[[ 8585  1312]\n",
      " [   71 41892]]\n",
      "======= L2 Penalty with alpha = 0.0001 ========\n",
      "SVM: 0.977072888546\n",
      "Confusion Matrix:\n",
      "[[ 8946   970]\n",
      " [  219 41725]]\n"
     ]
    }
   ],
   "source": [
    "# Changing SVM Model Parameters - can alter penalty, L1 ratio and alpha\n",
    "\n",
    "for val in range(5):\n",
    "    print \"======= L1 Penalty with alpha =\", 10**(-val), \"========\"\n",
    "    regularize_const = 10**(-val)\n",
    "    iterations = 5\n",
    "    svm_sgd = SGDClassifier(alpha=regularize_const,\n",
    "            fit_intercept=True, l1_ratio=1.0, learning_rate='optimal',\n",
    "            loss='hinge', n_iter=iterations, n_jobs=-1, penalty='L1')\n",
    "\n",
    "    scl = StandardScaler()\n",
    "    for train_idx, test_idx in updated_cv_obj:\n",
    "        svm_sgd.fit(scl.fit_transform(updated_X[train_idx]),updated_y[train_idx])\n",
    "        yhat = svm_sgd.predict(scl.transform(updated_X[test_idx]))\n",
    "\n",
    "        conf = mt.confusion_matrix(updated_y[test_idx],yhat)\n",
    "        acc = mt.accuracy_score(updated_y[test_idx],yhat)\n",
    "\n",
    "    print 'SVM:', acc\n",
    "    print 'Confusion Matrix:\\n', conf\n",
    "    \n",
    "for val in range(5):\n",
    "    print \"======= L1 Penalty with l1_ratio =\", val/4, \"========\"\n",
    "    regularize_const = 0.1\n",
    "    iterations = 5\n",
    "    svm_sgd = SGDClassifier(alpha=regularize_const,\n",
    "            fit_intercept=True, l1_ratio=val/4, learning_rate='optimal',\n",
    "            loss='hinge', n_iter=iterations, n_jobs=-1, penalty='L1')\n",
    "\n",
    "    scl = StandardScaler()\n",
    "    for train_idx, test_idx in updated_cv_obj:\n",
    "        svm_sgd.fit(scl.fit_transform(updated_X[train_idx]),updated_y[train_idx])\n",
    "        yhat = svm_sgd.predict(scl.transform(updated_X[test_idx]))\n",
    "\n",
    "        conf = mt.confusion_matrix(updated_y[test_idx],yhat)\n",
    "        acc = mt.accuracy_score(updated_y[test_idx],yhat)\n",
    "\n",
    "    print 'SVM:', acc\n",
    "    print 'Confusion Matrix:\\n', conf\n",
    "    \n",
    "for val in range(5):\n",
    "    print \"======= L2 Penalty with alpha =\", 10**(-val), \"========\"\n",
    "    regularize_const = 10**(-val)\n",
    "    iterations = 5\n",
    "    svm_sgd = SGDClassifier(alpha=regularize_const,\n",
    "            fit_intercept=True, l1_ratio=0.0, learning_rate='optimal',\n",
    "            loss='hinge', n_iter=iterations, n_jobs=-1, penalty='L2')\n",
    "\n",
    "    scl = StandardScaler()\n",
    "    for train_idx, test_idx in updated_cv_obj:\n",
    "        svm_sgd.fit(scl.fit_transform(updated_X[train_idx]),updated_y[train_idx])\n",
    "        yhat = svm_sgd.predict(scl.transform(updated_X[test_idx]))\n",
    "\n",
    "        conf = mt.confusion_matrix(updated_y[test_idx],yhat)\n",
    "        acc = mt.accuracy_score(updated_y[test_idx],yhat)\n",
    "\n",
    "    print 'SVM:', acc\n",
    "    print 'Confusion Matrix:\\n', conf"
   ]
  },
  {
   "cell_type": "markdown",
   "metadata": {},
   "source": [
    "### Analysis 2: Reduced Number of Factors"
   ]
  },
  {
   "cell_type": "markdown",
   "metadata": {},
   "source": [
    "In this section, we will use the logistic regression classification, which seemed to perform better for our reduced data set, to see if we can increase the accuracy of our model by looking at different variable inputs. The idea is to reduce the number of inputs to try and improve the data. What if we look at our major regression factors and limit our dataset to those factors? Do we improve accuracy any by limiting the data given to the classifier?"
   ]
  },
  {
   "cell_type": "code",
   "execution_count": 19,
   "metadata": {
    "collapsed": false
   },
   "outputs": [
    {
     "name": "stdout",
     "output_type": "stream",
     "text": [
      "====Iteration 0  ====\n",
      "accuracy 0.98220208253\n",
      "confusion matrix\n",
      "[[ 9051   834]\n",
      " [   89 41886]]\n",
      "====Iteration 1  ====\n",
      "accuracy 0.981700732742\n",
      "confusion matrix\n",
      "[[ 9195   868]\n",
      " [   81 41716]]\n",
      "====Iteration 2  ====\n",
      "accuracy 0.983108368685\n",
      "confusion matrix\n",
      "[[ 9143   798]\n",
      " [   78 41841]]\n",
      "====Iteration 3  ====\n",
      "accuracy 0.981951407636\n",
      "confusion matrix\n",
      "[[ 8868   828]\n",
      " [  108 42056]]\n",
      "====Iteration 4  ====\n",
      "accuracy 0.98243347474\n",
      "confusion matrix\n",
      "[[ 8999   819]\n",
      " [   92 41950]]\n"
     ]
    }
   ],
   "source": [
    "used_temp_df = pd.DataFrame()\n",
    "major_factors_df = loan_df_finished\n",
    "\n",
    "for col in ['funded_amnt', 'Int_Rate_Range', 'total_pymnt', 'annual_inc', 'Verify_Status']:\n",
    "    if col in major_factors_df:\n",
    "        used_temp_df[col] = major_factors_df[col]\n",
    "        \n",
    "updated_X = used_temp_df.values\n",
    "\n",
    "updated_logreg_obj = LogisticRegression(penalty='l2', C=1.0, class_weight=None)\n",
    "\n",
    "for iter_num, (train_indices, test_indices) in enumerate(updated_cv_obj):\n",
    "    updated_logreg_obj.fit(updated_X[train_indices],updated_y[train_indices])  # train object\n",
    "    updated_y_hat = updated_logreg_obj.predict(updated_X[test_indices]) # get test set precitions\n",
    "\n",
    "    # print the accuracy and confusion matrix \n",
    "    print \"====Iteration\",iter_num,\" ====\"\n",
    "    print \"accuracy\", mt.accuracy_score(updated_y[test_indices],updated_y_hat) \n",
    "    print \"confusion matrix\\n\",mt.confusion_matrix(updated_y[test_indices],updated_y_hat)"
   ]
  },
  {
   "cell_type": "markdown",
   "metadata": {
    "collapsed": true
   },
   "source": [
    "The unscaled data of this significantly reduced data set has a marginally better fit than the original reduced data set. If you compare the 98.1% average of the newly reduced data set to the 98.0% of the base reduced data, you get a slightly better performance by taking out some of the less important, according to the logistic regression, variables. The scaled data comes in at a similar accuracy rating of the original sample at 98.0% so there really is not a huge change here. Even looking at the weights of each, the funded amount and total payment factors still far outweigh the others."
   ]
  },
  {
   "cell_type": "code",
   "execution_count": 20,
   "metadata": {
    "collapsed": false
   },
   "outputs": [
    {
     "name": "stdout",
     "output_type": "stream",
     "text": [
      "accuracy: 0.980543771693\n",
      "[[ 8901   917]\n",
      " [   92 41950]]\n"
     ]
    },
    {
     "data": {
      "text/plain": [
       "<function matplotlib.pyplot.show>"
      ]
     },
     "execution_count": 20,
     "metadata": {},
     "output_type": "execute_result"
    },
    {
     "data": {
      "image/png": "[encoded data removed]",
      "text/plain": [
       "<matplotlib.figure.Figure at 0xe4fd2908>"
      ]
     },
     "metadata": {},
     "output_type": "display_data"
    },
    {
     "data": {
      "image/png": "[encoded data removed]",
      "text/plain": [
       "<matplotlib.figure.Figure at 0xe50f9ac8>"
      ]
     },
     "metadata": {},
     "output_type": "display_data"
    }
   ],
   "source": [
    "scl = StandardScaler()\n",
    "scl.fit(updated_X[train_indices])\n",
    "\n",
    "X_train_scaled = scl.transform(updated_X[train_indices]) # apply to training\n",
    "X_test_scaled = scl.transform(updated_X[test_indices])\n",
    "\n",
    "# Fit the regression to the new scaled data\n",
    "updated_logreg_obj.fit(X_train_scaled, updated_y[train_indices])\n",
    "\n",
    "y_hat = updated_logreg_obj.predict(X_test_scaled)\n",
    "\n",
    "# Rescore the accuracy and confusion matrix for the scaled data\n",
    "acc = mt.accuracy_score(updated_y[test_indices],y_hat)\n",
    "conf = mt.confusion_matrix(updated_y[test_indices],y_hat)\n",
    "print 'accuracy:', acc \n",
    "print conf\n",
    "weights = pd.Series(updated_logreg_obj.coef_[0],index=used_temp_df.columns)\n",
    "weights.plot(kind='bar', figsize=(14,6))\n",
    "\n",
    "fig, ax = plt.subplots(figsize=(2.5,2.5))\n",
    "ax.matshow(conf, cmap=plt.cm.Blues, alpha = 0.3)\n",
    "for i in range (conf.shape[0]):\n",
    "    for j in range (conf.shape[1]):\n",
    "        ax.text(x=j, y=i, s=conf[i, j], va = 'center', ha = 'center')\n",
    "plt.xlabel ('Predicted Class')\n",
    "plt.ylabel ('True Class')\n",
    "plt.show"
   ]
  },
  {
   "cell_type": "markdown",
   "metadata": {},
   "source": [
    "## Resubmission Part:\n",
    "### Look at the chosen support vectors for the classification task. Do these provide any insight into the data? Explain\n",
    "\n",
    "'''\n",
    "Since the SGDClassifier is not the most optimal SVM technique, running full Batch Gradient Descent on the previously created subsampled dataset that has less number of samples for training the model for \"finished loans\" and find if there are any differences in the findings we have had so far. \n",
    "Since we have very small sample set, its very important to chose the best parameter set, so we run \"Grid Search\" technique to find the best 'C' for the model, and then run the Batch SVM using that model to verify the results for the classifier importance vs Stochastic Gradient Descent we ran previously.\n",
    "'''"
   ]
  },
  {
   "cell_type": "code",
   "execution_count": 21,
   "metadata": {
    "collapsed": false
   },
   "outputs": [
    {
     "name": "stdout",
     "output_type": "stream",
     "text": [
      "(12965L, 51L)\n",
      "12965\n"
     ]
    }
   ],
   "source": [
    "# Split the data into our x and y matrices for testing\n",
    "if 'isGoodLoan' in subsampled_df:\n",
    "    updated_subsampled_y = subsampled_df['isGoodLoan'].values\n",
    "    del subsampled_df['isGoodLoan']\n",
    "    updated_subsampled_X = subsampled_df.values\n",
    "\n",
    "# Create a new Shuffle split on the narrowed classification data\n",
    "num_cv_iterations = 5\n",
    "num_instances = len(updated_subsampled_y)\n",
    "updated_cv_obj_subsampled = ShuffleSplit(n = num_instances, n_iter = num_cv_iterations, test_size = 0.2)\n",
    "print updated_subsampled_X.shape\n",
    "print updated_subsampled_y.size\n"
   ]
  },
  {
   "cell_type": "code",
   "execution_count": 22,
   "metadata": {
    "collapsed": false
   },
   "outputs": [],
   "source": [
    "from sklearn.cross_validation import train_test_split\n",
    "\n",
    "X_train_updated, X_test_updated, y_train_updated, y_test_updated = \\\n",
    "train_test_split(updated_subsampled_X,updated_subsampled_y, test_size = 0.2, random_state = 1)\n"
   ]
  },
  {
   "cell_type": "code",
   "execution_count": 23,
   "metadata": {
    "collapsed": false
   },
   "outputs": [
    {
     "name": "stdout",
     "output_type": "stream",
     "text": [
      "(10372L, 51L)\n",
      "(10372L,)\n"
     ]
    }
   ],
   "source": [
    "print X_train_updated.shape\n",
    "print y_train_updated.shape"
   ]
  },
  {
   "cell_type": "code",
   "execution_count": 24,
   "metadata": {
    "collapsed": false,
    "scrolled": true
   },
   "outputs": [
    {
     "name": "stdout",
     "output_type": "stream",
     "text": [
      "0.985441573467\n",
      "{'clf__C': 100, 'clf__kernel': 'linear'}\n"
     ]
    }
   ],
   "source": [
    "from sklearn.learning_curve import validation_curve\n",
    "from sklearn.preprocessing import  StandardScaler\n",
    "from sklearn.svm import SVC\n",
    "from sklearn.pipeline import Pipeline\n",
    "from sklearn.grid_search import GridSearchCV\n",
    "\n",
    "pipe_svc = Pipeline([('scl', StandardScaler()), ('clf', SVC(random_state=1))])\n",
    "\n",
    "param_range = [0.001, 0.01, 0.1, 1, 10, 100]\n",
    "param_grid = [{'clf__C': param_range, 'clf__kernel': ['linear']}]\n",
    "\n",
    "gs = GridSearchCV(estimator=pipe_svc, param_grid=param_grid, scoring = 'accuracy', cv=10, n_jobs=-1)\n",
    "gs = gs.fit(X_train_updated,y_train_updated)\n",
    "\n",
    "print (gs.best_score_)\n",
    "print (gs.best_params_)"
   ]
  },
  {
   "cell_type": "code",
   "execution_count": 25,
   "metadata": {
    "collapsed": false
   },
   "outputs": [
    {
     "name": "stdout",
     "output_type": "stream",
     "text": [
      "[mean: 0.86926, std: 0.00495, params: {'clf__C': 0.001, 'clf__kernel': 'linear'}, mean: 0.94447, std: 0.00532, params: {'clf__C': 0.01, 'clf__kernel': 'linear'}, mean: 0.97503, std: 0.00303, params: {'clf__C': 0.1, 'clf__kernel': 'linear'}, mean: 0.98332, std: 0.00311, params: {'clf__C': 1, 'clf__kernel': 'linear'}, mean: 0.98477, std: 0.00319, params: {'clf__C': 10, 'clf__kernel': 'linear'}, mean: 0.98544, std: 0.00330, params: {'clf__C': 100, 'clf__kernel': 'linear'}]\n"
     ]
    }
   ],
   "source": [
    "print gs.grid_scores_"
   ]
  },
  {
   "cell_type": "code",
   "execution_count": 26,
   "metadata": {
    "collapsed": false,
    "scrolled": true
   },
   "outputs": [
    {
     "name": "stdout",
     "output_type": "stream",
     "text": [
      "{'clf__C': 100, 'clf__kernel': 'linear'}\n",
      "('Test Accuracy for Batch Support vector Machine: ', 0.98534516004627848)\n"
     ]
    }
   ],
   "source": [
    "print (gs.best_params_)\n",
    "clf = gs.best_estimator_\n",
    "clf.fit(X_train_updated,y_train_updated)\n",
    "print ('Test Accuracy for Batch Support vector Machine: ',clf.score(X_test_updated,y_test_updated))"
   ]
  },
  {
   "cell_type": "markdown",
   "metadata": {},
   "source": [
    "The above mentioned Grid Search helped us find the most appropriate C value (in this case C is between 10 and 100) for 'Linear' kernel for SVM\n",
    "We will use the 'C=10 and 'Linear' kernel to check the classifiers importance next."
   ]
  },
  {
   "cell_type": "code",
   "execution_count": 27,
   "metadata": {
    "collapsed": false,
    "scrolled": false
   },
   "outputs": [
    {
     "name": "stdout",
     "output_type": "stream",
     "text": [
      "SVM: 0.985345160046\n"
     ]
    },
    {
     "data": {
      "text/plain": [
       "<function matplotlib.pyplot.show>"
      ]
     },
     "execution_count": 27,
     "metadata": {},
     "output_type": "execute_result"
    },
    {
     "data": {
      "image/png": "[encoded data removed]",
      "text/plain": [
       "<matplotlib.figure.Figure at 0xe513e6d8>"
      ]
     },
     "metadata": {},
     "output_type": "display_data"
    }
   ],
   "source": [
    "warnings.simplefilter(\"ignore\")\n",
    "from sklearn.svm import SVC\n",
    "from sklearn.learning_curve import validation_curve\n",
    "from sklearn.preprocessing import  StandardScaler\n",
    "from sklearn.pipeline import Pipeline\n",
    "from sklearn.grid_search import GridSearchCV\n",
    "from sklearn import metrics as mt\n",
    "from matplotlib import pyplot as plt\n",
    "\n",
    "svm_batch = SVC(kernel = 'linear', C=10)\n",
    "\n",
    "scl = StandardScaler()\n",
    "\n",
    "\n",
    "for train_idx, test_idx in updated_cv_obj_subsampled:\n",
    "    svm_batch.fit(scl.fit_transform(updated_subsampled_X[train_idx]),updated_subsampled_y[train_idx])\n",
    "    yhat = svm_batch.predict(scl.transform(updated_subsampled_X[test_idx]))\n",
    "    \n",
    "    conf = mt.confusion_matrix(updated_subsampled_y[test_idx],yhat)\n",
    "    acc = mt.accuracy_score(updated_subsampled_y[test_idx],yhat)\n",
    "\n",
    "print 'SVM:', acc\n",
    "\n",
    "fig, ax = plt.subplots(figsize=(2.5,2.5))\n",
    "ax.matshow(conf, cmap=plt.cm.Blues, alpha = 0.3)\n",
    "for i in range (conf.shape[0]):\n",
    "    for j in range (conf.shape[1]):\n",
    "        ax.text(x=j, y=i, s=conf[i, j], va = 'center', ha = 'center')\n",
    "plt.xlabel ('Predicted Class')\n",
    "plt.ylabel ('True Class')\n",
    "plt.show"
   ]
  },
  {
   "cell_type": "markdown",
   "metadata": {},
   "source": [
    "As we can see, the svm_batch with C=10, and Kernel = 'Linear' is performing pretty well on the test data set. Next step is to check and verify the classification variables importance, and making sure that they are not different from SGD"
   ]
  },
  {
   "cell_type": "code",
   "execution_count": 28,
   "metadata": {
    "collapsed": false,
    "scrolled": false
   },
   "outputs": [
    {
     "name": "stdout",
     "output_type": "stream",
     "text": [
      "Coefficients [[ -8.76652821e+00  -2.72402451e-02   2.81328422e-02  -2.43600241e-02\n",
      "   -2.58809322e-03  -2.10307356e-02   2.66011171e-03   3.97399541e-02\n",
      "    1.02251884e+01   4.94487385e-03  -2.29671334e-02  -2.28525535e-02\n",
      "   -1.95460455e-03   1.66035739e-02   1.08102971e-02   3.41450372e-02\n",
      "    4.64240392e-02  -2.90682532e-03   7.36967357e-03  -1.04384836e-02\n",
      "   -6.10370244e-03  -7.08567040e-03  -8.06624496e-03   6.32981650e-03\n",
      "    2.69895217e-13   1.94053886e-02   2.56201119e-03  -3.82922762e-03\n",
      "    4.22800436e-03  -1.06020359e-01   1.15446389e-02   0.00000000e+00\n",
      "    1.32065711e-02   3.78586051e-14   2.44387843e-14   3.19225942e-03\n",
      "   -1.52421153e-02  -9.10756627e-03   2.27194738e-03   2.02902078e-03\n",
      "   -3.95280320e-03  -1.21532379e-02   1.07053255e-13   1.42561542e-02\n",
      "    3.30513825e-03   1.36426678e-02   5.21339879e-03  -1.08682401e-02\n",
      "   -8.31301122e-03   2.59704408e-03  -1.76891558e-02]]\n"
     ]
    },
    {
     "data": {
      "text/plain": [
       "<matplotlib.axes._subplots.AxesSubplot at 0xcff2dd8>"
      ]
     },
     "execution_count": 28,
     "metadata": {},
     "output_type": "execute_result"
    },
    {
     "data": {
      "image/png": "[encoded data removed]",
      "text/plain": [
       "<matplotlib.figure.Figure at 0xcff2f98>"
      ]
     },
     "metadata": {},
     "output_type": "display_data"
    }
   ],
   "source": [
    "print 'Coefficients', svm_batch.coef_\n",
    "weights = pd.Series(svm_batch.coef_[0],index=loan_df_finished.columns)\n",
    "weights.plot(kind='bar', figsize=(14,6))"
   ]
  },
  {
   "cell_type": "markdown",
   "metadata": {},
   "source": [
    "As can be seen from the above analysis using Batch Gradient Descent, the funded_amnt and total_payment have highest importance as Stochastic Gradient Descent."
   ]
  }
 ],
 "metadata": {
  "kernelspec": {
   "display_name": "Python 2",
   "language": "python",
   "name": "python2"
  },
  "language_info": {
   "codemirror_mode": {
    "name": "ipython",
    "version": 2
   },
   "file_extension": ".py",
   "mimetype": "text/x-python",
   "name": "python",
   "nbconvert_exporter": "python",
   "pygments_lexer": "ipython2",
   "version": "2.7.11"
  }
 },
 "nbformat": 4,
 "nbformat_minor": 0
}
