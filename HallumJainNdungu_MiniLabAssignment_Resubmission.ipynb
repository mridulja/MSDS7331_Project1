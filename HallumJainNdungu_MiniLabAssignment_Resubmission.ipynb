{
 "cells": [
  {
   "cell_type": "markdown",
   "metadata": {},
   "source": [
    "# Mini Lab\n",
    "\n",
    "## Brett Hallum, Mridul Jain, and Solomon Ndungu\n",
    "\n",
    "The purpose of this project is to use logistic regression and SVM to create a classification model for a loan data. We will use the model to classify loans as good if the loan end up as current, fully paid or in grace period and bad if those laons eventually end up in default, late or charged off.\n",
    "\n",
    "We started by filtering out our unwanted data. A lot of this information was removed in Lab 1 due to missing values, single values for whole set, and a minimal distribution of values. Additionally, we do some imputation to fill in minor missing data values. Finally, we do some nominal classification on some of our data variables for ease of use in classification.\n",
    "\n",
    "We also create two additional data frames, loan_df_finished and loan_df_unfinished, at this point as well. Their purpose and usage will be discussed shortly.\n"
   ]
  },
  {
   "cell_type": "markdown",
   "metadata": {},
   "source": [
    "# Resubmission portion:\n",
    "\n",
    "We have created Subsampled dataset from the complete data (from Line [7]) using the code mentioned below:\n",
    "\n",
    "### Randomly sample X% of your dataframe for future use (We will use small subset of data for SVM (Batch) classification)\n",
    "\n",
    "'subsampled_df = loan_df_finished.copy().sample(frac=0.05)'\n",
    "\n",
    "For the analysis part, a new section is inserted at the bottom of the document after \"Analysis 2: Reduced Number of Factors\". The section is titled with the question we are reanswering \"Look at the chosen support vectors for the classification task. Do these provide any insight into the data? Explain\""
   ]
  },
  {
   "cell_type": "code",
   "execution_count": 1,
   "metadata": {
    "collapsed": false
   },
   "outputs": [],
   "source": [
    "# import os\n",
    "# os.chdir('C:/Users/emrijai/Documents/IPython Notebooks/MS7331/Project1/MSDS7331_Project1')\n",
    "# os.getcwd()"
   ]
  },
  {
   "cell_type": "code",
   "execution_count": 2,
   "metadata": {
    "collapsed": false,
    "scrolled": false
   },
   "outputs": [
    {
     "name": "stdout",
     "output_type": "stream",
     "text": [
      "<class 'pandas.core.frame.DataFrame'>\n",
      "RangeIndex: 887379 entries, 0 to 887378\n",
      "Data columns (total 52 columns):\n",
      "funded_amnt                        887379 non-null int64\n",
      "term                               887379 non-null int64\n",
      "annual_inc                         887379 non-null float64\n",
      "dti                                887379 non-null float64\n",
      "delinq_2yrs                        887379 non-null float64\n",
      "inq_last_6mths                     887379 non-null float64\n",
      "open_acc                           887379 non-null float64\n",
      "total_acc                          887379 non-null float64\n",
      "total_pymnt                        887379 non-null float64\n",
      "acc_now_delinq                     887379 non-null float64\n",
      "Grade_A                            887379 non-null float64\n",
      "Grade_B                            887379 non-null float64\n",
      "Grade_C                            887379 non-null float64\n",
      "Grade_D                            887379 non-null float64\n",
      "Grade_E                            887379 non-null float64\n",
      "Grade_F                            887379 non-null float64\n",
      "Grade_G                            887379 non-null float64\n",
      "Employ_1 year                      887379 non-null float64\n",
      "Employ_10+ years                   887379 non-null float64\n",
      "Employ_2 years                     887379 non-null float64\n",
      "Employ_3 years                     887379 non-null float64\n",
      "Employ_4 years                     887379 non-null float64\n",
      "Employ_5 years                     887379 non-null float64\n",
      "Employ_6 years                     887379 non-null float64\n",
      "Employ_7 years                     887379 non-null float64\n",
      "Employ_8 years                     887379 non-null float64\n",
      "Employ_9 years                     887379 non-null float64\n",
      "Employ_< 1 year                    887379 non-null float64\n",
      "Employ_n/a                         887379 non-null float64\n",
      "Int_Rate_Range                     887379 non-null category\n",
      "Loan_Class                         887379 non-null float64\n",
      "Verify_Status                      887379 non-null float64\n",
      "Home_ANY                           887379 non-null float64\n",
      "Home_MORTGAGE                      887379 non-null float64\n",
      "Home_NONE                          887379 non-null float64\n",
      "Home_OTHER                         887379 non-null float64\n",
      "Home_OWN                           887379 non-null float64\n",
      "Home_RENT                          887379 non-null float64\n",
      "Loan_Purpose_car                   887379 non-null float64\n",
      "Loan_Purpose_credit_card           887379 non-null float64\n",
      "Loan_Purpose_debt_consolidation    887379 non-null float64\n",
      "Loan_Purpose_educational           887379 non-null float64\n",
      "Loan_Purpose_home_improvement      887379 non-null float64\n",
      "Loan_Purpose_house                 887379 non-null float64\n",
      "Loan_Purpose_major_purchase        887379 non-null float64\n",
      "Loan_Purpose_medical               887379 non-null float64\n",
      "Loan_Purpose_moving                887379 non-null float64\n",
      "Loan_Purpose_other                 887379 non-null float64\n",
      "Loan_Purpose_renewable_energy      887379 non-null float64\n",
      "Loan_Purpose_small_business        887379 non-null float64\n",
      "Loan_Purpose_vacation              887379 non-null float64\n",
      "Loan_Purpose_wedding               887379 non-null float64\n",
      "dtypes: category(1), float64(49), int64(2)\n",
      "memory usage: 346.1 MB\n",
      "None\n"
     ]
    }
   ],
   "source": [
    "import pandas as pd\n",
    "import numpy as np\n",
    "import copy\n",
    "\n",
    "import warnings\n",
    "warnings.simplefilter('ignore', DeprecationWarning)\n",
    "warnings.simplefilter('ignore', FutureWarning)\n",
    "warnings.simplefilter(\"ignore\")\n",
    "\n",
    "#Bring in data set\n",
    "loan_df = pd.read_csv('LoanData/loanData.csv')\n",
    "\n",
    "#Remove unwanted attributes from the data set based on specific criteria\n",
    "for col in ['id','funded_amnt_inv','sub_grade','emp_title','pymnt_plan','url','title','zip_code','earliest_cr_line',\n",
    "            'mths_since_last_delinq','mths_since_last_record','pub_rec','revol_bal','revol_util',\n",
    "            'initial_list_status','out_prncp_inv','total_pymnt_inv','recoveries','collection_recovery_fee','last_pymnt_d',\n",
    "            'last_pymnt_amnt','next_pymnt_d','last_credit_pull_d','collections_12_mths_ex_med','policy_code','application_type',\n",
    "            'annual_inc_joint','dti_joint','verification_status_joint','open_acc_6m','open_il_6m','open_il_12m','open_il_24m',\n",
    "            'mths_since_rcnt_il','total_bal_il','il_util','open_rv_12m','open_rv_24m','max_bal_bc','all_util',\n",
    "            'total_rev_hi_lim','inq_fi','total_cu_tl','inq_last_12m', 'installment', 'mths_since_last_major_derog', 'desc',\n",
    "           'issue_d', 'addr_state', 'tot_coll_amt', 'tot_cur_bal', 'member_id', 'total_rec_prncp', 'total_rec_int',\n",
    "           'total_rec_late_fee', 'loan_amnt', 'out_prncp']:\n",
    "    if col in loan_df:\n",
    "        del loan_df[col]\n",
    "\n",
    "#Create new variables for classification\n",
    "#Modify term to be integer for easier analysis\n",
    "loan_df = loan_df.replace(to_replace=\" 36 months\", value=36)\n",
    "loan_df = loan_df.replace(to_replace=\" 60 months\", value=60)\n",
    "\n",
    "#Impute missing data values with median\n",
    "for col in ['annual_inc', 'delinq_2yrs', 'inq_last_6mths', 'open_acc', 'acc_now_delinq']:\n",
    "    df_temp = copy.deepcopy(loan_df[col])\n",
    "    df_temp = df_temp.replace(to_replace=np.nan, value=df_temp.median())\n",
    "    loan_df[col] = df_temp\n",
    "    \n",
    "#Numerical classification of grade\n",
    "tmp_df = pd.get_dummies(loan_df.grade,prefix='Grade')\n",
    "loan_df = pd.concat((loan_df,tmp_df),axis=1) # add back into the dataframe\n",
    "\n",
    "if \"grade\" in loan_df:\n",
    "    del loan_df[\"grade\"]\n",
    "    \n",
    "#Numerical classification of employment length\n",
    "tmp_df = pd.get_dummies(loan_df.emp_length,prefix='Employ')\n",
    "loan_df = pd.concat((loan_df,tmp_df),axis=1) # add back into the dataframe\n",
    "\n",
    "if \"emp_length\" in loan_df:\n",
    "    del loan_df[\"emp_length\"]\n",
    "\n",
    "#Range of interest rates\n",
    "loan_df['Int_Rate_Range'] = pd.cut(loan_df.int_rate, [0, 5,10,15,20,25, 30], 6, labels=[0, 1, 2, 3, 4, 5])\n",
    "\n",
    "if \"int_rate\" in loan_df:\n",
    "    del loan_df[\"int_rate\"]\n",
    "\n",
    "#Nominal classification of loan_status\n",
    "loan_df.loc[loan_df['loan_status'] == 'Charged Off' , 'Loan_Class'] = 0\n",
    "loan_df.loc[loan_df['loan_status'] == 'Default' , 'Loan_Class'] = 0\n",
    "loan_df.loc[loan_df['loan_status'] == 'Late (31-120 days)' , 'Loan_Class'] = 0\n",
    "loan_df.loc[loan_df['loan_status'] == 'Late (16-30 days)' , 'Loan_Class'] = 0\n",
    "loan_df.loc[loan_df['loan_status'] == 'Does not meet the credit policy. Status:Charged Off' , 'Loan_Class'] = 0\n",
    "\n",
    "loan_df.loc[loan_df['loan_status'] == 'Fully Paid' , 'Loan_Class'] = 1\n",
    "loan_df.loc[loan_df['loan_status'] == 'Does not meet the credit policy. Status:Fully Paid' , 'Loan_Class'] = 1\n",
    "\n",
    "loan_df.loc[loan_df['loan_status'] == 'Current' , 'Loan_Class'] = 1\n",
    "loan_df.loc[loan_df['loan_status'] == 'In Grace Period' , 'Loan_Class'] = 1\n",
    "loan_df.loc[loan_df['loan_status'] == 'Issued' , 'Loan_Class'] = 1\n",
    "\n",
    "#Secondary classification of loan class for further analysis of data (used for new data frames)\n",
    "# comparing the historical data (good/bad loans) to current data (loans still in progress)\n",
    "# Loans are classified as 'Bad' if loans are bad\n",
    "loan_df.loc[loan_df['loan_status'] == 'Charged Off' , 'Loan_Class2'] = 'Bad'\n",
    "loan_df.loc[loan_df['loan_status'] == 'Default' , 'Loan_Class2'] = 'Bad'\n",
    "loan_df.loc[loan_df['loan_status'] == 'Late (31-120 days)' , 'Loan_Class2'] = 'bad'\n",
    "loan_df.loc[loan_df['loan_status'] == 'Late (16-30 days)' , 'Loan_Class2'] = 'Bad'\n",
    "loan_df.loc[loan_df['loan_status'] == 'Does not meet the credit policy. Status:Charged Off' , 'Loan_Class2'] = 'Bad'\n",
    "# Loans are classified as 'Good' if loans are good\n",
    "loan_df.loc[loan_df['loan_status'] == 'Fully Paid' , 'Loan_Class2'] = 'Good'\n",
    "loan_df.loc[loan_df['loan_status'] == 'Does not meet the credit policy. Status:Fully Paid' , 'Loan_Class2'] = 'Good'\n",
    "# Loans are classified as 'Current' if loans are current/still in progress\n",
    "loan_df.loc[loan_df['loan_status'] == 'Current' , 'Loan_Class2'] = 'Current'\n",
    "loan_df.loc[loan_df['loan_status'] == 'In Grace Period' , 'Loan_Class2'] = 'Current'\n",
    "loan_df.loc[loan_df['loan_status'] == 'Issued' , 'Loan_Class2'] = 'Current'\n",
    "\n",
    "if \"loan_status\" in loan_df:\n",
    "    del loan_df[\"loan_status\"]\n",
    "\n",
    "#Nominal classification of verification status\n",
    "loan_df.loc[loan_df['verification_status'] == 'Verified', 'Verify_Status'] = 1\n",
    "loan_df.loc[loan_df['verification_status'] == 'Source Verified', 'Verify_Status'] = 1\n",
    "loan_df.loc[loan_df['verification_status'] == 'Not Verified', 'Verify_Status'] = 0\n",
    "\n",
    "if \"verification_status\" in loan_df:\n",
    "    del loan_df[\"verification_status\"]\n",
    "\n",
    "#Nominal classification of home ownership\n",
    "tmp_df = pd.get_dummies(loan_df.home_ownership,prefix='Home')\n",
    "loan_df = pd.concat((loan_df,tmp_df),axis=1) # add back into the dataframe\n",
    "\n",
    "if \"home_ownership\" in loan_df:\n",
    "    del loan_df[\"home_ownership\"]\n",
    "\n",
    "#Impute missing data values with median\n",
    "for col in ['total_acc']:\n",
    "    df_temp = copy.deepcopy(loan_df[col])\n",
    "    df_temp = df_temp.replace(to_replace=np.nan, value= 0 )\n",
    "    loan_df[col] = df_temp    \n",
    "\n",
    "    \n",
    "tmp_df = pd.get_dummies(loan_df.purpose,prefix='Loan_Purpose')\n",
    "loan_df = pd.concat((loan_df,tmp_df),axis=1)\n",
    "\n",
    "if 'purpose' in loan_df:\n",
    "    del loan_df['purpose']    \n",
    "    \n",
    "# Create separate data frames for future analysis and breakdown\n",
    "loan_df_unfinished = loan_df[loan_df['Loan_Class2'] == 'Current'] #Data of uncompleted loans\n",
    "loan_df_finished = loan_df[(loan_df['Loan_Class2'] == 'Bad') | (loan_df['Loan_Class2']=='Good')] #Data of completed loans\n",
    "\n",
    "\n",
    "loan_df.copy()\n",
    "\n",
    "if \"Loan_Class2\" in loan_df:\n",
    "    del loan_df[\"Loan_Class2\"]\n",
    "\n",
    "print loan_df.info()"
   ]
  },
  {
   "cell_type": "code",
   "execution_count": 3,
   "metadata": {
    "collapsed": false
   },
   "outputs": [
    {
     "name": "stdout",
     "output_type": "stream",
     "text": [
      "<class 'pandas.core.frame.DataFrame'>\n",
      "Int64Index: 887379 entries, 0 to 887378\n",
      "Data columns (total 52 columns):\n",
      "funded_amnt                        887379 non-null int64\n",
      "term                               887379 non-null int64\n",
      "annual_inc                         887379 non-null float64\n",
      "dti                                887379 non-null float64\n",
      "delinq_2yrs                        887379 non-null float64\n",
      "inq_last_6mths                     887379 non-null float64\n",
      "open_acc                           887379 non-null float64\n",
      "total_acc                          887379 non-null float64\n",
      "total_pymnt                        887379 non-null float64\n",
      "acc_now_delinq                     887379 non-null float64\n",
      "Grade_A                            887379 non-null float64\n",
      "Grade_B                            887379 non-null float64\n",
      "Grade_C                            887379 non-null float64\n",
      "Grade_D                            887379 non-null float64\n",
      "Grade_E                            887379 non-null float64\n",
      "Grade_F                            887379 non-null float64\n",
      "Grade_G                            887379 non-null float64\n",
      "Employ_1 year                      887379 non-null float64\n",
      "Employ_10+ years                   887379 non-null float64\n",
      "Employ_2 years                     887379 non-null float64\n",
      "Employ_3 years                     887379 non-null float64\n",
      "Employ_4 years                     887379 non-null float64\n",
      "Employ_5 years                     887379 non-null float64\n",
      "Employ_6 years                     887379 non-null float64\n",
      "Employ_7 years                     887379 non-null float64\n",
      "Employ_8 years                     887379 non-null float64\n",
      "Employ_9 years                     887379 non-null float64\n",
      "Employ_< 1 year                    887379 non-null float64\n",
      "Employ_n/a                         887379 non-null float64\n",
      "Int_Rate_Range                     887379 non-null category\n",
      "Loan_Class                         887379 non-null float64\n",
      "Verify_Status                      887379 non-null float64\n",
      "Home_ANY                           887379 non-null float64\n",
      "Home_MORTGAGE                      887379 non-null float64\n",
      "Home_NONE                          887379 non-null float64\n",
      "Home_OTHER                         887379 non-null float64\n",
      "Home_OWN                           887379 non-null float64\n",
      "Home_RENT                          887379 non-null float64\n",
      "Loan_Purpose_car                   887379 non-null float64\n",
      "Loan_Purpose_credit_card           887379 non-null float64\n",
      "Loan_Purpose_debt_consolidation    887379 non-null float64\n",
      "Loan_Purpose_educational           887379 non-null float64\n",
      "Loan_Purpose_home_improvement      887379 non-null float64\n",
      "Loan_Purpose_house                 887379 non-null float64\n",
      "Loan_Purpose_major_purchase        887379 non-null float64\n",
      "Loan_Purpose_medical               887379 non-null float64\n",
      "Loan_Purpose_moving                887379 non-null float64\n",
      "Loan_Purpose_other                 887379 non-null float64\n",
      "Loan_Purpose_renewable_energy      887379 non-null float64\n",
      "Loan_Purpose_small_business        887379 non-null float64\n",
      "Loan_Purpose_vacation              887379 non-null float64\n",
      "Loan_Purpose_wedding               887379 non-null float64\n",
      "dtypes: category(1), float64(49), int64(2)\n",
      "memory usage: 352.9 MB\n",
      "None\n"
     ]
    }
   ],
   "source": [
    "loan_df = loan_df.dropna()\n",
    "print loan_df.info()"
   ]
  },
  {
   "cell_type": "code",
   "execution_count": 4,
   "metadata": {
    "collapsed": false
   },
   "outputs": [
    {
     "name": "stdout",
     "output_type": "stream",
     "text": [
      "Loan_Class\n",
      "0.0     61176\n",
      "1.0    826203\n",
      "Name: Loan_Class, dtype: int64\n"
     ]
    }
   ],
   "source": [
    "#Count for each class\n",
    "df_grouped = loan_df.groupby(by='Loan_Class')\n",
    "print df_grouped.Loan_Class.count()"
   ]
  },
  {
   "cell_type": "code",
   "execution_count": 5,
   "metadata": {
    "collapsed": false,
    "scrolled": false
   },
   "outputs": [
    {
     "name": "stdout",
     "output_type": "stream",
     "text": [
      "ShuffleSplit(887379, n_iter=5, test_size=0.2, random_state=None)\n"
     ]
    }
   ],
   "source": [
    "from sklearn.cross_validation import ShuffleSplit\n",
    "\n",
    "# Split our data frame into our classification of Loan_Class and the rest of the data set\n",
    "if 'Loan_Class' in loan_df:\n",
    "    y = loan_df['Loan_Class'].values\n",
    "    del loan_df['Loan_Class']\n",
    "    X = loan_df.values\n",
    "\n",
    "# Shuffle split our data into an 80/20 breakdown. The 80 will be used for training and the 20 for testing\n",
    "num_cv_iterations = 5\n",
    "num_instances = len(y)\n",
    "cv_obj = ShuffleSplit(n = num_instances, n_iter = num_cv_iterations, test_size = 0.2)\n",
    "\n",
    "print cv_obj"
   ]
  },
  {
   "cell_type": "markdown",
   "metadata": {},
   "source": [
    "### Logistic Regression\n",
    "\n",
    "We will begin by conducting a logistic regression on the full data set. We will look at the accuracy of the classification to see how accurate the regression model is and the confusion matrix to see if there are any oddities in the breakdown."
   ]
  },
  {
   "cell_type": "code",
   "execution_count": 6,
   "metadata": {
    "collapsed": false
   },
   "outputs": [
    {
     "name": "stdout",
     "output_type": "stream",
     "text": [
      "====Iteration 0  ====\n",
      "accuracy 0.931517500958\n",
      "confusion matrix\n",
      "[[     0  12154]\n",
      " [     0 165322]]\n",
      "====Iteration 1  ====\n",
      "accuracy 0.931111812301\n",
      "confusion matrix\n",
      "[[     0  12226]\n",
      " [     0 165250]]\n",
      "====Iteration 2  ====\n",
      "accuracy 0.931590750299\n",
      "confusion matrix\n",
      "[[     0  12141]\n",
      " [     0 165335]]\n",
      "====Iteration 3  ====\n",
      "accuracy 0.930790642115\n",
      "confusion matrix\n",
      "[[     0  12283]\n",
      " [     0 165193]]\n",
      "====Iteration 4  ====\n",
      "accuracy 0.930914602538\n",
      "confusion matrix\n",
      "[[     0  12261]\n",
      " [     0 165215]]\n"
     ]
    }
   ],
   "source": [
    "from sklearn.linear_model import LogisticRegression\n",
    "from sklearn import metrics as mt\n",
    "\n",
    "logreg_obj = LogisticRegression(penalty='l2', C=1.0, class_weight=None)\n",
    "\n",
    "# Fit and test the regression model for each shuffled instance\n",
    "for iter_num, (train_indices, test_indices) in enumerate(cv_obj):\n",
    "    logreg_obj.fit(X[train_indices],y[train_indices])  # train object\n",
    "    y_hat = logreg_obj.predict(X[test_indices]) # get test set precitions\n",
    "\n",
    "    # print the accuracy and confusion matrix \n",
    "    print \"====Iteration\",iter_num,\" ====\"\n",
    "    print \"accuracy\", mt.accuracy_score(y[test_indices],y_hat) \n",
    "    print \"confusion matrix\\n\",mt.confusion_matrix(y[test_indices],y_hat)"
   ]
  },
  {
   "cell_type": "markdown",
   "metadata": {},
   "source": [
    "The average accuracy is around 93.1%. It seems logistic regression method is effective in  classifying the loans. However, if we look at the confusion matrix, all of the \"Bad\" classifications of the loans are getting classified as \"Good\". This most likely  because our data is heavily skewed. Of the total data set, only about 7% of the loans are classified as bad. The data set is further skewed due to loans that are in different payment lifecyle. We have data that has been through the full process of the loan and has been determined to be either good, meaning the loan is complete, or bad, meaning the loan went into default and the company has written it off. The rest of our data, which is a good portion of it, are loans that are still current, or in the process of going through the full life cycle. Some of these loans could still go into default, but we do not know if they will or not.\n",
    "\n",
    "To handle this in our classification, we split our data up. We created a data frame of finished loans (loan_df_finished) to clarify those that have been completed and a data frame of current loans (loan_df_unfinished) to specify those that have not finished their life cycle. We will use the finished loans data frame to try to classify our data better. The unfinished data frame can then be used later for cross validation."
   ]
  },
  {
   "cell_type": "code",
   "execution_count": 7,
   "metadata": {
    "collapsed": false
   },
   "outputs": [],
   "source": [
    "# Add column to determine if loan is good or bad based on classification in data set\n",
    "loan_df_finished['isGoodLoan'] = loan_df_finished['Loan_Class2'] == 'Good'\n",
    "loan_df_finished.isGoodLoan = loan_df_finished.isGoodLoan.astype(np.int)\n",
    "\n",
    "\n",
    "import pandas\n",
    "# Randomly sample X% of your dataframe for future use (We will use small subset of data for SVM (Batch) classification)\n",
    "subsampled_df = loan_df_finished.copy().sample(frac=0.05)\n",
    "\n",
    "#Remove Loan_Class and Loan_Class2 from the data frame so they are no longer observed for classification\n",
    "if \"Loan_Class\" in loan_df_finished:\n",
    "    del loan_df_finished[\"Loan_Class\"]\n",
    "if \"Loan_Class2\" in loan_df_finished:\n",
    "    del loan_df_finished[\"Loan_Class2\"]\n",
    "    \n",
    "#Remove Loan_Class and Loan_Class2 from the data frame so they are no longer observed for classification\n",
    "if \"Loan_Class\" in subsampled_df:\n",
    "    del subsampled_df[\"Loan_Class\"]\n",
    "if \"Loan_Class2\" in subsampled_df:\n",
    "    del subsampled_df[\"Loan_Class2\"]"
   ]
  },
  {
   "cell_type": "code",
   "execution_count": 8,
   "metadata": {
    "collapsed": false
   },
   "outputs": [
    {
     "name": "stdout",
     "output_type": "stream",
     "text": [
      "ShuffleSplit(259296, n_iter=5, test_size=0.2, random_state=None)\n"
     ]
    }
   ],
   "source": [
    "# Split the data into our x and y matrices for testing\n",
    "if 'isGoodLoan' in loan_df_finished:\n",
    "    updated_y = loan_df_finished['isGoodLoan'].values\n",
    "    del loan_df_finished['isGoodLoan']\n",
    "    updated_X = loan_df_finished.values\n",
    "\n",
    "# Create a new Shuffle split on the narrowed classification data\n",
    "num_cv_iterations = 5\n",
    "num_instances = len(updated_y)\n",
    "updated_cv_obj = ShuffleSplit(n = num_instances, n_iter = num_cv_iterations, test_size = 0.2)\n",
    "print updated_cv_obj"
   ]
  },
  {
   "cell_type": "code",
   "execution_count": 9,
   "metadata": {
    "collapsed": false
   },
   "outputs": [
    {
     "name": "stdout",
     "output_type": "stream",
     "text": [
      "<class 'pandas.core.frame.DataFrame'>\n",
      "Int64Index: 12965 entries, 22457 to 159835\n",
      "Data columns (total 52 columns):\n",
      "funded_amnt                        12965 non-null int64\n",
      "term                               12965 non-null int64\n",
      "annual_inc                         12965 non-null float64\n",
      "dti                                12965 non-null float64\n",
      "delinq_2yrs                        12965 non-null float64\n",
      "inq_last_6mths                     12965 non-null float64\n",
      "open_acc                           12965 non-null float64\n",
      "total_acc                          12965 non-null float64\n",
      "total_pymnt                        12965 non-null float64\n",
      "acc_now_delinq                     12965 non-null float64\n",
      "Grade_A                            12965 non-null float64\n",
      "Grade_B                            12965 non-null float64\n",
      "Grade_C                            12965 non-null float64\n",
      "Grade_D                            12965 non-null float64\n",
      "Grade_E                            12965 non-null float64\n",
      "Grade_F                            12965 non-null float64\n",
      "Grade_G                            12965 non-null float64\n",
      "Employ_1 year                      12965 non-null float64\n",
      "Employ_10+ years                   12965 non-null float64\n",
      "Employ_2 years                     12965 non-null float64\n",
      "Employ_3 years                     12965 non-null float64\n",
      "Employ_4 years                     12965 non-null float64\n",
      "Employ_5 years                     12965 non-null float64\n",
      "Employ_6 years                     12965 non-null float64\n",
      "Employ_7 years                     12965 non-null float64\n",
      "Employ_8 years                     12965 non-null float64\n",
      "Employ_9 years                     12965 non-null float64\n",
      "Employ_< 1 year                    12965 non-null float64\n",
      "Employ_n/a                         12965 non-null float64\n",
      "Int_Rate_Range                     12965 non-null category\n",
      "Verify_Status                      12965 non-null float64\n",
      "Home_ANY                           12965 non-null float64\n",
      "Home_MORTGAGE                      12965 non-null float64\n",
      "Home_NONE                          12965 non-null float64\n",
      "Home_OTHER                         12965 non-null float64\n",
      "Home_OWN                           12965 non-null float64\n",
      "Home_RENT                          12965 non-null float64\n",
      "Loan_Purpose_car                   12965 non-null float64\n",
      "Loan_Purpose_credit_card           12965 non-null float64\n",
      "Loan_Purpose_debt_consolidation    12965 non-null float64\n",
      "Loan_Purpose_educational           12965 non-null float64\n",
      "Loan_Purpose_home_improvement      12965 non-null float64\n",
      "Loan_Purpose_house                 12965 non-null float64\n",
      "Loan_Purpose_major_purchase        12965 non-null float64\n",
      "Loan_Purpose_medical               12965 non-null float64\n",
      "Loan_Purpose_moving                12965 non-null float64\n",
      "Loan_Purpose_other                 12965 non-null float64\n",
      "Loan_Purpose_renewable_energy      12965 non-null float64\n",
      "Loan_Purpose_small_business        12965 non-null float64\n",
      "Loan_Purpose_vacation              12965 non-null float64\n",
      "Loan_Purpose_wedding               12965 non-null float64\n",
      "isGoodLoan                         12965 non-null int32\n",
      "dtypes: category(1), float64(48), int32(1), int64(2)\n",
      "memory usage: 5.1 MB\n"
     ]
    }
   ],
   "source": [
    "subsampled_df.info()"
   ]
  },
  {
   "cell_type": "code",
   "execution_count": 10,
   "metadata": {
    "collapsed": false
   },
   "outputs": [
    {
     "name": "stdout",
     "output_type": "stream",
     "text": [
      "==== Iteration 0  ====\n",
      "accuracy 0.979733898959\n",
      "confusion matrix\n",
      "[[ 8975   976]\n",
      " [   75 41834]]\n",
      "==== Iteration 1  ====\n",
      "accuracy 0.981122252218\n",
      "confusion matrix\n",
      "[[ 9055   902]\n",
      " [   77 41826]]\n",
      "==== Iteration 2  ====\n",
      "accuracy 0.981623602005\n",
      "confusion matrix\n",
      "[[ 9091   864]\n",
      " [   89 41816]]\n",
      "==== Iteration 3  ====\n",
      "accuracy 0.979772464327\n",
      "confusion matrix\n",
      "[[ 8968   966]\n",
      " [   83 41843]]\n",
      "==== Iteration 4  ====\n",
      "accuracy 0.981122252218\n",
      "confusion matrix\n",
      "[[ 8989   910]\n",
      " [   69 41892]]\n"
     ]
    }
   ],
   "source": [
    "updated_logreg_obj = LogisticRegression(penalty='l2', C=10, class_weight=None)\n",
    "\n",
    "for iter_num, (train_indices, test_indices) in enumerate(updated_cv_obj):\n",
    "    updated_logreg_obj.fit(updated_X[train_indices],updated_y[train_indices])  # train object\n",
    "    updated_y_hat = updated_logreg_obj.predict(updated_X[test_indices]) # get test set precitions\n",
    "\n",
    "    # print the accuracy and confusion matrix \n",
    "    print \"==== Iteration\",iter_num,\" ====\"\n",
    "    print \"accuracy\", mt.accuracy_score(updated_y[test_indices],updated_y_hat) \n",
    "    print \"confusion matrix\\n\",mt.confusion_matrix(updated_y[test_indices],updated_y_hat)"
   ]
  },
  {
   "cell_type": "markdown",
   "metadata": {},
   "source": [
    "The results of this classification not only have a higher accuracy than the original, full data set, an average of 98.0% versus 93.1%, but it also has better looking confusion matrices. There are data points that are classified correctly. Although there are still a larger number of bad loans being incorrectly identified as good, it is much better distributed than the original set.\n",
    "\n",
    "We follow up this analysis by looking at the weight of each factor used. This will help us figure out if there are certain features that are more influential than others to help with the classification of each point."
   ]
  },
  {
   "cell_type": "code",
   "execution_count": 11,
   "metadata": {
    "collapsed": false
   },
   "outputs": [
    {
     "name": "stdout",
     "output_type": "stream",
     "text": [
      "funded_amnt has weight of -0.00176211214332\n",
      "term has weight of 0.0165818657439\n",
      "annual_inc has weight of 1.49363379955e-05\n",
      "dti has weight of 0.00818293631107\n",
      "delinq_2yrs has weight of 6.49908995493e-05\n",
      "inq_last_6mths has weight of 1.57624006492e-05\n",
      "open_acc has weight of 0.00425491155736\n",
      "total_acc has weight of 0.0105657537842\n",
      "total_pymnt has weight of 0.00177192827273\n",
      "acc_now_delinq has weight of 2.38308573364e-06\n",
      "Grade_A has weight of 0.000321055655831\n",
      "Grade_B has weight of 0.000235560099647\n",
      "Grade_C has weight of 0.000107114094319\n",
      "Grade_D has weight of -5.93587903007e-05\n",
      "Grade_E has weight of -4.60314015363e-05\n",
      "Grade_F has weight of -3.13706000327e-05\n",
      "Grade_G has weight of -1.17911133936e-05\n",
      "Employ_1 year has weight of 4.7322864678e-05\n",
      "Employ_10+ years has weight of 9.12203016614e-05\n",
      "Employ_2 years has weight of 6.32959947935e-05\n",
      "Employ_3 years has weight of 5.05494101331e-05\n",
      "Employ_4 years has weight of 3.36881916044e-05\n",
      "Employ_5 years has weight of 2.04687776427e-05\n",
      "Employ_6 years has weight of 2.35637271325e-05\n",
      "Employ_7 years has weight of 1.48824402672e-05\n",
      "Employ_8 years has weight of 2.42232862515e-05\n",
      "Employ_9 years has weight of 1.29822461239e-05\n",
      "Employ_< 1 year has weight of 7.7381536509e-05\n",
      "Employ_n/a has weight of 5.5599167736e-05\n",
      "Int_Rate_Range has weight of 0.000368436198917\n",
      "Verify_Status has weight of 0.000223433376221\n",
      "Home_ANY has weight of 6.22413256946e-08\n",
      "Home_MORTGAGE has weight of 0.000176815429213\n",
      "Home_NONE has weight of -5.97023087196e-07\n",
      "Home_OTHER has weight of -2.54669600048e-06\n",
      "Home_OWN has weight of 8.53104251774e-05\n",
      "Home_RENT has weight of 0.000256133567905\n",
      "Loan_Purpose_car has weight of 2.32314254905e-05\n",
      "Loan_Purpose_credit_card has weight of 0.000139834664777\n",
      "Loan_Purpose_debt_consolidation has weight of 0.000255950299736\n",
      "Loan_Purpose_educational has weight of -5.22118923922e-07\n",
      "Loan_Purpose_home_improvement has weight of 2.77405736938e-05\n",
      "Loan_Purpose_house has weight of 1.21917622695e-06\n",
      "Loan_Purpose_major_purchase has weight of 3.8357856519e-05\n",
      "Loan_Purpose_medical has weight of 3.86319424304e-06\n",
      "Loan_Purpose_moving has weight of 7.59845817734e-06\n",
      "Loan_Purpose_other has weight of 3.49752537845e-05\n",
      "Loan_Purpose_renewable_energy has weight of 1.06076977234e-06\n",
      "Loan_Purpose_small_business has weight of -2.07548912179e-05\n",
      "Loan_Purpose_vacation has weight of 4.50877190733e-06\n",
      "Loan_Purpose_wedding has weight of -1.88548965286e-06\n"
     ]
    }
   ],
   "source": [
    "from sklearn.preprocessing import StandardScaler\n",
    "\n",
    "# Non-normalized weights\n",
    "# Iterate over the coefficients to get the weight for each variable\n",
    "weights = updated_logreg_obj.coef_.T # take transpose to make a column vector\n",
    "variable_names = loan_df_finished.columns\n",
    "for coef, name in zip(weights,variable_names):\n",
    "    print name, 'has weight of', coef[0]"
   ]
  },
  {
   "cell_type": "markdown",
   "metadata": {},
   "source": [
    "We want to normalize the weights for each variable so that a much larger valued variable, such as the funded amount, is weighted the same as a small valued variable such as one that is binary or nominal."
   ]
  },
  {
   "cell_type": "code",
   "execution_count": 12,
   "metadata": {
    "collapsed": false
   },
   "outputs": [
    {
     "name": "stdout",
     "output_type": "stream",
     "text": [
      "accuracy: 0.980293096799\n",
      "[[ 8948   951]\n",
      " [   71 41890]]\n",
      "Employ_4 years has weight of 0.000434783716946\n",
      "Employ_9 years has weight of 0.0023324632599\n",
      "Employ_1 year has weight of 0.00444800066245\n",
      "Loan_Purpose_moving has weight of -0.00498120370249\n",
      "term has weight of 0.0053475190932\n",
      "Employ_6 years has weight of -0.00558757538437\n",
      "Grade_F has weight of 0.00610519994757\n",
      "Loan_Purpose_renewable_energy has weight of -0.00685678238495\n",
      "Employ_2 years has weight of 0.011231747597\n",
      "Loan_Purpose_house has weight of 0.0123983353309\n",
      "Grade_G has weight of 0.013631673077\n",
      "delinq_2yrs has weight of 0.013854472461\n",
      "Employ_< 1 year has weight of 0.0142170130313\n",
      "Loan_Purpose_home_improvement has weight of -0.01525999016\n",
      "Employ_3 years has weight of 0.0166994025817\n",
      "Loan_Purpose_car has weight of -0.0172722995085\n",
      "Home_ANY has weight of 0.0175255792198\n",
      "Employ_10+ years has weight of 0.0178351816855\n",
      "Loan_Purpose_vacation has weight of -0.0186172865544\n",
      "Loan_Purpose_medical has weight of -0.0192549606117\n",
      "Loan_Purpose_major_purchase has weight of 0.0216381512754\n",
      "Employ_7 years has weight of -0.0217297765605\n",
      "Home_OWN has weight of 0.0233605703666\n",
      "Grade_E has weight of 0.0239785131797\n",
      "Loan_Purpose_debt_consolidation has weight of 0.0243262292096\n",
      "Employ_8 years has weight of 0.0247027016173\n",
      "Home_NONE has weight of -0.0276129194691\n",
      "Loan_Purpose_other has weight of -0.0301662983863\n",
      "Employ_5 years has weight of -0.0301758624726\n",
      "Grade_C has weight of -0.0315658599723\n",
      "Loan_Purpose_educational has weight of -0.0334396168992\n",
      "Grade_B has weight of -0.0376792083861\n",
      "Loan_Purpose_wedding has weight of -0.040090058697\n",
      "Home_OTHER has weight of -0.0406978016943\n",
      "acc_now_delinq has weight of 0.0418143529616\n",
      "Home_MORTGAGE has weight of 0.0450208217567\n",
      "Loan_Purpose_credit_card has weight of 0.0491130028797\n",
      "Grade_D has weight of -0.0532246542147\n",
      "dti has weight of -0.053328696781\n",
      "Home_RENT has weight of -0.0560394576522\n",
      "Employ_n/a has weight of -0.0657595154162\n",
      "open_acc has weight of -0.0659085728176\n",
      "Loan_Purpose_small_business has weight of -0.103678672437\n",
      "Grade_A has weight of 0.113277596121\n",
      "Verify_Status has weight of 0.121655527373\n",
      "inq_last_6mths has weight of -0.124295145308\n",
      "annual_inc has weight of 0.12867299657\n",
      "total_acc has weight of 0.25387351764\n",
      "Int_Rate_Range has weight of -0.499565252934\n",
      "funded_amnt has weight of -13.9652733045\n",
      "total_pymnt has weight of 16.1902459359\n"
     ]
    }
   ],
   "source": [
    "warnings.simplefilter(\"ignore\")\n",
    "\n",
    "# Normalize the features\n",
    "scale_obj = StandardScaler()\n",
    "scale_obj.fit(updated_X[train_indices])\n",
    "\n",
    "X_train_scaled = scale_obj.transform(updated_X[train_indices]) # apply to training\n",
    "X_test_scaled = scale_obj.transform(updated_X[test_indices])\n",
    "\n",
    "# Fit the regression to the new scaled data\n",
    "updated_logreg_obj.fit(X_train_scaled, updated_y[train_indices])\n",
    "\n",
    "y_hat = updated_logreg_obj.predict(X_test_scaled)\n",
    "\n",
    "# Rescore the accuracy and confusion matrix for the scaled data\n",
    "acc = mt.accuracy_score(updated_y[test_indices],y_hat)\n",
    "conf = mt.confusion_matrix(updated_y[test_indices],y_hat)\n",
    "print 'accuracy:', acc \n",
    "print conf\n",
    "\n",
    "# Sort the attributes on size and print them out in order of weight\n",
    "zip_vars = zip(updated_logreg_obj.coef_.T,loan_df_finished.columns) # combine attributes\n",
    "zip_vars.sort(key = lambda t: np.abs(t[0])) # sort them by the magnitude of the weight\n",
    "for coef, name in zip_vars:\n",
    "    print name, 'has weight of', coef[0] # now print them out"
   ]
  },
  {
   "cell_type": "markdown",
   "metadata": {},
   "source": [
    "After scaling the data, we still get a similar accuracy to before, if not a little better, and our confusion matrix has remained proportional. The scaled view of the variables provides a better way to compare variables for their significance in the classification.\n",
    "\n",
    "The graph below provides a better visual of the variables with the most impact. \n",
    "\n",
    "- The funded amount and total payment variables have a significant impact over any of the rest of the variables. \n",
    "- Interest Rate Range, annual income and the number of total accounts someone also shows more signifiance than the rest of the variables\n",
    "\n",
    "These results are very reasonable. It makes sense that good loans would have a higher total payment paid off than bad ones, so this would be an important factor in classification. If the loan is in good standing, the full principle amount will be paid off. This will relate positively because as you pay more back to the bank, you will become closer to finishing the loan. Alternatively, the less money you have paid the more likely you are to default on the loan. Funded amount and interest rate range are also valuable. Banks use credit scoring to determine the amount to fund and at what interest rates. Those with bad credit are likely to have lower funded amount and higher interest rate and also a higher chance of the loan ending up as bad. The funded amount and interest rate are both negatively weighted in this case which means the higher the interest rate and the higher the funded amount, the more likely someone is to default. As a loan increases in value and interest rate, it gets more difficult to pay off the loan and so, in general, someone is more likely to go into default and end up with a \"bad\" loan."
   ]
  },
  {
   "cell_type": "code",
   "execution_count": 13,
   "metadata": {
    "collapsed": false
   },
   "outputs": [
    {
     "data": {
      "image/png": "[encoded data removed]",
      "text/plain": [
       "<matplotlib.figure.Figure at 0xc8060f98>"
      ]
     },
     "metadata": {},
     "output_type": "display_data"
    }
   ],
   "source": [
    "# now let's make a pandas Series with the names and values, and plot them\n",
    "from matplotlib import pyplot as plt\n",
    "%matplotlib inline\n",
    "plt.style.use('ggplot')\n",
    "fig = plt.figure(figsize=(14, 6))\n",
    "\n",
    "weights = pd.Series(updated_logreg_obj.coef_[0],index=loan_df_finished.columns)\n",
    "weights.plot(kind='bar')\n",
    "plt.show()"
   ]
  },
  {
   "cell_type": "markdown",
   "metadata": {},
   "source": [
    "### Support Vector Machines\n",
    "\n",
    "We continue our trials by observing the Support Vector Machines (SVM) to see if this method of classification can classify our data set better than logistic regression. We will start by observing the SVM of our original data set. Although it will most likely turn out the same way, not giving very good data, the SVM may reveal new splits in the decision. We will follow that up with looking at the SVM of the reduced data set that contains the completed loans. We can compare the accuracy of the SVM with the above logistic regression to determine if one classifies this data better than the other.\n",
    "\n",
    "Note: We use the SGDClassifier due to the size of our data set. Both sets are large and would take too long to train with a normal SVM in a time that is reasonable."
   ]
  },
  {
   "cell_type": "code",
   "execution_count": 14,
   "metadata": {
    "collapsed": false
   },
   "outputs": [
    {
     "name": "stdout",
     "output_type": "stream",
     "text": [
      "SVM: 0.931838671144\n",
      "Confusion Matrix:\n",
      "[[     0  12097]\n",
      " [     0 165379]]\n",
      "Coefficients [[ -1.50538780e-06   1.11086625e-05   2.95031469e-05  -4.83753326e-06\n",
      "    5.59442381e-06   1.48632083e-07   8.57014326e-06  -6.23317613e-06\n",
      "    3.15085392e-05   2.28186123e-05  -2.58348568e-05  -6.45009867e-06\n",
      "   -3.01126076e-06   1.52205734e-05   2.31640404e-05   2.43310822e-05\n",
      "   -2.25016957e-05   7.54478692e-06  -1.79843388e-05   2.00554436e-05\n",
      "   -2.20752055e-05   6.80792833e-06  -1.08692954e-05  -1.06727522e-06\n",
      "    1.41205648e-06   1.06716673e-05   1.33127332e-06   1.71450697e-05\n",
      "    2.64490433e-06  -3.39643270e-05   1.27628390e-05   1.70733969e-05\n",
      "    1.20017024e-05  -2.97359574e-04   1.14117378e-04   1.55958354e-06\n",
      "   -1.17406137e-05   3.32581065e-05  -4.89708024e-06  -1.50288287e-05\n",
      "    5.07400526e-05  -9.82013981e-06   1.15062711e-05  -1.63598446e-05\n",
      "    1.10663335e-05  -5.33391865e-07   9.55028388e-06   9.86596528e-05\n",
      "    1.31102851e-05  -1.58381634e-06   3.92449695e-05]]\n"
     ]
    },
    {
     "data": {
      "text/plain": [
       "<matplotlib.axes._subplots.AxesSubplot at 0x35294a58>"
      ]
     },
     "execution_count": 14,
     "metadata": {},
     "output_type": "execute_result"
    },
    {
     "data": {
      "image/png": "[encoded data removed]",
      "text/plain": [
       "<matplotlib.figure.Figure at 0x35294898>"
      ]
     },
     "metadata": {},
     "output_type": "display_data"
    }
   ],
   "source": [
    "# SVM of full data set\n",
    "warnings.simplefilter(\"ignore\")\n",
    "\n",
    "# SGDClassifier using 'hinge' for loss to get an SVM\n",
    "from sklearn.linear_model import SGDClassifier\n",
    "\n",
    "# Get SVM classifier\n",
    "regularize_const = 0.1\n",
    "iterations = 5\n",
    "svm_sgd = SGDClassifier(alpha=regularize_const,\n",
    "        fit_intercept=True, l1_ratio=0.0, learning_rate='optimal',\n",
    "        loss='hinge', n_iter=iterations, n_jobs=-1, penalty='l2')\n",
    "\n",
    "# Fit our data (after it is scaled) to an SVM classification\n",
    "scl = StandardScaler()\n",
    "for train_idx, test_idx in cv_obj:\n",
    "    svm_sgd.fit(scl.fit_transform(X[train_idx]),y[train_idx])\n",
    "    yhat = svm_sgd.predict(scl.transform(X[test_idx]))\n",
    "    \n",
    "    conf = mt.confusion_matrix(y[test_idx],yhat)\n",
    "    acc = mt.accuracy_score(y[test_idx],yhat)\n",
    "\n",
    "print 'SVM:', acc\n",
    "print 'Confusion Matrix:\\n', conf\n",
    "print 'Coefficients', svm_sgd.coef_\n",
    "weights = pd.Series(svm_sgd.coef_[0],index=loan_df_finished.columns)\n",
    "weights.plot(kind='bar', figsize=(14,6))"
   ]
  },
  {
   "cell_type": "markdown",
   "metadata": {},
   "source": [
    "The accuracy of the full data set remained very similar. It stayed at around 93% accuracy, but still has the same style of confusion matrix from the logistic regression with bad loans being classified as good ones. Looking at the breakdown of the weights, there is also no clear classification class. All class values are relatively small, and changing to different breakdowns of the data set lead to different weights having different importances. We now look at the SVM of the reduced data to see how it performs."
   ]
  },
  {
   "cell_type": "code",
   "execution_count": 15,
   "metadata": {
    "collapsed": false
   },
   "outputs": [
    {
     "name": "stdout",
     "output_type": "stream",
     "text": [
      "SVM: 0.877150019283\n",
      "Confusion Matrix:\n",
      "[[ 3448  6346]\n",
      " [   25 42041]]\n",
      "SVM: 0.873968376398\n",
      "Confusion Matrix:\n",
      "[[ 3368  6521]\n",
      " [   15 41956]]\n",
      "SVM: 0.876185885075\n",
      "Confusion Matrix:\n",
      "[[ 3379  6400]\n",
      " [   21 42060]]\n",
      "SVM: 0.873370613189\n",
      "Confusion Matrix:\n",
      "[[ 3390  6542]\n",
      " [   25 41903]]\n",
      "SVM: 0.874990358658\n",
      "Confusion Matrix:\n",
      "[[ 3419  6452]\n",
      " [   31 41958]]\n",
      "Coefficients [[ -7.24719832e-01  -3.55572256e-02  -2.17755306e-03  -1.28555777e-02\n",
      "   -1.51402541e-03  -4.76638582e-03  -6.33280767e-03   1.21968606e-02\n",
      "    8.45203509e-01   2.02889197e-03  -2.58132441e-03   4.84940882e-03\n",
      "    6.97499617e-03   3.25002245e-03  -3.82363984e-03  -1.91228157e-02\n",
      "   -1.24046802e-02  -8.32594537e-04   1.65149542e-03   9.40574567e-04\n",
      "    3.37661393e-04   2.41010754e-04  -1.51371530e-03  -1.63871508e-03\n",
      "   -9.82037459e-04   4.44698455e-04  -1.00891003e-03   8.50748134e-04\n",
      "   -5.77530303e-04  -4.30988594e-02  -7.62223124e-03   4.39792811e-03\n",
      "    3.46590960e-05   3.90089267e-05   8.17000763e-04   2.37716392e-03\n",
      "   -1.45748460e-03   3.29232180e-03  -2.44116963e-03  -4.40486900e-03\n",
      "   -3.60401257e-04   3.17483793e-03   3.21245830e-03   3.33075859e-03\n",
      "    2.14785421e-03   3.92775913e-03   6.10098238e-03   3.95041947e-04\n",
      "   -8.21646535e-03   4.24792748e-03   1.57694854e-04]]\n"
     ]
    },
    {
     "data": {
      "text/plain": [
       "<matplotlib.axes._subplots.AxesSubplot at 0xc79ab048>"
      ]
     },
     "execution_count": 15,
     "metadata": {},
     "output_type": "execute_result"
    },
    {
     "data": {
      "image/png": "[encoded data removed]",
      "text/plain": [
       "<matplotlib.figure.Figure at 0xd1100dd8>"
      ]
     },
     "metadata": {},
     "output_type": "display_data"
    }
   ],
   "source": [
    "'''\n",
    "\n",
    "# Running SVM of the loan_df_finished dataset\n",
    "# We are using Stochastic gradient descent (SGD) because it computes the gradient using a single sample\n",
    "One benefit of SGD is that it's computationally a whole lot faster. Large datasets often can't be held in RAM, \n",
    "which makes vectorization much less efficient. \n",
    "Rather, each sample or batch of samples must be loaded, worked with, the results stored, and so on.\n",
    "\n",
    "#SGDClassifier using 'hinge' for loss to get an SVM\n",
    "\n",
    "'''\n",
    "\n",
    "from sklearn.linear_model import SGDClassifier\n",
    "\n",
    "regularize_const = 0.1\n",
    "iterations = 5\n",
    "svm_sgd = SGDClassifier(alpha=regularize_const,\n",
    "        fit_intercept=True, l1_ratio=0.0, learning_rate='optimal',\n",
    "        loss='hinge', n_iter=iterations, n_jobs=-1, penalty='l2')\n",
    "\n",
    "scl = StandardScaler()\n",
    "for train_idx, test_idx in updated_cv_obj:\n",
    "    svm_sgd.fit(scl.fit_transform(updated_X[train_idx]),updated_y[train_idx])\n",
    "    yhat = svm_sgd.predict(scl.transform(updated_X[test_idx]))\n",
    "    \n",
    "    conf = mt.confusion_matrix(updated_y[test_idx],yhat)\n",
    "    acc = mt.accuracy_score(updated_y[test_idx],yhat)\n",
    "\n",
    "    print 'SVM:', acc\n",
    "    print 'Confusion Matrix:\\n', conf\n",
    "    \n",
    "print 'Coefficients', svm_sgd.coef_\n",
    "weights = pd.Series(svm_sgd.coef_[0],index=loan_df_finished.columns)\n",
    "weights.plot(kind='bar', figsize=(14,6))"
   ]
  },
  {
   "cell_type": "markdown",
   "metadata": {},
   "source": [
    "The SVM for the reduced data, which includes just completed loans, has a much lower accuracy than the logistic regression classification of the same data. The accuracy dropped from just below 98.0% to around 87.3%. This is a significant difference. It is possible that part of this is due to SGDClassifier taking the Stochastic Gradient instead of the full gradient of the SVM. Although the SGD runs faster than the linear regression model we used (LinearRegression()), it does not have the accuracy that we would expect or want in this situation, especially when the original data stayed around the same accuracy between the two different classifications.\n",
    "\n",
    "It is interesting to note that the classes that the SVM pulls out are almost identical to the ones the logistic regression uses. Funded amount and total payment are still at the top of the list with Interest Rate Range being a distant fourth, but still near the top. Surprisingly, it has added importance on the 'Term' variable that the logistic regression did not pull out."
   ]
  },
  {
   "cell_type": "markdown",
   "metadata": {},
   "source": [
    "### Additional Analysis: Are there better parameter or variable choices?\n",
    "\n",
    "As suggested by the Batch SVM previously, it looks like there might be better parameter set that can help us generage the best Bias-variance trade-off. \n",
    "In this section, we want to see if we can improve the overall accuracy of our model by adjusting the parameters we pass into our Logistic Regression and SVM models and by reducing the number of variables we look at with our model. Either of these changes could lead to better performance in both accuracy and the confusion mattrices."
   ]
  },
  {
   "cell_type": "markdown",
   "metadata": {},
   "source": [
    "Overfitting is a common problem in machine learning, where a model performs well on training data but does not generalize well to unseen data (test data). If a model suffers from overfitting, we also say that the model has a high variance, which can be caused by having too many parameters that lead to a model that is too complex given the underlying data. Similarly, our model can also suffer from underfitting (high bias), which means that our model is not complex enough to capture the pattern in the training data well and therefore also suffers from low performance\n",
    "on unseen data. There are various parameters for finding a good bias-variance tradeoff and to tune the complexity of the model via regularization. \n",
    "\n",
    "Cost Function 'C' : A large C gives you low bias and high variance. Low bias because you penalize the cost of missclasification a lot. A small C gives you higher bias and lower variance. A lower C means higher regularization. A lower C thus prevents overfitting.\n",
    "\n",
    "L1/L2 Regularization : L2 regularization (sometimes also called L2 shrinkage or weight decay) or L1 regularization where penalty is the sum of the absolute weight coefficients while in L2 that term is quadratic)\n",
    "\n",
    "Below we will try to change the model parameters and try find the optimal values for these parameters.\n",
    "\n",
    "Please note that both SVC and LinearSVC have the regularization hyperparameter C, but the SGDClassifier has the regularization hyperparameter alpha. Where C = n_samples / alpha"
   ]
  },
  {
   "cell_type": "markdown",
   "metadata": {},
   "source": [
    "### Analysis 1: Changing Model Parameters"
   ]
  },
  {
   "cell_type": "markdown",
   "metadata": {},
   "source": [
    "We first look to see if we can alter the parameters of our models to get better accuracy. It may be difficult to see an increase with the Logistic Regression since it is already a high accuracy of 98%, but our stochastic SVM could perform better. We start by changing the C value (the penalty value of the error) and then also look at changing the penalty type itself. Our original set was run at a penalty of L2 and a C of 1.0."
   ]
  },
  {
   "cell_type": "code",
   "execution_count": 16,
   "metadata": {
    "collapsed": false
   },
   "outputs": [
    {
     "name": "stdout",
     "output_type": "stream",
     "text": [
      "======= L1 Penalty with C = 5 ========\n",
      "accuracy: 0.980331662167\n",
      "[[ 8950   949]\n",
      " [   71 41890]]\n",
      "======= L1 Penalty with C = 10 ========\n",
      "accuracy: 0.980350944852\n",
      "[[ 8951   948]\n",
      " [   71 41890]]\n",
      "======= L1 Penalty with C = 15 ========\n",
      "accuracy: 0.980331662167\n",
      "[[ 8950   949]\n",
      " [   71 41890]]\n",
      "======= L1 Penalty with C = 20 ========\n",
      "accuracy: 0.980350944852\n",
      "[[ 8951   948]\n",
      " [   71 41890]]\n",
      "======= L1 Penalty with C = 25 ========\n",
      "accuracy: 0.980331662167\n",
      "[[ 8950   949]\n",
      " [   71 41890]]\n",
      "======= L2 Penalty with C = 5 ========\n",
      "accuracy: 0.980254531431\n",
      "[[ 8946   953]\n",
      " [   71 41890]]\n",
      "======= L2 Penalty with C = 10 ========\n",
      "accuracy: 0.980293096799\n",
      "[[ 8948   951]\n",
      " [   71 41890]]\n",
      "======= L2 Penalty with C = 15 ========\n",
      "accuracy: 0.980312379483\n",
      "[[ 8949   950]\n",
      " [   71 41890]]\n",
      "======= L2 Penalty with C = 20 ========\n",
      "accuracy: 0.980312379483\n",
      "[[ 8949   950]\n",
      " [   71 41890]]\n",
      "======= L2 Penalty with C = 25 ========\n",
      "accuracy: 0.980331662167\n",
      "[[ 8950   949]\n",
      " [   71 41890]]\n"
     ]
    }
   ],
   "source": [
    "# Changing Logistic Regression Model Paramters - can alter penalty and C value\n",
    "\n",
    "\n",
    "for val in range(5):\n",
    "    print \"======= L1 Penalty with C =\", 5*(val+1), \"========\"\n",
    "    updated_logreg_obj = LogisticRegression(penalty='l1', C=5*(val+1), class_weight=None)\n",
    "\n",
    "    # Fit the regression to the new scaled data\n",
    "    updated_logreg_obj.fit(X_train_scaled, updated_y[train_indices])\n",
    "\n",
    "    y_hat = updated_logreg_obj.predict(X_test_scaled)\n",
    "\n",
    "    # Rescore the accuracy and confusion matrix for the scaled data\n",
    "    acc = mt.accuracy_score(updated_y[test_indices],y_hat)\n",
    "    conf = mt.confusion_matrix(updated_y[test_indices],y_hat)\n",
    "    print 'accuracy:', acc \n",
    "    print conf\n",
    "    \n",
    "for val in range(5):\n",
    "    print \"======= L2 Penalty with C =\", 5*(val+1), \"========\"\n",
    "    updated_logreg_obj = LogisticRegression(penalty='l2', C=5*(val+1), class_weight=None)\n",
    "\n",
    "    # Fit the regression to the new scaled data\n",
    "    updated_logreg_obj.fit(X_train_scaled, updated_y[train_indices])\n",
    "\n",
    "    y_hat = updated_logreg_obj.predict(X_test_scaled)\n",
    "\n",
    "    # Rescore the accuracy and confusion matrix for the scaled data\n",
    "    acc = mt.accuracy_score(updated_y[test_indices],y_hat)\n",
    "    conf = mt.confusion_matrix(updated_y[test_indices],y_hat)\n",
    "    print 'accuracy:', acc \n",
    "    print conf"
   ]
  },
  {
   "cell_type": "code",
   "execution_count": 17,
   "metadata": {
    "collapsed": false
   },
   "outputs": [
    {
     "name": "stdout",
     "output_type": "stream",
     "text": [
      "======= L1 Penalty with alpha = 1 ========\n",
      "SVM: 0.807635942923\n",
      "Confusion Matrix:\n",
      "[[    0  9976]\n",
      " [    0 41884]]\n",
      "======= L1 Penalty with alpha = 0.1 ========\n",
      "SVM: 0.809005013498\n",
      "Confusion Matrix:\n",
      "[[    0  9905]\n",
      " [    0 41955]]\n",
      "======= L1 Penalty with alpha = 0.01 ========\n",
      "SVM: 0.980177400694\n",
      "Confusion Matrix:\n",
      "[[ 8858   945]\n",
      " [   83 41974]]\n",
      "======= L1 Penalty with alpha = 0.001 ========\n",
      "SVM: 0.990185113768\n",
      "Confusion Matrix:\n",
      "[[ 9566   401]\n",
      " [  108 41785]]\n",
      "======= L1 Penalty with alpha = 0.0001 ========\n",
      "SVM: 0.988276128037\n",
      "Confusion Matrix:\n",
      "[[ 9522   379]\n",
      " [  229 41730]]\n",
      "======= L1 Penalty with l1_ratio = 0 ========\n",
      "SVM: 0.807655225607\n",
      "Confusion Matrix:\n",
      "[[    0  9975]\n",
      " [    0 41885]]\n",
      "======= L1 Penalty with l1_ratio = 0 ========\n",
      "SVM: 0.810374084073\n",
      "Confusion Matrix:\n",
      "[[    0  9834]\n",
      " [    0 42026]]\n",
      "======= L1 Penalty with l1_ratio = 0 ========\n",
      "SVM: 0.805244890089\n",
      "Confusion Matrix:\n",
      "[[    0 10100]\n",
      " [    0 41760]]\n",
      "======= L1 Penalty with l1_ratio = 0 ========\n",
      "SVM: 0.807867335133\n",
      "Confusion Matrix:\n",
      "[[    0  9964]\n",
      " [    0 41896]]\n",
      "======= L1 Penalty with l1_ratio = 1 ========\n",
      "SVM: 0.806536829927\n",
      "Confusion Matrix:\n",
      "[[    0 10033]\n",
      " [    0 41827]]\n",
      "======= L2 Penalty with alpha = 1 ========\n",
      "SVM: 0.809737755496\n",
      "Confusion Matrix:\n",
      "[[    0  9867]\n",
      " [    0 41993]]\n",
      "======= L2 Penalty with alpha = 0.1 ========\n",
      "SVM: 0.873968376398\n",
      "Confusion Matrix:\n",
      "[[ 3332  6511]\n",
      " [   25 41992]]\n",
      "======= L2 Penalty with alpha = 0.01 ========\n",
      "SVM: 0.94865021211\n",
      "Confusion Matrix:\n",
      "[[ 7245  2601]\n",
      " [   62 41952]]\n",
      "======= L2 Penalty with alpha = 0.001 ========\n",
      "SVM: 0.972599305823\n",
      "Confusion Matrix:\n",
      "[[ 8573  1337]\n",
      " [   84 41866]]\n",
      "======= L2 Penalty with alpha = 0.0001 ========\n",
      "SVM: 0.979676050906\n",
      "Confusion Matrix:\n",
      "[[ 9107   946]\n",
      " [  108 41699]]\n"
     ]
    }
   ],
   "source": [
    "# Changing SVM Model Parameters - can alter penalty, L1 ratio and alpha\n",
    "\n",
    "for val in range(5):\n",
    "    print \"======= L1 Penalty with alpha =\", 10**(-val), \"========\"\n",
    "    regularize_const = 10**(-val)\n",
    "    iterations = 5\n",
    "    svm_sgd = SGDClassifier(alpha=regularize_const,\n",
    "            fit_intercept=True, l1_ratio=1.0, learning_rate='optimal',\n",
    "            loss='hinge', n_iter=iterations, n_jobs=-1, penalty='L1')\n",
    "\n",
    "    scl = StandardScaler()\n",
    "    for train_idx, test_idx in updated_cv_obj:\n",
    "        svm_sgd.fit(scl.fit_transform(updated_X[train_idx]),updated_y[train_idx])\n",
    "        yhat = svm_sgd.predict(scl.transform(updated_X[test_idx]))\n",
    "\n",
    "        conf = mt.confusion_matrix(updated_y[test_idx],yhat)\n",
    "        acc = mt.accuracy_score(updated_y[test_idx],yhat)\n",
    "\n",
    "    print 'SVM:', acc\n",
    "    print 'Confusion Matrix:\\n', conf\n",
    "    \n",
    "for val in range(5):\n",
    "    print \"======= L1 Penalty with l1_ratio =\", val/4, \"========\"\n",
    "    regularize_const = 0.1\n",
    "    iterations = 5\n",
    "    svm_sgd = SGDClassifier(alpha=regularize_const,\n",
    "            fit_intercept=True, l1_ratio=val/4, learning_rate='optimal',\n",
    "            loss='hinge', n_iter=iterations, n_jobs=-1, penalty='L1')\n",
    "\n",
    "    scl = StandardScaler()\n",
    "    for train_idx, test_idx in updated_cv_obj:\n",
    "        svm_sgd.fit(scl.fit_transform(updated_X[train_idx]),updated_y[train_idx])\n",
    "        yhat = svm_sgd.predict(scl.transform(updated_X[test_idx]))\n",
    "\n",
    "        conf = mt.confusion_matrix(updated_y[test_idx],yhat)\n",
    "        acc = mt.accuracy_score(updated_y[test_idx],yhat)\n",
    "\n",
    "    print 'SVM:', acc\n",
    "    print 'Confusion Matrix:\\n', conf\n",
    "    \n",
    "for val in range(5):\n",
    "    print \"======= L2 Penalty with alpha =\", 10**(-val), \"========\"\n",
    "    regularize_const = 10**(-val)\n",
    "    iterations = 5\n",
    "    svm_sgd = SGDClassifier(alpha=regularize_const,\n",
    "            fit_intercept=True, l1_ratio=0.0, learning_rate='optimal',\n",
    "            loss='hinge', n_iter=iterations, n_jobs=-1, penalty='L2')\n",
    "\n",
    "    scl = StandardScaler()\n",
    "    for train_idx, test_idx in updated_cv_obj:\n",
    "        svm_sgd.fit(scl.fit_transform(updated_X[train_idx]),updated_y[train_idx])\n",
    "        yhat = svm_sgd.predict(scl.transform(updated_X[test_idx]))\n",
    "\n",
    "        conf = mt.confusion_matrix(updated_y[test_idx],yhat)\n",
    "        acc = mt.accuracy_score(updated_y[test_idx],yhat)\n",
    "\n",
    "    print 'SVM:', acc\n",
    "    print 'Confusion Matrix:\\n', conf"
   ]
  },
  {
   "cell_type": "markdown",
   "metadata": {},
   "source": [
    "### Analysis 2: Reduced Number of Factors"
   ]
  },
  {
   "cell_type": "markdown",
   "metadata": {},
   "source": [
    "In this section, we will use the logistic regression classification, which seemed to perform better for our reduced data set, to see if we can increase the accuracy of our model by looking at different variable inputs. The idea is to reduce the number of inputs to try and improve the data. What if we look at our major regression factors and limit our dataset to those factors? Do we improve accuracy any by limiting the data given to the classifier?"
   ]
  },
  {
   "cell_type": "code",
   "execution_count": 18,
   "metadata": {
    "collapsed": false
   },
   "outputs": [
    {
     "name": "stdout",
     "output_type": "stream",
     "text": [
      "====Iteration 0  ====\n",
      "accuracy 0.982221365214\n",
      "confusion matrix\n",
      "[[ 8933   826]\n",
      " [   96 42005]]\n",
      "====Iteration 1  ====\n",
      "accuracy 0.982896259159\n",
      "confusion matrix\n",
      "[[ 9084   804]\n",
      " [   83 41889]]\n",
      "====Iteration 2  ====\n",
      "accuracy 0.981276513691\n",
      "confusion matrix\n",
      "[[ 9025   895]\n",
      " [   76 41864]]\n",
      "====Iteration 3  ====\n",
      "accuracy 0.981835711531\n",
      "confusion matrix\n",
      "[[ 9185   849]\n",
      " [   93 41733]]\n",
      "====Iteration 4  ====\n",
      "accuracy 0.98173929811\n",
      "confusion matrix\n",
      "[[ 9085   854]\n",
      " [   93 41828]]\n"
     ]
    }
   ],
   "source": [
    "used_temp_df = pd.DataFrame()\n",
    "major_factors_df = loan_df_finished\n",
    "\n",
    "for col in ['funded_amnt', 'Int_Rate_Range', 'total_pymnt', 'annual_inc', 'Verify_Status']:\n",
    "    if col in major_factors_df:\n",
    "        used_temp_df[col] = major_factors_df[col]\n",
    "        \n",
    "updated_X = used_temp_df.values\n",
    "\n",
    "updated_logreg_obj = LogisticRegression(penalty='l2', C=1.0, class_weight=None)\n",
    "\n",
    "for iter_num, (train_indices, test_indices) in enumerate(updated_cv_obj):\n",
    "    updated_logreg_obj.fit(updated_X[train_indices],updated_y[train_indices])  # train object\n",
    "    updated_y_hat = updated_logreg_obj.predict(updated_X[test_indices]) # get test set precitions\n",
    "\n",
    "    # print the accuracy and confusion matrix \n",
    "    print \"====Iteration\",iter_num,\" ====\"\n",
    "    print \"accuracy\", mt.accuracy_score(updated_y[test_indices],updated_y_hat) \n",
    "    print \"confusion matrix\\n\",mt.confusion_matrix(updated_y[test_indices],updated_y_hat)"
   ]
  },
  {
   "cell_type": "markdown",
   "metadata": {
    "collapsed": true
   },
   "source": [
    "The unscaled data of this significantly reduced data set has a marginally better fit than the original reduced data set. If you compare the 98.1% average of the newly reduced data set to the 98.0% of the base reduced data, you get a slightly better performance by taking out some of the less important, according to the logistic regression, variables. The scaled data comes in at a similar accuracy rating of the original sample at 98.0% so there really is not a huge change here. Even looking at the weights of each, the funded amount and total payment factors still far outweigh the others."
   ]
  },
  {
   "cell_type": "code",
   "execution_count": 19,
   "metadata": {
    "collapsed": false
   },
   "outputs": [
    {
     "name": "stdout",
     "output_type": "stream",
     "text": [
      "accuracy: 0.979155418434\n",
      "[[ 8949   990]\n",
      " [   91 41830]]\n"
     ]
    },
    {
     "data": {
      "text/plain": [
       "<function matplotlib.pyplot.show>"
      ]
     },
     "execution_count": 19,
     "metadata": {},
     "output_type": "execute_result"
    },
    {
     "data": {
      "image/png": "[encoded data removed]",
      "text/plain": [
       "<matplotlib.figure.Figure at 0xd36a4278>"
      ]
     },
     "metadata": {},
     "output_type": "display_data"
    },
    {
     "data": {
      "image/png": "[encoded data removed]",
      "text/plain": [
       "<matplotlib.figure.Figure at 0xd10e2b38>"
      ]
     },
     "metadata": {},
     "output_type": "display_data"
    }
   ],
   "source": [
    "scl = StandardScaler()\n",
    "scl.fit(updated_X[train_indices])\n",
    "\n",
    "X_train_scaled = scl.transform(updated_X[train_indices]) # apply to training\n",
    "X_test_scaled = scl.transform(updated_X[test_indices])\n",
    "\n",
    "# Fit the regression to the new scaled data\n",
    "updated_logreg_obj.fit(X_train_scaled, updated_y[train_indices])\n",
    "\n",
    "y_hat = updated_logreg_obj.predict(X_test_scaled)\n",
    "\n",
    "# Rescore the accuracy and confusion matrix for the scaled data\n",
    "acc = mt.accuracy_score(updated_y[test_indices],y_hat)\n",
    "conf = mt.confusion_matrix(updated_y[test_indices],y_hat)\n",
    "print 'accuracy:', acc \n",
    "print conf\n",
    "weights = pd.Series(updated_logreg_obj.coef_[0],index=used_temp_df.columns)\n",
    "weights.plot(kind='bar', figsize=(14,6))\n",
    "\n",
    "fig, ax = plt.subplots(figsize=(2.5,2.5))\n",
    "ax.matshow(conf, cmap=plt.cm.Blues, alpha = 0.3)\n",
    "for i in range (conf.shape[0]):\n",
    "    for j in range (conf.shape[1]):\n",
    "        ax.text(x=j, y=i, s=conf[i, j], va = 'center', ha = 'center')\n",
    "plt.xlabel ('Predicted Class')\n",
    "plt.ylabel ('True Class')\n",
    "plt.show"
   ]
  },
  {
   "cell_type": "markdown",
   "metadata": {},
   "source": [
    "## Resubmission Part:\n",
    "### Look at the chosen support vectors for the classification task. Do these provide any insight into the data? Explain\n",
    "\n",
    "\n",
    "Since the SGDClassifier is not the most optimal SVM technique, we will run a full Batch Gradient Descent on the previously created subsampled dataset that has a smaller number of samples for training the model for \"finished loans\". We will use this subsampled set to find if there are any differences in the findings we have seen so far. Because we have very small sample set, it is important to chose the best parameter set, so we run a \"Grid Search\" technique to find the best 'C' for the model. We then run the Batch SVM using that model to verify the results for the classifier importance vs Stochastic Gradient Descent we ran previously."
   ]
  },
  {
   "cell_type": "code",
   "execution_count": 20,
   "metadata": {
    "collapsed": false
   },
   "outputs": [
    {
     "name": "stdout",
     "output_type": "stream",
     "text": [
      "(12965L, 51L)\n",
      "12965\n"
     ]
    }
   ],
   "source": [
    "# Split the data into our x and y matrices for testing\n",
    "if 'isGoodLoan' in subsampled_df:\n",
    "    updated_subsampled_y = subsampled_df['isGoodLoan'].values\n",
    "    del subsampled_df['isGoodLoan']\n",
    "    updated_subsampled_X = subsampled_df.values\n",
    "\n",
    "# Create a new Shuffle split on the narrowed classification data\n",
    "num_cv_iterations = 5\n",
    "num_instances = len(updated_subsampled_y)\n",
    "updated_cv_obj_subsampled = ShuffleSplit(n = num_instances, n_iter = num_cv_iterations, test_size = 0.2)\n",
    "print updated_subsampled_X.shape\n",
    "print updated_subsampled_y.size\n"
   ]
  },
  {
   "cell_type": "code",
   "execution_count": 21,
   "metadata": {
    "collapsed": false
   },
   "outputs": [],
   "source": [
    "from sklearn.cross_validation import train_test_split\n",
    "\n",
    "X_train_updated, X_test_updated, y_train_updated, y_test_updated = \\\n",
    "train_test_split(updated_subsampled_X,updated_subsampled_y, test_size = 0.2, random_state = 1)\n"
   ]
  },
  {
   "cell_type": "code",
   "execution_count": 22,
   "metadata": {
    "collapsed": false
   },
   "outputs": [
    {
     "name": "stdout",
     "output_type": "stream",
     "text": [
      "(10372L, 51L)\n",
      "(10372L,)\n"
     ]
    }
   ],
   "source": [
    "print X_train_updated.shape\n",
    "print y_train_updated.shape"
   ]
  },
  {
   "cell_type": "code",
   "execution_count": 23,
   "metadata": {
    "collapsed": false,
    "scrolled": true
   },
   "outputs": [
    {
     "name": "stdout",
     "output_type": "stream",
     "text": [
      "0.983898958735\n",
      "{'clf__C': 100, 'clf__kernel': 'linear'}\n"
     ]
    }
   ],
   "source": [
    "from sklearn.learning_curve import validation_curve\n",
    "from sklearn.preprocessing import  StandardScaler\n",
    "from sklearn.svm import SVC\n",
    "from sklearn.pipeline import Pipeline\n",
    "from sklearn.grid_search import GridSearchCV\n",
    "\n",
    "pipe_svc = Pipeline([('scl', StandardScaler()), ('clf', SVC(random_state=1))])\n",
    "\n",
    "param_range = [0.001, 0.01, 0.1, 1, 10, 100]\n",
    "param_grid = [{'clf__C': param_range, 'clf__kernel': ['linear']}]\n",
    "\n",
    "#Perform grid search to find best C value for SVM\n",
    "gs = GridSearchCV(estimator=pipe_svc, param_grid=param_grid, scoring = 'accuracy', cv=10, n_jobs=-1)\n",
    "gs = gs.fit(X_train_updated,y_train_updated)\n",
    "\n",
    "print (gs.best_score_)\n",
    "print (gs.best_params_)"
   ]
  },
  {
   "cell_type": "markdown",
   "metadata": {},
   "source": [
    "Above, we run a grid search in order to find the most efficient 'C' value for the coefficient."
   ]
  },
  {
   "cell_type": "code",
   "execution_count": 24,
   "metadata": {
    "collapsed": false
   },
   "outputs": [
    {
     "name": "stdout",
     "output_type": "stream",
     "text": [
      "[mean: 0.87360, std: 0.00623, params: {'clf__C': 0.001, 'clf__kernel': 'linear'}, mean: 0.95131, std: 0.00656, params: {'clf__C': 0.01, 'clf__kernel': 'linear'}, mean: 0.97532, std: 0.00665, params: {'clf__C': 0.1, 'clf__kernel': 'linear'}, mean: 0.98178, std: 0.00552, params: {'clf__C': 1, 'clf__kernel': 'linear'}, mean: 0.98361, std: 0.00495, params: {'clf__C': 10, 'clf__kernel': 'linear'}, mean: 0.98390, std: 0.00495, params: {'clf__C': 100, 'clf__kernel': 'linear'}]\n"
     ]
    }
   ],
   "source": [
    "print gs.grid_scores_"
   ]
  },
  {
   "cell_type": "code",
   "execution_count": 25,
   "metadata": {
    "collapsed": false,
    "scrolled": true
   },
   "outputs": [
    {
     "name": "stdout",
     "output_type": "stream",
     "text": [
      "{'clf__C': 100, 'clf__kernel': 'linear'}\n",
      "('Test Accuracy for Batch Support vector Machine: ', 0.98418819899730048)\n"
     ]
    }
   ],
   "source": [
    "print (gs.best_params_)\n",
    "clf = gs.best_estimator_\n",
    "clf.fit(X_train_updated,y_train_updated)\n",
    "print ('Test Accuracy for Batch Support vector Machine: ',clf.score(X_test_updated,y_test_updated))"
   ]
  },
  {
   "cell_type": "markdown",
   "metadata": {},
   "source": [
    "The above Grid Search helped us find the most appropriate C value (in this case C is between 10 and 100) for a 'Linear' kernel SVM. We will use the 'C=10' and 'Linear' kernel to check the classifiers importance next."
   ]
  },
  {
   "cell_type": "code",
   "execution_count": 26,
   "metadata": {
    "collapsed": false,
    "scrolled": false
   },
   "outputs": [
    {
     "name": "stdout",
     "output_type": "stream",
     "text": [
      "SVM: 0.987659082144\n",
      "SVM: 0.975318164288\n",
      "SVM: 0.987273428461\n",
      "SVM: 0.984188198997\n",
      "SVM: 0.981102969533\n"
     ]
    },
    {
     "data": {
      "text/plain": [
       "<function matplotlib.pyplot.show>"
      ]
     },
     "execution_count": 26,
     "metadata": {},
     "output_type": "execute_result"
    },
    {
     "data": {
      "image/png": "[encoded data removed]",
      "text/plain": [
       "<matplotlib.figure.Figure at 0xb47c67b8>"
      ]
     },
     "metadata": {},
     "output_type": "display_data"
    }
   ],
   "source": [
    "warnings.simplefilter(\"ignore\")\n",
    "from sklearn.svm import SVC\n",
    "from sklearn.learning_curve import validation_curve\n",
    "from sklearn.preprocessing import  StandardScaler\n",
    "from sklearn.pipeline import Pipeline\n",
    "from sklearn.grid_search import GridSearchCV\n",
    "from sklearn import metrics as mt\n",
    "from matplotlib import pyplot as plt\n",
    "\n",
    "svm_batch = SVC(kernel = 'linear', C=10)\n",
    "\n",
    "scl = StandardScaler()\n",
    "\n",
    "\n",
    "for train_idx, test_idx in updated_cv_obj_subsampled:\n",
    "    svm_batch.fit(scl.fit_transform(updated_subsampled_X[train_idx]),updated_subsampled_y[train_idx])\n",
    "    yhat = svm_batch.predict(scl.transform(updated_subsampled_X[test_idx]))\n",
    "    \n",
    "    conf = mt.confusion_matrix(updated_subsampled_y[test_idx],yhat)\n",
    "    acc = mt.accuracy_score(updated_subsampled_y[test_idx],yhat)\n",
    "\n",
    "    print 'SVM:', acc\n",
    "\n",
    "fig, ax = plt.subplots(figsize=(2.5,2.5))\n",
    "ax.matshow(conf, cmap=plt.cm.Blues, alpha = 0.3)\n",
    "for i in range (conf.shape[0]):\n",
    "    for j in range (conf.shape[1]):\n",
    "        ax.text(x=j, y=i, s=conf[i, j], va = 'center', ha = 'center')\n",
    "plt.xlabel ('Predicted Class')\n",
    "plt.ylabel ('True Class')\n",
    "plt.show"
   ]
  },
  {
   "cell_type": "markdown",
   "metadata": {},
   "source": [
    "As we can see, the svm_batch with C=10, and Kernel = 'Linear' is performing well on the test data set. The next step is to check and verify the importance of the classification variables, and make sure there is not a difference from our SGD"
   ]
  },
  {
   "cell_type": "code",
   "execution_count": 27,
   "metadata": {
    "collapsed": false,
    "scrolled": true
   },
   "outputs": [
    {
     "name": "stdout",
     "output_type": "stream",
     "text": [
      "Coefficients [[ -6.81506324e+00   7.30007923e-04   2.17502593e-02   4.31078337e-03\n",
      "    5.07875371e-03  -1.93064085e-02  -2.62295817e-02   4.31210687e-02\n",
      "    7.88301016e+00   3.76604350e-03  -1.40332480e-02  -1.57781399e-02\n",
      "    7.19926954e-03   8.69624876e-04   2.18169681e-02   7.12822800e-03\n",
      "    2.14467048e-02   3.69644560e-03  -3.76182187e-03   1.07032965e-03\n",
      "    3.28620342e-03   5.47312058e-03  -1.34428433e-02  -2.51982782e-03\n",
      "   -8.99812036e-03   2.19444238e-02   6.54614085e-03   3.37205792e-03\n",
      "   -1.25881882e-02  -8.04853612e-02   6.01664524e-03   0.00000000e+00\n",
      "    5.10477622e-03   0.00000000e+00   5.14727150e-14   1.39936763e-02\n",
      "   -1.32040084e-02   4.91011647e-03   4.56198737e-03  -4.43435766e-03\n",
      "    1.88987714e-13  -1.67811856e-03  -3.54723034e-03   1.14826774e-02\n",
      "    5.15816272e-03   4.31156307e-03   7.43721177e-03  -1.39749323e-14\n",
      "   -1.33901374e-02  -3.60095996e-03  -2.06705156e-02]]\n"
     ]
    },
    {
     "data": {
      "text/plain": [
       "<matplotlib.axes._subplots.AxesSubplot at 0xe6bf1518>"
      ]
     },
     "execution_count": 27,
     "metadata": {},
     "output_type": "execute_result"
    },
    {
     "data": {
      "image/png": "[encoded data removed]",
      "text/plain": [
       "<matplotlib.figure.Figure at 0xb47c6978>"
      ]
     },
     "metadata": {},
     "output_type": "display_data"
    }
   ],
   "source": [
    "print 'Coefficients', svm_batch.coef_\n",
    "weights = pd.Series(svm_batch.coef_[0],index=loan_df_finished.columns)\n",
    "weights.plot(kind='bar', figsize=(14,6))"
   ]
  },
  {
   "cell_type": "markdown",
   "metadata": {},
   "source": [
    "As can be seen from the above analysis using Batch Gradient Descent, the funded_amnt and total_payment have the highest importance, just as in the Stochastic Gradient Descent. The same features are just as important in both of the models. Both models also had similar accuracy scores with the Batch Gradient Descent model having an accuracy of 98.53% compared to a max accuracy of the SGD (with additional factors taken into account) of 98.8%. The difference between these models is the length of time needed to run them. The Batch gradient takes a much, much longer time to run, even on the subsampled dataset as compared to the SGD. In this case, we would most likely choose the SGD since they both provide similar results, but the SGD runs significantly faster."
   ]
  },
  {
   "cell_type": "code",
   "execution_count": null,
   "metadata": {
    "collapsed": true
   },
   "outputs": [],
   "source": []
  }
 ],
 "metadata": {
  "kernelspec": {
   "display_name": "Python 2",
   "language": "python",
   "name": "python2"
  },
  "language_info": {
   "codemirror_mode": {
    "name": "ipython",
    "version": 2
   },
   "file_extension": ".py",
   "mimetype": "text/x-python",
   "name": "python",
   "nbconvert_exporter": "python",
   "pygments_lexer": "ipython2",
   "version": "2.7.11"
  }
 },
 "nbformat": 4,
 "nbformat_minor": 0
}
