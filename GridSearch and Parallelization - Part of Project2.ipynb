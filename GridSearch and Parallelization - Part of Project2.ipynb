{
 "cells": [
  {
   "cell_type": "code",
   "execution_count": 1,
   "metadata": {
    "collapsed": false
   },
   "outputs": [
    {
     "data": {
      "text/plain": [
       "'C:\\\\Users\\\\emrijai\\\\Documents\\\\IPython Notebooks\\\\MS7331\\\\Project1\\\\MSDS7331_Project1'"
      ]
     },
     "execution_count": 1,
     "metadata": {},
     "output_type": "execute_result"
    }
   ],
   "source": [
    "import os\n",
    "os.chdir('C:/Users/emrijai/Documents/IPython Notebooks/MS7331/Project1/MSDS7331_Project1')\n",
    "os.getcwd()"
   ]
  },
  {
   "cell_type": "code",
   "execution_count": 2,
   "metadata": {
    "collapsed": false
   },
   "outputs": [
    {
     "name": "stdout",
     "output_type": "stream",
     "text": [
      "<class 'pandas.core.frame.DataFrame'>\n",
      "Int64Index: 71265 entries, 0 to 71375\n",
      "Data columns (total 53 columns):\n",
      "funded_amnt                        71265 non-null int64\n",
      "term                               71265 non-null int64\n",
      "installment                        71265 non-null float64\n",
      "annual_inc                         71265 non-null float64\n",
      "dti                                71265 non-null float64\n",
      "delinq_2yrs                        71265 non-null float64\n",
      "inq_last_6mths                     71265 non-null float64\n",
      "open_acc                           71265 non-null float64\n",
      "total_acc                          71265 non-null float64\n",
      "acc_now_delinq                     71265 non-null float64\n",
      "grade_A                            71265 non-null float64\n",
      "grade_B                            71265 non-null float64\n",
      "grade_C                            71265 non-null float64\n",
      "grade_D                            71265 non-null float64\n",
      "grade_E                            71265 non-null float64\n",
      "grade_F                            71265 non-null float64\n",
      "grade_G                            71265 non-null float64\n",
      "Employ_1 year                      71265 non-null float64\n",
      "Employ_10+ years                   71265 non-null float64\n",
      "Employ_2 years                     71265 non-null float64\n",
      "Employ_3 years                     71265 non-null float64\n",
      "Employ_4 years                     71265 non-null float64\n",
      "Employ_5 years                     71265 non-null float64\n",
      "Employ_6 years                     71265 non-null float64\n",
      "Employ_7 years                     71265 non-null float64\n",
      "Employ_8 years                     71265 non-null float64\n",
      "Employ_9 years                     71265 non-null float64\n",
      "Employ_< 1 year                    71265 non-null float64\n",
      "Employ_n/a                         71265 non-null float64\n",
      "Int_Rate_Range                     71265 non-null category\n",
      "Loan_Class                         71265 non-null float64\n",
      "Verify_Status                      71265 non-null float64\n",
      "Home_MORTGAGE                      71265 non-null float64\n",
      "Home_NONE                          71265 non-null float64\n",
      "Home_OTHER                         71265 non-null float64\n",
      "Home_OWN                           71265 non-null float64\n",
      "Home_RENT                          71265 non-null float64\n",
      "Loan_Purpose_car                   71265 non-null float64\n",
      "Loan_Purpose_credit_card           71265 non-null float64\n",
      "Loan_Purpose_debt_consolidation    71265 non-null float64\n",
      "Loan_Purpose_educational           71265 non-null float64\n",
      "Loan_Purpose_home_improvement      71265 non-null float64\n",
      "Loan_Purpose_house                 71265 non-null float64\n",
      "Loan_Purpose_major_purchase        71265 non-null float64\n",
      "Loan_Purpose_medical               71265 non-null float64\n",
      "Loan_Purpose_moving                71265 non-null float64\n",
      "Loan_Purpose_other                 71265 non-null float64\n",
      "Loan_Purpose_renewable_energy      71265 non-null float64\n",
      "Loan_Purpose_small_business        71265 non-null float64\n",
      "Loan_Purpose_vacation              71265 non-null float64\n",
      "Loan_Purpose_wedding               71265 non-null float64\n",
      "Payment_rate                       71265 non-null float64\n",
      "Payment_ratio                      71265 non-null float64\n",
      "dtypes: category(1), float64(50), int64(2)\n",
      "memory usage: 28.9 MB\n"
     ]
    }
   ],
   "source": [
    "import pandas as pd\n",
    "import numpy as np\n",
    "import copy\n",
    "\n",
    "import warnings\n",
    "warnings.simplefilter('ignore', DeprecationWarning)\n",
    "warnings.simplefilter('ignore', FutureWarning)\n",
    "warnings.simplefilter(\"ignore\")\n",
    "\n",
    "#Bring in data set\n",
    "loan_df = pd.read_csv('LoanData/loanData_Small.csv')\n",
    "\n",
    "#Remove unwanted attributes from the data set based on specific criteria\n",
    "for col in ['id','funded_amnt_inv','sub_grade','emp_title','pymnt_plan','url','title','zip_code','earliest_cr_line',\n",
    "            'mths_since_last_delinq','mths_since_last_record','pub_rec','revol_bal','revol_util',\n",
    "            'initial_list_status','out_prncp_inv','total_pymnt_inv','recoveries','collection_recovery_fee',\n",
    "            'last_pymnt_amnt','next_pymnt_d','last_credit_pull_d','collections_12_mths_ex_med','policy_code','application_type',\n",
    "            'annual_inc_joint','dti_joint','verification_status_joint','open_acc_6m','open_il_6m','open_il_12m','open_il_24m',\n",
    "            'mths_since_rcnt_il','total_bal_il','il_util','open_rv_12m','open_rv_24m','max_bal_bc','all_util',\n",
    "            'total_rev_hi_lim','inq_fi','total_cu_tl','inq_last_12m', 'mths_since_last_major_derog', 'desc', 'addr_state', 'tot_coll_amt', 'tot_cur_bal', 'member_id', 'total_rec_prncp', 'total_rec_int',\n",
    "           'total_rec_late_fee', 'loan_amnt', 'out_prncp']:\n",
    "    if col in loan_df:\n",
    "        del loan_df[col]\n",
    "\n",
    "#Create new variables for classification\n",
    "#Modify term to be integer for easier analysis\n",
    "loan_df = loan_df.replace(to_replace=\" 36 months\", value=36)\n",
    "loan_df = loan_df.replace(to_replace=\" 60 months\", value=60)\n",
    "\n",
    "#Impute missing data values with median\n",
    "for col in ['annual_inc', 'delinq_2yrs', 'inq_last_6mths', 'open_acc', 'acc_now_delinq']:\n",
    "    df_temp = copy.deepcopy(loan_df[col])\n",
    "    df_temp = df_temp.replace(to_replace=np.nan, value=df_temp.median())\n",
    "    loan_df[col] = df_temp\n",
    "    \n",
    "#Numerical classification of grade\n",
    "tmp_df = pd.get_dummies(loan_df.grade,prefix='grade')\n",
    "loan_df = pd.concat((loan_df,tmp_df),axis=1) # add back into the dataframe\n",
    "\n",
    "if \"grade\" in loan_df:\n",
    "    del loan_df[\"grade\"]\n",
    "    \n",
    "#Numerical classification of employment length\n",
    "tmp_df = pd.get_dummies(loan_df.emp_length,prefix='Employ')\n",
    "loan_df = pd.concat((loan_df,tmp_df),axis=1) # add back into the dataframe\n",
    "\n",
    "if \"emp_length\" in loan_df:\n",
    "    del loan_df[\"emp_length\"]\n",
    "\n",
    "#Range of interest rates\n",
    "loan_df['Int_Rate_Range'] = pd.cut(loan_df.int_rate, [0, 5,10,15,20,25, 30], 6, labels=[0, 1, 2, 3, 4, 5])\n",
    "\n",
    "if \"int_rate\" in loan_df:\n",
    "    del loan_df[\"int_rate\"]\n",
    "\n",
    "#Nominal classification of loan_status\n",
    "loan_df.loc[loan_df['loan_status'] == 'Charged Off' , 'Loan_Class'] = 0\n",
    "loan_df.loc[loan_df['loan_status'] == 'Default' , 'Loan_Class'] = 0\n",
    "loan_df.loc[loan_df['loan_status'] == 'Late (31-120 days)' , 'Loan_Class'] = 0\n",
    "loan_df.loc[loan_df['loan_status'] == 'Late (16-30 days)' , 'Loan_Class'] = 0\n",
    "loan_df.loc[loan_df['loan_status'] == 'Does not meet the credit policy. Status:Charged Off' , 'Loan_Class'] = 0\n",
    "\n",
    "loan_df.loc[loan_df['loan_status'] == 'Fully Paid' , 'Loan_Class'] = 1\n",
    "loan_df.loc[loan_df['loan_status'] == 'Does not meet the credit policy. Status:Fully Paid' , 'Loan_Class'] = 1\n",
    "\n",
    "loan_df.loc[loan_df['loan_status'] == 'Current' , 'Loan_Class'] = 1\n",
    "loan_df.loc[loan_df['loan_status'] == 'In Grace Period' , 'Loan_Class'] = 1\n",
    "loan_df.loc[loan_df['loan_status'] == 'Issued' , 'Loan_Class'] = 1\n",
    "\n",
    "#Secondary classification of loan class for further analysis of data (used for new data frames)\n",
    "# comparing the historical data (good/bad loans) to current data (loans still in progress)\n",
    "# Loans are classified as 'Bad' if loans are bad\n",
    "loan_df.loc[loan_df['loan_status'] == 'Charged Off' , 'Loan_Class2'] = 'Bad'\n",
    "loan_df.loc[loan_df['loan_status'] == 'Default' , 'Loan_Class2'] = 'Bad'\n",
    "loan_df.loc[loan_df['loan_status'] == 'Late (31-120 days)' , 'Loan_Class2'] = 'Bad'\n",
    "loan_df.loc[loan_df['loan_status'] == 'Late (16-30 days)' , 'Loan_Class2'] = 'Bad'\n",
    "loan_df.loc[loan_df['loan_status'] == 'Does not meet the credit policy. Status:Charged Off' , 'Loan_Class2'] = 'Bad'\n",
    "# Loans are classified as 'Good' if loans are good\n",
    "loan_df.loc[loan_df['loan_status'] == 'Fully Paid' , 'Loan_Class2'] = 'Good'\n",
    "loan_df.loc[loan_df['loan_status'] == 'Does not meet the credit policy. Status:Fully Paid' , 'Loan_Class2'] = 'Good'\n",
    "# Loans are classified as 'Current' if loans are current/still in progress\n",
    "loan_df.loc[loan_df['loan_status'] == 'Current' , 'Loan_Class2'] = 'Current'\n",
    "loan_df.loc[loan_df['loan_status'] == 'In Grace Period' , 'Loan_Class2'] = 'Current'\n",
    "loan_df.loc[loan_df['loan_status'] == 'Issued' , 'Loan_Class2'] = 'Current'\n",
    "\n",
    "if \"loan_status\" in loan_df:\n",
    "    del loan_df[\"loan_status\"]\n",
    "\n",
    "#Nominal classification of verification status\n",
    "loan_df.loc[loan_df['verification_status'] == 'Verified', 'Verify_Status'] = 1\n",
    "loan_df.loc[loan_df['verification_status'] == 'Source Verified', 'Verify_Status'] = 1\n",
    "loan_df.loc[loan_df['verification_status'] == 'Not Verified', 'Verify_Status'] = 0\n",
    "\n",
    "if \"verification_status\" in loan_df:\n",
    "    del loan_df[\"verification_status\"]\n",
    "\n",
    "#Nominal classification of home ownership\n",
    "tmp_df = pd.get_dummies(loan_df.home_ownership,prefix='Home')\n",
    "loan_df = pd.concat((loan_df,tmp_df),axis=1) # add back into the dataframe\n",
    "\n",
    "if \"home_ownership\" in loan_df:\n",
    "    del loan_df[\"home_ownership\"]\n",
    "\n",
    "#Impute missing data values with median\n",
    "for col in ['total_acc']:\n",
    "    df_temp = copy.deepcopy(loan_df[col])\n",
    "    df_temp = df_temp.replace(to_replace=np.nan, value= 0 )\n",
    "    loan_df[col] = df_temp    \n",
    "\n",
    "for col in ['total_pymnt']:\n",
    "    df_temp = copy.deepcopy(loan_df[col])\n",
    "    df_temp = df_temp.replace(to_replace=np.nan, value= 0 )\n",
    "    loan_df[col] = df_temp \n",
    "   \n",
    "\n",
    "tmp_df = pd.get_dummies(loan_df.purpose,prefix='Loan_Purpose')\n",
    "loan_df = pd.concat((loan_df,tmp_df),axis=1)\n",
    "\n",
    "if 'purpose' in loan_df:\n",
    "    del loan_df['purpose']\n",
    "    \n",
    "\n",
    "loan_df = loan_df.dropna()\n",
    "\n",
    "from datetime import datetime\n",
    "loan_df['duration_paid'] =  (pd.to_datetime(loan_df['last_pymnt_d']) - pd.to_datetime(loan_df['issue_d']))\n",
    "\n",
    "loan_df['Count_Days'] =  loan_df['duration_paid'].dt.days\n",
    "loan_df['Payment_rate'] =  loan_df['total_pymnt'] / (loan_df['Count_Days']+1)*30\n",
    "loan_df['Payment_ratio'] = loan_df['Payment_rate']/ loan_df['installment']\n",
    "\n",
    "loan_df = loan_df.dropna()\n",
    "\n",
    "if \"issue_d\" in loan_df:\n",
    "    del loan_df[\"issue_d\"]\n",
    "if \"last_pymnt_d\" in loan_df:\n",
    "    del loan_df[\"last_pymnt_d\"]\n",
    "if \"total_pymnt\" in loan_df:\n",
    "    del loan_df[\"total_pymnt\"]\n",
    "if \"duration_paid\" in loan_df:\n",
    "    del loan_df[\"duration_paid\"]\n",
    "if \"Count_Days\" in loan_df:\n",
    "    del loan_df['Count_Days']\n",
    "    \n",
    "# Create separate data frames for future analysis and breakdown\n",
    "loan_df_unfinished = loan_df[loan_df['Loan_Class2'] == 'Current'] #Data of uncompleted loans\n",
    "loan_df_finished = loan_df[(loan_df['Loan_Class2'] == 'Bad') | (loan_df['Loan_Class2']=='Good')] #Data of completed loans\n",
    "\n",
    "#loan_df.copy()\n",
    "\n",
    "if \"Loan_Class2\" in loan_df:\n",
    "    del loan_df[\"Loan_Class2\"]\n",
    "    \n",
    "loan_df.info()"
   ]
  },
  {
   "cell_type": "code",
   "execution_count": 3,
   "metadata": {
    "collapsed": true
   },
   "outputs": [],
   "source": [
    "from sklearn.cross_validation import ShuffleSplit, StratifiedKFold\n",
    "from sklearn.linear_model import LogisticRegression\n",
    "from sklearn import metrics as mt\n",
    "from sklearn.preprocessing import StandardScaler\n",
    "from sklearn.linear_model import SGDClassifier\n",
    "\n",
    "from matplotlib import pyplot as plt\n",
    "\n",
    "\n",
    "# Split our data frame into our classification of Loan_Class and the rest of the data set\n",
    "if 'Loan_Class' in loan_df:\n",
    "    y = loan_df['Loan_Class'].values\n",
    "    del loan_df['Loan_Class']\n",
    "    X = loan_df.values"
   ]
  },
  {
   "cell_type": "markdown",
   "metadata": {},
   "source": [
    "Additionally we created a small data set 'subsampled_df' to test multiple algorithms using Gridsearch and Pipelining in order to find the best combination of the parameters set and/or Average Voting of all best possible algorithms together."
   ]
  },
  {
   "cell_type": "code",
   "execution_count": 4,
   "metadata": {
    "collapsed": true
   },
   "outputs": [],
   "source": [
    "# Add column to determine if loan is good or bad based on classification in data set\n",
    "loan_df_finished['isGoodLoan'] = loan_df_finished['Loan_Class2'] == 'Good'\n",
    "loan_df_finished.isGoodLoan = loan_df_finished.isGoodLoan.astype(np.int)\n",
    "\n",
    "\n",
    "import pandas\n",
    "# Randomly sample X% of your dataframe for future use (We will use small subset of data for SVM (Batch) classification)\n",
    "subsampled_df = loan_df_finished.copy().sample(frac=0.01)\n",
    "\n",
    "#Remove Loan_Class and Loan_Class2 from the data frame so they are no longer observed for classification\n",
    "if \"Loan_Class\" in loan_df_finished:\n",
    "    del loan_df_finished[\"Loan_Class\"]\n",
    "if \"Loan_Class2\" in loan_df_finished:\n",
    "    del loan_df_finished[\"Loan_Class2\"]\n",
    "    \n",
    "#Remove Loan_Class and Loan_Class2 from the data frame so they are no longer observed for classification\n",
    "if \"Loan_Class\" in subsampled_df:\n",
    "    del subsampled_df[\"Loan_Class\"]\n",
    "if \"Loan_Class2\" in subsampled_df:\n",
    "    del subsampled_df[\"Loan_Class2\"]"
   ]
  },
  {
   "cell_type": "code",
   "execution_count": 5,
   "metadata": {
    "collapsed": false,
    "scrolled": true
   },
   "outputs": [
    {
     "name": "stdout",
     "output_type": "stream",
     "text": [
      "(554L, 52L)\n",
      "554\n"
     ]
    }
   ],
   "source": [
    "# Split the data into our x and y matrices for testing\n",
    "if 'isGoodLoan' in subsampled_df:\n",
    "    updated_subsampled_y = subsampled_df['isGoodLoan'].values\n",
    "    del subsampled_df['isGoodLoan']\n",
    "    updated_subsampled_X = subsampled_df.values\n",
    "\n",
    "# Create a new Shuffle split on the narrowed classification data\n",
    "num_cv_iterations = 5\n",
    "num_instances = len(updated_subsampled_y)\n",
    "updated_cv_obj_subsampled = ShuffleSplit(n = num_instances, n_iter = num_cv_iterations, test_size = 0.2)\n",
    "print updated_subsampled_X.shape\n",
    "print updated_subsampled_y.size"
   ]
  },
  {
   "cell_type": "markdown",
   "metadata": {},
   "source": [
    "Since our dataset consists of very large amount of recodrs running on a laptop takes very long. in order to compare the various algorithms and extract the best parameter set for these algorithms we are using smaller 'subsampled_df' dataset.  \n",
    "Split the 'subsampled_df' data into our x and y matrices for testing the performance of multiple algorithms against each other."
   ]
  },
  {
   "cell_type": "code",
   "execution_count": 6,
   "metadata": {
    "collapsed": true
   },
   "outputs": [],
   "source": [
    "from sklearn.cross_validation import train_test_split\n",
    "\n",
    "X_train_updated, X_test_updated, y_train_updated, y_test_updated = \\\n",
    "train_test_split(updated_subsampled_X,updated_subsampled_y, test_size = 0.2, random_state = 1)"
   ]
  },
  {
   "cell_type": "markdown",
   "metadata": {},
   "source": [
    "In the next section we are running multiple algorithms together using pipelining  and comparing their ROC and Precision. We are more interested in precision as our we want to classify and predict the defaulters so that the company can take necessary actions and prevent potential loss in the future"
   ]
  },
  {
   "cell_type": "code",
   "execution_count": 7,
   "metadata": {
    "collapsed": false,
    "scrolled": false
   },
   "outputs": [
    {
     "name": "stdout",
     "output_type": "stream",
     "text": [
      "K-fold cross validation:\n",
      "\n",
      "ROC AUC: 0.68 (+/- 0.07) [Logistic Regression]\n",
      "Precision: 0.86 (+/- 0.01) [Logistic Regression]\n",
      "Recall: 0.89 (+/- 0.00) [Logistic Regression]\n",
      "Accuracy: 0.79 (+/- 0.01) [Logistic Regression]\n",
      "-------\n",
      "ROC AUC: 0.76 (+/- 0.05) [Decision Tree]\n",
      "Precision: 0.86 (+/- 0.01) [Decision Tree]\n",
      "Recall: 0.98 (+/- 0.01) [Decision Tree]\n",
      "Accuracy: 0.85 (+/- 0.02) [Decision Tree]\n",
      "-------\n",
      "ROC AUC: 0.79 (+/- 0.05) [Random Forests]\n",
      "Precision: 0.86 (+/- 0.01) [Random Forests]\n",
      "Recall: 0.97 (+/- 0.02) [Random Forests]\n",
      "Accuracy: 0.84 (+/- 0.01) [Random Forests]\n",
      "-------\n",
      "ROC AUC: 0.59 (+/- 0.03) [AdaBoost_RandomForests]\n",
      "Precision: 0.85 (+/- 0.02) [AdaBoost_RandomForests]\n",
      "Recall: 0.97 (+/- 0.01) [AdaBoost_RandomForests]\n",
      "Accuracy: 0.84 (+/- 0.00) [AdaBoost_RandomForests]\n",
      "-------\n",
      "ROC AUC: 0.72 (+/- 0.05) [Batch-SVM]\n",
      "Precision: 0.85 (+/- 0.02) [Batch-SVM]\n",
      "Recall: 0.92 (+/- 0.04) [Batch-SVM]\n",
      "Accuracy: 0.81 (+/- 0.02) [Batch-SVM]\n",
      "-------\n",
      "ROC AUC: 0.64 (+/- 0.06) [SGD-SVM]\n",
      "Precision: 0.84 (+/- 0.02) [SGD-SVM]\n",
      "Recall: 0.86 (+/- 0.05) [SGD-SVM]\n",
      "Accuracy: 0.72 (+/- 0.02) [SGD-SVM]\n",
      "-------\n",
      "ROC AUC: 0.56 (+/- 0.06) [KNN]\n",
      "Precision: 0.84 (+/- 0.01) [KNN]\n",
      "Recall: 0.88 (+/- 0.03) [KNN]\n",
      "Accuracy: 0.76 (+/- 0.02) [KNN]\n",
      "-------\n",
      "ROC AUC: 0.81 (+/- 0.03) [AdaBoost_DecisionTrees]\n",
      "Precision: 0.86 (+/- 0.01) [AdaBoost_DecisionTrees]\n",
      "Recall: 0.97 (+/- 0.01) [AdaBoost_DecisionTrees]\n",
      "Accuracy: 0.86 (+/- 0.01) [AdaBoost_DecisionTrees]\n",
      "-------\n"
     ]
    }
   ],
   "source": [
    "warnings.simplefilter(\"ignore\")\n",
    "from sklearn.cross_validation import cross_val_score\n",
    "from sklearn.linear_model import LogisticRegression\n",
    "from sklearn.tree import DecisionTreeClassifier\n",
    "from sklearn.neighbors import KNeighborsClassifier\n",
    "from sklearn.ensemble import RandomForestClassifier\n",
    "from sklearn.ensemble import AdaBoostClassifier\n",
    "from sklearn.grid_search import GridSearchCV\n",
    "from sklearn.pipeline import Pipeline\n",
    "from sklearn.metrics import accuracy_score\n",
    "from sklearn.metrics import roc_auc_score\n",
    "from sklearn.svm import SVC\n",
    "from sklearn.linear_model import SGDClassifier\n",
    "import numpy as np\n",
    "\n",
    "clf1 = LogisticRegression(penalty='l2', C=0.0001, random_state=0)\n",
    "clf2 = DecisionTreeClassifier(max_depth=5, criterion='entropy', random_state=0)\n",
    "clf3 = RandomForestClassifier(n_estimators=20, random_state=0)\n",
    "clf4 = AdaBoostClassifier(clf3, algorithm=\"SAMME\", n_estimators=50)\n",
    "clf5 = SVC(kernel = 'linear', C=10, probability=True)\n",
    "clf6 = SGDClassifier(alpha=0.0001,fit_intercept=True, l1_ratio=1.0, learning_rate='optimal', \n",
    "                     penalty='L2', loss='modified_huber')\n",
    "clf7 = KNeighborsClassifier(n_neighbors=4)\n",
    "clf8 = AdaBoostClassifier(clf2, algorithm=\"SAMME\", n_estimators=50)\n",
    "\n",
    "pipe1 = Pipeline([['sc', StandardScaler()],['clf', clf1]])\n",
    "pipe2 = Pipeline([['sc', StandardScaler()],['clf', clf2]])\n",
    "pipe3 = Pipeline([['sc', StandardScaler()],['clf', clf3]])\n",
    "pipe4 = Pipeline([['sc', StandardScaler()],['clf', clf4]])\n",
    "pipe5 = Pipeline([['sc', StandardScaler()],['clf', clf5]])\n",
    "pipe6 = Pipeline([['sc', StandardScaler()],['clf', clf6]])\n",
    "pipe7 = Pipeline([['sc', StandardScaler()],['clf', clf7]])\n",
    "pipe8 = Pipeline([['sc', StandardScaler()],['clf', clf8]])\n",
    "\n",
    "clf_labels = ['Logistic Regression', 'Decision Tree', 'Random Forests', \n",
    "              'AdaBoost_RandomForests', 'Batch-SVM', 'SGD-SVM', 'KNN', 'AdaBoost_DecisionTrees' ]\n",
    "\n",
    "print('K-fold cross validation:\\n')\n",
    "\n",
    "\n",
    "all_clf = [pipe1, pipe2, pipe3, pipe4, pipe5, pipe6, pipe7, pipe8]\n",
    "\n",
    "for clf, label in zip(all_clf, clf_labels):\n",
    "    scores = cross_val_score(estimator=clf, X=X_train_updated, y=y_train_updated, cv=5, scoring='roc_auc')\n",
    "    print(\"ROC AUC: %0.2f (+/- %0.2f) [%s]\" % (scores.mean(), scores.std(), label))\n",
    "    scores = cross_val_score(estimator=clf, X=X_train_updated, y=y_train_updated, cv=3, scoring='precision')\n",
    "    print(\"Precision: %0.2f (+/- %0.2f) [%s]\" % (scores.mean(), scores.std(), label))\n",
    "    scores = cross_val_score(estimator=clf, X=X_train_updated, y=y_train_updated, cv=3, scoring='recall')\n",
    "    print(\"Recall: %0.2f (+/- %0.2f) [%s]\" % (scores.mean(), scores.std(), label))\n",
    "    scores = cross_val_score(estimator=clf, X=X_train_updated, y=y_train_updated, cv=3, scoring='accuracy')\n",
    "    print(\"Accuracy: %0.2f (+/- %0.2f) [%s]\" % (scores.mean(), scores.std(), label))\n",
    "    print ('-------')\n"
   ]
  },
  {
   "cell_type": "markdown",
   "metadata": {},
   "source": [
    "We can print the ROC-AUC to see the performance of each algorithms on the test data set individually. This presents a visual reprasentation of which algorithms are doing how well on the test data set and hence can be used for further algorithm selection and optimization"
   ]
  },
  {
   "cell_type": "code",
   "execution_count": 8,
   "metadata": {
    "collapsed": false,
    "scrolled": false
   },
   "outputs": [
    {
     "data": {
      "image/png": "[encoded data removed]",
      "text/plain": [
       "<matplotlib.figure.Figure at 0x108d2208>"
      ]
     },
     "metadata": {},
     "output_type": "display_data"
    }
   ],
   "source": [
    "from sklearn.metrics import roc_curve\n",
    "from sklearn.metrics import auc\n",
    "%matplotlib inline\n",
    "fig = plt.figure(figsize=(12, 6))\n",
    "colors = ['black', 'orange', 'blue', 'green', 'red', 'brown', 'purple', 'red']\n",
    "linestyles = [':', '--', '-.', '-', ':', '-.', ':', '--']\n",
    "for clf, label, clr, ls \\\n",
    "        in zip(all_clf, \n",
    "               clf_labels, colors, linestyles):\n",
    "\n",
    "    # assuming the label of the positive class is 1\n",
    "    y_pred = clf.fit(X_train_updated, \n",
    "                     y_train_updated).predict_proba(X_test_updated)[:, 1]\n",
    "    fpr, tpr, thresholds = roc_curve(y_true=y_test_updated, \n",
    "                                     y_score=y_pred)\n",
    "    roc_auc = auc(x=fpr, y=tpr)\n",
    "    plt.plot(fpr, tpr, \n",
    "             color=clr, \n",
    "             linestyle=ls, \n",
    "             label='%s (auc = %0.2f)' % (label, roc_auc))\n",
    "\n",
    "plt.legend(loc='lower right')\n",
    "plt.plot([0, 1], [0, 1], \n",
    "         linestyle='--', \n",
    "         color='gray', \n",
    "         linewidth=2)\n",
    "\n",
    "plt.xlim([-0.1, 1.1])\n",
    "plt.ylim([-0.1, 1.1])\n",
    "plt.grid()\n",
    "plt.xlabel('False Positive Rate')\n",
    "plt.ylabel('True Positive Rate')\n",
    "\n",
    "plt.tight_layout()\n",
    "# plt.savefig('./figures/roc.png', dpi=300)\n",
    "plt.show()"
   ]
  },
  {
   "cell_type": "markdown",
   "metadata": {},
   "source": [
    "As we can see from the above ROC-AUC chart, desicion tree, random forests and adaboost all perform pretty well on this data set. Adaboost with Decision trees has the highest Precision, Accuracy and ROC-AUC\n",
    "\n",
    "Next we will parallelize all these algorithms and run a VotingClassifier. the idea of the algorithm is that it allows us to combine different classification algorithms associated with individual weights for confidence. Our goal is to build a stronger meta-classifier that balances out the individual classifiers' weaknesses on a particular dataset.\n",
    "\n",
    "We will use GridSearch for this task to extract out the best parameters for specific estimator/classification algorithms. By this method we can run multiple iterations and pick the best parameter set that gives us the highest metric scopre for example 'Precision ' in our case."
   ]
  },
  {
   "cell_type": "code",
   "execution_count": 9,
   "metadata": {
    "collapsed": false,
    "scrolled": false
   },
   "outputs": [],
   "source": [
    "from sklearn.ensemble import VotingClassifier\n",
    "from sklearn.grid_search import GridSearchCV\n",
    "\n",
    "eclf2 = VotingClassifier(estimators=[('lr', pipe1), ('dt', pipe2), ('rf', pipe3), ('adarf', pipe4), ('adadt', pipe8)], voting='soft')\n",
    "params = {'lr__clf__C': [100, 0.1, 0.0001], 'lr__clf__penalty': ['l2'], 'dt__clf__max_depth': [3, 5], 'rf__clf__n_estimators':[20, 50], 'adarf__clf__n_estimators': [20, 50], 'adadt__clf__n_estimators': [20, 50]}\n",
    "#params = {'lr__clf__C': [0.001, 0.0001]}\n",
    "#params = {'lr__clf__C': [0.0001], 'lr__clf__penalty': ['l1'], 'dt__clf__max_depth': [5], 'rf__clf__n_estimators':[20], 'ada__clf__n_estimators': [20], 'ada__clf__algorithm': ['SAMME']}\n",
    "\n",
    "#eclf2 = eclf2.fit(X, y)\n",
    "\n",
    "grid = GridSearchCV(estimator=eclf2, param_grid=params, cv=5, scoring='precision')\n",
    "grid = grid.fit(X_train_updated, y_train_updated)\n"
   ]
  },
  {
   "cell_type": "raw",
   "metadata": {},
   "source": [
    "By calling the attributes of the GridSearchCV as mentioned below we can find the best parameters of the model, the best accuracy score and also the estimator that gave the highest score\n",
    "\n",
    "best_estimator_ : Estimator that was chosen by the search, i.e. estimator which gave highest score (or smallest loss if specified) on the left out data. \n",
    "\n",
    "best_score_ : Score of best_estimator on the left out data.\n",
    "\n",
    "best_params_ : Parameter setting that gave the best results on the hold out data.\n"
   ]
  },
  {
   "cell_type": "code",
   "execution_count": 10,
   "metadata": {
    "collapsed": false,
    "scrolled": false
   },
   "outputs": [
    {
     "name": "stdout",
     "output_type": "stream",
     "text": [
      "0.850+/-0.01 {'adadt__clf__n_estimators': 20, 'adarf__clf__n_estimators': 20, 'dt__clf__max_depth': 3, 'lr__clf__penalty': 'l2', 'rf__clf__n_estimators': 20, 'lr__clf__C': 100}\n",
      "0.853+/-0.01 {'adadt__clf__n_estimators': 20, 'adarf__clf__n_estimators': 20, 'dt__clf__max_depth': 3, 'lr__clf__penalty': 'l2', 'rf__clf__n_estimators': 50, 'lr__clf__C': 100}\n",
      "0.846+/-0.01 {'adadt__clf__n_estimators': 20, 'adarf__clf__n_estimators': 20, 'dt__clf__max_depth': 3, 'lr__clf__penalty': 'l2', 'rf__clf__n_estimators': 20, 'lr__clf__C': 0.1}\n",
      "0.844+/-0.01 {'adadt__clf__n_estimators': 20, 'adarf__clf__n_estimators': 20, 'dt__clf__max_depth': 3, 'lr__clf__penalty': 'l2', 'rf__clf__n_estimators': 50, 'lr__clf__C': 0.1}\n",
      "0.844+/-0.01 {'adadt__clf__n_estimators': 20, 'adarf__clf__n_estimators': 20, 'dt__clf__max_depth': 3, 'lr__clf__penalty': 'l2', 'rf__clf__n_estimators': 20, 'lr__clf__C': 0.0001}\n",
      "0.844+/-0.01 {'adadt__clf__n_estimators': 20, 'adarf__clf__n_estimators': 20, 'dt__clf__max_depth': 3, 'lr__clf__penalty': 'l2', 'rf__clf__n_estimators': 50, 'lr__clf__C': 0.0001}\n",
      "0.860+/-0.01 {'adadt__clf__n_estimators': 20, 'adarf__clf__n_estimators': 20, 'dt__clf__max_depth': 5, 'lr__clf__penalty': 'l2', 'rf__clf__n_estimators': 20, 'lr__clf__C': 100}\n",
      "0.858+/-0.01 {'adadt__clf__n_estimators': 20, 'adarf__clf__n_estimators': 20, 'dt__clf__max_depth': 5, 'lr__clf__penalty': 'l2', 'rf__clf__n_estimators': 50, 'lr__clf__C': 100}\n",
      "0.849+/-0.01 {'adadt__clf__n_estimators': 20, 'adarf__clf__n_estimators': 20, 'dt__clf__max_depth': 5, 'lr__clf__penalty': 'l2', 'rf__clf__n_estimators': 20, 'lr__clf__C': 0.1}\n",
      "0.852+/-0.01 {'adadt__clf__n_estimators': 20, 'adarf__clf__n_estimators': 20, 'dt__clf__max_depth': 5, 'lr__clf__penalty': 'l2', 'rf__clf__n_estimators': 50, 'lr__clf__C': 0.1}\n",
      "0.850+/-0.01 {'adadt__clf__n_estimators': 20, 'adarf__clf__n_estimators': 20, 'dt__clf__max_depth': 5, 'lr__clf__penalty': 'l2', 'rf__clf__n_estimators': 20, 'lr__clf__C': 0.0001}\n",
      "0.851+/-0.01 {'adadt__clf__n_estimators': 20, 'adarf__clf__n_estimators': 20, 'dt__clf__max_depth': 5, 'lr__clf__penalty': 'l2', 'rf__clf__n_estimators': 50, 'lr__clf__C': 0.0001}\n",
      "0.850+/-0.01 {'adadt__clf__n_estimators': 20, 'adarf__clf__n_estimators': 50, 'dt__clf__max_depth': 3, 'lr__clf__penalty': 'l2', 'rf__clf__n_estimators': 20, 'lr__clf__C': 100}\n",
      "0.848+/-0.01 {'adadt__clf__n_estimators': 20, 'adarf__clf__n_estimators': 50, 'dt__clf__max_depth': 3, 'lr__clf__penalty': 'l2', 'rf__clf__n_estimators': 50, 'lr__clf__C': 100}\n",
      "0.844+/-0.01 {'adadt__clf__n_estimators': 20, 'adarf__clf__n_estimators': 50, 'dt__clf__max_depth': 3, 'lr__clf__penalty': 'l2', 'rf__clf__n_estimators': 20, 'lr__clf__C': 0.1}\n",
      "0.848+/-0.01 {'adadt__clf__n_estimators': 20, 'adarf__clf__n_estimators': 50, 'dt__clf__max_depth': 3, 'lr__clf__penalty': 'l2', 'rf__clf__n_estimators': 50, 'lr__clf__C': 0.1}\n",
      "0.844+/-0.01 {'adadt__clf__n_estimators': 20, 'adarf__clf__n_estimators': 50, 'dt__clf__max_depth': 3, 'lr__clf__penalty': 'l2', 'rf__clf__n_estimators': 20, 'lr__clf__C': 0.0001}\n",
      "0.844+/-0.01 {'adadt__clf__n_estimators': 20, 'adarf__clf__n_estimators': 50, 'dt__clf__max_depth': 3, 'lr__clf__penalty': 'l2', 'rf__clf__n_estimators': 50, 'lr__clf__C': 0.0001}\n",
      "0.858+/-0.01 {'adadt__clf__n_estimators': 20, 'adarf__clf__n_estimators': 50, 'dt__clf__max_depth': 5, 'lr__clf__penalty': 'l2', 'rf__clf__n_estimators': 20, 'lr__clf__C': 100}\n",
      "0.856+/-0.01 {'adadt__clf__n_estimators': 20, 'adarf__clf__n_estimators': 50, 'dt__clf__max_depth': 5, 'lr__clf__penalty': 'l2', 'rf__clf__n_estimators': 50, 'lr__clf__C': 100}\n",
      "0.851+/-0.01 {'adadt__clf__n_estimators': 20, 'adarf__clf__n_estimators': 50, 'dt__clf__max_depth': 5, 'lr__clf__penalty': 'l2', 'rf__clf__n_estimators': 20, 'lr__clf__C': 0.1}\n",
      "0.852+/-0.01 {'adadt__clf__n_estimators': 20, 'adarf__clf__n_estimators': 50, 'dt__clf__max_depth': 5, 'lr__clf__penalty': 'l2', 'rf__clf__n_estimators': 50, 'lr__clf__C': 0.1}\n",
      "0.848+/-0.01 {'adadt__clf__n_estimators': 20, 'adarf__clf__n_estimators': 50, 'dt__clf__max_depth': 5, 'lr__clf__penalty': 'l2', 'rf__clf__n_estimators': 20, 'lr__clf__C': 0.0001}\n",
      "0.850+/-0.01 {'adadt__clf__n_estimators': 20, 'adarf__clf__n_estimators': 50, 'dt__clf__max_depth': 5, 'lr__clf__penalty': 'l2', 'rf__clf__n_estimators': 50, 'lr__clf__C': 0.0001}\n",
      "0.850+/-0.01 {'adadt__clf__n_estimators': 50, 'adarf__clf__n_estimators': 20, 'dt__clf__max_depth': 3, 'lr__clf__penalty': 'l2', 'rf__clf__n_estimators': 20, 'lr__clf__C': 100}\n",
      "0.846+/-0.01 {'adadt__clf__n_estimators': 50, 'adarf__clf__n_estimators': 20, 'dt__clf__max_depth': 3, 'lr__clf__penalty': 'l2', 'rf__clf__n_estimators': 50, 'lr__clf__C': 100}\n",
      "0.844+/-0.01 {'adadt__clf__n_estimators': 50, 'adarf__clf__n_estimators': 20, 'dt__clf__max_depth': 3, 'lr__clf__penalty': 'l2', 'rf__clf__n_estimators': 20, 'lr__clf__C': 0.1}\n",
      "0.844+/-0.01 {'adadt__clf__n_estimators': 50, 'adarf__clf__n_estimators': 20, 'dt__clf__max_depth': 3, 'lr__clf__penalty': 'l2', 'rf__clf__n_estimators': 50, 'lr__clf__C': 0.1}\n",
      "0.845+/-0.01 {'adadt__clf__n_estimators': 50, 'adarf__clf__n_estimators': 20, 'dt__clf__max_depth': 3, 'lr__clf__penalty': 'l2', 'rf__clf__n_estimators': 20, 'lr__clf__C': 0.0001}\n",
      "0.844+/-0.01 {'adadt__clf__n_estimators': 50, 'adarf__clf__n_estimators': 20, 'dt__clf__max_depth': 3, 'lr__clf__penalty': 'l2', 'rf__clf__n_estimators': 50, 'lr__clf__C': 0.0001}\n",
      "0.855+/-0.01 {'adadt__clf__n_estimators': 50, 'adarf__clf__n_estimators': 20, 'dt__clf__max_depth': 5, 'lr__clf__penalty': 'l2', 'rf__clf__n_estimators': 20, 'lr__clf__C': 100}\n",
      "0.856+/-0.01 {'adadt__clf__n_estimators': 50, 'adarf__clf__n_estimators': 20, 'dt__clf__max_depth': 5, 'lr__clf__penalty': 'l2', 'rf__clf__n_estimators': 50, 'lr__clf__C': 100}\n",
      "0.851+/-0.01 {'adadt__clf__n_estimators': 50, 'adarf__clf__n_estimators': 20, 'dt__clf__max_depth': 5, 'lr__clf__penalty': 'l2', 'rf__clf__n_estimators': 20, 'lr__clf__C': 0.1}\n",
      "0.852+/-0.01 {'adadt__clf__n_estimators': 50, 'adarf__clf__n_estimators': 20, 'dt__clf__max_depth': 5, 'lr__clf__penalty': 'l2', 'rf__clf__n_estimators': 50, 'lr__clf__C': 0.1}\n",
      "0.851+/-0.01 {'adadt__clf__n_estimators': 50, 'adarf__clf__n_estimators': 20, 'dt__clf__max_depth': 5, 'lr__clf__penalty': 'l2', 'rf__clf__n_estimators': 20, 'lr__clf__C': 0.0001}\n",
      "0.851+/-0.01 {'adadt__clf__n_estimators': 50, 'adarf__clf__n_estimators': 20, 'dt__clf__max_depth': 5, 'lr__clf__penalty': 'l2', 'rf__clf__n_estimators': 50, 'lr__clf__C': 0.0001}\n",
      "0.849+/-0.01 {'adadt__clf__n_estimators': 50, 'adarf__clf__n_estimators': 50, 'dt__clf__max_depth': 3, 'lr__clf__penalty': 'l2', 'rf__clf__n_estimators': 20, 'lr__clf__C': 100}\n",
      "0.853+/-0.01 {'adadt__clf__n_estimators': 50, 'adarf__clf__n_estimators': 50, 'dt__clf__max_depth': 3, 'lr__clf__penalty': 'l2', 'rf__clf__n_estimators': 50, 'lr__clf__C': 100}\n",
      "0.844+/-0.01 {'adadt__clf__n_estimators': 50, 'adarf__clf__n_estimators': 50, 'dt__clf__max_depth': 3, 'lr__clf__penalty': 'l2', 'rf__clf__n_estimators': 20, 'lr__clf__C': 0.1}\n",
      "0.846+/-0.01 {'adadt__clf__n_estimators': 50, 'adarf__clf__n_estimators': 50, 'dt__clf__max_depth': 3, 'lr__clf__penalty': 'l2', 'rf__clf__n_estimators': 50, 'lr__clf__C': 0.1}\n",
      "0.845+/-0.01 {'adadt__clf__n_estimators': 50, 'adarf__clf__n_estimators': 50, 'dt__clf__max_depth': 3, 'lr__clf__penalty': 'l2', 'rf__clf__n_estimators': 20, 'lr__clf__C': 0.0001}\n",
      "0.845+/-0.01 {'adadt__clf__n_estimators': 50, 'adarf__clf__n_estimators': 50, 'dt__clf__max_depth': 3, 'lr__clf__penalty': 'l2', 'rf__clf__n_estimators': 50, 'lr__clf__C': 0.0001}\n",
      "0.855+/-0.01 {'adadt__clf__n_estimators': 50, 'adarf__clf__n_estimators': 50, 'dt__clf__max_depth': 5, 'lr__clf__penalty': 'l2', 'rf__clf__n_estimators': 20, 'lr__clf__C': 100}\n",
      "0.856+/-0.01 {'adadt__clf__n_estimators': 50, 'adarf__clf__n_estimators': 50, 'dt__clf__max_depth': 5, 'lr__clf__penalty': 'l2', 'rf__clf__n_estimators': 50, 'lr__clf__C': 100}\n",
      "0.849+/-0.01 {'adadt__clf__n_estimators': 50, 'adarf__clf__n_estimators': 50, 'dt__clf__max_depth': 5, 'lr__clf__penalty': 'l2', 'rf__clf__n_estimators': 20, 'lr__clf__C': 0.1}\n",
      "0.852+/-0.01 {'adadt__clf__n_estimators': 50, 'adarf__clf__n_estimators': 50, 'dt__clf__max_depth': 5, 'lr__clf__penalty': 'l2', 'rf__clf__n_estimators': 50, 'lr__clf__C': 0.1}\n",
      "0.850+/-0.01 {'adadt__clf__n_estimators': 50, 'adarf__clf__n_estimators': 50, 'dt__clf__max_depth': 5, 'lr__clf__penalty': 'l2', 'rf__clf__n_estimators': 20, 'lr__clf__C': 0.0001}\n",
      "0.851+/-0.01 {'adadt__clf__n_estimators': 50, 'adarf__clf__n_estimators': 50, 'dt__clf__max_depth': 5, 'lr__clf__penalty': 'l2', 'rf__clf__n_estimators': 50, 'lr__clf__C': 0.0001}\n"
     ]
    }
   ],
   "source": [
    "for params, mean_score, scores in grid.grid_scores_:\n",
    "    print(\"%0.3f+/-%0.2f %r\"\n",
    "            % (mean_score, scores.std() / 2, params))"
   ]
  },
  {
   "cell_type": "code",
   "execution_count": 11,
   "metadata": {
    "collapsed": false
   },
   "outputs": [
    {
     "name": "stdout",
     "output_type": "stream",
     "text": [
      "Best Estimator: VotingClassifier(estimators=[('lr', Pipeline(steps=[['sc', StandardScaler(copy=True, with_mean=True, with_std=True)], ['clf', LogisticRegression(C=100, class_weight=None, dual=False, fit_intercept=True,\n",
      "          intercept_scaling=1, max_iter=100, multi_class='ovr', n_jobs=1,\n",
      "          penalty='l2', random_state=0, ...dom_state=0, splitter='best'),\n",
      "          learning_rate=1.0, n_estimators=20, random_state=None)]]))],\n",
      "         voting='soft', weights=None)\n",
      "======================\n",
      "Test Accuracy: 0.847\n"
     ]
    }
   ],
   "source": [
    "clf = grid.best_estimator_\n",
    "clf.fit(X_train_updated,y_train_updated)\n",
    "print ('Best Estimator: %s' % clf)\n",
    "print ('======================')\n",
    "print ('Test Accuracy: %.3f' % clf.score(X_test_updated, y_test_updated))"
   ]
  },
  {
   "cell_type": "code",
   "execution_count": 12,
   "metadata": {
    "collapsed": false
   },
   "outputs": [
    {
     "name": "stdout",
     "output_type": "stream",
     "text": [
      "Best parameters: {'adadt__clf__n_estimators': 20, 'adarf__clf__n_estimators': 20, 'dt__clf__max_depth': 5, 'lr__clf__penalty': 'l2', 'rf__clf__n_estimators': 20, 'lr__clf__C': 100}\n",
      "Accuracy: 0.86\n"
     ]
    }
   ],
   "source": [
    "print('Best parameters: %s' % grid.best_params_)\n",
    "print('Accuracy: %.2f' % grid.best_score_)"
   ]
  },
  {
   "cell_type": "code",
   "execution_count": null,
   "metadata": {
    "collapsed": true
   },
   "outputs": [],
   "source": []
  }
 ],
 "metadata": {
  "kernelspec": {
   "display_name": "Python 2",
   "language": "python",
   "name": "python2"
  },
  "language_info": {
   "codemirror_mode": {
    "name": "ipython",
    "version": 2
   },
   "file_extension": ".py",
   "mimetype": "text/x-python",
   "name": "python",
   "nbconvert_exporter": "python",
   "pygments_lexer": "ipython2",
   "version": "2.7.11"
  }
 },
 "nbformat": 4,
 "nbformat_minor": 0
}
