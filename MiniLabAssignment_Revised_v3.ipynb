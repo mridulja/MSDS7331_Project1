{
 "cells": [
  {
   "cell_type": "markdown",
   "metadata": {},
   "source": [
    "# Mini Lab\n",
    "\n",
    "## Brett Hallum, Mridul Jain, and Solomon Ndungu\n",
    "\n",
    "The purpose of this project is to use logistic regression and SVM to create a classification model for a loan data. We will use the model to classify loans as good if the loan end up as current, fully paid or in grace period and bad if those laons eventually end up in default, late or charged off.\n",
    "\n",
    "We started by filtering out our unwanted data. A lot of this information was removed in Lab 1 due to missing values, single values for whole set, and a minimal distribution of values. Additionally, we do some imputation to fill in minor missing data values. Finally, we do some nominal classification on some of our data variables for ease of use in classification.\n",
    "\n",
    "We also create two additional data frames, loan_df_finished and loan_df_unfinished, at this point as well. Their purpose and usage will be discussed shortly.\n"
   ]
  },
  {
   "cell_type": "code",
   "execution_count": 1,
   "metadata": {
    "collapsed": false
   },
   "outputs": [
    {
     "data": {
      "text/plain": [
       "'C:\\\\Users\\\\emrijai\\\\Documents\\\\IPython Notebooks\\\\MS7331\\\\Project1\\\\MSDS7331_Project1'"
      ]
     },
     "execution_count": 1,
     "metadata": {},
     "output_type": "execute_result"
    }
   ],
   "source": [
    "import os\n",
    "os.chdir('C:/Users/emrijai/Documents/IPython Notebooks/MS7331/Project1/MSDS7331_Project1')\n",
    "os.getcwd()"
   ]
  },
  {
   "cell_type": "code",
   "execution_count": 2,
   "metadata": {
    "collapsed": false,
    "scrolled": false
   },
   "outputs": [
    {
     "name": "stdout",
     "output_type": "stream",
     "text": [
      "<class 'pandas.core.frame.DataFrame'>\n",
      "RangeIndex: 887379 entries, 0 to 887378\n",
      "Data columns (total 51 columns):\n",
      "funded_amnt                        120128 non-null float64\n",
      "term                               120128 non-null float64\n",
      "annual_inc                         887379 non-null float64\n",
      "dti                                120128 non-null float64\n",
      "delinq_2yrs                        887379 non-null float64\n",
      "inq_last_6mths                     887379 non-null float64\n",
      "open_acc                           887379 non-null float64\n",
      "total_acc                          887379 non-null float64\n",
      "total_pymnt                        120128 non-null float64\n",
      "acc_now_delinq                     887379 non-null float64\n",
      "Grade_A                            887379 non-null float64\n",
      "Grade_B                            887379 non-null float64\n",
      "Grade_C                            887379 non-null float64\n",
      "Grade_D                            887379 non-null float64\n",
      "Grade_E                            887379 non-null float64\n",
      "Grade_F                            887379 non-null float64\n",
      "Grade_G                            887379 non-null float64\n",
      "Employ_1 year                      887379 non-null float64\n",
      "Employ_10+ years                   887379 non-null float64\n",
      "Employ_2 years                     887379 non-null float64\n",
      "Employ_3 years                     887379 non-null float64\n",
      "Employ_4 years                     887379 non-null float64\n",
      "Employ_5 years                     887379 non-null float64\n",
      "Employ_6 years                     887379 non-null float64\n",
      "Employ_7 years                     887379 non-null float64\n",
      "Employ_8 years                     887379 non-null float64\n",
      "Employ_9 years                     887379 non-null float64\n",
      "Employ_< 1 year                    887379 non-null float64\n",
      "Employ_n/a                         887379 non-null float64\n",
      "Int_Rate_Range                     120128 non-null category\n",
      "Loan_Class                         120128 non-null float64\n",
      "Verify_Status                      120128 non-null float64\n",
      "Home_MORTGAGE                      887379 non-null float64\n",
      "Home_NONE                          887379 non-null float64\n",
      "Home_OTHER                         887379 non-null float64\n",
      "Home_OWN                           887379 non-null float64\n",
      "Home_RENT                          887379 non-null float64\n",
      "Loan_Purpose_car                   887379 non-null float64\n",
      "Loan_Purpose_credit_card           887379 non-null float64\n",
      "Loan_Purpose_debt_consolidation    887379 non-null float64\n",
      "Loan_Purpose_educational           887379 non-null float64\n",
      "Loan_Purpose_home_improvement      887379 non-null float64\n",
      "Loan_Purpose_house                 887379 non-null float64\n",
      "Loan_Purpose_major_purchase        887379 non-null float64\n",
      "Loan_Purpose_medical               887379 non-null float64\n",
      "Loan_Purpose_moving                887379 non-null float64\n",
      "Loan_Purpose_other                 887379 non-null float64\n",
      "Loan_Purpose_renewable_energy      887379 non-null float64\n",
      "Loan_Purpose_small_business        887379 non-null float64\n",
      "Loan_Purpose_vacation              887379 non-null float64\n",
      "Loan_Purpose_wedding               887379 non-null float64\n",
      "dtypes: category(1), float64(50)\n",
      "memory usage: 339.4 MB\n",
      "None\n"
     ]
    }
   ],
   "source": [
    "import pandas as pd\n",
    "import numpy as np\n",
    "import copy\n",
    "\n",
    "import warnings\n",
    "warnings.simplefilter('ignore', DeprecationWarning)\n",
    "warnings.simplefilter('ignore', FutureWarning)\n",
    "warnings.simplefilter(\"ignore\")\n",
    "\n",
    "#Bring in data set\n",
    "loan_df = pd.read_csv('LoanData/loanData_Small.csv')\n",
    "\n",
    "#Remove unwanted attributes from the data set based on specific criteria\n",
    "for col in ['id','funded_amnt_inv','sub_grade','emp_title','pymnt_plan','url','title','zip_code','earliest_cr_line',\n",
    "            'mths_since_last_delinq','mths_since_last_record','pub_rec','revol_bal','revol_util',\n",
    "            'initial_list_status','out_prncp_inv','total_pymnt_inv','recoveries','collection_recovery_fee','last_pymnt_d',\n",
    "            'last_pymnt_amnt','next_pymnt_d','last_credit_pull_d','collections_12_mths_ex_med','policy_code','application_type',\n",
    "            'annual_inc_joint','dti_joint','verification_status_joint','open_acc_6m','open_il_6m','open_il_12m','open_il_24m',\n",
    "            'mths_since_rcnt_il','total_bal_il','il_util','open_rv_12m','open_rv_24m','max_bal_bc','all_util',\n",
    "            'total_rev_hi_lim','inq_fi','total_cu_tl','inq_last_12m', 'installment', 'mths_since_last_major_derog', 'desc',\n",
    "           'issue_d', 'addr_state', 'tot_coll_amt', 'tot_cur_bal', 'member_id', 'total_rec_prncp', 'total_rec_int',\n",
    "           'total_rec_late_fee', 'loan_amnt', 'out_prncp']:\n",
    "    if col in loan_df:\n",
    "        del loan_df[col]\n",
    "\n",
    "#Create new variables for classification\n",
    "#Modify term to be integer for easier analysis\n",
    "loan_df = loan_df.replace(to_replace=\" 36 months\", value=36)\n",
    "loan_df = loan_df.replace(to_replace=\" 60 months\", value=60)\n",
    "\n",
    "#Impute missing data values with median\n",
    "for col in ['annual_inc', 'delinq_2yrs', 'inq_last_6mths', 'open_acc', 'acc_now_delinq']:\n",
    "    df_temp = copy.deepcopy(loan_df[col])\n",
    "    df_temp = df_temp.replace(to_replace=np.nan, value=df_temp.median())\n",
    "    loan_df[col] = df_temp\n",
    "    \n",
    "#Numerical classification of grade\n",
    "tmp_df = pd.get_dummies(loan_df.grade,prefix='Grade')\n",
    "loan_df = pd.concat((loan_df,tmp_df),axis=1) # add back into the dataframe\n",
    "\n",
    "if \"grade\" in loan_df:\n",
    "    del loan_df[\"grade\"]\n",
    "    \n",
    "#Numerical classification of employment length\n",
    "tmp_df = pd.get_dummies(loan_df.emp_length,prefix='Employ')\n",
    "loan_df = pd.concat((loan_df,tmp_df),axis=1) # add back into the dataframe\n",
    "\n",
    "if \"emp_length\" in loan_df:\n",
    "    del loan_df[\"emp_length\"]\n",
    "\n",
    "#Range of interest rates\n",
    "loan_df['Int_Rate_Range'] = pd.cut(loan_df.int_rate, [0, 5,10,15,20,25, 30], 6, labels=[0, 1, 2, 3, 4, 5])\n",
    "\n",
    "if \"int_rate\" in loan_df:\n",
    "    del loan_df[\"int_rate\"]\n",
    "\n",
    "#Nominal classification of loan_status\n",
    "loan_df.loc[loan_df['loan_status'] == 'Charged Off' , 'Loan_Class'] = 0\n",
    "loan_df.loc[loan_df['loan_status'] == 'Default' , 'Loan_Class'] = 0\n",
    "loan_df.loc[loan_df['loan_status'] == 'Late (31-120 days)' , 'Loan_Class'] = 0\n",
    "loan_df.loc[loan_df['loan_status'] == 'Late (16-30 days)' , 'Loan_Class'] = 0\n",
    "loan_df.loc[loan_df['loan_status'] == 'Does not meet the credit policy. Status:Charged Off' , 'Loan_Class'] = 0\n",
    "\n",
    "loan_df.loc[loan_df['loan_status'] == 'Fully Paid' , 'Loan_Class'] = 1\n",
    "loan_df.loc[loan_df['loan_status'] == 'Does not meet the credit policy. Status:Fully Paid' , 'Loan_Class'] = 1\n",
    "\n",
    "loan_df.loc[loan_df['loan_status'] == 'Current' , 'Loan_Class'] = 1\n",
    "loan_df.loc[loan_df['loan_status'] == 'In Grace Period' , 'Loan_Class'] = 1\n",
    "loan_df.loc[loan_df['loan_status'] == 'Issued' , 'Loan_Class'] = 1\n",
    "\n",
    "#Secondary classification of loan class for further analysis of data (used for new data frames)\n",
    "# comparing the historical data (good/bad loans) to current data (loans still in progress)\n",
    "# Loans are classified as 'Bad' if loans are bad\n",
    "loan_df.loc[loan_df['loan_status'] == 'Charged Off' , 'Loan_Class2'] = 'Bad'\n",
    "loan_df.loc[loan_df['loan_status'] == 'Default' , 'Loan_Class2'] = 'Bad'\n",
    "loan_df.loc[loan_df['loan_status'] == 'Late (31-120 days)' , 'Loan_Class2'] = 'bad'\n",
    "loan_df.loc[loan_df['loan_status'] == 'Late (16-30 days)' , 'Loan_Class2'] = 'Bad'\n",
    "loan_df.loc[loan_df['loan_status'] == 'Does not meet the credit policy. Status:Charged Off' , 'Loan_Class2'] = 'Bad'\n",
    "# Loans are classified as 'Good' if loans are good\n",
    "loan_df.loc[loan_df['loan_status'] == 'Fully Paid' , 'Loan_Class2'] = 'Good'\n",
    "loan_df.loc[loan_df['loan_status'] == 'Does not meet the credit policy. Status:Fully Paid' , 'Loan_Class2'] = 'Good'\n",
    "# Loans are classified as 'Current' if loans are current/still in progress\n",
    "loan_df.loc[loan_df['loan_status'] == 'Current' , 'Loan_Class2'] = 'Current'\n",
    "loan_df.loc[loan_df['loan_status'] == 'In Grace Period' , 'Loan_Class2'] = 'Current'\n",
    "loan_df.loc[loan_df['loan_status'] == 'Issued' , 'Loan_Class2'] = 'Current'\n",
    "\n",
    "if \"loan_status\" in loan_df:\n",
    "    del loan_df[\"loan_status\"]\n",
    "\n",
    "#Nominal classification of verification status\n",
    "loan_df.loc[loan_df['verification_status'] == 'Verified', 'Verify_Status'] = 1\n",
    "loan_df.loc[loan_df['verification_status'] == 'Source Verified', 'Verify_Status'] = 1\n",
    "loan_df.loc[loan_df['verification_status'] == 'Not Verified', 'Verify_Status'] = 0\n",
    "\n",
    "if \"verification_status\" in loan_df:\n",
    "    del loan_df[\"verification_status\"]\n",
    "\n",
    "#Nominal classification of home ownership\n",
    "tmp_df = pd.get_dummies(loan_df.home_ownership,prefix='Home')\n",
    "loan_df = pd.concat((loan_df,tmp_df),axis=1) # add back into the dataframe\n",
    "\n",
    "if \"home_ownership\" in loan_df:\n",
    "    del loan_df[\"home_ownership\"]\n",
    "\n",
    "#Impute missing data values with median\n",
    "for col in ['total_acc']:\n",
    "    df_temp = copy.deepcopy(loan_df[col])\n",
    "    df_temp = df_temp.replace(to_replace=np.nan, value= 0 )\n",
    "    loan_df[col] = df_temp    \n",
    "\n",
    "    \n",
    "tmp_df = pd.get_dummies(loan_df.purpose,prefix='Loan_Purpose')\n",
    "loan_df = pd.concat((loan_df,tmp_df),axis=1)\n",
    "\n",
    "if 'purpose' in loan_df:\n",
    "    del loan_df['purpose']    \n",
    "    \n",
    "# Create separate data frames for future analysis and breakdown\n",
    "loan_df_unfinished = loan_df[loan_df['Loan_Class2'] == 'Current'] #Data of uncompleted loans\n",
    "loan_df_finished = loan_df[(loan_df['Loan_Class2'] == 'Bad') | (loan_df['Loan_Class2']=='Good')] #Data of completed loans\n",
    "\n",
    "\n",
    "loan_df.copy()\n",
    "\n",
    "if \"Loan_Class2\" in loan_df:\n",
    "    del loan_df[\"Loan_Class2\"]\n",
    "\n",
    "print loan_df.info()"
   ]
  },
  {
   "cell_type": "code",
   "execution_count": 3,
   "metadata": {
    "collapsed": false
   },
   "outputs": [
    {
     "name": "stdout",
     "output_type": "stream",
     "text": [
      "<class 'pandas.core.frame.DataFrame'>\n",
      "Int64Index: 120128 entries, 0 to 120127\n",
      "Data columns (total 51 columns):\n",
      "funded_amnt                        120128 non-null float64\n",
      "term                               120128 non-null float64\n",
      "annual_inc                         120128 non-null float64\n",
      "dti                                120128 non-null float64\n",
      "delinq_2yrs                        120128 non-null float64\n",
      "inq_last_6mths                     120128 non-null float64\n",
      "open_acc                           120128 non-null float64\n",
      "total_acc                          120128 non-null float64\n",
      "total_pymnt                        120128 non-null float64\n",
      "acc_now_delinq                     120128 non-null float64\n",
      "Grade_A                            120128 non-null float64\n",
      "Grade_B                            120128 non-null float64\n",
      "Grade_C                            120128 non-null float64\n",
      "Grade_D                            120128 non-null float64\n",
      "Grade_E                            120128 non-null float64\n",
      "Grade_F                            120128 non-null float64\n",
      "Grade_G                            120128 non-null float64\n",
      "Employ_1 year                      120128 non-null float64\n",
      "Employ_10+ years                   120128 non-null float64\n",
      "Employ_2 years                     120128 non-null float64\n",
      "Employ_3 years                     120128 non-null float64\n",
      "Employ_4 years                     120128 non-null float64\n",
      "Employ_5 years                     120128 non-null float64\n",
      "Employ_6 years                     120128 non-null float64\n",
      "Employ_7 years                     120128 non-null float64\n",
      "Employ_8 years                     120128 non-null float64\n",
      "Employ_9 years                     120128 non-null float64\n",
      "Employ_< 1 year                    120128 non-null float64\n",
      "Employ_n/a                         120128 non-null float64\n",
      "Int_Rate_Range                     120128 non-null category\n",
      "Loan_Class                         120128 non-null float64\n",
      "Verify_Status                      120128 non-null float64\n",
      "Home_MORTGAGE                      120128 non-null float64\n",
      "Home_NONE                          120128 non-null float64\n",
      "Home_OTHER                         120128 non-null float64\n",
      "Home_OWN                           120128 non-null float64\n",
      "Home_RENT                          120128 non-null float64\n",
      "Loan_Purpose_car                   120128 non-null float64\n",
      "Loan_Purpose_credit_card           120128 non-null float64\n",
      "Loan_Purpose_debt_consolidation    120128 non-null float64\n",
      "Loan_Purpose_educational           120128 non-null float64\n",
      "Loan_Purpose_home_improvement      120128 non-null float64\n",
      "Loan_Purpose_house                 120128 non-null float64\n",
      "Loan_Purpose_major_purchase        120128 non-null float64\n",
      "Loan_Purpose_medical               120128 non-null float64\n",
      "Loan_Purpose_moving                120128 non-null float64\n",
      "Loan_Purpose_other                 120128 non-null float64\n",
      "Loan_Purpose_renewable_energy      120128 non-null float64\n",
      "Loan_Purpose_small_business        120128 non-null float64\n",
      "Loan_Purpose_vacation              120128 non-null float64\n",
      "Loan_Purpose_wedding               120128 non-null float64\n",
      "dtypes: category(1), float64(50)\n",
      "memory usage: 46.9 MB\n",
      "None\n"
     ]
    }
   ],
   "source": [
    "loan_df = loan_df.dropna()\n",
    "print loan_df.info()"
   ]
  },
  {
   "cell_type": "code",
   "execution_count": 4,
   "metadata": {
    "collapsed": false
   },
   "outputs": [
    {
     "name": "stdout",
     "output_type": "stream",
     "text": [
      "Loan_Class\n",
      "0.0     15460\n",
      "1.0    104668\n",
      "Name: Loan_Class, dtype: int64\n"
     ]
    }
   ],
   "source": [
    "#Count for each class\n",
    "df_grouped = loan_df.groupby(by='Loan_Class')\n",
    "print df_grouped.Loan_Class.count()"
   ]
  },
  {
   "cell_type": "code",
   "execution_count": 5,
   "metadata": {
    "collapsed": false,
    "scrolled": false
   },
   "outputs": [
    {
     "name": "stdout",
     "output_type": "stream",
     "text": [
      "ShuffleSplit(120128, n_iter=5, test_size=0.2, random_state=None)\n"
     ]
    }
   ],
   "source": [
    "from sklearn.cross_validation import ShuffleSplit\n",
    "\n",
    "# Split our data frame into our classification of Loan_Class and the rest of the data set\n",
    "if 'Loan_Class' in loan_df:\n",
    "    y = loan_df['Loan_Class'].values\n",
    "    del loan_df['Loan_Class']\n",
    "    X = loan_df.values\n",
    "\n",
    "# Shuffle split our data into an 80/20 breakdown. The 80 will be used for training and the 20 for testing\n",
    "num_cv_iterations = 5\n",
    "num_instances = len(y)\n",
    "cv_obj = ShuffleSplit(n = num_instances, n_iter = num_cv_iterations, test_size = 0.2)\n",
    "\n",
    "print cv_obj"
   ]
  },
  {
   "cell_type": "markdown",
   "metadata": {},
   "source": [
    "### Logistic Regression\n",
    "\n",
    "We will begin by conducting a logistic regression on the full data set. We will look at the accuracy of the classification to see how accurate the regression model is and the confusion matrix to see if there are any oddities in the breakdown."
   ]
  },
  {
   "cell_type": "code",
   "execution_count": 6,
   "metadata": {
    "collapsed": false
   },
   "outputs": [
    {
     "name": "stdout",
     "output_type": "stream",
     "text": [
      "====Iteration 0  ====\n",
      "accuracy 0.926329809373\n",
      "confusion matrix\n",
      "[[ 1529  1561]\n",
      " [  209 20727]]\n",
      "====Iteration 1  ====\n",
      "accuracy 0.928369266628\n",
      "confusion matrix\n",
      "[[ 1555  1523]\n",
      " [  198 20750]]\n",
      "====Iteration 2  ====\n",
      "accuracy 0.928577374511\n",
      "confusion matrix\n",
      "[[ 1498  1521]\n",
      " [  195 20812]]\n",
      "====Iteration 3  ====\n",
      "accuracy 0.927203862482\n",
      "confusion matrix\n",
      "[[ 1573  1558]\n",
      " [  191 20704]]\n",
      "====Iteration 4  ====\n",
      "accuracy 0.926080079913\n",
      "confusion matrix\n",
      "[[ 1536  1596]\n",
      " [  180 20714]]\n"
     ]
    }
   ],
   "source": [
    "from sklearn.linear_model import LogisticRegression\n",
    "from sklearn import metrics as mt\n",
    "\n",
    "logreg_obj = LogisticRegression(penalty='l2', C=1.0, class_weight=None)\n",
    "\n",
    "# Fit and test the regression model for each shuffled instance\n",
    "for iter_num, (train_indices, test_indices) in enumerate(cv_obj):\n",
    "    logreg_obj.fit(X[train_indices],y[train_indices])  # train object\n",
    "    y_hat = logreg_obj.predict(X[test_indices]) # get test set precitions\n",
    "\n",
    "    # print the accuracy and confusion matrix \n",
    "    print \"====Iteration\",iter_num,\" ====\"\n",
    "    print \"accuracy\", mt.accuracy_score(y[test_indices],y_hat) \n",
    "    print \"confusion matrix\\n\",mt.confusion_matrix(y[test_indices],y_hat)"
   ]
  },
  {
   "cell_type": "markdown",
   "metadata": {},
   "source": [
    "The average accuracy is around 93.1%. It seems logistic regression method is effective in  classifying the loans. However, if we look at the confusion matrix, all of the \"Bad\" classifications of the loans are getting classified as \"Good\". This most likely  because our data is heavily skewed. Of the total data set, only about 7% of the loans are classified as bad. The data set is further skewed due to loans that are in different payment lifecyle. We have data that has been through the full process of the loan and has been determined to be either good, meaning the loan is complete, or bad, meaning the loan went into default and the company has written it off. The rest of our data, which is a good portion of it, are loans that are still current, or in the process of going through the full life cycle. Some of these loans could still go into default, but we do not know if they will or not.\n",
    "\n",
    "To handle this in our classification, we split our data up. We created a data frame of finished loans (loan_df_finished) to clarify those that have been completed and a data frame of current loans (loan_df_unfinished) to specify those that have not finished their life cycle. We will use the finished loans data frame to try to classify our data better. The unfinished data frame can then be used later for cross validation."
   ]
  },
  {
   "cell_type": "code",
   "execution_count": 7,
   "metadata": {
    "collapsed": false
   },
   "outputs": [],
   "source": [
    "# Add column to determine if loan is good or bad based on classification in data set\n",
    "loan_df_finished['isGoodLoan'] = loan_df_finished['Loan_Class2'] == 'Good'\n",
    "loan_df_finished.isGoodLoan = loan_df_finished.isGoodLoan.astype(np.int)\n",
    "\n",
    "\n",
    "import pandas\n",
    "# Randomly sample 10% of your dataframe for future use (We will use small subset of data for SVM (Batch) classification)\n",
    "subsampled_df = loan_df_finished.copy().sample(frac=0.05)\n",
    "\n",
    "#Remove Loan_Class and Loan_Class2 from the data frame so they are no longer observed for classification\n",
    "if \"Loan_Class\" in loan_df_finished:\n",
    "    del loan_df_finished[\"Loan_Class\"]\n",
    "if \"Loan_Class2\" in loan_df_finished:\n",
    "    del loan_df_finished[\"Loan_Class2\"]\n",
    "    \n",
    "#Remove Loan_Class and Loan_Class2 from the data frame so they are no longer observed for classification\n",
    "if \"Loan_Class\" in subsampled_df:\n",
    "    del subsampled_df[\"Loan_Class\"]\n",
    "if \"Loan_Class2\" in subsampled_df:\n",
    "    del subsampled_df[\"Loan_Class2\"]"
   ]
  },
  {
   "cell_type": "code",
   "execution_count": 8,
   "metadata": {
    "collapsed": false
   },
   "outputs": [
    {
     "name": "stdout",
     "output_type": "stream",
     "text": [
      "ShuffleSplit(77649, n_iter=5, test_size=0.2, random_state=None)\n"
     ]
    }
   ],
   "source": [
    "# Split the data into our x and y matrices for testing\n",
    "if 'isGoodLoan' in loan_df_finished:\n",
    "    updated_y = loan_df_finished['isGoodLoan'].values\n",
    "    del loan_df_finished['isGoodLoan']\n",
    "    updated_X = loan_df_finished.values\n",
    "\n",
    "# Create a new Shuffle split on the narrowed classification data\n",
    "num_cv_iterations = 5\n",
    "num_instances = len(updated_y)\n",
    "updated_cv_obj = ShuffleSplit(n = num_instances, n_iter = num_cv_iterations, test_size = 0.2)\n",
    "print updated_cv_obj"
   ]
  },
  {
   "cell_type": "code",
   "execution_count": 9,
   "metadata": {
    "collapsed": false
   },
   "outputs": [
    {
     "name": "stdout",
     "output_type": "stream",
     "text": [
      "<class 'pandas.core.frame.DataFrame'>\n",
      "Int64Index: 3882 entries, 16404 to 104257\n",
      "Data columns (total 51 columns):\n",
      "funded_amnt                        3882 non-null float64\n",
      "term                               3882 non-null float64\n",
      "annual_inc                         3882 non-null float64\n",
      "dti                                3882 non-null float64\n",
      "delinq_2yrs                        3882 non-null float64\n",
      "inq_last_6mths                     3882 non-null float64\n",
      "open_acc                           3882 non-null float64\n",
      "total_acc                          3882 non-null float64\n",
      "total_pymnt                        3882 non-null float64\n",
      "acc_now_delinq                     3882 non-null float64\n",
      "Grade_A                            3882 non-null float64\n",
      "Grade_B                            3882 non-null float64\n",
      "Grade_C                            3882 non-null float64\n",
      "Grade_D                            3882 non-null float64\n",
      "Grade_E                            3882 non-null float64\n",
      "Grade_F                            3882 non-null float64\n",
      "Grade_G                            3882 non-null float64\n",
      "Employ_1 year                      3882 non-null float64\n",
      "Employ_10+ years                   3882 non-null float64\n",
      "Employ_2 years                     3882 non-null float64\n",
      "Employ_3 years                     3882 non-null float64\n",
      "Employ_4 years                     3882 non-null float64\n",
      "Employ_5 years                     3882 non-null float64\n",
      "Employ_6 years                     3882 non-null float64\n",
      "Employ_7 years                     3882 non-null float64\n",
      "Employ_8 years                     3882 non-null float64\n",
      "Employ_9 years                     3882 non-null float64\n",
      "Employ_< 1 year                    3882 non-null float64\n",
      "Employ_n/a                         3882 non-null float64\n",
      "Int_Rate_Range                     3882 non-null category\n",
      "Verify_Status                      3882 non-null float64\n",
      "Home_MORTGAGE                      3882 non-null float64\n",
      "Home_NONE                          3882 non-null float64\n",
      "Home_OTHER                         3882 non-null float64\n",
      "Home_OWN                           3882 non-null float64\n",
      "Home_RENT                          3882 non-null float64\n",
      "Loan_Purpose_car                   3882 non-null float64\n",
      "Loan_Purpose_credit_card           3882 non-null float64\n",
      "Loan_Purpose_debt_consolidation    3882 non-null float64\n",
      "Loan_Purpose_educational           3882 non-null float64\n",
      "Loan_Purpose_home_improvement      3882 non-null float64\n",
      "Loan_Purpose_house                 3882 non-null float64\n",
      "Loan_Purpose_major_purchase        3882 non-null float64\n",
      "Loan_Purpose_medical               3882 non-null float64\n",
      "Loan_Purpose_moving                3882 non-null float64\n",
      "Loan_Purpose_other                 3882 non-null float64\n",
      "Loan_Purpose_renewable_energy      3882 non-null float64\n",
      "Loan_Purpose_small_business        3882 non-null float64\n",
      "Loan_Purpose_vacation              3882 non-null float64\n",
      "Loan_Purpose_wedding               3882 non-null float64\n",
      "isGoodLoan                         3882 non-null int32\n",
      "dtypes: category(1), float64(49), int32(1)\n",
      "memory usage: 1.5 MB\n"
     ]
    }
   ],
   "source": [
    "subsampled_df.info()"
   ]
  },
  {
   "cell_type": "code",
   "execution_count": 10,
   "metadata": {
    "collapsed": false
   },
   "outputs": [
    {
     "name": "stdout",
     "output_type": "stream",
     "text": [
      "==== Iteration 0  ====\n",
      "accuracy 0.98596265293\n",
      "confusion matrix\n",
      "[[ 2590   213]\n",
      " [    5 12722]]\n",
      "==== Iteration 1  ====\n",
      "accuracy 0.981519639408\n",
      "confusion matrix\n",
      "[[ 2568   275]\n",
      " [   12 12675]]\n",
      "==== Iteration 2  ====\n",
      "accuracy 0.983580167418\n",
      "confusion matrix\n",
      "[[ 2536   243]\n",
      " [   12 12739]]\n",
      "==== Iteration 3  ====\n",
      "accuracy 0.983000643915\n",
      "confusion matrix\n",
      "[[ 2532   257]\n",
      " [    7 12734]]\n",
      "==== Iteration 4  ====\n",
      "accuracy 0.983708950419\n",
      "confusion matrix\n",
      "[[ 2639   248]\n",
      " [    5 12638]]\n"
     ]
    }
   ],
   "source": [
    "updated_logreg_obj = LogisticRegression(penalty='l2', C=10, class_weight=None)\n",
    "\n",
    "for iter_num, (train_indices, test_indices) in enumerate(updated_cv_obj):\n",
    "    updated_logreg_obj.fit(updated_X[train_indices],updated_y[train_indices])  # train object\n",
    "    updated_y_hat = updated_logreg_obj.predict(updated_X[test_indices]) # get test set precitions\n",
    "\n",
    "    # print the accuracy and confusion matrix \n",
    "    print \"==== Iteration\",iter_num,\" ====\"\n",
    "    print \"accuracy\", mt.accuracy_score(updated_y[test_indices],updated_y_hat) \n",
    "    print \"confusion matrix\\n\",mt.confusion_matrix(updated_y[test_indices],updated_y_hat)"
   ]
  },
  {
   "cell_type": "markdown",
   "metadata": {},
   "source": [
    "The results of this classification not only have a higher accuracy than the original, full data set, an average of 98.0% versus 93.1%, but it also has better looking confusion matrices. There are data points that are classified correctly. Although there are still a larger number of bad loans being incorrectly identified as good, it is much better distributed than the original set.\n",
    "\n",
    "We follow up this analysis by looking at the weight of each factor used. This will help us figure out if there are certain features that are more influential than others to help with the classification of each point."
   ]
  },
  {
   "cell_type": "code",
   "execution_count": 11,
   "metadata": {
    "collapsed": false
   },
   "outputs": [
    {
     "name": "stdout",
     "output_type": "stream",
     "text": [
      "funded_amnt has weight of -0.00271042444328\n",
      "term has weight of 0.000140452403206\n",
      "annual_inc has weight of 2.68084589199e-05\n",
      "dti has weight of 7.24962769884e-05\n",
      "delinq_2yrs has weight of 1.42259644264e-07\n",
      "inq_last_6mths has weight of 7.10485563006e-07\n",
      "open_acc has weight of 3.94283997151e-05\n",
      "total_acc has weight of 9.34590339142e-05\n",
      "total_pymnt has weight of 0.00267416890727\n",
      "acc_now_delinq has weight of 9.02851555017e-09\n",
      "Grade_A has weight of 4.33903959516e-06\n",
      "Grade_B has weight of 2.77267870185e-06\n",
      "Grade_C has weight of 4.62606583673e-07\n",
      "Grade_D has weight of -8.48210151356e-07\n",
      "Grade_E has weight of -8.43468623614e-07\n",
      "Grade_F has weight of -4.79765339377e-07\n",
      "Grade_G has weight of -1.59457988596e-07\n",
      "Employ_1 year has weight of 5.76874660476e-07\n",
      "Employ_10+ years has weight of 5.53505296236e-07\n",
      "Employ_2 years has weight of 7.17325589889e-07\n",
      "Employ_3 years has weight of 4.00602990997e-07\n",
      "Employ_4 years has weight of 4.24198324221e-07\n",
      "Employ_5 years has weight of 2.5506042121e-07\n",
      "Employ_6 years has weight of 3.90793502349e-07\n",
      "Employ_7 years has weight of 2.27365688104e-07\n",
      "Employ_8 years has weight of 1.83822587935e-07\n",
      "Employ_9 years has weight of 1.05535752018e-07\n",
      "Employ_< 1 year has weight of 9.83766384794e-07\n",
      "Employ_n/a has weight of 4.24571579518e-07\n",
      "Int_Rate_Range has weight of 3.43837009595e-06\n",
      "Verify_Status has weight of 1.64147039446e-06\n",
      "Home_MORTGAGE has weight of 1.60493770807e-06\n",
      "Home_NONE has weight of 1.21537686513e-09\n",
      "Home_OTHER has weight of -1.87605738122e-08\n",
      "Home_OWN has weight of 8.06110521754e-07\n",
      "Home_RENT has weight of 2.84991974487e-06\n",
      "Loan_Purpose_car has weight of 3.01361713003e-07\n",
      "Loan_Purpose_credit_card has weight of 1.24642008732e-06\n",
      "Loan_Purpose_debt_consolidation has weight of 2.01807889766e-06\n",
      "Loan_Purpose_educational has weight of 2.31674677522e-08\n",
      "Loan_Purpose_home_improvement has weight of 2.74379799184e-07\n",
      "Loan_Purpose_house has weight of 4.14933047433e-08\n",
      "Loan_Purpose_major_purchase has weight of 6.4019875147e-07\n",
      "Loan_Purpose_medical has weight of 1.02207223242e-07\n",
      "Loan_Purpose_moving has weight of 6.46553279695e-08\n",
      "Loan_Purpose_other has weight of 5.42275371144e-07\n",
      "Loan_Purpose_renewable_energy has weight of 3.93668501512e-09\n",
      "Loan_Purpose_small_business has weight of -2.18029340665e-07\n",
      "Loan_Purpose_vacation has weight of 8.8348257517e-08\n",
      "Loan_Purpose_wedding has weight of 1.14929232397e-07\n"
     ]
    }
   ],
   "source": [
    "from sklearn.preprocessing import StandardScaler\n",
    "\n",
    "# Non-normalized weights\n",
    "# Iterate over the coefficients to get the weight for each variable\n",
    "weights = updated_logreg_obj.coef_.T # take transpose to make a column vector\n",
    "variable_names = loan_df_finished.columns\n",
    "for coef, name in zip(weights,variable_names):\n",
    "    print name, 'has weight of', coef[0]"
   ]
  },
  {
   "cell_type": "markdown",
   "metadata": {},
   "source": [
    "We want to normalize the weights for each variable so that a much larger valued variable, such as the funded amount, is weighted the same as a small valued variable such as one that is binary or nominal."
   ]
  },
  {
   "cell_type": "code",
   "execution_count": 12,
   "metadata": {
    "collapsed": false
   },
   "outputs": [
    {
     "name": "stdout",
     "output_type": "stream",
     "text": [
      "accuracy: 0.980489375402\n",
      "[[ 2603   284]\n",
      " [   19 12624]]\n",
      "Employ_10+ years has weight of 0.000563274118489\n",
      "Employ_9 years has weight of -0.00113296848794\n",
      "Loan_Purpose_medical has weight of 0.0019239308553\n",
      "delinq_2yrs has weight of -0.00514123829372\n",
      "Employ_2 years has weight of 0.00549979774534\n",
      "Employ_< 1 year has weight of 0.0103920320111\n",
      "Loan_Purpose_debt_consolidation has weight of 0.0118282556982\n",
      "Employ_4 years has weight of 0.0129262432887\n",
      "Loan_Purpose_car has weight of -0.0130216558405\n",
      "Employ_7 years has weight of 0.0146901825318\n",
      "Loan_Purpose_vacation has weight of -0.0209542238582\n",
      "Employ_1 year has weight of 0.0213049000938\n",
      "Loan_Purpose_renewable_energy has weight of -0.0213803360779\n",
      "Employ_8 years has weight of 0.0240424539303\n",
      "Loan_Purpose_wedding has weight of 0.0240561557848\n",
      "Employ_5 years has weight of -0.0254926718116\n",
      "inq_last_6mths has weight of -0.0281496720375\n",
      "Home_OWN has weight of 0.0307817022459\n",
      "Loan_Purpose_moving has weight of -0.0314556148851\n",
      "Loan_Purpose_home_improvement has weight of -0.032552586081\n",
      "Employ_3 years has weight of -0.0327974427767\n",
      "acc_now_delinq has weight of 0.0355427480141\n",
      "Home_OTHER has weight of -0.03634820123\n",
      "Home_MORTGAGE has weight of 0.0390875666561\n",
      "Loan_Purpose_educational has weight of -0.0411973004277\n",
      "Employ_6 years has weight of 0.0443174763679\n",
      "Loan_Purpose_other has weight of -0.0445121750786\n",
      "Loan_Purpose_major_purchase has weight of 0.0445366708804\n",
      "dti has weight of -0.0491260194183\n",
      "Loan_Purpose_house has weight of 0.0524430587033\n",
      "Home_RENT has weight of -0.0544157385091\n",
      "open_acc has weight of -0.0576629284807\n",
      "Home_NONE has weight of 0.0610204476165\n",
      "Loan_Purpose_credit_card has weight of 0.0761381700097\n",
      "Verify_Status has weight of 0.0819675957946\n",
      "Employ_n/a has weight of -0.089602701373\n",
      "Grade_C has weight of -0.11000891281\n",
      "Loan_Purpose_small_business has weight of -0.120438487729\n",
      "total_acc has weight of 0.15328058624\n",
      "annual_inc has weight of 0.187433076181\n",
      "Grade_G has weight of -0.227184779347\n",
      "Grade_B has weight of 0.260262241751\n",
      "Grade_F has weight of -0.351909847473\n",
      "Grade_D has weight of -0.384937323847\n",
      "Grade_E has weight of -0.399085178964\n",
      "term has weight of -0.405115870961\n",
      "Int_Rate_Range has weight of 0.457262685786\n",
      "Grade_A has weight of 0.652832358248\n",
      "funded_amnt has weight of -18.6811886495\n",
      "total_pymnt has weight of 21.3850758744\n"
     ]
    }
   ],
   "source": [
    "warnings.simplefilter(\"ignore\")\n",
    "\n",
    "# Normalize the features\n",
    "scale_obj = StandardScaler()\n",
    "scale_obj.fit(updated_X[train_indices])\n",
    "\n",
    "X_train_scaled = scale_obj.transform(updated_X[train_indices]) # apply to training\n",
    "X_test_scaled = scale_obj.transform(updated_X[test_indices])\n",
    "\n",
    "# Fit the regression to the new scaled data\n",
    "updated_logreg_obj.fit(X_train_scaled, updated_y[train_indices])\n",
    "\n",
    "y_hat = updated_logreg_obj.predict(X_test_scaled)\n",
    "\n",
    "# Rescore the accuracy and confusion matrix for the scaled data\n",
    "acc = mt.accuracy_score(updated_y[test_indices],y_hat)\n",
    "conf = mt.confusion_matrix(updated_y[test_indices],y_hat)\n",
    "print 'accuracy:', acc \n",
    "print conf\n",
    "\n",
    "# Sort the attributes on size and print them out in order of weight\n",
    "zip_vars = zip(updated_logreg_obj.coef_.T,loan_df_finished.columns) # combine attributes\n",
    "zip_vars.sort(key = lambda t: np.abs(t[0])) # sort them by the magnitude of the weight\n",
    "for coef, name in zip_vars:\n",
    "    print name, 'has weight of', coef[0] # now print them out"
   ]
  },
  {
   "cell_type": "markdown",
   "metadata": {},
   "source": [
    "After scaling the data, we still get a similar accuracy to before, if not a little better, and our confusion matrix has remained proportional. The scaled view of the variables provides a better way to compare variables for their significance in the classification.\n",
    "\n",
    "The graph below provides a better visual of the variables with the most impact. \n",
    "\n",
    "- The funded amount and total payment variables have a significant impact over any of the rest of the variables. \n",
    "- Interest Rate Range, annual income and the number of total accounts someone also shows more signifiance than the rest of the variables\n",
    "\n",
    "These results are very reasonable. It makes sense that good loans would have a higher total payment paid off than bad ones, so this would be an important factor in classification. If the loan is in good standing, the full principle amount will be paid off. This will relate positively because as you pay more back to the bank, you will become closer to finishing the loan. Alternatively, the less money you have paid the more likely you are to default on the loan. Funded amount and interest rate range are also valuable. Banks use credit scoring to determine the amount to fund and at what interest rates. Those with bad credit are likely to have lower funded amount and higher interest rate and also a higher chance of the loan ending up as bad. The funded amount and interest rate are both negatively weighted in this case which means the higher the interest rate and the higher the funded amount, the more likely someone is to default. As a loan increases in value and interest rate, it gets more difficult to pay off the loan and so, in general, someone is more likely to go into default and end up with a \"bad\" loan."
   ]
  },
  {
   "cell_type": "code",
   "execution_count": 13,
   "metadata": {
    "collapsed": false
   },
   "outputs": [
    {
     "data": {
      "image/png": "[encoded data removed]",
      "text/plain": [
       "<matplotlib.figure.Figure at 0x1a6fe0b8>"
      ]
     },
     "metadata": {},
     "output_type": "display_data"
    }
   ],
   "source": [
    "# now let's make a pandas Series with the names and values, and plot them\n",
    "from matplotlib import pyplot as plt\n",
    "%matplotlib inline\n",
    "plt.style.use('ggplot')\n",
    "fig = plt.figure(figsize=(14, 6))\n",
    "\n",
    "weights = pd.Series(updated_logreg_obj.coef_[0],index=loan_df_finished.columns)\n",
    "weights.plot(kind='bar')\n",
    "plt.show()"
   ]
  },
  {
   "cell_type": "markdown",
   "metadata": {},
   "source": [
    "### Support Vector Machines\n",
    "\n",
    "We continue our trials by observing the Support Vector Machines (SVM) to see if this method of classification can classify our data set better than logistic regression. We will start by observing the SVM of our original data set. Although it will most likely turn out the same way, not giving very good data, the SVM may reveal new splits in the decision. We will follow that up with looking at the SVM of the reduced data set that contains the completed loans. We can compare the accuracy of the SVM with the above logistic regression to determine if one classifies this data better than the other.\n",
    "\n",
    "Note: We use the SGDClassifier due to the size of our data set. Both sets are large and would take too long to train with a normal SVM in a time that is reasonable."
   ]
  },
  {
   "cell_type": "code",
   "execution_count": 14,
   "metadata": {
    "collapsed": false
   },
   "outputs": [
    {
     "name": "stdout",
     "output_type": "stream",
     "text": [
      "SVM: 0.874885540664\n",
      "Confusion Matrix:\n",
      "[[    0  3006]\n",
      " [    0 21020]]\n",
      "Coefficients [[ -2.05895454e-01   4.41711187e-02   4.55052186e-03   8.06992488e-04\n",
      "    1.33988365e-03  -8.06641767e-03   1.36570440e-03  -2.47951292e-03\n",
      "    2.79180841e-01   2.81249781e-04   1.45250369e-02   8.20985072e-03\n",
      "    3.05676562e-03  -5.28127392e-03  -1.50388701e-02  -1.69984290e-02\n",
      "   -1.87484781e-02   1.08415713e-04   9.69174108e-04   3.61175296e-04\n",
      "   -3.41435431e-04  -8.66647626e-04   2.23920038e-04  -1.60948253e-03\n",
      "   -6.21777373e-04  -6.45614529e-04   1.53468252e-04   7.92156745e-04\n",
      "    3.83897958e-04   5.22877328e-03   5.47385897e-04   2.28682863e-03\n",
      "    1.90941566e-04   1.22876034e-04   4.67092568e-04  -2.60126200e-03\n",
      "   -7.78841087e-04   3.03816274e-03  -1.06309112e-03   9.60003450e-04\n",
      "    3.76178319e-04  -1.17629450e-03  -1.33221105e-03   1.57009750e-03\n",
      "    2.86528037e-04   3.24424718e-03   7.53868023e-04  -9.48715434e-03\n",
      "    2.03111260e-03  -1.80760064e-03]]\n"
     ]
    },
    {
     "data": {
      "text/plain": [
       "<matplotlib.axes._subplots.AxesSubplot at 0x1fc8a4a8>"
      ]
     },
     "execution_count": 14,
     "metadata": {},
     "output_type": "execute_result"
    },
    {
     "data": {
      "image/png": "[encoded data removed]",
      "text/plain": [
       "<matplotlib.figure.Figure at 0x1fc8a9b0>"
      ]
     },
     "metadata": {},
     "output_type": "display_data"
    }
   ],
   "source": [
    "# SVM of full data set\n",
    "warnings.simplefilter(\"ignore\")\n",
    "\n",
    "# SGDClassifier using 'hinge' for loss to get an SVM\n",
    "from sklearn.linear_model import SGDClassifier\n",
    "\n",
    "# Get SVM classifier\n",
    "regularize_const = 0.1\n",
    "iterations = 5\n",
    "svm_sgd = SGDClassifier(alpha=regularize_const,\n",
    "        fit_intercept=True, l1_ratio=0.0, learning_rate='optimal',\n",
    "        loss='hinge', n_iter=iterations, n_jobs=-1, penalty='l2')\n",
    "\n",
    "# Fit our data (after it is scaled) to an SVM classification\n",
    "scl = StandardScaler()\n",
    "for train_idx, test_idx in cv_obj:\n",
    "    svm_sgd.fit(scl.fit_transform(X[train_idx]),y[train_idx])\n",
    "    yhat = svm_sgd.predict(scl.transform(X[test_idx]))\n",
    "    \n",
    "    conf = mt.confusion_matrix(y[test_idx],yhat)\n",
    "    acc = mt.accuracy_score(y[test_idx],yhat)\n",
    "\n",
    "print 'SVM:', acc\n",
    "print 'Confusion Matrix:\\n', conf\n",
    "print 'Coefficients', svm_sgd.coef_\n",
    "weights = pd.Series(svm_sgd.coef_[0],index=loan_df_finished.columns)\n",
    "weights.plot(kind='bar', figsize=(14,6))"
   ]
  },
  {
   "cell_type": "markdown",
   "metadata": {},
   "source": [
    "The accuracy of the full data set remained very similar. It stayed at around 93% accuracy, but still has the same style of confusion matrix from the logistic regression with bad loans being classified as good ones. Looking at the breakdown of the weights, there is also no clear classification class. All class values are relatively small, and changing to different breakdowns of the data set lead to different weights having different importances. We now look at the SVM of the reduced data to see how it performs."
   ]
  },
  {
   "cell_type": "code",
   "execution_count": 15,
   "metadata": {
    "collapsed": false
   },
   "outputs": [
    {
     "name": "stdout",
     "output_type": "stream",
     "text": [
      "SVM: 0.865486155827\n",
      "Confusion Matrix:\n",
      "[[  757  2089]\n",
      " [    0 12684]]\n",
      "SVM: 0.866773985834\n",
      "Confusion Matrix:\n",
      "[[  736  2069]\n",
      " [    0 12725]]\n",
      "SVM: 0.864713457824\n",
      "Confusion Matrix:\n",
      "[[  754  2100]\n",
      " [    1 12675]]\n",
      "SVM: 0.867289117836\n",
      "Confusion Matrix:\n",
      "[[  771  2059]\n",
      " [    2 12698]]\n",
      "SVM: 0.866387636832\n",
      "Confusion Matrix:\n",
      "[[  763  2075]\n",
      " [    0 12692]]\n",
      "Coefficients [[ -6.81051181e-01  -4.84422786e-02   2.11889504e-03  -1.17769229e-02\n",
      "    2.00762609e-03  -4.54976813e-03  -8.71223955e-03   1.03987859e-02\n",
      "    7.74052038e-01   3.28131103e-03   1.53224470e-02   1.11433090e-02\n",
      "    4.33256133e-03  -5.09931725e-03  -1.62597597e-02  -2.48206321e-02\n",
      "   -2.46469677e-02   1.53511313e-03  -3.00496170e-03   2.00821327e-03\n",
      "    1.51979121e-03  -6.71070169e-04   6.36225586e-04  -1.54308769e-03\n",
      "   -2.31397668e-03   2.14582080e-03   2.31802735e-03   1.96267005e-03\n",
      "   -3.77743083e-03  -1.61407465e-02  -2.33709983e-03   1.23204782e-03\n",
      "   -3.11155046e-03  -2.44615292e-03   5.08945972e-05  -1.00595598e-03\n",
      "    6.65514686e-03  -1.81549261e-03  -4.29073373e-03   1.22163445e-03\n",
      "    1.70582366e-03  -1.53900171e-03   4.27843771e-03   2.18329855e-03\n",
      "    2.37498872e-03   2.70377034e-03   2.28794615e-03  -9.17552137e-03\n",
      "    5.59436868e-03   3.64130734e-03]]\n"
     ]
    },
    {
     "data": {
      "text/plain": [
       "<matplotlib.axes._subplots.AxesSubplot at 0x1b77cdd8>"
      ]
     },
     "execution_count": 15,
     "metadata": {},
     "output_type": "execute_result"
    },
    {
     "data": {
      "image/png": "[encoded data removed]",
      "text/plain": [
       "<matplotlib.figure.Figure at 0x8ae5b00>"
      ]
     },
     "metadata": {},
     "output_type": "display_data"
    }
   ],
   "source": [
    "'''\n",
    "\n",
    "# Running SVM of the loan_df_finished dataset\n",
    "# We are using Stochastic gradient descent (SGD) because it computes the gradient using a single sample\n",
    "One benefit of SGD is that it's computationally a whole lot faster. Large datasets often can't be held in RAM, \n",
    "which makes vectorization much less efficient. \n",
    "Rather, each sample or batch of samples must be loaded, worked with, the results stored, and so on.\n",
    "\n",
    "#SGDClassifier using 'hinge' for loss to get an SVM\n",
    "\n",
    "'''\n",
    "\n",
    "from sklearn.linear_model import SGDClassifier\n",
    "\n",
    "regularize_const = 0.1\n",
    "iterations = 5\n",
    "svm_sgd = SGDClassifier(alpha=regularize_const,\n",
    "        fit_intercept=True, l1_ratio=0.0, learning_rate='optimal',\n",
    "        loss='hinge', n_iter=iterations, n_jobs=-1, penalty='l2')\n",
    "\n",
    "scl = StandardScaler()\n",
    "for train_idx, test_idx in updated_cv_obj:\n",
    "    svm_sgd.fit(scl.fit_transform(updated_X[train_idx]),updated_y[train_idx])\n",
    "    yhat = svm_sgd.predict(scl.transform(updated_X[test_idx]))\n",
    "    \n",
    "    conf = mt.confusion_matrix(updated_y[test_idx],yhat)\n",
    "    acc = mt.accuracy_score(updated_y[test_idx],yhat)\n",
    "\n",
    "    print 'SVM:', acc\n",
    "    print 'Confusion Matrix:\\n', conf\n",
    "    \n",
    "print 'Coefficients', svm_sgd.coef_\n",
    "weights = pd.Series(svm_sgd.coef_[0],index=loan_df_finished.columns)\n",
    "weights.plot(kind='bar', figsize=(14,6))"
   ]
  },
  {
   "cell_type": "markdown",
   "metadata": {},
   "source": [
    "The SVM for the reduced data, which includes just completed loans, has a much lower accuracy than the logistic regression classification of the same data. The accuracy dropped from just below 98.0% to around 87.3%. This is a significant difference. It is possible that part of this is due to SGDClassifier taking the Stochastic Gradient instead of the full gradient of the SVM. Although the SGD runs faster than the linear regression model we used (LinearRegression()), it does not have the accuracy that we would expect or want in this situation, especially when the original data stayed around the same accuracy between the two different classifications.\n",
    "\n",
    "It is interesting to note that the classes that the SVM pulls out are almost identical to the ones the logistic regression uses. Funded amount and total payment are still at the top of the list with Interest Rate Range being a distant fourth, but still near the top. Surprisingly, it has added importance on the 'Term' variable that the logistic regression did not pull out."
   ]
  },
  {
   "cell_type": "markdown",
   "metadata": {},
   "source": [
    "### Look at the chosen support vectors for the classification task. Do these provide\n",
    "any insight into the data? Explain\n",
    "\n",
    "'''\n",
    "Since the SGDClassifier is not the most optimal SVM technique, running full Batch Gradient Descent on the previously created subsampled dataset that has less number of samples for training the model for \"finished loans\" and find if there are any differences in the findings we have had so far. \n",
    "Since we have very small sample set, its very important to chose the best parameter set, so we run \"Grid Search\" technique to find the best 'C' for the model, and then run the Batch SVM using that model to verify the results for the classifier importance vs Stochastic Gradient Descent we ran previously.\n",
    "'''"
   ]
  },
  {
   "cell_type": "code",
   "execution_count": 16,
   "metadata": {
    "collapsed": false
   },
   "outputs": [
    {
     "name": "stdout",
     "output_type": "stream",
     "text": [
      "(3882L, 50L)\n",
      "3882\n"
     ]
    }
   ],
   "source": [
    "# Split the data into our x and y matrices for testing\n",
    "if 'isGoodLoan' in subsampled_df:\n",
    "    updated_subsampled_y = subsampled_df['isGoodLoan'].values\n",
    "    del subsampled_df['isGoodLoan']\n",
    "    updated_subsampled_X = subsampled_df.values\n",
    "\n",
    "# Create a new Shuffle split on the narrowed classification data\n",
    "num_cv_iterations = 5\n",
    "num_instances = len(updated_subsampled_y)\n",
    "updated_cv_obj_subsampled = ShuffleSplit(n = num_instances, n_iter = num_cv_iterations, test_size = 0.2)\n",
    "print updated_subsampled_X.shape\n",
    "print updated_subsampled_y.size\n"
   ]
  },
  {
   "cell_type": "code",
   "execution_count": 17,
   "metadata": {
    "collapsed": false
   },
   "outputs": [],
   "source": [
    "from sklearn.cross_validation import train_test_split\n",
    "\n",
    "X_train_updated, X_test_updated, y_train_updated, y_test_updated = \\\n",
    "train_test_split(updated_subsampled_X,updated_subsampled_y, test_size = 0.2, random_state = 1)\n"
   ]
  },
  {
   "cell_type": "code",
   "execution_count": 18,
   "metadata": {
    "collapsed": false
   },
   "outputs": [
    {
     "name": "stdout",
     "output_type": "stream",
     "text": [
      "(3105L, 50L)\n",
      "(3105L,)\n"
     ]
    }
   ],
   "source": [
    "print X_train_updated.shape\n",
    "print y_train_updated.shape"
   ]
  },
  {
   "cell_type": "code",
   "execution_count": 19,
   "metadata": {
    "collapsed": false,
    "scrolled": true
   },
   "outputs": [
    {
     "name": "stdout",
     "output_type": "stream",
     "text": [
      "0.979066022544\n",
      "{'clf__C': 100, 'clf__kernel': 'linear'}\n"
     ]
    }
   ],
   "source": [
    "from sklearn.learning_curve import validation_curve\n",
    "from sklearn.preprocessing import  StandardScaler\n",
    "from sklearn.svm import SVC\n",
    "from sklearn.pipeline import Pipeline\n",
    "from sklearn.grid_search import GridSearchCV\n",
    "\n",
    "pipe_svc = Pipeline([('scl', StandardScaler()), ('clf', SVC(random_state=1))])\n",
    "\n",
    "param_range = [0.001, 0.01, 0.1, 1, 10, 100]\n",
    "param_grid = [{'clf__C': param_range, 'clf__kernel': ['linear']}]\n",
    "\n",
    "gs = GridSearchCV(estimator=pipe_svc, param_grid=param_grid, scoring = 'accuracy', cv=10, n_jobs=-1)\n",
    "gs = gs.fit(X_train_updated,y_train_updated)\n",
    "\n",
    "print (gs.best_score_)\n",
    "print (gs.best_params_)"
   ]
  },
  {
   "cell_type": "code",
   "execution_count": 20,
   "metadata": {
    "collapsed": false
   },
   "outputs": [
    {
     "name": "stdout",
     "output_type": "stream",
     "text": [
      "[mean: 0.81965, std: 0.00029, params: {'clf__C': 0.001, 'clf__kernel': 'linear'}, mean: 0.90242, std: 0.01047, params: {'clf__C': 0.01, 'clf__kernel': 'linear'}, mean: 0.94944, std: 0.01704, params: {'clf__C': 0.1, 'clf__kernel': 'linear'}, mean: 0.96940, std: 0.01172, params: {'clf__C': 1, 'clf__kernel': 'linear'}, mean: 0.97746, std: 0.01030, params: {'clf__C': 10, 'clf__kernel': 'linear'}, mean: 0.97907, std: 0.01081, params: {'clf__C': 100, 'clf__kernel': 'linear'}]\n"
     ]
    }
   ],
   "source": [
    "print gs.grid_scores_"
   ]
  },
  {
   "cell_type": "code",
   "execution_count": 21,
   "metadata": {
    "collapsed": false,
    "scrolled": true
   },
   "outputs": [
    {
     "name": "stdout",
     "output_type": "stream",
     "text": [
      "{'clf__C': 100, 'clf__kernel': 'linear'}\n",
      "('Test Accuracy for Batch Support vector Machine: ', 0.99356499356499361)\n"
     ]
    }
   ],
   "source": [
    "print (gs.best_params_)\n",
    "clf = gs.best_estimator_\n",
    "clf.fit(X_train_updated,y_train_updated)\n",
    "print ('Test Accuracy for Batch Support vector Machine: ',clf.score(X_test_updated,y_test_updated))"
   ]
  },
  {
   "cell_type": "markdown",
   "metadata": {},
   "source": [
    "The above mentioned Grid Search helped us find the most appropriate C value (in this case C is between 10 and 100) for 'Linear' kernel for SVM\n",
    "We will use the 'C=10 and 'Linear' kernel to check the classifiers importance next."
   ]
  },
  {
   "cell_type": "code",
   "execution_count": 22,
   "metadata": {
    "collapsed": false,
    "scrolled": false
   },
   "outputs": [
    {
     "name": "stdout",
     "output_type": "stream",
     "text": [
      "SVM: 0.985842985843\n"
     ]
    },
    {
     "data": {
      "text/plain": [
       "<function matplotlib.pyplot.show>"
      ]
     },
     "execution_count": 22,
     "metadata": {},
     "output_type": "execute_result"
    },
    {
     "data": {
      "image/png": "[encoded data removed]",
      "text/plain": [
       "<matplotlib.figure.Figure at 0x8ad3400>"
      ]
     },
     "metadata": {},
     "output_type": "display_data"
    }
   ],
   "source": [
    "warnings.simplefilter(\"ignore\")\n",
    "from sklearn.svm import SVC\n",
    "from sklearn.learning_curve import validation_curve\n",
    "from sklearn.preprocessing import  StandardScaler\n",
    "from sklearn.pipeline import Pipeline\n",
    "from sklearn.grid_search import GridSearchCV\n",
    "from sklearn import metrics as mt\n",
    "from matplotlib import pyplot as plt\n",
    "\n",
    "svm_batch = SVC(kernel = 'linear', C=10)\n",
    "\n",
    "scl = StandardScaler()\n",
    "\n",
    "\n",
    "for train_idx, test_idx in updated_cv_obj_subsampled:\n",
    "    svm_batch.fit(scl.fit_transform(updated_subsampled_X[train_idx]),updated_subsampled_y[train_idx])\n",
    "    yhat = svm_batch.predict(scl.transform(updated_subsampled_X[test_idx]))\n",
    "    \n",
    "    conf = mt.confusion_matrix(updated_subsampled_y[test_idx],yhat)\n",
    "    acc = mt.accuracy_score(updated_subsampled_y[test_idx],yhat)\n",
    "\n",
    "print 'SVM:', acc\n",
    "\n",
    "fig, ax = plt.subplots(figsize=(2.5,2.5))\n",
    "ax.matshow(conf, cmap=plt.cm.Blues, alpha = 0.3)\n",
    "for i in range (conf.shape[0]):\n",
    "    for j in range (conf.shape[1]):\n",
    "        ax.text(x=j, y=i, s=conf[i, j], va = 'center', ha = 'center')\n",
    "plt.xlabel ('Predicted Class')\n",
    "plt.ylabel ('True Class')\n",
    "plt.show"
   ]
  },
  {
   "cell_type": "markdown",
   "metadata": {},
   "source": [
    "As we can see, the svm_batch with C=10, and Kernel = 'Linear' is performing pretty well on the test data set. Next step is to check and verify the classification variables importance, and making sure that they are not different from SGD"
   ]
  },
  {
   "cell_type": "code",
   "execution_count": 23,
   "metadata": {
    "collapsed": false
   },
   "outputs": [
    {
     "name": "stdout",
     "output_type": "stream",
     "text": [
      "Coefficients [[ -9.99098757e+00  -1.11003087e-01   5.88296540e-02  -5.91314683e-02\n",
      "   -3.09028520e-02  -1.23491980e-01  -9.88955462e-02   1.02226891e-01\n",
      "    1.15554692e+01  -2.75196532e-14   1.59742479e-01   3.03761299e-02\n",
      "   -3.86198575e-02  -7.49717782e-02  -1.07380844e-01  -4.12933822e-02\n",
      "   -4.97102359e-14  -6.38833764e-03   1.06877609e-02   1.48693616e-02\n",
      "    8.04640454e-03   3.95993971e-04  -6.14938050e-02   2.06363789e-02\n",
      "    2.35848019e-02   1.35555710e-02  -4.46639722e-02   2.59819671e-02\n",
      "   -3.35096812e-02   1.72334031e-01  -1.12090309e-03   6.63838426e-02\n",
      "    0.00000000e+00   6.91668944e-14   9.94383016e-03  -7.25688941e-02\n",
      "    2.98920053e-03  -2.35831601e-02   2.80214154e-02   1.29448786e-02\n",
      "   -1.27144405e-02   3.52848890e-02   6.42667890e-02   4.54881342e-04\n",
      "    1.62009359e-03  -3.44461546e-02  -2.23848717e-14  -5.41342084e-03\n",
      "   -3.47872333e-02  -5.04675243e-02]]\n"
     ]
    },
    {
     "data": {
      "text/plain": [
       "<matplotlib.axes._subplots.AxesSubplot at 0x3bf8b8d0>"
      ]
     },
     "execution_count": 23,
     "metadata": {},
     "output_type": "execute_result"
    },
    {
     "data": {
      "image/png": "[encoded data removed]",
      "text/plain": [
       "<matplotlib.figure.Figure at 0x1b801780>"
      ]
     },
     "metadata": {},
     "output_type": "display_data"
    }
   ],
   "source": [
    "print 'Coefficients', svm_batch.coef_\n",
    "weights = pd.Series(svm_batch.coef_[0],index=loan_df_finished.columns)\n",
    "weights.plot(kind='bar', figsize=(14,6))"
   ]
  },
  {
   "cell_type": "markdown",
   "metadata": {},
   "source": [
    "### Additional Analysis: Are there better parameter or variable choices?\n",
    "\n",
    "As suggested by the Batch SVM previously, it looks like there might be better parameter set that can help us generage the best Bias-variance trade-off. \n",
    "In this section, we want to see if we can improve the overall accuracy of our model by adjusting the parameters we pass into our Logistic Regression and SVM models and by reducing the number of variables we look at with our model. Either of these changes could lead to better performance in both accuracy and the confusion mattrices."
   ]
  },
  {
   "cell_type": "markdown",
   "metadata": {},
   "source": [
    "Overfitting is a common problem in machine learning, where a model performs well on training data but does not generalize well to unseen data (test data). If a model suffers from overfitting, we also say that the model has a high variance, which can be caused by having too many parameters that lead to a model that is too complex given the underlying data. Similarly, our model can also suffer from underfitting (high bias), which means that our model is not complex enough to capture the pattern in the training data well and therefore also suffers from low performance\n",
    "on unseen data. There are various parameters for finding a good bias-variance tradeoff and to tune the complexity of the model via regularization. \n",
    "\n",
    "Cost Function 'C' : A large C gives you low bias and high variance. Low bias because you penalize the cost of missclasification a lot. A small C gives you higher bias and lower variance. A lower C means higher regularization. A lower C thus prevents overfitting.\n",
    "\n",
    "L1/L2 Regularization : L2 regularization (sometimes also called L2 shrinkage or weight decay) or L1 regularization where penalty is the sum of the absolute weight coefficients while in L2 that term is quadratic)\n",
    "\n",
    "Below we will try to change the model parameters and try find the optimal values for these parameters.\n",
    "\n",
    "Please note that both SVC and LinearSVC have the regularization hyperparameter C, but the SGDClassifier has the regularization hyperparameter alpha. Where C = n_samples / alpha"
   ]
  },
  {
   "cell_type": "markdown",
   "metadata": {},
   "source": [
    "### Analysis 1: Changing Model Parameters"
   ]
  },
  {
   "cell_type": "markdown",
   "metadata": {},
   "source": [
    "We first look to see if we can alter the parameters of our models to get better accuracy. It may be difficult to see an increase with the Logistic Regression since it is already a high accuracy of 98%, but our stochastic SVM could perform better. We start by changing the C value (the penalty value of the error) and then also look at changing the penalty type itself. Our original set was run at a penalty of L2 and a C of 1.0."
   ]
  },
  {
   "cell_type": "code",
   "execution_count": 24,
   "metadata": {
    "collapsed": false
   },
   "outputs": [
    {
     "name": "stdout",
     "output_type": "stream",
     "text": [
      "======= L1 Penalty with C = 5 ========\n",
      "accuracy: 0.980618158403\n",
      "[[ 2605   282]\n",
      " [   19 12624]]\n",
      "======= L1 Penalty with C = 10 ========\n",
      "accuracy: 0.980618158403\n",
      "[[ 2605   282]\n",
      " [   19 12624]]\n",
      "======= L1 Penalty with C = 15 ========\n",
      "accuracy: 0.980618158403\n",
      "[[ 2605   282]\n",
      " [   19 12624]]\n",
      "======= L1 Penalty with C = 20 ========\n",
      "accuracy: 0.980618158403\n",
      "[[ 2605   282]\n",
      " [   19 12624]]\n",
      "======= L1 Penalty with C = 25 ========\n",
      "accuracy: 0.980618158403\n",
      "[[ 2605   282]\n",
      " [   19 12624]]\n",
      "======= L2 Penalty with C = 5 ========\n",
      "accuracy: 0.980231809401\n",
      "[[ 2597   290]\n",
      " [   17 12626]]\n",
      "======= L2 Penalty with C = 10 ========\n",
      "accuracy: 0.980489375402\n",
      "[[ 2603   284]\n",
      " [   19 12624]]\n",
      "======= L2 Penalty with C = 15 ========\n",
      "accuracy: 0.980489375402\n",
      "[[ 2603   284]\n",
      " [   19 12624]]\n",
      "======= L2 Penalty with C = 20 ========\n",
      "accuracy: 0.980553766903\n",
      "[[ 2604   283]\n",
      " [   19 12624]]\n",
      "======= L2 Penalty with C = 25 ========\n",
      "accuracy: 0.980618158403\n",
      "[[ 2605   282]\n",
      " [   19 12624]]\n"
     ]
    }
   ],
   "source": [
    "# Changing Logistic Regression Model Paramters - can alter penalty and C value\n",
    "\n",
    "\n",
    "for val in range(5):\n",
    "    print \"======= L1 Penalty with C =\", 5*(val+1), \"========\"\n",
    "    updated_logreg_obj = LogisticRegression(penalty='l1', C=5*(val+1), class_weight=None)\n",
    "\n",
    "    # Fit the regression to the new scaled data\n",
    "    updated_logreg_obj.fit(X_train_scaled, updated_y[train_indices])\n",
    "\n",
    "    y_hat = updated_logreg_obj.predict(X_test_scaled)\n",
    "\n",
    "    # Rescore the accuracy and confusion matrix for the scaled data\n",
    "    acc = mt.accuracy_score(updated_y[test_indices],y_hat)\n",
    "    conf = mt.confusion_matrix(updated_y[test_indices],y_hat)\n",
    "    print 'accuracy:', acc \n",
    "    print conf\n",
    "    \n",
    "for val in range(5):\n",
    "    print \"======= L2 Penalty with C =\", 5*(val+1), \"========\"\n",
    "    updated_logreg_obj = LogisticRegression(penalty='l2', C=5*(val+1), class_weight=None)\n",
    "\n",
    "    # Fit the regression to the new scaled data\n",
    "    updated_logreg_obj.fit(X_train_scaled, updated_y[train_indices])\n",
    "\n",
    "    y_hat = updated_logreg_obj.predict(X_test_scaled)\n",
    "\n",
    "    # Rescore the accuracy and confusion matrix for the scaled data\n",
    "    acc = mt.accuracy_score(updated_y[test_indices],y_hat)\n",
    "    conf = mt.confusion_matrix(updated_y[test_indices],y_hat)\n",
    "    print 'accuracy:', acc \n",
    "    print conf"
   ]
  },
  {
   "cell_type": "code",
   "execution_count": 25,
   "metadata": {
    "collapsed": false
   },
   "outputs": [
    {
     "name": "stdout",
     "output_type": "stream",
     "text": [
      "======= L1 Penalty with alpha = 1 ========\n",
      "SVM: 0.813007083065\n",
      "Confusion Matrix:\n",
      "[[    0  2904]\n",
      " [    0 12626]]\n",
      "======= L1 Penalty with alpha = 0.1 ========\n",
      "SVM: 0.814101738571\n",
      "Confusion Matrix:\n",
      "[[    0  2887]\n",
      " [    0 12643]]\n",
      "======= L1 Penalty with alpha = 0.01 ========\n",
      "SVM: 0.976368319382\n",
      "Confusion Matrix:\n",
      "[[ 2530   360]\n",
      " [    7 12633]]\n",
      "======= L1 Penalty with alpha = 0.001 ========\n",
      "SVM: 0.987894397939\n",
      "Confusion Matrix:\n",
      "[[ 2694   175]\n",
      " [   13 12648]]\n",
      "======= L1 Penalty with alpha = 0.0001 ========\n",
      "SVM: 0.983000643915\n",
      "Confusion Matrix:\n",
      "[[ 2780   154]\n",
      " [  110 12486]]\n",
      "======= L1 Penalty with l1_ratio = 0 ========\n",
      "SVM: 0.820605280103\n",
      "Confusion Matrix:\n",
      "[[    0  2786]\n",
      " [    0 12744]]\n",
      "======= L1 Penalty with l1_ratio = 0 ========\n",
      "SVM: 0.816419832582\n",
      "Confusion Matrix:\n",
      "[[    0  2851]\n",
      " [    0 12679]]\n",
      "======= L1 Penalty with l1_ratio = 0 ========\n",
      "SVM: 0.812234385061\n",
      "Confusion Matrix:\n",
      "[[    0  2916]\n",
      " [    0 12614]]\n",
      "======= L1 Penalty with l1_ratio = 0 ========\n",
      "SVM: 0.815132002576\n",
      "Confusion Matrix:\n",
      "[[    0  2871]\n",
      " [    0 12659]]\n",
      "======= L1 Penalty with l1_ratio = 1 ========\n",
      "SVM: 0.823374114617\n",
      "Confusion Matrix:\n",
      "[[    0  2743]\n",
      " [    0 12787]]\n",
      "======= L2 Penalty with alpha = 1 ========\n",
      "SVM: 0.813200257566\n",
      "Confusion Matrix:\n",
      "[[    0  2901]\n",
      " [    0 12629]]\n",
      "======= L2 Penalty with alpha = 0.1 ========\n",
      "SVM: 0.865872504829\n",
      "Confusion Matrix:\n",
      "[[  772  2081]\n",
      " [    2 12675]]\n",
      "======= L2 Penalty with alpha = 0.01 ========\n",
      "SVM: 0.937862202189\n",
      "Confusion Matrix:\n",
      "[[ 1958   962]\n",
      " [    3 12607]]\n",
      "======= L2 Penalty with alpha = 0.001 ========\n",
      "SVM: 0.970379909852\n",
      "Confusion Matrix:\n",
      "[[ 2412   428]\n",
      " [   32 12658]]\n",
      "======= L2 Penalty with alpha = 0.0001 ========\n",
      "SVM: 0.968641339343\n",
      "Confusion Matrix:\n",
      "[[ 2523   341]\n",
      " [  146 12520]]\n"
     ]
    }
   ],
   "source": [
    "# Changing SVM Model Parameters - can alter penalty, L1 ratio and alpha\n",
    "\n",
    "for val in range(5):\n",
    "    print \"======= L1 Penalty with alpha =\", 10**(-val), \"========\"\n",
    "    regularize_const = 10**(-val)\n",
    "    iterations = 5\n",
    "    svm_sgd = SGDClassifier(alpha=regularize_const,\n",
    "            fit_intercept=True, l1_ratio=1.0, learning_rate='optimal',\n",
    "            loss='hinge', n_iter=iterations, n_jobs=-1, penalty='L1')\n",
    "\n",
    "    scl = StandardScaler()\n",
    "    for train_idx, test_idx in updated_cv_obj:\n",
    "        svm_sgd.fit(scl.fit_transform(updated_X[train_idx]),updated_y[train_idx])\n",
    "        yhat = svm_sgd.predict(scl.transform(updated_X[test_idx]))\n",
    "\n",
    "        conf = mt.confusion_matrix(updated_y[test_idx],yhat)\n",
    "        acc = mt.accuracy_score(updated_y[test_idx],yhat)\n",
    "\n",
    "    print 'SVM:', acc\n",
    "    print 'Confusion Matrix:\\n', conf\n",
    "    \n",
    "for val in range(5):\n",
    "    print \"======= L1 Penalty with l1_ratio =\", val/4, \"========\"\n",
    "    regularize_const = 0.1\n",
    "    iterations = 5\n",
    "    svm_sgd = SGDClassifier(alpha=regularize_const,\n",
    "            fit_intercept=True, l1_ratio=val/4, learning_rate='optimal',\n",
    "            loss='hinge', n_iter=iterations, n_jobs=-1, penalty='L1')\n",
    "\n",
    "    scl = StandardScaler()\n",
    "    for train_idx, test_idx in updated_cv_obj:\n",
    "        svm_sgd.fit(scl.fit_transform(updated_X[train_idx]),updated_y[train_idx])\n",
    "        yhat = svm_sgd.predict(scl.transform(updated_X[test_idx]))\n",
    "\n",
    "        conf = mt.confusion_matrix(updated_y[test_idx],yhat)\n",
    "        acc = mt.accuracy_score(updated_y[test_idx],yhat)\n",
    "\n",
    "    print 'SVM:', acc\n",
    "    print 'Confusion Matrix:\\n', conf\n",
    "    \n",
    "for val in range(5):\n",
    "    print \"======= L2 Penalty with alpha =\", 10**(-val), \"========\"\n",
    "    regularize_const = 10**(-val)\n",
    "    iterations = 5\n",
    "    svm_sgd = SGDClassifier(alpha=regularize_const,\n",
    "            fit_intercept=True, l1_ratio=0.0, learning_rate='optimal',\n",
    "            loss='hinge', n_iter=iterations, n_jobs=-1, penalty='L2')\n",
    "\n",
    "    scl = StandardScaler()\n",
    "    for train_idx, test_idx in updated_cv_obj:\n",
    "        svm_sgd.fit(scl.fit_transform(updated_X[train_idx]),updated_y[train_idx])\n",
    "        yhat = svm_sgd.predict(scl.transform(updated_X[test_idx]))\n",
    "\n",
    "        conf = mt.confusion_matrix(updated_y[test_idx],yhat)\n",
    "        acc = mt.accuracy_score(updated_y[test_idx],yhat)\n",
    "\n",
    "    print 'SVM:', acc\n",
    "    print 'Confusion Matrix:\\n', conf"
   ]
  },
  {
   "cell_type": "markdown",
   "metadata": {},
   "source": [
    "### Analysis 2: Reduced Number of Factors"
   ]
  },
  {
   "cell_type": "markdown",
   "metadata": {},
   "source": [
    "In this section, we will use the logistic regression classification, which seemed to perform better for our reduced data set, to see if we can increase the accuracy of our model by looking at different variable inputs. The idea is to reduce the number of inputs to try and improve the data. What if we look at our major regression factors and limit our dataset to those factors? Do we improve accuracy any by limiting the data given to the classifier?"
   ]
  },
  {
   "cell_type": "code",
   "execution_count": 26,
   "metadata": {
    "collapsed": false
   },
   "outputs": [
    {
     "name": "stdout",
     "output_type": "stream",
     "text": [
      "====Iteration 0  ====\n",
      "accuracy 0.983129426916\n",
      "confusion matrix\n",
      "[[ 2540   259]\n",
      " [    3 12728]]\n",
      "====Iteration 1  ====\n",
      "accuracy 0.983129426916\n",
      "confusion matrix\n",
      "[[ 2616   258]\n",
      " [    4 12652]]\n",
      "====Iteration 2  ====\n",
      "accuracy 0.983129426916\n",
      "confusion matrix\n",
      "[[ 2608   258]\n",
      " [    4 12660]]\n",
      "====Iteration 3  ====\n",
      "accuracy 0.982292337411\n",
      "confusion matrix\n",
      "[[ 2611   269]\n",
      " [    6 12644]]\n",
      "====Iteration 4  ====\n",
      "accuracy 0.98209916291\n",
      "confusion matrix\n",
      "[[ 2548   266]\n",
      " [   12 12704]]\n"
     ]
    }
   ],
   "source": [
    "used_temp_df = pd.DataFrame()\n",
    "major_factors_df = loan_df_finished\n",
    "\n",
    "for col in ['funded_amnt', 'Int_Rate_Range', 'total_pymnt', 'annual_inc', 'Verify_Status']:\n",
    "    if col in major_factors_df:\n",
    "        used_temp_df[col] = major_factors_df[col]\n",
    "        \n",
    "updated_X = used_temp_df.values\n",
    "\n",
    "updated_logreg_obj = LogisticRegression(penalty='l2', C=1.0, class_weight=None)\n",
    "\n",
    "for iter_num, (train_indices, test_indices) in enumerate(updated_cv_obj):\n",
    "    updated_logreg_obj.fit(updated_X[train_indices],updated_y[train_indices])  # train object\n",
    "    updated_y_hat = updated_logreg_obj.predict(updated_X[test_indices]) # get test set precitions\n",
    "\n",
    "    # print the accuracy and confusion matrix \n",
    "    print \"====Iteration\",iter_num,\" ====\"\n",
    "    print \"accuracy\", mt.accuracy_score(updated_y[test_indices],updated_y_hat) \n",
    "    print \"confusion matrix\\n\",mt.confusion_matrix(updated_y[test_indices],updated_y_hat)"
   ]
  },
  {
   "cell_type": "markdown",
   "metadata": {
    "collapsed": true
   },
   "source": [
    "The unscaled data of this significantly reduced data set has a marginally better fit than the original reduced data set. If you compare the 98.1% average of the newly reduced data set to the 98.0% of the base reduced data, you get a slightly better performance by taking out some of the less important, according to the logistic regression, variables. The scaled data comes in at a similar accuracy rating of the original sample at 98.0% so there really is not a huge change here. Even looking at the weights of each, the funded amount and total payment factors still far outweigh the others."
   ]
  },
  {
   "cell_type": "code",
   "execution_count": null,
   "metadata": {
    "collapsed": true
   },
   "outputs": [],
   "source": []
  }
 ],
 "metadata": {
  "kernelspec": {
   "display_name": "Python 2",
   "language": "python",
   "name": "python2"
  },
  "language_info": {
   "codemirror_mode": {
    "name": "ipython",
    "version": 2
   },
   "file_extension": ".py",
   "mimetype": "text/x-python",
   "name": "python",
   "nbconvert_exporter": "python",
   "pygments_lexer": "ipython2",
   "version": "2.7.11"
  }
 },
 "nbformat": 4,
 "nbformat_minor": 0
}
