{
 "cells": [
  {
   "cell_type": "markdown",
   "metadata": {},
   "source": [
    "# NOTES\n",
    "\n",
    "### Task 1\n",
    "Classify whether a loan will go into default or not\n",
    "\n",
    "Should use 10-fold validation, and 15-20% of the data as test\n",
    "\n",
    "Will use Neural Network, Ada Boosting, and SVM classifications\n",
    "\n",
    "Need to include Visualizations - confusion matrices, bar chart of weighted factors, etc.\n",
    "\n",
    "### Task 2\n",
    "Use time series regression to predict monetary need for company in the next year\n",
    "\n",
    "Use all but the final year of data as training to predict the final year as training model\n",
    "\n",
    "Will use couple different types of ARMA, and maybe Vector Auto Regression (if in SAS)\n",
    "\n",
    "Again need visualizations - confusion matrices, bar chart of weighted factors, etc.\n",
    "\n",
    "#### Final Thoughts\n",
    "Check the time to run each calculation via %timeit\n",
    "\n",
    "Make sure to try various variables in each prediction model to get the best resuslts\n",
    "\n",
    "See if there is a way to do stepwise or forward/backward search of features\n",
    "\n",
    "To convert infinity to NAN, need to convert column to float and then can convert back as needed"
   ]
  },
  {
   "cell_type": "markdown",
   "metadata": {},
   "source": [
    "# Mini Lab\n",
    "\n",
    "## Brett Hallum, Mridul Jain, and Solomon Ndungu\n",
    "\n",
    "We start this lab by filtering out our unwanted data. A lot of this information was removed in Lab 1 as it did not make sense for us to use it due to missing values, single values for whole set, and a minimal distribution of values. On top of this removal, we do some imputation to fill in minor missing data values. Finally, we do some nominal classification on some of our data to order it for better use.\n",
    "\n",
    "We do create two additional data frames, loan_df_finished and loan_df_unfinished, at this point as well. Their purpose and usage will be discussed shortly."
   ]
  },
  {
   "cell_type": "code",
   "execution_count": 1,
   "metadata": {
    "collapsed": false
   },
   "outputs": [
    {
     "data": {
      "text/plain": [
       "'C:\\\\Users\\\\emrijai\\\\Documents\\\\IPython Notebooks\\\\MS7331\\\\Project1\\\\MSDS7331_Project1'"
      ]
     },
     "execution_count": 1,
     "metadata": {},
     "output_type": "execute_result"
    }
   ],
   "source": [
    "import os\n",
    "os.chdir('C:/Users/emrijai/Documents/IPython Notebooks/MS7331/Project1/MSDS7331_Project1')\n",
    "os.getcwd()"
   ]
  },
  {
   "cell_type": "code",
   "execution_count": 2,
   "metadata": {
    "collapsed": false
   },
   "outputs": [
    {
     "data": {
      "text/html": [
       "<div>\n",
       "<table border=\"1\" class=\"dataframe\">\n",
       "  <thead>\n",
       "    <tr style=\"text-align: right;\">\n",
       "      <th></th>\n",
       "      <th>funded_amnt</th>\n",
       "      <th>term</th>\n",
       "      <th>installment</th>\n",
       "      <th>annual_inc</th>\n",
       "      <th>issue_d</th>\n",
       "      <th>dti</th>\n",
       "      <th>delinq_2yrs</th>\n",
       "      <th>inq_last_6mths</th>\n",
       "      <th>open_acc</th>\n",
       "      <th>total_acc</th>\n",
       "      <th>...</th>\n",
       "      <th>Loan_Purpose_home_improvement</th>\n",
       "      <th>Loan_Purpose_house</th>\n",
       "      <th>Loan_Purpose_major_purchase</th>\n",
       "      <th>Loan_Purpose_medical</th>\n",
       "      <th>Loan_Purpose_moving</th>\n",
       "      <th>Loan_Purpose_other</th>\n",
       "      <th>Loan_Purpose_renewable_energy</th>\n",
       "      <th>Loan_Purpose_small_business</th>\n",
       "      <th>Loan_Purpose_vacation</th>\n",
       "      <th>Loan_Purpose_wedding</th>\n",
       "    </tr>\n",
       "  </thead>\n",
       "  <tbody>\n",
       "    <tr>\n",
       "      <th>0</th>\n",
       "      <td>5000.0</td>\n",
       "      <td>36</td>\n",
       "      <td>162.87</td>\n",
       "      <td>24000.0</td>\n",
       "      <td>Dec-2011</td>\n",
       "      <td>27.65</td>\n",
       "      <td>0.0</td>\n",
       "      <td>1.0</td>\n",
       "      <td>3.0</td>\n",
       "      <td>9.0</td>\n",
       "      <td>...</td>\n",
       "      <td>0.0</td>\n",
       "      <td>0.0</td>\n",
       "      <td>0.0</td>\n",
       "      <td>0.0</td>\n",
       "      <td>0.0</td>\n",
       "      <td>0.0</td>\n",
       "      <td>0.0</td>\n",
       "      <td>0.0</td>\n",
       "      <td>0.0</td>\n",
       "      <td>0.0</td>\n",
       "    </tr>\n",
       "    <tr>\n",
       "      <th>1</th>\n",
       "      <td>2500.0</td>\n",
       "      <td>60</td>\n",
       "      <td>59.83</td>\n",
       "      <td>30000.0</td>\n",
       "      <td>Dec-2011</td>\n",
       "      <td>1.00</td>\n",
       "      <td>0.0</td>\n",
       "      <td>5.0</td>\n",
       "      <td>3.0</td>\n",
       "      <td>4.0</td>\n",
       "      <td>...</td>\n",
       "      <td>0.0</td>\n",
       "      <td>0.0</td>\n",
       "      <td>0.0</td>\n",
       "      <td>0.0</td>\n",
       "      <td>0.0</td>\n",
       "      <td>0.0</td>\n",
       "      <td>0.0</td>\n",
       "      <td>0.0</td>\n",
       "      <td>0.0</td>\n",
       "      <td>0.0</td>\n",
       "    </tr>\n",
       "    <tr>\n",
       "      <th>2</th>\n",
       "      <td>2400.0</td>\n",
       "      <td>36</td>\n",
       "      <td>84.33</td>\n",
       "      <td>12252.0</td>\n",
       "      <td>Dec-2011</td>\n",
       "      <td>8.72</td>\n",
       "      <td>0.0</td>\n",
       "      <td>2.0</td>\n",
       "      <td>2.0</td>\n",
       "      <td>10.0</td>\n",
       "      <td>...</td>\n",
       "      <td>0.0</td>\n",
       "      <td>0.0</td>\n",
       "      <td>0.0</td>\n",
       "      <td>0.0</td>\n",
       "      <td>0.0</td>\n",
       "      <td>0.0</td>\n",
       "      <td>0.0</td>\n",
       "      <td>1.0</td>\n",
       "      <td>0.0</td>\n",
       "      <td>0.0</td>\n",
       "    </tr>\n",
       "    <tr>\n",
       "      <th>3</th>\n",
       "      <td>10000.0</td>\n",
       "      <td>36</td>\n",
       "      <td>339.31</td>\n",
       "      <td>49200.0</td>\n",
       "      <td>Dec-2011</td>\n",
       "      <td>20.00</td>\n",
       "      <td>0.0</td>\n",
       "      <td>1.0</td>\n",
       "      <td>10.0</td>\n",
       "      <td>37.0</td>\n",
       "      <td>...</td>\n",
       "      <td>0.0</td>\n",
       "      <td>0.0</td>\n",
       "      <td>0.0</td>\n",
       "      <td>0.0</td>\n",
       "      <td>0.0</td>\n",
       "      <td>1.0</td>\n",
       "      <td>0.0</td>\n",
       "      <td>0.0</td>\n",
       "      <td>0.0</td>\n",
       "      <td>0.0</td>\n",
       "    </tr>\n",
       "    <tr>\n",
       "      <th>4</th>\n",
       "      <td>3000.0</td>\n",
       "      <td>60</td>\n",
       "      <td>67.79</td>\n",
       "      <td>80000.0</td>\n",
       "      <td>Dec-2011</td>\n",
       "      <td>17.94</td>\n",
       "      <td>0.0</td>\n",
       "      <td>0.0</td>\n",
       "      <td>15.0</td>\n",
       "      <td>38.0</td>\n",
       "      <td>...</td>\n",
       "      <td>0.0</td>\n",
       "      <td>0.0</td>\n",
       "      <td>0.0</td>\n",
       "      <td>0.0</td>\n",
       "      <td>0.0</td>\n",
       "      <td>1.0</td>\n",
       "      <td>0.0</td>\n",
       "      <td>0.0</td>\n",
       "      <td>0.0</td>\n",
       "      <td>0.0</td>\n",
       "    </tr>\n",
       "  </tbody>\n",
       "</table>\n",
       "<p>5 rows × 56 columns</p>\n",
       "</div>"
      ],
      "text/plain": [
       "   funded_amnt  term  installment  annual_inc   issue_d    dti  delinq_2yrs  \\\n",
       "0       5000.0    36       162.87     24000.0  Dec-2011  27.65          0.0   \n",
       "1       2500.0    60        59.83     30000.0  Dec-2011   1.00          0.0   \n",
       "2       2400.0    36        84.33     12252.0  Dec-2011   8.72          0.0   \n",
       "3      10000.0    36       339.31     49200.0  Dec-2011  20.00          0.0   \n",
       "4       3000.0    60        67.79     80000.0  Dec-2011  17.94          0.0   \n",
       "\n",
       "   inq_last_6mths  open_acc  total_acc          ...           \\\n",
       "0             1.0       3.0        9.0          ...            \n",
       "1             5.0       3.0        4.0          ...            \n",
       "2             2.0       2.0       10.0          ...            \n",
       "3             1.0      10.0       37.0          ...            \n",
       "4             0.0      15.0       38.0          ...            \n",
       "\n",
       "   Loan_Purpose_home_improvement Loan_Purpose_house  \\\n",
       "0                            0.0                0.0   \n",
       "1                            0.0                0.0   \n",
       "2                            0.0                0.0   \n",
       "3                            0.0                0.0   \n",
       "4                            0.0                0.0   \n",
       "\n",
       "   Loan_Purpose_major_purchase  Loan_Purpose_medical  Loan_Purpose_moving  \\\n",
       "0                          0.0                   0.0                  0.0   \n",
       "1                          0.0                   0.0                  0.0   \n",
       "2                          0.0                   0.0                  0.0   \n",
       "3                          0.0                   0.0                  0.0   \n",
       "4                          0.0                   0.0                  0.0   \n",
       "\n",
       "   Loan_Purpose_other  Loan_Purpose_renewable_energy  \\\n",
       "0                 0.0                            0.0   \n",
       "1                 0.0                            0.0   \n",
       "2                 0.0                            0.0   \n",
       "3                 1.0                            0.0   \n",
       "4                 1.0                            0.0   \n",
       "\n",
       "   Loan_Purpose_small_business  Loan_Purpose_vacation  Loan_Purpose_wedding  \n",
       "0                          0.0                    0.0                   0.0  \n",
       "1                          0.0                    0.0                   0.0  \n",
       "2                          1.0                    0.0                   0.0  \n",
       "3                          0.0                    0.0                   0.0  \n",
       "4                          0.0                    0.0                   0.0  \n",
       "\n",
       "[5 rows x 56 columns]"
      ]
     },
     "execution_count": 2,
     "metadata": {},
     "output_type": "execute_result"
    }
   ],
   "source": [
    "import pandas as pd\n",
    "import numpy as np\n",
    "import copy\n",
    "\n",
    "import warnings\n",
    "warnings.simplefilter('ignore', DeprecationWarning)\n",
    "warnings.simplefilter('ignore', FutureWarning)\n",
    "warnings.simplefilter(\"ignore\")\n",
    "\n",
    "#Bring in data set\n",
    "loan_df = pd.read_csv('LoanData/loanData.csv')\n",
    "\n",
    "#Remove unwanted attributes from the data set based on specific criteria\n",
    "for col in ['id','funded_amnt_inv','sub_grade','emp_title','pymnt_plan','url','title','zip_code','earliest_cr_line',\n",
    "            'mths_since_last_delinq','mths_since_last_record','pub_rec','revol_bal','revol_util',\n",
    "            'initial_list_status','out_prncp_inv','total_pymnt_inv','recoveries','collection_recovery_fee',\n",
    "            'last_pymnt_amnt','next_pymnt_d','last_credit_pull_d','collections_12_mths_ex_med','policy_code','application_type',\n",
    "            'annual_inc_joint','dti_joint','verification_status_joint','open_acc_6m','open_il_6m','open_il_12m','open_il_24m',\n",
    "            'mths_since_rcnt_il','total_bal_il','il_util','open_rv_12m','open_rv_24m','max_bal_bc','all_util',\n",
    "            'total_rev_hi_lim','inq_fi','total_cu_tl','inq_last_12m', 'mths_since_last_major_derog', 'desc', 'addr_state', 'tot_coll_amt', 'tot_cur_bal', 'member_id', 'total_rec_prncp', 'total_rec_int',\n",
    "           'total_rec_late_fee', 'loan_amnt', 'out_prncp']:\n",
    "    if col in loan_df:\n",
    "        del loan_df[col]\n",
    "\n",
    "#Create new variables for classification\n",
    "#Modify term to be integer for easier analysis\n",
    "loan_df = loan_df.replace(to_replace=\" 36 months\", value=36)\n",
    "loan_df = loan_df.replace(to_replace=\" 60 months\", value=60)\n",
    "\n",
    "#Impute missing data values with median\n",
    "for col in ['annual_inc', 'delinq_2yrs', 'inq_last_6mths', 'open_acc', 'acc_now_delinq']:\n",
    "    df_temp = copy.deepcopy(loan_df[col])\n",
    "    df_temp = df_temp.replace(to_replace=np.nan, value=df_temp.median())\n",
    "    loan_df[col] = df_temp\n",
    "    \n",
    "#Numerical classification of grade\n",
    "tmp_df = pd.get_dummies(loan_df.grade,prefix='grade')\n",
    "loan_df = pd.concat((loan_df,tmp_df),axis=1) # add back into the dataframe\n",
    "\n",
    "if \"grade\" in loan_df:\n",
    "    del loan_df[\"grade\"]\n",
    "    \n",
    "#Numerical classification of employment length\n",
    "tmp_df = pd.get_dummies(loan_df.emp_length,prefix='Employ')\n",
    "loan_df = pd.concat((loan_df,tmp_df),axis=1) # add back into the dataframe\n",
    "\n",
    "if \"emp_length\" in loan_df:\n",
    "    del loan_df[\"emp_length\"]\n",
    "\n",
    "#Range of interest rates\n",
    "loan_df['Int_Rate_Range'] = pd.cut(loan_df.int_rate, [0, 5,10,15,20,25, 30], 6, labels=[0, 1, 2, 3, 4, 5])\n",
    "\n",
    "if \"int_rate\" in loan_df:\n",
    "    del loan_df[\"int_rate\"]\n",
    "\n",
    "#Nominal classification of loan_status\n",
    "loan_df.loc[loan_df['loan_status'] == 'Charged Off' , 'Loan_Class'] = 0\n",
    "loan_df.loc[loan_df['loan_status'] == 'Default' , 'Loan_Class'] = 0\n",
    "loan_df.loc[loan_df['loan_status'] == 'Late (31-120 days)' , 'Loan_Class'] = 0\n",
    "loan_df.loc[loan_df['loan_status'] == 'Late (16-30 days)' , 'Loan_Class'] = 0\n",
    "loan_df.loc[loan_df['loan_status'] == 'Does not meet the credit policy. Status:Charged Off' , 'Loan_Class'] = 0\n",
    "\n",
    "loan_df.loc[loan_df['loan_status'] == 'Fully Paid' , 'Loan_Class'] = 1\n",
    "loan_df.loc[loan_df['loan_status'] == 'Does not meet the credit policy. Status:Fully Paid' , 'Loan_Class'] = 1\n",
    "\n",
    "loan_df.loc[loan_df['loan_status'] == 'Current' , 'Loan_Class'] = 1\n",
    "loan_df.loc[loan_df['loan_status'] == 'In Grace Period' , 'Loan_Class'] = 1\n",
    "loan_df.loc[loan_df['loan_status'] == 'Issued' , 'Loan_Class'] = 1\n",
    "\n",
    "#Secondary classification of loan class for further analysis of data (used for new data frames)\n",
    "# comparing the historical data (good/bad loans) to current data (loans still in progress)\n",
    "# Loans are classified as 'Bad' if loans are bad\n",
    "loan_df.loc[loan_df['loan_status'] == 'Charged Off' , 'Loan_Class2'] = 'Bad'\n",
    "loan_df.loc[loan_df['loan_status'] == 'Default' , 'Loan_Class2'] = 'Bad'\n",
    "loan_df.loc[loan_df['loan_status'] == 'Late (31-120 days)' , 'Loan_Class2'] = 'Bad'\n",
    "loan_df.loc[loan_df['loan_status'] == 'Late (16-30 days)' , 'Loan_Class2'] = 'Bad'\n",
    "loan_df.loc[loan_df['loan_status'] == 'Does not meet the credit policy. Status:Charged Off' , 'Loan_Class2'] = 'Bad'\n",
    "# Loans are classified as 'Good' if loans are good\n",
    "loan_df.loc[loan_df['loan_status'] == 'Fully Paid' , 'Loan_Class2'] = 'Good'\n",
    "loan_df.loc[loan_df['loan_status'] == 'Does not meet the credit policy. Status:Fully Paid' , 'Loan_Class2'] = 'Good'\n",
    "# Loans are classified as 'Current' if loans are current/still in progress\n",
    "loan_df.loc[loan_df['loan_status'] == 'Current' , 'Loan_Class2'] = 'Current'\n",
    "loan_df.loc[loan_df['loan_status'] == 'In Grace Period' , 'Loan_Class2'] = 'Current'\n",
    "loan_df.loc[loan_df['loan_status'] == 'Issued' , 'Loan_Class2'] = 'Current'\n",
    "\n",
    "if \"loan_status\" in loan_df:\n",
    "    del loan_df[\"loan_status\"]\n",
    "\n",
    "#Nominal classification of verification status\n",
    "loan_df.loc[loan_df['verification_status'] == 'Verified', 'Verify_Status'] = 1\n",
    "loan_df.loc[loan_df['verification_status'] == 'Source Verified', 'Verify_Status'] = 1\n",
    "loan_df.loc[loan_df['verification_status'] == 'Not Verified', 'Verify_Status'] = 0\n",
    "\n",
    "if \"verification_status\" in loan_df:\n",
    "    del loan_df[\"verification_status\"]\n",
    "\n",
    "#Nominal classification of home ownership\n",
    "tmp_df = pd.get_dummies(loan_df.home_ownership,prefix='Home')\n",
    "loan_df = pd.concat((loan_df,tmp_df),axis=1) # add back into the dataframe\n",
    "\n",
    "if \"home_ownership\" in loan_df:\n",
    "    del loan_df[\"home_ownership\"]\n",
    "\n",
    "#Impute missing data values with median\n",
    "for col in ['total_acc']:\n",
    "    df_temp = copy.deepcopy(loan_df[col])\n",
    "    df_temp = df_temp.replace(to_replace=np.nan, value= 0 )\n",
    "    loan_df[col] = df_temp    \n",
    "\n",
    "for col in ['total_pymnt']:\n",
    "    df_temp = copy.deepcopy(loan_df[col])\n",
    "    df_temp = df_temp.replace(to_replace=np.nan, value= 0 )\n",
    "    loan_df[col] = df_temp \n",
    "   \n",
    "\n",
    "tmp_df = pd.get_dummies(loan_df.purpose,prefix='Loan_Purpose')\n",
    "loan_df = pd.concat((loan_df,tmp_df),axis=1)\n",
    "\n",
    "if 'purpose' in loan_df:\n",
    "    del loan_df['purpose']\n",
    "    \n",
    "loan_df.head()"
   ]
  },
  {
   "cell_type": "code",
   "execution_count": 3,
   "metadata": {
    "collapsed": false
   },
   "outputs": [
    {
     "name": "stdout",
     "output_type": "stream",
     "text": [
      "<class 'pandas.core.frame.DataFrame'>\n",
      "Int64Index: 869720 entries, 0 to 887378\n",
      "Data columns (total 56 columns):\n",
      "funded_amnt                        869720 non-null float64\n",
      "term                               869720 non-null int64\n",
      "installment                        869720 non-null float64\n",
      "annual_inc                         869720 non-null float64\n",
      "issue_d                            869720 non-null object\n",
      "dti                                869720 non-null float64\n",
      "delinq_2yrs                        869720 non-null float64\n",
      "inq_last_6mths                     869720 non-null float64\n",
      "open_acc                           869720 non-null float64\n",
      "total_acc                          869720 non-null float64\n",
      "total_pymnt                        869720 non-null float64\n",
      "last_pymnt_d                       869720 non-null object\n",
      "acc_now_delinq                     869720 non-null float64\n",
      "grade_A                            869720 non-null float64\n",
      "grade_B                            869720 non-null float64\n",
      "grade_C                            869720 non-null float64\n",
      "grade_D                            869720 non-null float64\n",
      "grade_E                            869720 non-null float64\n",
      "grade_F                            869720 non-null float64\n",
      "grade_G                            869720 non-null float64\n",
      "Employ_1 year                      869720 non-null float64\n",
      "Employ_10+ years                   869720 non-null float64\n",
      "Employ_2 years                     869720 non-null float64\n",
      "Employ_3 years                     869720 non-null float64\n",
      "Employ_4 years                     869720 non-null float64\n",
      "Employ_5 years                     869720 non-null float64\n",
      "Employ_6 years                     869720 non-null float64\n",
      "Employ_7 years                     869720 non-null float64\n",
      "Employ_8 years                     869720 non-null float64\n",
      "Employ_9 years                     869720 non-null float64\n",
      "Employ_< 1 year                    869720 non-null float64\n",
      "Employ_n/a                         869720 non-null float64\n",
      "Int_Rate_Range                     869720 non-null category\n",
      "Loan_Class                         869720 non-null float64\n",
      "Loan_Class2                        869720 non-null object\n",
      "Verify_Status                      869720 non-null float64\n",
      "Home_ANY                           869720 non-null float64\n",
      "Home_MORTGAGE                      869720 non-null float64\n",
      "Home_NONE                          869720 non-null float64\n",
      "Home_OTHER                         869720 non-null float64\n",
      "Home_OWN                           869720 non-null float64\n",
      "Home_RENT                          869720 non-null float64\n",
      "Loan_Purpose_car                   869720 non-null float64\n",
      "Loan_Purpose_credit_card           869720 non-null float64\n",
      "Loan_Purpose_debt_consolidation    869720 non-null float64\n",
      "Loan_Purpose_educational           869720 non-null float64\n",
      "Loan_Purpose_home_improvement      869720 non-null float64\n",
      "Loan_Purpose_house                 869720 non-null float64\n",
      "Loan_Purpose_major_purchase        869720 non-null float64\n",
      "Loan_Purpose_medical               869720 non-null float64\n",
      "Loan_Purpose_moving                869720 non-null float64\n",
      "Loan_Purpose_other                 869720 non-null float64\n",
      "Loan_Purpose_renewable_energy      869720 non-null float64\n",
      "Loan_Purpose_small_business        869720 non-null float64\n",
      "Loan_Purpose_vacation              869720 non-null float64\n",
      "Loan_Purpose_wedding               869720 non-null float64\n",
      "dtypes: category(1), float64(51), int64(1), object(3)\n",
      "memory usage: 372.4+ MB\n",
      "None\n"
     ]
    }
   ],
   "source": [
    "loan_df = loan_df.dropna()\n",
    "print loan_df.info()"
   ]
  },
  {
   "cell_type": "code",
   "execution_count": 4,
   "metadata": {
    "collapsed": false
   },
   "outputs": [],
   "source": [
    "from datetime import datetime\n",
    "loan_df['duration_paid'] =  (pd.to_datetime(loan_df['last_pymnt_d']) - pd.to_datetime(loan_df['issue_d']))"
   ]
  },
  {
   "cell_type": "code",
   "execution_count": 5,
   "metadata": {
    "collapsed": false
   },
   "outputs": [],
   "source": [
    "loan_df['Count_Days'] =  loan_df['duration_paid'].dt.days\n",
    "loan_df['Payment_rate'] =  loan_df['total_pymnt'] / (loan_df['Count_Days']+1)*30\n",
    "loan_df['Payment_ratio'] = loan_df['Payment_rate']/ loan_df['installment']"
   ]
  },
  {
   "cell_type": "code",
   "execution_count": 6,
   "metadata": {
    "collapsed": false
   },
   "outputs": [],
   "source": [
    "loan_df = loan_df.dropna()"
   ]
  },
  {
   "cell_type": "code",
   "execution_count": 7,
   "metadata": {
    "collapsed": true
   },
   "outputs": [],
   "source": [
    "if \"issue_d\" in loan_df:\n",
    "    del loan_df[\"issue_d\"]\n",
    "if \"last_pymnt_d\" in loan_df:\n",
    "    del loan_df[\"last_pymnt_d\"]\n",
    "if \"total_pymnt\" in loan_df:\n",
    "    del loan_df[\"total_pymnt\"]\n",
    "if \"duration_paid\" in loan_df:\n",
    "    del loan_df['duration_paid']"
   ]
  },
  {
   "cell_type": "code",
   "execution_count": 8,
   "metadata": {
    "collapsed": false
   },
   "outputs": [],
   "source": [
    "# Create separate data frames for future analysis and breakdown\n",
    "loan_df_unfinished = loan_df[loan_df['Loan_Class2'] == 'Current'] #Data of uncompleted loans\n",
    "loan_df_finished = loan_df[(loan_df['Loan_Class2'] == 'Bad') | (loan_df['Loan_Class2']=='Good')] #Data of completed loans\n",
    "\n",
    "#loan_df.copy()\n",
    "\n",
    "if \"Loan_Class2\" in loan_df:\n",
    "    del loan_df[\"Loan_Class2\"]"
   ]
  },
  {
   "cell_type": "code",
   "execution_count": 9,
   "metadata": {
    "collapsed": false
   },
   "outputs": [
    {
     "name": "stdout",
     "output_type": "stream",
     "text": [
      "<class 'pandas.core.frame.DataFrame'>\n",
      "Int64Index: 869720 entries, 0 to 887378\n",
      "Data columns (total 55 columns):\n",
      "funded_amnt                        869720 non-null float64\n",
      "term                               869720 non-null int64\n",
      "installment                        869720 non-null float64\n",
      "annual_inc                         869720 non-null float64\n",
      "dti                                869720 non-null float64\n",
      "delinq_2yrs                        869720 non-null float64\n",
      "inq_last_6mths                     869720 non-null float64\n",
      "open_acc                           869720 non-null float64\n",
      "total_acc                          869720 non-null float64\n",
      "acc_now_delinq                     869720 non-null float64\n",
      "grade_A                            869720 non-null float64\n",
      "grade_B                            869720 non-null float64\n",
      "grade_C                            869720 non-null float64\n",
      "grade_D                            869720 non-null float64\n",
      "grade_E                            869720 non-null float64\n",
      "grade_F                            869720 non-null float64\n",
      "grade_G                            869720 non-null float64\n",
      "Employ_1 year                      869720 non-null float64\n",
      "Employ_10+ years                   869720 non-null float64\n",
      "Employ_2 years                     869720 non-null float64\n",
      "Employ_3 years                     869720 non-null float64\n",
      "Employ_4 years                     869720 non-null float64\n",
      "Employ_5 years                     869720 non-null float64\n",
      "Employ_6 years                     869720 non-null float64\n",
      "Employ_7 years                     869720 non-null float64\n",
      "Employ_8 years                     869720 non-null float64\n",
      "Employ_9 years                     869720 non-null float64\n",
      "Employ_< 1 year                    869720 non-null float64\n",
      "Employ_n/a                         869720 non-null float64\n",
      "Int_Rate_Range                     869720 non-null category\n",
      "Loan_Class                         869720 non-null float64\n",
      "Verify_Status                      869720 non-null float64\n",
      "Home_ANY                           869720 non-null float64\n",
      "Home_MORTGAGE                      869720 non-null float64\n",
      "Home_NONE                          869720 non-null float64\n",
      "Home_OTHER                         869720 non-null float64\n",
      "Home_OWN                           869720 non-null float64\n",
      "Home_RENT                          869720 non-null float64\n",
      "Loan_Purpose_car                   869720 non-null float64\n",
      "Loan_Purpose_credit_card           869720 non-null float64\n",
      "Loan_Purpose_debt_consolidation    869720 non-null float64\n",
      "Loan_Purpose_educational           869720 non-null float64\n",
      "Loan_Purpose_home_improvement      869720 non-null float64\n",
      "Loan_Purpose_house                 869720 non-null float64\n",
      "Loan_Purpose_major_purchase        869720 non-null float64\n",
      "Loan_Purpose_medical               869720 non-null float64\n",
      "Loan_Purpose_moving                869720 non-null float64\n",
      "Loan_Purpose_other                 869720 non-null float64\n",
      "Loan_Purpose_renewable_energy      869720 non-null float64\n",
      "Loan_Purpose_small_business        869720 non-null float64\n",
      "Loan_Purpose_vacation              869720 non-null float64\n",
      "Loan_Purpose_wedding               869720 non-null float64\n",
      "Count_Days                         869720 non-null int64\n",
      "Payment_rate                       869720 non-null float64\n",
      "Payment_ratio                      869720 non-null float64\n",
      "dtypes: category(1), float64(52), int64(2)\n",
      "memory usage: 365.8 MB\n"
     ]
    }
   ],
   "source": [
    "loan_df.info()"
   ]
  },
  {
   "cell_type": "code",
   "execution_count": 10,
   "metadata": {
    "collapsed": false
   },
   "outputs": [
    {
     "name": "stdout",
     "output_type": "stream",
     "text": [
      "ShuffleSplit(869720, n_iter=5, test_size=0.2, random_state=None)\n"
     ]
    }
   ],
   "source": [
    "from sklearn.cross_validation import ShuffleSplit\n",
    "from sklearn.linear_model import LogisticRegression\n",
    "from sklearn import metrics as mt\n",
    "from sklearn.preprocessing import StandardScaler\n",
    "from sklearn.linear_model import SGDClassifier\n",
    "\n",
    "from matplotlib import pyplot as plt\n",
    "\n",
    "\n",
    "# Split our data frame into our classification of Loan_Class and the rest of the data set\n",
    "if 'Loan_Class' in loan_df:\n",
    "    y = loan_df['Loan_Class'].values\n",
    "    del loan_df['Loan_Class']\n",
    "    X = loan_df.values\n",
    "\n",
    "# Shuffle split our data into an 80/20 breakdown. The 80 will be used for training and the 20 for testing\n",
    "num_cv_iterations = 5\n",
    "num_instances = len(y)\n",
    "cv_obj = ShuffleSplit(n = num_instances, n_iter = num_cv_iterations, test_size = 0.2)\n",
    "\n",
    "print cv_obj"
   ]
  },
  {
   "cell_type": "markdown",
   "metadata": {},
   "source": [
    "### Logistic Regression\n",
    "\n",
    "We will begin by conducting a logistic regression on the full data set. We will look at the accuracy of the classification to see how accurate the regression model is and the confusion matrix to see if there are any oddities in the breakdown."
   ]
  },
  {
   "cell_type": "code",
   "execution_count": 11,
   "metadata": {
    "collapsed": false
   },
   "outputs": [
    {
     "name": "stdout",
     "output_type": "stream",
     "text": [
      "====Iteration 0  ====\n",
      "accuracy 0.930408637263\n",
      "confusion matrix\n",
      "[[     0  12105]\n",
      " [     0 161839]]\n",
      "====Iteration 1  ====\n",
      "accuracy 0.930080945592\n",
      "confusion matrix\n",
      "[[     0  12162]\n",
      " [     0 161782]]\n",
      "====Iteration 2  ====\n",
      "accuracy 0.93056960861\n",
      "confusion matrix\n",
      "[[     0  12077]\n",
      " [     0 161867]]\n",
      "====Iteration 3  ====\n",
      "accuracy 0.930149933312\n",
      "confusion matrix\n",
      "[[     0  12150]\n",
      " [     0 161794]]\n",
      "====Iteration 4  ====\n",
      "accuracy 0.930563859633\n",
      "confusion matrix\n",
      "[[     0  12078]\n",
      " [     0 161866]]\n"
     ]
    }
   ],
   "source": [
    "from sklearn.linear_model import LogisticRegression\n",
    "from sklearn import metrics as mt\n",
    "\n",
    "logreg_obj = LogisticRegression(penalty='l2', C=1.0, class_weight=None)\n",
    "\n",
    "# Fit and test the regression model for each shuffled instance\n",
    "for iter_num, (train_indices, test_indices) in enumerate(cv_obj):\n",
    "    logreg_obj.fit(X[train_indices],y[train_indices])  # train object\n",
    "    y_hat = logreg_obj.predict(X[test_indices]) # get test set precitions\n",
    "\n",
    "    # print the accuracy and confusion matrix \n",
    "    print \"====Iteration\",iter_num,\" ====\"\n",
    "    print \"accuracy\", mt.accuracy_score(y[test_indices],y_hat) \n",
    "    print \"confusion matrix\\n\",mt.confusion_matrix(y[test_indices],y_hat)"
   ]
  },
  {
   "cell_type": "code",
   "execution_count": 12,
   "metadata": {
    "collapsed": false
   },
   "outputs": [],
   "source": [
    "# Add column to determine if loan is good or bad based on classification in data set\n",
    "loan_df_finished['isGoodLoan'] = loan_df_finished['Loan_Class2'] == 'Good'\n",
    "loan_df_finished.isGoodLoan = loan_df_finished.isGoodLoan.astype(np.int)\n",
    "\n",
    "#Remove Loan_Class and Loan_Class2 from the data frame so they are no longer observed for classification\n",
    "if \"Loan_Class\" in loan_df_finished:\n",
    "    del loan_df_finished[\"Loan_Class\"]\n",
    "if \"Loan_Class2\" in loan_df_finished:\n",
    "    del loan_df_finished[\"Loan_Class2\"]"
   ]
  },
  {
   "cell_type": "code",
   "execution_count": 13,
   "metadata": {
    "collapsed": false
   },
   "outputs": [],
   "source": [
    "# Split the data into our x and y matrices for testing\n",
    "if 'isGoodLoan' in loan_df_finished:\n",
    "    updated_y = loan_df_finished['isGoodLoan'].values\n",
    "    del loan_df_finished['isGoodLoan']\n",
    "    updated_X = loan_df_finished.values\n",
    "\n",
    "# Create a new Shuffle split on the narrowed classification data\n",
    "num_cv_iterations = 5\n",
    "num_instances = len(updated_y)\n",
    "updated_cv_obj = ShuffleSplit(n = num_instances, n_iter = num_cv_iterations, test_size = 0.2)"
   ]
  },
  {
   "cell_type": "code",
   "execution_count": 14,
   "metadata": {
    "collapsed": false
   },
   "outputs": [
    {
     "name": "stdout",
     "output_type": "stream",
     "text": [
      "<class 'pandas.core.frame.DataFrame'>\n",
      "Int64Index: 270178 entries, 0 to 887371\n",
      "Data columns (total 54 columns):\n",
      "funded_amnt                        270178 non-null float64\n",
      "term                               270178 non-null int64\n",
      "installment                        270178 non-null float64\n",
      "annual_inc                         270178 non-null float64\n",
      "dti                                270178 non-null float64\n",
      "delinq_2yrs                        270178 non-null float64\n",
      "inq_last_6mths                     270178 non-null float64\n",
      "open_acc                           270178 non-null float64\n",
      "total_acc                          270178 non-null float64\n",
      "acc_now_delinq                     270178 non-null float64\n",
      "grade_A                            270178 non-null float64\n",
      "grade_B                            270178 non-null float64\n",
      "grade_C                            270178 non-null float64\n",
      "grade_D                            270178 non-null float64\n",
      "grade_E                            270178 non-null float64\n",
      "grade_F                            270178 non-null float64\n",
      "grade_G                            270178 non-null float64\n",
      "Employ_1 year                      270178 non-null float64\n",
      "Employ_10+ years                   270178 non-null float64\n",
      "Employ_2 years                     270178 non-null float64\n",
      "Employ_3 years                     270178 non-null float64\n",
      "Employ_4 years                     270178 non-null float64\n",
      "Employ_5 years                     270178 non-null float64\n",
      "Employ_6 years                     270178 non-null float64\n",
      "Employ_7 years                     270178 non-null float64\n",
      "Employ_8 years                     270178 non-null float64\n",
      "Employ_9 years                     270178 non-null float64\n",
      "Employ_< 1 year                    270178 non-null float64\n",
      "Employ_n/a                         270178 non-null float64\n",
      "Int_Rate_Range                     270178 non-null category\n",
      "Verify_Status                      270178 non-null float64\n",
      "Home_ANY                           270178 non-null float64\n",
      "Home_MORTGAGE                      270178 non-null float64\n",
      "Home_NONE                          270178 non-null float64\n",
      "Home_OTHER                         270178 non-null float64\n",
      "Home_OWN                           270178 non-null float64\n",
      "Home_RENT                          270178 non-null float64\n",
      "Loan_Purpose_car                   270178 non-null float64\n",
      "Loan_Purpose_credit_card           270178 non-null float64\n",
      "Loan_Purpose_debt_consolidation    270178 non-null float64\n",
      "Loan_Purpose_educational           270178 non-null float64\n",
      "Loan_Purpose_home_improvement      270178 non-null float64\n",
      "Loan_Purpose_house                 270178 non-null float64\n",
      "Loan_Purpose_major_purchase        270178 non-null float64\n",
      "Loan_Purpose_medical               270178 non-null float64\n",
      "Loan_Purpose_moving                270178 non-null float64\n",
      "Loan_Purpose_other                 270178 non-null float64\n",
      "Loan_Purpose_renewable_energy      270178 non-null float64\n",
      "Loan_Purpose_small_business        270178 non-null float64\n",
      "Loan_Purpose_vacation              270178 non-null float64\n",
      "Loan_Purpose_wedding               270178 non-null float64\n",
      "Count_Days                         270178 non-null int64\n",
      "Payment_rate                       270178 non-null float64\n",
      "Payment_ratio                      270178 non-null float64\n",
      "dtypes: category(1), float64(51), int64(2)\n",
      "memory usage: 111.6 MB\n"
     ]
    }
   ],
   "source": [
    "loan_df_finished.info()"
   ]
  },
  {
   "cell_type": "code",
   "execution_count": 15,
   "metadata": {
    "collapsed": false
   },
   "outputs": [
    {
     "name": "stdout",
     "output_type": "stream",
     "text": [
      "==== Iteration 0  ====\n",
      "accuracy 0.957861425716\n",
      "confusion matrix\n",
      "[[10191  1884]\n",
      " [  393 41568]]\n",
      "==== Iteration 1  ====\n",
      "accuracy 0.958509142053\n",
      "confusion matrix\n",
      "[[10078  1898]\n",
      " [  344 41716]]\n",
      "==== Iteration 2  ====\n",
      "accuracy 0.957380265009\n",
      "confusion matrix\n",
      "[[10047  2018]\n",
      " [  285 41686]]\n",
      "==== Iteration 3  ====\n",
      "accuracy 0.956788067214\n",
      "confusion matrix\n",
      "[[ 9982  1979]\n",
      " [  356 41719]]\n",
      "==== Iteration 4  ====\n",
      "accuracy 0.958009475165\n",
      "confusion matrix\n",
      "[[10227  1898]\n",
      " [  371 41540]]\n"
     ]
    }
   ],
   "source": [
    "updated_logreg_obj = LogisticRegression(penalty='l2', C=10, class_weight=None)\n",
    "\n",
    "for iter_num, (train_indices, test_indices) in enumerate(updated_cv_obj):\n",
    "    updated_logreg_obj.fit(updated_X[train_indices],updated_y[train_indices])  # train object\n",
    "    updated_y_hat = updated_logreg_obj.predict(updated_X[test_indices]) # get test set precitions\n",
    "\n",
    "    # print the accuracy and confusion matrix \n",
    "    print \"==== Iteration\",iter_num,\" ====\"\n",
    "    print \"accuracy\", mt.accuracy_score(updated_y[test_indices],updated_y_hat) \n",
    "    print \"confusion matrix\\n\",mt.confusion_matrix(updated_y[test_indices],updated_y_hat)"
   ]
  },
  {
   "cell_type": "markdown",
   "metadata": {},
   "source": [
    "The results of this classification not only have a higher accuracy than the original, full data set, right around 97.9% on average rather than 93.1%, but it also has better looking confusion mattrices. There are data points that are classified correctly. Although there are still a large number of bad loans being incorrectly identified as good, it is much better distributed than the original set.\n",
    "\n",
    "We follow up this analysis by looking at the weight of each factor used. This will help us figure out if there are certain features that are more influential than others to help with the classification of each point."
   ]
  },
  {
   "cell_type": "code",
   "execution_count": 16,
   "metadata": {
    "collapsed": false
   },
   "outputs": [
    {
     "name": "stdout",
     "output_type": "stream",
     "text": [
      "funded_amnt has weight of -0.00014595994168\n",
      "term has weight of -0.104539509989\n",
      "installment has weight of -0.0104338306754\n",
      "annual_inc has weight of 5.18075566237e-06\n",
      "dti has weight of -0.0238444220104\n",
      "delinq_2yrs has weight of -0.00171370436506\n",
      "inq_last_6mths has weight of -0.00629719962202\n",
      "open_acc has weight of -0.00871329916341\n",
      "total_acc has weight of 0.016251649981\n",
      "acc_now_delinq has weight of -3.53703591993e-05\n",
      "grade_A has weight of 0.00252899732031\n",
      "grade_B has weight of 0.00101200088805\n",
      "grade_C has weight of -0.00127374756417\n",
      "grade_D has weight of -0.00227084117453\n",
      "grade_E has weight of -0.00122771766023\n",
      "grade_F has weight of -0.00054749446191\n",
      "grade_G has weight of -0.000172810850784\n",
      "Employ_1 year has weight of -0.000185483272426\n",
      "Employ_10+ years has weight of 7.44778546524e-05\n",
      "Employ_2 years has weight of -0.000199388458871\n",
      "Employ_3 years has weight of -9.64506906998e-05\n",
      "Employ_4 years has weight of -8.74674108548e-05\n",
      "Employ_5 years has weight of -0.000114043123368\n",
      "Employ_6 years has weight of -0.000139088052056\n",
      "Employ_7 years has weight of -0.0001680041483\n",
      "Employ_8 years has weight of -0.000106979719003\n",
      "Employ_9 years has weight of -0.000123122464016\n",
      "Employ_< 1 year has weight of -0.000241785925174\n",
      "Employ_n/a has weight of -0.000564278093144\n",
      "Int_Rate_Range has weight of -0.013042972717\n",
      "Verify_Status has weight of -0.00114552378037\n",
      "Home_ANY has weight of 5.73128807008e-12\n",
      "Home_MORTGAGE has weight of 0.00103110188722\n",
      "Home_NONE has weight of -2.84380271067e-06\n",
      "Home_OTHER has weight of -1.45289788588e-05\n",
      "Home_OWN has weight of -0.000343657318957\n",
      "Home_RENT has weight of -0.00262168529568\n",
      "Loan_Purpose_car has weight of 1.93000944084e-05\n",
      "Loan_Purpose_credit_card has weight of 0.00040435447031\n",
      "Loan_Purpose_debt_consolidation has weight of -0.00107990486247\n",
      "Loan_Purpose_educational has weight of -4.63211671529e-05\n",
      "Loan_Purpose_home_improvement has weight of -0.000122126576611\n",
      "Loan_Purpose_house has weight of -6.59374375969e-05\n",
      "Loan_Purpose_major_purchase has weight of 3.52128309866e-05\n",
      "Loan_Purpose_medical has weight of -7.94026218458e-05\n",
      "Loan_Purpose_moving has weight of -9.5777892753e-05\n",
      "Loan_Purpose_other has weight of -0.000528414649084\n",
      "Loan_Purpose_renewable_energy has weight of -1.46130378375e-05\n",
      "Loan_Purpose_small_business has weight of -0.000383320682347\n",
      "Loan_Purpose_vacation has weight of 2.46279013419e-06\n",
      "Loan_Purpose_wedding has weight of 2.87523859574e-06\n",
      "Count_Days has weight of 0.00849972263726\n",
      "Payment_rate has weight of 0.00962976410241\n",
      "Payment_ratio has weight of 0.011551483024\n"
     ]
    }
   ],
   "source": [
    "# Non-normalized weights\n",
    "# Iterate over the coefficients to get the weight for each variable\n",
    "weights = updated_logreg_obj.coef_.T # take transpose to make a column vector\n",
    "variable_names = loan_df_finished.columns\n",
    "for coef, name in zip(weights,variable_names):\n",
    "    print name, 'has weight of', coef[0]"
   ]
  },
  {
   "cell_type": "markdown",
   "metadata": {},
   "source": [
    "We want to normalize the weights for each variable so that a much larger valued variable, such as the funded amount, is weighted the same as a small valued variable such as one that is binary or nominal."
   ]
  },
  {
   "cell_type": "code",
   "execution_count": 17,
   "metadata": {
    "collapsed": false
   },
   "outputs": [
    {
     "name": "stdout",
     "output_type": "stream",
     "text": [
      "Employ_7 years has weight of -0.00207545983768\n",
      "Employ_6 years has weight of 0.00335649204723\n",
      "Employ_10+ years has weight of -0.00394678448088\n",
      "Employ_< 1 year has weight of 0.00409695651846\n",
      "Employ_5 years has weight of 0.00596613463871\n",
      "Employ_9 years has weight of -0.00608152302807\n",
      "Employ_8 years has weight of -0.00650083994892\n",
      "Loan_Purpose_major_purchase has weight of 0.00761846432269\n",
      "Loan_Purpose_car has weight of -0.0077708893308\n",
      "Home_NONE has weight of -0.00793534356547\n",
      "Employ_1 year has weight of 0.00805505335547\n",
      "Home_OWN has weight of -0.00884032270306\n",
      "Home_OTHER has weight of -0.0102603067283\n",
      "Loan_Purpose_renewable_energy has weight of -0.0111960888794\n",
      "Loan_Purpose_house has weight of -0.0111964498503\n",
      "acc_now_delinq has weight of -0.0116961097223\n",
      "Employ_2 years has weight of 0.0142799791353\n",
      "Employ_4 years has weight of 0.0160870665294\n",
      "Loan_Purpose_wedding has weight of 0.0162375787746\n",
      "Loan_Purpose_medical has weight of -0.0184813958379\n",
      "Loan_Purpose_vacation has weight of -0.0189217314203\n",
      "Employ_3 years has weight of 0.0190421299472\n",
      "Loan_Purpose_moving has weight of -0.0195362576238\n",
      "Loan_Purpose_debt_consolidation has weight of 0.0234383744948\n",
      "Home_RENT has weight of -0.0272615070522\n",
      "Loan_Purpose_home_improvement has weight of -0.0303684182704\n",
      "delinq_2yrs has weight of -0.0304873771454\n",
      "Loan_Purpose_educational has weight of -0.0317041013927\n",
      "Home_MORTGAGE has weight of 0.0328575285439\n",
      "grade_G has weight of -0.037424063149\n",
      "funded_amnt has weight of -0.03775130607\n",
      "Loan_Purpose_other has weight of -0.0417358050249\n",
      "Verify_Status has weight of 0.0431517202608\n",
      "grade_C has weight of -0.0450397965937\n",
      "inq_last_6mths has weight of -0.0468220399914\n",
      "Home_ANY has weight of -0.050643537056\n",
      "Loan_Purpose_credit_card has weight of 0.0531710279048\n",
      "grade_B has weight of 0.0540017927831\n",
      "grade_F has weight of -0.0573423950716\n",
      "Int_Rate_Range has weight of 0.0653803344237\n",
      "Employ_n/a has weight of -0.0709269747977\n",
      "Loan_Purpose_small_business has weight of -0.0719673984154\n",
      "open_acc has weight of -0.0950874813879\n",
      "grade_E has weight of -0.109714320213\n",
      "grade_D has weight of -0.114956072337\n",
      "dti has weight of -0.115698676914\n",
      "total_acc has weight of 0.15242252391\n",
      "annual_inc has weight of 0.159080858276\n",
      "grade_A has weight of 0.22317659321\n",
      "installment has weight of -0.853194497192\n",
      "term has weight of -1.28107434523\n",
      "Count_Days has weight of 3.23822515796\n",
      "Payment_rate has weight of 78.495159323\n",
      "Payment_ratio has weight of 202.60733744\n",
      "accuracy: 0.971130357539\n"
     ]
    },
    {
     "data": {
      "image/png": "[encoded data removed]",
      "text/plain": [
       "<matplotlib.figure.Figure at 0x40e0278>"
      ]
     },
     "metadata": {},
     "output_type": "display_data"
    }
   ],
   "source": [
    "warnings.simplefilter(\"ignore\")\n",
    "%matplotlib inline\n",
    "\n",
    "# Normalize the features\n",
    "scale_obj = StandardScaler()\n",
    "scale_obj.fit(updated_X[train_indices])\n",
    "\n",
    "X_train_scaled = scale_obj.transform(updated_X[train_indices]) # apply to training\n",
    "X_test_scaled = scale_obj.transform(updated_X[test_indices])\n",
    "\n",
    "# Fit the regression to the new scaled data\n",
    "updated_logreg_obj.fit(X_train_scaled, updated_y[train_indices])\n",
    "\n",
    "y_hat = updated_logreg_obj.predict(X_test_scaled)\n",
    "\n",
    "# Rescore the accuracy and confusion matrix for the scaled data\n",
    "acc = mt.accuracy_score(updated_y[test_indices],y_hat)\n",
    "conf = mt.confusion_matrix(updated_y[test_indices],y_hat)\n",
    "\n",
    "\n",
    "# Sort the attributes on size and print them out in order of weight\n",
    "zip_vars = zip(updated_logreg_obj.coef_.T,loan_df_finished.columns) # combine attributes\n",
    "zip_vars.sort(key = lambda t: np.abs(t[0])) # sort them by the magnitude of the weight\n",
    "for coef, name in zip_vars:\n",
    "    print name, 'has weight of', coef[0] # now print them out\n",
    "    \n",
    "fig, ax = plt.subplots(figsize=(2.5,2.5))\n",
    "ax.matshow(conf, cmap=plt.cm.Blues, alpha = 0.3)\n",
    "for i in range (conf.shape[0]):\n",
    "    for j in range (conf.shape[1]):\n",
    "        ax.text(x=j, y=i, s=conf[i, j], va = 'center', ha = 'center')\n",
    "plt.xlabel ('Predicted Class')\n",
    "plt.ylabel ('True Class')\n",
    "plt.show\n",
    "\n",
    "print 'accuracy:', acc"
   ]
  },
  {
   "cell_type": "markdown",
   "metadata": {},
   "source": [
    "After scaling the data, we still get a similar accuracy to before and our confusion matrix has remained proportional. The scaled view of the variables provides a better way to compare each of the variables to one another and see which have a significant impact. In the graph below, it is even easier to note which variables have the most impact. The funded amount and total payment variables have a significant impact over any of the rest of the variables. Other notable variables that are valued slightly higher than the other factors are the Interst Rate Range, annual income and the number of total accounts someone has.\n",
    "\n",
    "These values make a lot of sense as to why they are the most important. The total payment should definitely be a factor that plays into determining if a loan is good or bad. If the loan is in good standing, the full principle amount will be paid off. This will relate positively because as you pay more back to the bank, you will become closer to finishing the loan. Alternatively, the less money you have paid the more likely you are to default on the loan. Funded amount and interest rate range are also valuable. Banks probably use these in relation to one another to determine who will default and give certain rates for ceratin funded amounts. They are negatively weighted in this case which means the higher the interest rate and the higher the funded amount, the more likely someone is to default. As a loan increases in value and interest rate, it gets more difficult to pay off the loan and so someone is more likely to go into default and end up with a \"bad\" loan."
   ]
  },
  {
   "cell_type": "code",
   "execution_count": 18,
   "metadata": {
    "collapsed": false
   },
   "outputs": [
    {
     "data": {
      "image/png": "[encoded data removed]",
      "text/plain": [
       "<matplotlib.figure.Figure at 0x2ba4fda0>"
      ]
     },
     "metadata": {},
     "output_type": "display_data"
    }
   ],
   "source": [
    "# now let's make a pandas Series with the names and values, and plot them\n",
    "\n",
    "%matplotlib inline\n",
    "plt.style.use('ggplot')\n",
    "fig = plt.figure(figsize=(16, 4))\n",
    "\n",
    "weights = pd.Series(updated_logreg_obj.coef_[0],index=loan_df_finished.columns)\n",
    "weights.plot(kind='bar')\n",
    "plt.show()"
   ]
  },
  {
   "cell_type": "markdown",
   "metadata": {},
   "source": [
    "### Support Vector Machines\n",
    "\n",
    "We continue our trials by observing the Support Vector Machines (SVM) to see if this method of classification can classify our data set better than logistic regression. We will start by observing the SVM of our original data set. Although it will most likely turn out the same way, not giving very good data, the SVM may reveal new splits in the decision. We will follow that up with looking at the SVM of the reduced data set that contains the completed loans. We can compare the accuracy of the SVM with the above logistic regression to determine if one classifies this data better than the other.\n",
    "\n",
    "Note: We use the SGDClassifier due to the size of our data set. Both sets are large and would take too long to train with a normal SVM in a time that is reasonable."
   ]
  },
  {
   "cell_type": "code",
   "execution_count": 19,
   "metadata": {
    "collapsed": false
   },
   "outputs": [
    {
     "name": "stdout",
     "output_type": "stream",
     "text": [
      "SVM: 0.930201674102\n",
      "Confusion Matrix:\n",
      "[[     0  12141]\n",
      " [     0 161803]]\n",
      "Coefficients [[  6.71098770e-04  -8.10068282e-03  -1.86578947e-03   8.71528680e-03\n",
      "   -8.77815997e-04   5.87110912e-04  -1.65963551e-02   3.79292339e-03\n",
      "    4.09436391e-03  -1.34211645e-04   2.03220666e-02   1.21112980e-02\n",
      "   -1.86550243e-03  -1.53683541e-02  -1.65641423e-02  -1.15531218e-02\n",
      "   -3.79056585e-03  -5.53142390e-04   4.48507280e-03   7.70575287e-05\n",
      "    3.06082659e-04  -3.68552072e-04  -1.46259417e-03  -2.45179362e-03\n",
      "   -1.47070636e-03   5.71783882e-04  -4.07616098e-05  -1.64482356e-03\n",
      "   -2.08862492e-03  -3.76980791e-02  -5.18435898e-03   1.14868522e-04\n",
      "    7.13942580e-03  -3.16122314e-04  -1.35175667e-03   1.18317482e-03\n",
      "   -7.95581433e-03   6.01542596e-04   8.55058968e-03  -4.03838508e-03\n",
      "   -2.10276867e-03   1.45009895e-03  -1.37203110e-03   2.36089202e-04\n",
      "   -1.56827405e-03  -2.22677028e-03  -3.72833004e-03  -1.16818018e-03\n",
      "   -5.89707059e-03  -3.42763725e-04  -2.13410842e-03   1.30808319e-04\n",
      "    3.03721726e-03   3.60499379e-03]]\n"
     ]
    },
    {
     "data": {
      "text/plain": [
       "<matplotlib.axes._subplots.AxesSubplot at 0xe69568d0>"
      ]
     },
     "execution_count": 19,
     "metadata": {},
     "output_type": "execute_result"
    },
    {
     "data": {
      "image/png": "[encoded data removed]",
      "text/plain": [
       "<matplotlib.figure.Figure at 0xe6956e48>"
      ]
     },
     "metadata": {},
     "output_type": "display_data"
    }
   ],
   "source": [
    "# SVM of full data set\n",
    "warnings.simplefilter(\"ignore\")\n",
    "\n",
    "# SGDClassifier using 'hinge' for loss to get an SVM\n",
    "from sklearn.linear_model import SGDClassifier\n",
    "\n",
    "# Get SVM classifier\n",
    "regularize_const = 1\n",
    "iterations = 5\n",
    "svm_sgd = SGDClassifier(alpha=regularize_const,\n",
    "        fit_intercept=True, l1_ratio=0.0, learning_rate='optimal',\n",
    "        loss='hinge', n_iter=iterations, n_jobs=-1, penalty='l2')\n",
    "\n",
    "# Fit our data (after it is scaled) to an SVM classification\n",
    "scl = StandardScaler()\n",
    "for train_idx, test_idx in cv_obj:\n",
    "    svm_sgd.fit(scl.fit_transform(X[train_idx]),y[train_idx])\n",
    "    yhat = svm_sgd.predict(scl.transform(X[test_idx]))\n",
    "    \n",
    "    conf = mt.confusion_matrix(y[test_idx],yhat)\n",
    "    acc = mt.accuracy_score(y[test_idx],yhat)\n",
    "\n",
    "print 'SVM:', acc\n",
    "print 'Confusion Matrix:\\n', conf\n",
    "print 'Coefficients', svm_sgd.coef_\n",
    "weights = pd.Series(svm_sgd.coef_[0],index=loan_df_finished.columns)\n",
    "weights.plot(kind='bar', figsize=(16,4))"
   ]
  },
  {
   "cell_type": "markdown",
   "metadata": {},
   "source": [
    "The accuracy of the full data set remained very similar. It stayed at around 93% accuracy, but still has the same style of confusion matrix from the logistic regression with bad loans being classified as good ones. We now look at the SVM of the reduced data to see how it performs."
   ]
  },
  {
   "cell_type": "code",
   "execution_count": 20,
   "metadata": {
    "collapsed": false
   },
   "outputs": [
    {
     "name": "stdout",
     "output_type": "stream",
     "text": [
      "SVM: 0.819250129543\n",
      "Confusion Matrix:\n",
      "[[ 2369  9604]\n",
      " [  163 41900]]\n",
      "Coefficients [[  2.85079696e-02  -1.57593260e-01  -1.69066076e-01   3.17169428e-02\n",
      "   -5.26311129e-02  -2.51948291e-05  -2.28504866e-02  -1.05757274e-02\n",
      "    6.67655917e-02  -6.40699830e-02   3.00621026e-02   5.55765421e-02\n",
      "    2.92632032e-02   1.79769820e-04  -1.15732370e-01  -5.91013380e-02\n",
      "   -7.35379580e-02   5.01711308e-03  -1.14643147e-02   5.41447306e-03\n",
      "    2.07012222e-03   2.54646663e-02   1.42072608e-02   3.86647486e-02\n",
      "   -1.08216190e-02  -8.94476211e-03  -1.76379941e-02   7.33657274e-03\n",
      "   -5.74009758e-02   3.08213723e-02   1.78518347e-02   3.36308545e-04\n",
      "    1.82151916e-02   2.17973522e-03   4.16137045e-03  -1.36839049e-02\n",
      "   -1.08910979e-02   1.09579146e-02   1.89190161e-02   1.95793810e-02\n",
      "    6.05808208e-03  -1.59380079e-02   1.27013563e-02   7.00090607e-03\n",
      "   -9.45918722e-03  -6.69088507e-03  -2.14291554e-02   4.94516613e-03\n",
      "   -7.97953089e-02  -1.14801882e-02   1.35702294e-02   5.22545268e-01\n",
      "    5.66599080e+00   7.05531773e+00]]\n"
     ]
    },
    {
     "data": {
      "text/plain": [
       "<matplotlib.axes._subplots.AxesSubplot at 0xe6a7bfd0>"
      ]
     },
     "execution_count": 20,
     "metadata": {},
     "output_type": "execute_result"
    },
    {
     "data": {
      "image/png": "[encoded data removed]",
      "text/plain": [
       "<matplotlib.figure.Figure at 0xe6b1aa58>"
      ]
     },
     "metadata": {},
     "output_type": "display_data"
    }
   ],
   "source": [
    "# SGDClassifier using 'hinge' for loss to get an SVM\n",
    "from sklearn.linear_model import SGDClassifier\n",
    "\n",
    "regularize_const = 0.001\n",
    "iterations = 5\n",
    "svm_sgd = SGDClassifier(alpha=regularize_const,\n",
    "        fit_intercept=True, l1_ratio=0.15, learning_rate='optimal',\n",
    "        loss='hinge', n_iter=iterations, n_jobs=-1, penalty='l2')\n",
    "\n",
    "scl = StandardScaler()\n",
    "for train_idx, test_idx in updated_cv_obj:\n",
    "    svm_sgd.fit(scl.fit_transform(updated_X[train_idx]),updated_y[train_idx])\n",
    "    yhat = svm_sgd.predict(scl.transform(updated_X[test_idx]))\n",
    "    \n",
    "    conf = mt.confusion_matrix(updated_y[test_idx],yhat)\n",
    "    acc = mt.accuracy_score(updated_y[test_idx],yhat)\n",
    "\n",
    "print 'SVM:', acc\n",
    "print 'Confusion Matrix:\\n', conf\n",
    "print 'Coefficients', svm_sgd.coef_\n",
    "weights = pd.Series(svm_sgd.coef_[0],index=loan_df_finished.columns)\n",
    "weights.plot(kind='bar', figsize=(16,4))"
   ]
  },
  {
   "cell_type": "markdown",
   "metadata": {},
   "source": [
    "The SVM for the reduced data, which includes just completed loans, has a much lower accuracy than the logistic regression classification of the same data. The accuracy dropped from just below 98.0% to around 86.8%. This is a significant difference. It is possible that part of this is due to SGDClassifier taking the Stochastic Gradient instead of the full gradient of the SVM. Although the SGD runs faster than the linear regression model we used (LinearRegression()), it does not have the accuracy that we would expect or want in this situation, especially when the original data stayed around the same accuracy between the two different classifications.\n",
    "\n",
    "It is interesting to note that the classes that the SVM pulls out are almost identical to the ones the logistic regression uses. Funded amount and total payment are still at the top of the list with Interest Rate Range being a distant fourth, but still near the top. Surprisingly, it has added importance on the 'Term' variable that the logistic regression did not pull out."
   ]
  },
  {
   "cell_type": "markdown",
   "metadata": {},
   "source": [
    "### AdaBoosting with Decision Trees"
   ]
  },
  {
   "cell_type": "code",
   "execution_count": 21,
   "metadata": {
    "collapsed": false
   },
   "outputs": [
    {
     "name": "stdout",
     "output_type": "stream",
     "text": [
      "AdaBoost: 0.992949145014\n"
     ]
    },
    {
     "data": {
      "text/plain": [
       "<function matplotlib.pyplot.show>"
      ]
     },
     "execution_count": 21,
     "metadata": {},
     "output_type": "execute_result"
    },
    {
     "data": {
      "image/png": "[encoded data removed]",
      "text/plain": [
       "<matplotlib.figure.Figure at 0xe710e518>"
      ]
     },
     "metadata": {},
     "output_type": "display_data"
    }
   ],
   "source": [
    "from sklearn.ensemble import AdaBoostClassifier\n",
    "from sklearn.tree import DecisionTreeClassifier\n",
    "from sklearn.datasets import make_gaussian_quantiles\n",
    "from sklearn.metrics import classification_report\n",
    "from sklearn.metrics import accuracy_score\n",
    "\n",
    "clf_ada = AdaBoostClassifier(DecisionTreeClassifier(max_depth=4), algorithm=\"SAMME\", n_estimators=50)\n",
    "\n",
    "scl = StandardScaler()\n",
    "for train_idx, test_idx in updated_cv_obj:\n",
    "    clf_ada.fit(scl.fit_transform(updated_X[train_idx]),updated_y[train_idx])\n",
    "    yhat = clf_ada.predict(scl.transform(updated_X[test_idx]))\n",
    "        \n",
    "    conf = mt.confusion_matrix(updated_y[test_idx],yhat)\n",
    "    acc = mt.accuracy_score(updated_y[test_idx],yhat)\n",
    "\n",
    "print 'AdaBoost:', acc\n",
    "\n",
    "fig, ax = plt.subplots(figsize=(2.5,2.5))\n",
    "ax.matshow(conf, cmap=plt.cm.Blues, alpha = 0.3)\n",
    "for i in range (conf.shape[0]):\n",
    "    for j in range (conf.shape[1]):\n",
    "        ax.text(x=j, y=i, s=conf[i, j], va = 'center', ha = 'center')\n",
    "plt.xlabel ('Predicted Class')\n",
    "plt.ylabel ('True Class')\n",
    "plt.show"
   ]
  },
  {
   "cell_type": "markdown",
   "metadata": {},
   "source": [
    "### AdaBoosting with weak learners like Random Forests"
   ]
  },
  {
   "cell_type": "code",
   "execution_count": 22,
   "metadata": {
    "collapsed": false
   },
   "outputs": [
    {
     "name": "stdout",
     "output_type": "stream",
     "text": [
      "AdaBoost: 0.985694722037\n"
     ]
    },
    {
     "data": {
      "text/plain": [
       "<function matplotlib.pyplot.show>"
      ]
     },
     "execution_count": 22,
     "metadata": {},
     "output_type": "execute_result"
    },
    {
     "data": {
      "image/png": "[encoded data removed]",
      "text/plain": [
       "<matplotlib.figure.Figure at 0xe7145c18>"
      ]
     },
     "metadata": {},
     "output_type": "display_data"
    }
   ],
   "source": [
    "from sklearn.ensemble import RandomForestClassifier\n",
    "\n",
    "clf = RandomForestClassifier(n_estimators=10, random_state=0)\n",
    "clf_ada = AdaBoostClassifier(RandomForestClassifier(n_estimators=5, random_state=0), algorithm=\"SAMME\", n_estimators=50)\n",
    "\n",
    "scl = StandardScaler()\n",
    "for train_idx, test_idx in updated_cv_obj:\n",
    "    clf_ada.fit(scl.fit_transform(updated_X[train_idx]),updated_y[train_idx])\n",
    "    yhat = clf_ada.predict(scl.transform(updated_X[test_idx]))\n",
    "        \n",
    "    conf = mt.confusion_matrix(updated_y[test_idx],yhat)\n",
    "    acc = mt.accuracy_score(updated_y[test_idx],yhat)\n",
    "\n",
    "print 'AdaBoost:', acc\n",
    "\n",
    "fig, ax = plt.subplots(figsize=(2.5,2.5))\n",
    "ax.matshow(conf, cmap=plt.cm.Blues, alpha = 0.3)\n",
    "for i in range (conf.shape[0]):\n",
    "    for j in range (conf.shape[1]):\n",
    "        ax.text(x=j, y=i, s=conf[i, j], va = 'center', ha = 'center')\n",
    "plt.xlabel ('Predicted Class')\n",
    "plt.ylabel ('True Class')\n",
    "plt.show"
   ]
  },
  {
   "cell_type": "markdown",
   "metadata": {},
   "source": [
    "### Additional Analysis: Are there better parameter or variable choices?\n",
    "\n",
    "As suggested by the Batch SVM previously, it looks like there might be better parameter set that can help us generage the best Bias-variance trade-off. In this section, we want to see if we can improve the overall accuracy of our model by adjusting the parameters we pass into our Logistic Regression and SVM models and by reducing the number of variables we look at with our model. Either of these changes could lead to better performance in both accuracy and the confusion mattrices.\n",
    "\n",
    "Overfitting is a common problem in machine learning, where a model performs well on training data but does not generalize well to unseen data (test data). If a model suffers from overfitting, we also say that the model has a high variance, which can be caused by having too many parameters that lead to a model that is too complex given the underlying data. Similarly, our model can also suffer from underfitting (high bias), which means that our model is not complex enough to capture the pattern in the training data well and therefore also suffers from low performance\n",
    "on unseen data. There are various parameters for finding a good bias-variance tradeoff and to tune the complexity of the model via regularization. \n",
    "\n",
    "Cost Function 'C' : A large C gives you low bias and high variance. Low bias because you penalize the cost of missclasification a lot. A small C gives you higher bias and lower variance. A lower C means higher regularization. A lower C thus prevents overfitting.\n",
    "\n",
    "L1/L2 Regularization : L2 regularization (sometimes also called L2 shrinkage or weight decay) or L1 regularization where penalty is the sum of the absolute weight coefficients while in L2 that term is quadratic)\n",
    "\n",
    "Below we will try to change the model parameters and try find the optimal values for these parameters.\n",
    "\n",
    "Please note that both SVC and LinearSVC have the regularization hyperparameter C, but the SGDClassifier has the regularization hyperparameter alpha. Where C = n_samples / alpha"
   ]
  },
  {
   "cell_type": "markdown",
   "metadata": {},
   "source": [
    "### Analysis 1: Changing Model Parameters"
   ]
  },
  {
   "cell_type": "raw",
   "metadata": {},
   "source": [
    "We first look to see if we can alter the parameters of our models to get better accuracy. It may be difficult to see an increase with the Logistic Regression since it is already a high accuracy of 98%, but our stochastic SVM could perform better. We start by changing the C value (the penalty value of the error) and then also look at changing the penalty type itself. Our original set was run at a penalty of L2 and a C of 1.0."
   ]
  },
  {
   "cell_type": "code",
   "execution_count": 23,
   "metadata": {
    "collapsed": false
   },
   "outputs": [
    {
     "name": "stdout",
     "output_type": "stream",
     "text": [
      "======= L1 Penalty with alpha = 1 ========\n",
      "SVM: 0.77539048042\n",
      "Confusion Matrix:\n",
      "[[    0 12137]\n",
      " [    0 41899]]\n",
      "======= L1 Penalty with alpha = 0.1 ========\n",
      "SVM: 0.776870974906\n",
      "Confusion Matrix:\n",
      "[[    0 12057]\n",
      " [    0 41979]]\n",
      "======= L1 Penalty with alpha = 0.01 ========\n",
      "SVM: 0.906691835073\n",
      "Confusion Matrix:\n",
      "[[ 7169  4944]\n",
      " [   98 41825]]\n",
      "======= L1 Penalty with alpha = 0.001 ========\n",
      "SVM: 0.937911762529\n",
      "Confusion Matrix:\n",
      "[[ 8788  3305]\n",
      " [   50 41893]]\n",
      "======= L1 Penalty with alpha = 0.0001 ========\n",
      "SVM: 0.983418461766\n",
      "Confusion Matrix:\n",
      "[[11295   804]\n",
      " [   92 41845]]\n",
      "======= L1 Penalty with alpha = 1e-05 ========\n",
      "SVM: 0.982992819602\n",
      "Confusion Matrix:\n",
      "[[11381   645]\n",
      " [  274 41736]]\n",
      "======= L1 Penalty with l1_ratio = 0.0 ========\n",
      "SVM: 0.979088015397\n",
      "Confusion Matrix:\n",
      "[[11126  1029]\n",
      " [  101 41780]]\n",
      "======= L1 Penalty with l1_ratio = 0.25 ========\n",
      "SVM: 0.980253904804\n",
      "Confusion Matrix:\n",
      "[[11060   974]\n",
      " [   93 41909]]\n",
      "======= L1 Penalty with l1_ratio = 0.5 ========\n",
      "SVM: 0.981327263306\n",
      "Confusion Matrix:\n",
      "[[11149   930]\n",
      " [   79 41878]]\n",
      "======= L1 Penalty with l1_ratio = 0.75 ========\n",
      "SVM: 0.983881116293\n",
      "Confusion Matrix:\n",
      "[[11347   776]\n",
      " [   95 41818]]\n",
      "======= L1 Penalty with l1_ratio = 1.0 ========\n",
      "SVM: 0.981660374565\n",
      "Confusion Matrix:\n",
      "[[11227   904]\n",
      " [   87 41818]]\n",
      "======= L1 Penalty with l1_ratio = 1.25 ========\n",
      "SVM: 0.982659708343\n",
      "Confusion Matrix:\n",
      "[[11288   812]\n",
      " [  125 41811]]\n",
      "======= L2 Penalty with alpha = 1 ========\n",
      "SVM: 0.777999851951\n",
      "Confusion Matrix:\n",
      "[[    0 11996]\n",
      " [    0 42040]]\n",
      "======= L2 Penalty with alpha = 0.1 ========\n",
      "SVM: 0.77416907247\n",
      "Confusion Matrix:\n",
      "[[    0 12203]\n",
      " [    0 41833]]\n",
      "======= L2 Penalty with alpha = 0.01 ========\n",
      "SVM: 0.776149233844\n",
      "Confusion Matrix:\n",
      "[[    0 12096]\n",
      " [    0 41940]]\n",
      "======= L2 Penalty with alpha = 0.001 ========\n",
      "SVM: 0.809478865941\n",
      "Confusion Matrix:\n",
      "[[ 2050 10227]\n",
      " [   68 41691]]\n",
      "======= L2 Penalty with alpha = 0.0001 ========\n",
      "SVM: 0.920701014139\n",
      "Confusion Matrix:\n",
      "[[ 7961  4043]\n",
      " [  242 41790]]\n",
      "======= L2 Penalty with alpha = 1e-05 ========\n",
      "SVM: 0.906747353616\n",
      "Confusion Matrix:\n",
      "[[ 9508  2663]\n",
      " [ 2376 39489]]\n"
     ]
    }
   ],
   "source": [
    "# Changing SVM Model Parameters - can alter penalty, L1 ratio and alpha\n",
    "\n",
    "for val in range(6):\n",
    "    print \"======= L1 Penalty with alpha =\", 10**(-val), \"========\"\n",
    "    regularize_const = 10**(-val)\n",
    "    iterations = 6\n",
    "    svm_sgd = SGDClassifier(alpha=regularize_const,\n",
    "            fit_intercept=True, l1_ratio=1, learning_rate='optimal',\n",
    "            loss='hinge', n_iter=iterations, n_jobs=-1, penalty='L1')\n",
    "\n",
    "    scl = StandardScaler()\n",
    "    for train_idx, test_idx in updated_cv_obj:\n",
    "        svm_sgd.fit(scl.fit_transform(updated_X[train_idx]),updated_y[train_idx])\n",
    "        yhat = svm_sgd.predict(scl.transform(updated_X[test_idx]))\n",
    "\n",
    "        conf = mt.confusion_matrix(updated_y[test_idx],yhat)\n",
    "        acc = mt.accuracy_score(updated_y[test_idx],yhat)\n",
    "\n",
    "    print 'SVM:', acc\n",
    "    print 'Confusion Matrix:\\n', conf\n",
    "    \n",
    "for val in range(6):\n",
    "    print \"======= L1 Penalty with l1_ratio =\", (val/4.0), \"========\"\n",
    "    regularize_const = 0.0001\n",
    "    iterations = 6\n",
    "    svm_sgd = SGDClassifier(alpha=regularize_const,\n",
    "            fit_intercept=True, l1_ratio=val/4, learning_rate='optimal',\n",
    "            loss='hinge', n_iter=iterations, n_jobs=-1, penalty='L1')\n",
    "\n",
    "    scl = StandardScaler()\n",
    "    for train_idx, test_idx in updated_cv_obj:\n",
    "        svm_sgd.fit(scl.fit_transform(updated_X[train_idx]),updated_y[train_idx])\n",
    "        yhat = svm_sgd.predict(scl.transform(updated_X[test_idx]))\n",
    "\n",
    "        conf = mt.confusion_matrix(updated_y[test_idx],yhat)\n",
    "        acc = mt.accuracy_score(updated_y[test_idx],yhat)\n",
    "\n",
    "    print 'SVM:', acc\n",
    "    print 'Confusion Matrix:\\n', conf\n",
    "    \n",
    "for val in range(6):\n",
    "    print \"======= L2 Penalty with alpha =\", 10**(-val), \"========\"\n",
    "    regularize_const = 10**(-val)\n",
    "    iterations = 6\n",
    "    svm_sgd = SGDClassifier(alpha=regularize_const,\n",
    "            fit_intercept=True, l1_ratio=0.0, learning_rate='optimal',\n",
    "            loss='hinge', n_iter=iterations, n_jobs=-1, penalty='L2')\n",
    "\n",
    "    scl = StandardScaler()\n",
    "    for train_idx, test_idx in updated_cv_obj:\n",
    "        svm_sgd.fit(scl.fit_transform(updated_X[train_idx]),updated_y[train_idx])\n",
    "        yhat = svm_sgd.predict(scl.transform(updated_X[test_idx]))\n",
    "\n",
    "        conf = mt.confusion_matrix(updated_y[test_idx],yhat)\n",
    "        acc = mt.accuracy_score(updated_y[test_idx],yhat)\n",
    "\n",
    "    print 'SVM:', acc\n",
    "    print 'Confusion Matrix:\\n', conf"
   ]
  },
  {
   "cell_type": "markdown",
   "metadata": {
    "collapsed": true
   },
   "source": [
    "The unscaled data of this significantly reduced data set has a marginally better fit than the original reduced data set. If you compare the 98.1% average of the newly reduced data set to the 97.9% of the base reduced data, you get a slightly better performance by taking out some of the less important, according to the logistic regression, variables. The scaled data comes in at a similar accuracy rating of the original sample at 97.9% so there really is not a huge change here. Even looking at the weights of each, the funded amount and total payment factors still far outweigh the others."
   ]
  },
  {
   "cell_type": "markdown",
   "metadata": {},
   "source": [
    "### Analysis 2: Reduced Number of Factors\n",
    "In this section, we will use the logistic regression classification, which seemed to perform better for our reduced data set, to see if we can increase the accuracy of our model by looking at different variable inputs. The idea is to reduce the number of inputs to try and improve the data. What if we look at our major regression factors and limit our dataset to those factors? Do we improve accuracy any by limiting the data given to the classifier?"
   ]
  },
  {
   "cell_type": "code",
   "execution_count": 24,
   "metadata": {
    "collapsed": false
   },
   "outputs": [
    {
     "name": "stdout",
     "output_type": "stream",
     "text": [
      "====Iteration 0  ====\n",
      "accuracy 0.829909689836\n",
      "confusion matrix\n",
      "[[ 6040  6203]\n",
      " [ 2988 38805]]\n",
      "====Iteration 1  ====\n",
      "accuracy 0.831464209046\n",
      "confusion matrix\n",
      "[[ 5949  6140]\n",
      " [ 2967 38980]]\n",
      "====Iteration 2  ====\n",
      "accuracy 0.831353171959\n",
      "confusion matrix\n",
      "[[ 5954  6202]\n",
      " [ 2911 38969]]\n",
      "====Iteration 3  ====\n",
      "accuracy 0.829687615664\n",
      "confusion matrix\n",
      "[[ 5888  6259]\n",
      " [ 2944 38945]]\n",
      "====Iteration 4  ====\n",
      "accuracy 0.833740469317\n",
      "confusion matrix\n",
      "[[ 5980  6064]\n",
      " [ 2920 39072]]\n"
     ]
    }
   ],
   "source": [
    "used_temp_df = pd.DataFrame()\n",
    "major_factors_df = loan_df_finished\n",
    "\n",
    "for col in ['funded_amnt', 'Int_Rate_Range' , 'Payment_rate' , 'Payment_ratio', 'annual_inc', 'Verify_Status']:\n",
    "    if col in major_factors_df:\n",
    "        used_temp_df[col] = major_factors_df[col]\n",
    "        \n",
    "updated_X = used_temp_df.values\n",
    "\n",
    "updated_logreg_obj = LogisticRegression(penalty='l2', C=1.0, class_weight=None)\n",
    "\n",
    "for iter_num, (train_indices, test_indices) in enumerate(updated_cv_obj):\n",
    "    updated_logreg_obj.fit(updated_X[train_indices],updated_y[train_indices])  # train object\n",
    "    updated_y_hat = updated_logreg_obj.predict(updated_X[test_indices]) # get test set precitions\n",
    "\n",
    "    # print the accuracy and confusion matrix \n",
    "    print \"====Iteration\",iter_num,\" ====\"\n",
    "    print \"accuracy\", mt.accuracy_score(updated_y[test_indices],updated_y_hat) \n",
    "    print \"confusion matrix\\n\",mt.confusion_matrix(updated_y[test_indices],updated_y_hat)"
   ]
  },
  {
   "cell_type": "code",
   "execution_count": 25,
   "metadata": {
    "collapsed": false,
    "scrolled": false
   },
   "outputs": [
    {
     "name": "stdout",
     "output_type": "stream",
     "text": [
      "accuracy: 0.850081427197\n",
      "[[ 5775  6269]\n",
      " [ 1832 40160]]\n"
     ]
    },
    {
     "data": {
      "text/plain": [
       "<function matplotlib.pyplot.show>"
      ]
     },
     "execution_count": 25,
     "metadata": {},
     "output_type": "execute_result"
    },
    {
     "data": {
      "image/png": "[encoded data removed]",
      "text/plain": [
       "<matplotlib.figure.Figure at 0xe6903a58>"
      ]
     },
     "metadata": {},
     "output_type": "display_data"
    },
    {
     "data": {
      "image/png": "[encoded data removed]",
      "text/plain": [
       "<matplotlib.figure.Figure at 0xe6a25438>"
      ]
     },
     "metadata": {},
     "output_type": "display_data"
    }
   ],
   "source": [
    "scl = StandardScaler()\n",
    "scl.fit(updated_X[train_indices])\n",
    "\n",
    "X_train_scaled = scl.transform(updated_X[train_indices]) # apply to training\n",
    "X_test_scaled = scl.transform(updated_X[test_indices])\n",
    "\n",
    "# Fit the regression to the new scaled data\n",
    "updated_logreg_obj.fit(X_train_scaled, updated_y[train_indices])\n",
    "\n",
    "y_hat = updated_logreg_obj.predict(X_test_scaled)\n",
    "\n",
    "# Rescore the accuracy and confusion matrix for the scaled data\n",
    "acc = mt.accuracy_score(updated_y[test_indices],y_hat)\n",
    "conf = mt.confusion_matrix(updated_y[test_indices],y_hat)\n",
    "print 'accuracy:', acc \n",
    "print conf\n",
    "weights = pd.Series(updated_logreg_obj.coef_[0],index=used_temp_df.columns)\n",
    "weights.plot(kind='bar', figsize=(14,6))\n",
    "\n",
    "fig, ax = plt.subplots(figsize=(2.5,2.5))\n",
    "ax.matshow(conf, cmap=plt.cm.Blues, alpha = 0.3)\n",
    "for i in range (conf.shape[0]):\n",
    "    for j in range (conf.shape[1]):\n",
    "        ax.text(x=j, y=i, s=conf[i, j], va = 'center', ha = 'center')\n",
    "plt.xlabel ('Predicted Class')\n",
    "plt.ylabel ('True Class')\n",
    "plt.show"
   ]
  },
  {
   "cell_type": "code",
   "execution_count": null,
   "metadata": {
    "collapsed": true
   },
   "outputs": [],
   "source": []
  },
  {
   "cell_type": "code",
   "execution_count": null,
   "metadata": {
    "collapsed": true
   },
   "outputs": [],
   "source": []
  },
  {
   "cell_type": "code",
   "execution_count": null,
   "metadata": {
    "collapsed": true
   },
   "outputs": [],
   "source": []
  }
 ],
 "metadata": {
  "kernelspec": {
   "display_name": "Python 2",
   "language": "python",
   "name": "python2"
  },
  "language_info": {
   "codemirror_mode": {
    "name": "ipython",
    "version": 2
   },
   "file_extension": ".py",
   "mimetype": "text/x-python",
   "name": "python",
   "nbconvert_exporter": "python",
   "pygments_lexer": "ipython2",
   "version": "2.7.11"
  }
 },
 "nbformat": 4,
 "nbformat_minor": 0
}
