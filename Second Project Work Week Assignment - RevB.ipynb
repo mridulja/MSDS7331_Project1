{
 "cells": [
  {
   "cell_type": "markdown",
   "metadata": {},
   "source": [
    "# NOTES\n",
    "\n",
    "### Task 1\n",
    "Classify whether a loan will go into default or not\n",
    "\n",
    "Should use 10-fold validation, and 15-20% of the data as test\n",
    "\n",
    "Will use Neural Network, Ada Boosting, and SVM classifications\n",
    "\n",
    "Need to include Visualizations - confusion matrices, bar chart of weighted factors, etc.\n",
    "\n",
    "### Task 2\n",
    "Use time series regression to predict monetary need for company in the next year\n",
    "\n",
    "Use all but the final year of data as training to predict the final year as training model\n",
    "\n",
    "Will use couple different types of ARMA, and maybe Vector Auto Regression (if in SAS)\n",
    "\n",
    "Again need visualizations - confusion matrices, bar chart of weighted factors, etc.\n",
    "\n",
    "#### Final Thoughts\n",
    "Check the time to run each calculation via %timeit\n",
    "\n",
    "Make sure to try various variables in each prediction model to get the best resuslts\n",
    "\n",
    "See if there is a way to do stepwise or forward/backward search of features\n",
    "\n",
    "To convert infinity to NAN, need to convert column to float and then can convert back as needed"
   ]
  },
  {
   "cell_type": "markdown",
   "metadata": {},
   "source": [
    "# Mini Lab\n",
    "\n",
    "## Brett Hallum, Mridul Jain, and Solomon Ndungu\n",
    "\n",
    "We start this lab by filtering out our unwanted data. A lot of this information was removed in Lab 1 as it did not make sense for us to use it due to missing values, single values for whole set, and a minimal distribution of values. On top of this removal, we do some imputation to fill in minor missing data values. Finally, we do some nominal classification on some of our data to order it for better use.\n",
    "\n",
    "We do create two additional data frames, loan_df_finished and loan_df_unfinished, at this point as well. Their purpose and usage will be discussed shortly."
   ]
  },
  {
   "cell_type": "code",
   "execution_count": 1,
   "metadata": {
    "collapsed": false
   },
   "outputs": [
    {
     "data": {
      "text/plain": [
       "'C:\\\\Users\\\\emrijai\\\\Documents\\\\IPython Notebooks\\\\MS7331\\\\Project1\\\\MSDS7331_Project1'"
      ]
     },
     "execution_count": 1,
     "metadata": {},
     "output_type": "execute_result"
    }
   ],
   "source": [
    "import os\n",
    "os.chdir('C:/Users/emrijai/Documents/IPython Notebooks/MS7331/Project1/MSDS7331_Project1')\n",
    "os.getcwd()"
   ]
  },
  {
   "cell_type": "code",
   "execution_count": 2,
   "metadata": {
    "collapsed": false
   },
   "outputs": [
    {
     "data": {
      "text/html": [
       "<div>\n",
       "<table border=\"1\" class=\"dataframe\">\n",
       "  <thead>\n",
       "    <tr style=\"text-align: right;\">\n",
       "      <th></th>\n",
       "      <th>funded_amnt</th>\n",
       "      <th>term</th>\n",
       "      <th>installment</th>\n",
       "      <th>annual_inc</th>\n",
       "      <th>issue_d</th>\n",
       "      <th>dti</th>\n",
       "      <th>delinq_2yrs</th>\n",
       "      <th>inq_last_6mths</th>\n",
       "      <th>open_acc</th>\n",
       "      <th>total_acc</th>\n",
       "      <th>...</th>\n",
       "      <th>Loan_Purpose_home_improvement</th>\n",
       "      <th>Loan_Purpose_house</th>\n",
       "      <th>Loan_Purpose_major_purchase</th>\n",
       "      <th>Loan_Purpose_medical</th>\n",
       "      <th>Loan_Purpose_moving</th>\n",
       "      <th>Loan_Purpose_other</th>\n",
       "      <th>Loan_Purpose_renewable_energy</th>\n",
       "      <th>Loan_Purpose_small_business</th>\n",
       "      <th>Loan_Purpose_vacation</th>\n",
       "      <th>Loan_Purpose_wedding</th>\n",
       "    </tr>\n",
       "  </thead>\n",
       "  <tbody>\n",
       "    <tr>\n",
       "      <th>0</th>\n",
       "      <td>5000.0</td>\n",
       "      <td>36.0</td>\n",
       "      <td>162.87</td>\n",
       "      <td>24000.0</td>\n",
       "      <td>12/1/2011</td>\n",
       "      <td>27.65</td>\n",
       "      <td>0.0</td>\n",
       "      <td>1.0</td>\n",
       "      <td>3.0</td>\n",
       "      <td>9.0</td>\n",
       "      <td>...</td>\n",
       "      <td>0.0</td>\n",
       "      <td>0.0</td>\n",
       "      <td>0.0</td>\n",
       "      <td>0.0</td>\n",
       "      <td>0.0</td>\n",
       "      <td>0.0</td>\n",
       "      <td>0.0</td>\n",
       "      <td>0.0</td>\n",
       "      <td>0.0</td>\n",
       "      <td>0.0</td>\n",
       "    </tr>\n",
       "    <tr>\n",
       "      <th>1</th>\n",
       "      <td>2500.0</td>\n",
       "      <td>60.0</td>\n",
       "      <td>59.83</td>\n",
       "      <td>30000.0</td>\n",
       "      <td>12/1/2011</td>\n",
       "      <td>1.00</td>\n",
       "      <td>0.0</td>\n",
       "      <td>5.0</td>\n",
       "      <td>3.0</td>\n",
       "      <td>4.0</td>\n",
       "      <td>...</td>\n",
       "      <td>0.0</td>\n",
       "      <td>0.0</td>\n",
       "      <td>0.0</td>\n",
       "      <td>0.0</td>\n",
       "      <td>0.0</td>\n",
       "      <td>0.0</td>\n",
       "      <td>0.0</td>\n",
       "      <td>0.0</td>\n",
       "      <td>0.0</td>\n",
       "      <td>0.0</td>\n",
       "    </tr>\n",
       "    <tr>\n",
       "      <th>2</th>\n",
       "      <td>2400.0</td>\n",
       "      <td>36.0</td>\n",
       "      <td>84.33</td>\n",
       "      <td>12252.0</td>\n",
       "      <td>12/1/2011</td>\n",
       "      <td>8.72</td>\n",
       "      <td>0.0</td>\n",
       "      <td>2.0</td>\n",
       "      <td>2.0</td>\n",
       "      <td>10.0</td>\n",
       "      <td>...</td>\n",
       "      <td>0.0</td>\n",
       "      <td>0.0</td>\n",
       "      <td>0.0</td>\n",
       "      <td>0.0</td>\n",
       "      <td>0.0</td>\n",
       "      <td>0.0</td>\n",
       "      <td>0.0</td>\n",
       "      <td>1.0</td>\n",
       "      <td>0.0</td>\n",
       "      <td>0.0</td>\n",
       "    </tr>\n",
       "    <tr>\n",
       "      <th>3</th>\n",
       "      <td>10000.0</td>\n",
       "      <td>36.0</td>\n",
       "      <td>339.31</td>\n",
       "      <td>49200.0</td>\n",
       "      <td>12/1/2011</td>\n",
       "      <td>20.00</td>\n",
       "      <td>0.0</td>\n",
       "      <td>1.0</td>\n",
       "      <td>10.0</td>\n",
       "      <td>37.0</td>\n",
       "      <td>...</td>\n",
       "      <td>0.0</td>\n",
       "      <td>0.0</td>\n",
       "      <td>0.0</td>\n",
       "      <td>0.0</td>\n",
       "      <td>0.0</td>\n",
       "      <td>1.0</td>\n",
       "      <td>0.0</td>\n",
       "      <td>0.0</td>\n",
       "      <td>0.0</td>\n",
       "      <td>0.0</td>\n",
       "    </tr>\n",
       "    <tr>\n",
       "      <th>4</th>\n",
       "      <td>3000.0</td>\n",
       "      <td>60.0</td>\n",
       "      <td>67.79</td>\n",
       "      <td>80000.0</td>\n",
       "      <td>12/1/2011</td>\n",
       "      <td>17.94</td>\n",
       "      <td>0.0</td>\n",
       "      <td>0.0</td>\n",
       "      <td>15.0</td>\n",
       "      <td>38.0</td>\n",
       "      <td>...</td>\n",
       "      <td>0.0</td>\n",
       "      <td>0.0</td>\n",
       "      <td>0.0</td>\n",
       "      <td>0.0</td>\n",
       "      <td>0.0</td>\n",
       "      <td>1.0</td>\n",
       "      <td>0.0</td>\n",
       "      <td>0.0</td>\n",
       "      <td>0.0</td>\n",
       "      <td>0.0</td>\n",
       "    </tr>\n",
       "  </tbody>\n",
       "</table>\n",
       "<p>5 rows × 55 columns</p>\n",
       "</div>"
      ],
      "text/plain": [
       "   funded_amnt  term  installment  annual_inc    issue_d    dti  delinq_2yrs  \\\n",
       "0       5000.0  36.0       162.87     24000.0  12/1/2011  27.65          0.0   \n",
       "1       2500.0  60.0        59.83     30000.0  12/1/2011   1.00          0.0   \n",
       "2       2400.0  36.0        84.33     12252.0  12/1/2011   8.72          0.0   \n",
       "3      10000.0  36.0       339.31     49200.0  12/1/2011  20.00          0.0   \n",
       "4       3000.0  60.0        67.79     80000.0  12/1/2011  17.94          0.0   \n",
       "\n",
       "   inq_last_6mths  open_acc  total_acc          ...           \\\n",
       "0             1.0       3.0        9.0          ...            \n",
       "1             5.0       3.0        4.0          ...            \n",
       "2             2.0       2.0       10.0          ...            \n",
       "3             1.0      10.0       37.0          ...            \n",
       "4             0.0      15.0       38.0          ...            \n",
       "\n",
       "   Loan_Purpose_home_improvement Loan_Purpose_house  \\\n",
       "0                            0.0                0.0   \n",
       "1                            0.0                0.0   \n",
       "2                            0.0                0.0   \n",
       "3                            0.0                0.0   \n",
       "4                            0.0                0.0   \n",
       "\n",
       "   Loan_Purpose_major_purchase  Loan_Purpose_medical  Loan_Purpose_moving  \\\n",
       "0                          0.0                   0.0                  0.0   \n",
       "1                          0.0                   0.0                  0.0   \n",
       "2                          0.0                   0.0                  0.0   \n",
       "3                          0.0                   0.0                  0.0   \n",
       "4                          0.0                   0.0                  0.0   \n",
       "\n",
       "   Loan_Purpose_other  Loan_Purpose_renewable_energy  \\\n",
       "0                 0.0                            0.0   \n",
       "1                 0.0                            0.0   \n",
       "2                 0.0                            0.0   \n",
       "3                 1.0                            0.0   \n",
       "4                 1.0                            0.0   \n",
       "\n",
       "   Loan_Purpose_small_business  Loan_Purpose_vacation  Loan_Purpose_wedding  \n",
       "0                          0.0                    0.0                   0.0  \n",
       "1                          0.0                    0.0                   0.0  \n",
       "2                          1.0                    0.0                   0.0  \n",
       "3                          0.0                    0.0                   0.0  \n",
       "4                          0.0                    0.0                   0.0  \n",
       "\n",
       "[5 rows x 55 columns]"
      ]
     },
     "execution_count": 2,
     "metadata": {},
     "output_type": "execute_result"
    }
   ],
   "source": [
    "import pandas as pd\n",
    "import numpy as np\n",
    "import copy\n",
    "\n",
    "import warnings\n",
    "warnings.simplefilter('ignore', DeprecationWarning)\n",
    "warnings.simplefilter('ignore', FutureWarning)\n",
    "warnings.simplefilter(\"ignore\")\n",
    "\n",
    "#Bring in data set\n",
    "loan_df = pd.read_csv('LoanData/loanData_Small.csv')\n",
    "\n",
    "#Remove unwanted attributes from the data set based on specific criteria\n",
    "for col in ['id','funded_amnt_inv','sub_grade','emp_title','pymnt_plan','url','title','zip_code','earliest_cr_line',\n",
    "            'mths_since_last_delinq','mths_since_last_record','pub_rec','revol_bal','revol_util',\n",
    "            'initial_list_status','out_prncp_inv','total_pymnt_inv','recoveries','collection_recovery_fee',\n",
    "            'last_pymnt_amnt','next_pymnt_d','last_credit_pull_d','collections_12_mths_ex_med','policy_code','application_type',\n",
    "            'annual_inc_joint','dti_joint','verification_status_joint','open_acc_6m','open_il_6m','open_il_12m','open_il_24m',\n",
    "            'mths_since_rcnt_il','total_bal_il','il_util','open_rv_12m','open_rv_24m','max_bal_bc','all_util',\n",
    "            'total_rev_hi_lim','inq_fi','total_cu_tl','inq_last_12m', 'mths_since_last_major_derog', 'desc', 'addr_state', 'tot_coll_amt', 'tot_cur_bal', 'member_id', 'total_rec_prncp', 'total_rec_int',\n",
    "           'total_rec_late_fee', 'loan_amnt', 'out_prncp']:\n",
    "    if col in loan_df:\n",
    "        del loan_df[col]\n",
    "\n",
    "#Create new variables for classification\n",
    "#Modify term to be integer for easier analysis\n",
    "loan_df = loan_df.replace(to_replace=\" 36 months\", value=36)\n",
    "loan_df = loan_df.replace(to_replace=\" 60 months\", value=60)\n",
    "\n",
    "#Impute missing data values with median\n",
    "for col in ['annual_inc', 'delinq_2yrs', 'inq_last_6mths', 'open_acc', 'acc_now_delinq']:\n",
    "    df_temp = copy.deepcopy(loan_df[col])\n",
    "    df_temp = df_temp.replace(to_replace=np.nan, value=df_temp.median())\n",
    "    loan_df[col] = df_temp\n",
    "    \n",
    "#Numerical classification of grade\n",
    "tmp_df = pd.get_dummies(loan_df.grade,prefix='grade')\n",
    "loan_df = pd.concat((loan_df,tmp_df),axis=1) # add back into the dataframe\n",
    "\n",
    "if \"grade\" in loan_df:\n",
    "    del loan_df[\"grade\"]\n",
    "    \n",
    "#Numerical classification of employment length\n",
    "tmp_df = pd.get_dummies(loan_df.emp_length,prefix='Employ')\n",
    "loan_df = pd.concat((loan_df,tmp_df),axis=1) # add back into the dataframe\n",
    "\n",
    "if \"emp_length\" in loan_df:\n",
    "    del loan_df[\"emp_length\"]\n",
    "\n",
    "#Range of interest rates\n",
    "loan_df['Int_Rate_Range'] = pd.cut(loan_df.int_rate, [0, 5,10,15,20,25, 30], 6, labels=[0, 1, 2, 3, 4, 5])\n",
    "\n",
    "if \"int_rate\" in loan_df:\n",
    "    del loan_df[\"int_rate\"]\n",
    "\n",
    "#Nominal classification of loan_status\n",
    "loan_df.loc[loan_df['loan_status'] == 'Charged Off' , 'Loan_Class'] = 0\n",
    "loan_df.loc[loan_df['loan_status'] == 'Default' , 'Loan_Class'] = 0\n",
    "loan_df.loc[loan_df['loan_status'] == 'Late (31-120 days)' , 'Loan_Class'] = 0\n",
    "loan_df.loc[loan_df['loan_status'] == 'Late (16-30 days)' , 'Loan_Class'] = 0\n",
    "loan_df.loc[loan_df['loan_status'] == 'Does not meet the credit policy. Status:Charged Off' , 'Loan_Class'] = 0\n",
    "\n",
    "loan_df.loc[loan_df['loan_status'] == 'Fully Paid' , 'Loan_Class'] = 1\n",
    "loan_df.loc[loan_df['loan_status'] == 'Does not meet the credit policy. Status:Fully Paid' , 'Loan_Class'] = 1\n",
    "\n",
    "loan_df.loc[loan_df['loan_status'] == 'Current' , 'Loan_Class'] = 1\n",
    "loan_df.loc[loan_df['loan_status'] == 'In Grace Period' , 'Loan_Class'] = 1\n",
    "loan_df.loc[loan_df['loan_status'] == 'Issued' , 'Loan_Class'] = 1\n",
    "\n",
    "#Secondary classification of loan class for further analysis of data (used for new data frames)\n",
    "# comparing the historical data (good/bad loans) to current data (loans still in progress)\n",
    "# Loans are classified as 'Bad' if loans are bad\n",
    "loan_df.loc[loan_df['loan_status'] == 'Charged Off' , 'Loan_Class2'] = 'Bad'\n",
    "loan_df.loc[loan_df['loan_status'] == 'Default' , 'Loan_Class2'] = 'Bad'\n",
    "loan_df.loc[loan_df['loan_status'] == 'Late (31-120 days)' , 'Loan_Class2'] = 'Bad'\n",
    "loan_df.loc[loan_df['loan_status'] == 'Late (16-30 days)' , 'Loan_Class2'] = 'Bad'\n",
    "loan_df.loc[loan_df['loan_status'] == 'Does not meet the credit policy. Status:Charged Off' , 'Loan_Class2'] = 'Bad'\n",
    "# Loans are classified as 'Good' if loans are good\n",
    "loan_df.loc[loan_df['loan_status'] == 'Fully Paid' , 'Loan_Class2'] = 'Good'\n",
    "loan_df.loc[loan_df['loan_status'] == 'Does not meet the credit policy. Status:Fully Paid' , 'Loan_Class2'] = 'Good'\n",
    "# Loans are classified as 'Current' if loans are current/still in progress\n",
    "loan_df.loc[loan_df['loan_status'] == 'Current' , 'Loan_Class2'] = 'Current'\n",
    "loan_df.loc[loan_df['loan_status'] == 'In Grace Period' , 'Loan_Class2'] = 'Current'\n",
    "loan_df.loc[loan_df['loan_status'] == 'Issued' , 'Loan_Class2'] = 'Current'\n",
    "\n",
    "if \"loan_status\" in loan_df:\n",
    "    del loan_df[\"loan_status\"]\n",
    "\n",
    "#Nominal classification of verification status\n",
    "loan_df.loc[loan_df['verification_status'] == 'Verified', 'Verify_Status'] = 1\n",
    "loan_df.loc[loan_df['verification_status'] == 'Source Verified', 'Verify_Status'] = 1\n",
    "loan_df.loc[loan_df['verification_status'] == 'Not Verified', 'Verify_Status'] = 0\n",
    "\n",
    "if \"verification_status\" in loan_df:\n",
    "    del loan_df[\"verification_status\"]\n",
    "\n",
    "#Nominal classification of home ownership\n",
    "tmp_df = pd.get_dummies(loan_df.home_ownership,prefix='Home')\n",
    "loan_df = pd.concat((loan_df,tmp_df),axis=1) # add back into the dataframe\n",
    "\n",
    "if \"home_ownership\" in loan_df:\n",
    "    del loan_df[\"home_ownership\"]\n",
    "\n",
    "#Impute missing data values with median\n",
    "for col in ['total_acc']:\n",
    "    df_temp = copy.deepcopy(loan_df[col])\n",
    "    df_temp = df_temp.replace(to_replace=np.nan, value= 0 )\n",
    "    loan_df[col] = df_temp    \n",
    "\n",
    "for col in ['total_pymnt']:\n",
    "    df_temp = copy.deepcopy(loan_df[col])\n",
    "    df_temp = df_temp.replace(to_replace=np.nan, value= 0 )\n",
    "    loan_df[col] = df_temp \n",
    "   \n",
    "\n",
    "tmp_df = pd.get_dummies(loan_df.purpose,prefix='Loan_Purpose')\n",
    "loan_df = pd.concat((loan_df,tmp_df),axis=1)\n",
    "\n",
    "if 'purpose' in loan_df:\n",
    "    del loan_df['purpose']\n",
    "    \n",
    "loan_df.head()"
   ]
  },
  {
   "cell_type": "code",
   "execution_count": 3,
   "metadata": {
    "collapsed": false
   },
   "outputs": [
    {
     "name": "stdout",
     "output_type": "stream",
     "text": [
      "<class 'pandas.core.frame.DataFrame'>\n",
      "Int64Index: 119991 entries, 0 to 120127\n",
      "Data columns (total 55 columns):\n",
      "funded_amnt                        119991 non-null float64\n",
      "term                               119991 non-null float64\n",
      "installment                        119991 non-null float64\n",
      "annual_inc                         119991 non-null float64\n",
      "issue_d                            119991 non-null object\n",
      "dti                                119991 non-null float64\n",
      "delinq_2yrs                        119991 non-null float64\n",
      "inq_last_6mths                     119991 non-null float64\n",
      "open_acc                           119991 non-null float64\n",
      "total_acc                          119991 non-null float64\n",
      "total_pymnt                        119991 non-null float64\n",
      "last_pymnt_d                       119991 non-null object\n",
      "acc_now_delinq                     119991 non-null float64\n",
      "grade_A                            119991 non-null float64\n",
      "grade_B                            119991 non-null float64\n",
      "grade_C                            119991 non-null float64\n",
      "grade_D                            119991 non-null float64\n",
      "grade_E                            119991 non-null float64\n",
      "grade_F                            119991 non-null float64\n",
      "grade_G                            119991 non-null float64\n",
      "Employ_1 year                      119991 non-null float64\n",
      "Employ_10+ years                   119991 non-null float64\n",
      "Employ_2 years                     119991 non-null float64\n",
      "Employ_3 years                     119991 non-null float64\n",
      "Employ_4 years                     119991 non-null float64\n",
      "Employ_5 years                     119991 non-null float64\n",
      "Employ_6 years                     119991 non-null float64\n",
      "Employ_7 years                     119991 non-null float64\n",
      "Employ_8 years                     119991 non-null float64\n",
      "Employ_9 years                     119991 non-null float64\n",
      "Employ_< 1 year                    119991 non-null float64\n",
      "Employ_n/a                         119991 non-null float64\n",
      "Int_Rate_Range                     119991 non-null category\n",
      "Loan_Class                         119991 non-null float64\n",
      "Loan_Class2                        119991 non-null object\n",
      "Verify_Status                      119991 non-null float64\n",
      "Home_MORTGAGE                      119991 non-null float64\n",
      "Home_NONE                          119991 non-null float64\n",
      "Home_OTHER                         119991 non-null float64\n",
      "Home_OWN                           119991 non-null float64\n",
      "Home_RENT                          119991 non-null float64\n",
      "Loan_Purpose_car                   119991 non-null float64\n",
      "Loan_Purpose_credit_card           119991 non-null float64\n",
      "Loan_Purpose_debt_consolidation    119991 non-null float64\n",
      "Loan_Purpose_educational           119991 non-null float64\n",
      "Loan_Purpose_home_improvement      119991 non-null float64\n",
      "Loan_Purpose_house                 119991 non-null float64\n",
      "Loan_Purpose_major_purchase        119991 non-null float64\n",
      "Loan_Purpose_medical               119991 non-null float64\n",
      "Loan_Purpose_moving                119991 non-null float64\n",
      "Loan_Purpose_other                 119991 non-null float64\n",
      "Loan_Purpose_renewable_energy      119991 non-null float64\n",
      "Loan_Purpose_small_business        119991 non-null float64\n",
      "Loan_Purpose_vacation              119991 non-null float64\n",
      "Loan_Purpose_wedding               119991 non-null float64\n",
      "dtypes: category(1), float64(51), object(3)\n",
      "memory usage: 50.5+ MB\n",
      "None\n"
     ]
    }
   ],
   "source": [
    "loan_df = loan_df.dropna()\n",
    "print loan_df.info()"
   ]
  },
  {
   "cell_type": "code",
   "execution_count": 4,
   "metadata": {
    "collapsed": false
   },
   "outputs": [],
   "source": [
    "from datetime import datetime\n",
    "loan_df['duration_paid'] =  (pd.to_datetime(loan_df['last_pymnt_d']) - pd.to_datetime(loan_df['issue_d']))"
   ]
  },
  {
   "cell_type": "code",
   "execution_count": 5,
   "metadata": {
    "collapsed": false
   },
   "outputs": [],
   "source": [
    "loan_df['Count_Days'] =  loan_df['duration_paid'].dt.days\n",
    "loan_df['Payment_rate'] =  loan_df['total_pymnt'] / (loan_df['Count_Days']+1)*30\n",
    "loan_df['Payment_ratio'] = loan_df['Payment_rate']/ loan_df['installment']"
   ]
  },
  {
   "cell_type": "code",
   "execution_count": 6,
   "metadata": {
    "collapsed": false
   },
   "outputs": [],
   "source": [
    "loan_df = loan_df.dropna()"
   ]
  },
  {
   "cell_type": "code",
   "execution_count": 7,
   "metadata": {
    "collapsed": true
   },
   "outputs": [],
   "source": [
    "if \"issue_d\" in loan_df:\n",
    "    del loan_df[\"issue_d\"]\n",
    "if \"last_pymnt_d\" in loan_df:\n",
    "    del loan_df[\"last_pymnt_d\"]\n",
    "if \"total_pymnt\" in loan_df:\n",
    "    del loan_df[\"total_pymnt\"]\n",
    "if \"duration_paid\" in loan_df:\n",
    "    del loan_df[\"duration_paid\"]\n",
    "if \"Count_Days\" in loan_df:\n",
    "    del loan_df['Count_Days']"
   ]
  },
  {
   "cell_type": "code",
   "execution_count": 8,
   "metadata": {
    "collapsed": false
   },
   "outputs": [],
   "source": [
    "# Create separate data frames for future analysis and breakdown\n",
    "loan_df_unfinished = loan_df[loan_df['Loan_Class2'] == 'Current'] #Data of uncompleted loans\n",
    "loan_df_finished = loan_df[(loan_df['Loan_Class2'] == 'Bad') | (loan_df['Loan_Class2']=='Good')] #Data of completed loans\n",
    "\n",
    "#loan_df.copy()\n",
    "\n",
    "if \"Loan_Class2\" in loan_df:\n",
    "    del loan_df[\"Loan_Class2\"]"
   ]
  },
  {
   "cell_type": "code",
   "execution_count": 9,
   "metadata": {
    "collapsed": false
   },
   "outputs": [
    {
     "name": "stdout",
     "output_type": "stream",
     "text": [
      "<class 'pandas.core.frame.DataFrame'>\n",
      "Int64Index: 119991 entries, 0 to 120127\n",
      "Data columns (total 53 columns):\n",
      "funded_amnt                        119991 non-null float64\n",
      "term                               119991 non-null float64\n",
      "installment                        119991 non-null float64\n",
      "annual_inc                         119991 non-null float64\n",
      "dti                                119991 non-null float64\n",
      "delinq_2yrs                        119991 non-null float64\n",
      "inq_last_6mths                     119991 non-null float64\n",
      "open_acc                           119991 non-null float64\n",
      "total_acc                          119991 non-null float64\n",
      "acc_now_delinq                     119991 non-null float64\n",
      "grade_A                            119991 non-null float64\n",
      "grade_B                            119991 non-null float64\n",
      "grade_C                            119991 non-null float64\n",
      "grade_D                            119991 non-null float64\n",
      "grade_E                            119991 non-null float64\n",
      "grade_F                            119991 non-null float64\n",
      "grade_G                            119991 non-null float64\n",
      "Employ_1 year                      119991 non-null float64\n",
      "Employ_10+ years                   119991 non-null float64\n",
      "Employ_2 years                     119991 non-null float64\n",
      "Employ_3 years                     119991 non-null float64\n",
      "Employ_4 years                     119991 non-null float64\n",
      "Employ_5 years                     119991 non-null float64\n",
      "Employ_6 years                     119991 non-null float64\n",
      "Employ_7 years                     119991 non-null float64\n",
      "Employ_8 years                     119991 non-null float64\n",
      "Employ_9 years                     119991 non-null float64\n",
      "Employ_< 1 year                    119991 non-null float64\n",
      "Employ_n/a                         119991 non-null float64\n",
      "Int_Rate_Range                     119991 non-null category\n",
      "Loan_Class                         119991 non-null float64\n",
      "Verify_Status                      119991 non-null float64\n",
      "Home_MORTGAGE                      119991 non-null float64\n",
      "Home_NONE                          119991 non-null float64\n",
      "Home_OTHER                         119991 non-null float64\n",
      "Home_OWN                           119991 non-null float64\n",
      "Home_RENT                          119991 non-null float64\n",
      "Loan_Purpose_car                   119991 non-null float64\n",
      "Loan_Purpose_credit_card           119991 non-null float64\n",
      "Loan_Purpose_debt_consolidation    119991 non-null float64\n",
      "Loan_Purpose_educational           119991 non-null float64\n",
      "Loan_Purpose_home_improvement      119991 non-null float64\n",
      "Loan_Purpose_house                 119991 non-null float64\n",
      "Loan_Purpose_major_purchase        119991 non-null float64\n",
      "Loan_Purpose_medical               119991 non-null float64\n",
      "Loan_Purpose_moving                119991 non-null float64\n",
      "Loan_Purpose_other                 119991 non-null float64\n",
      "Loan_Purpose_renewable_energy      119991 non-null float64\n",
      "Loan_Purpose_small_business        119991 non-null float64\n",
      "Loan_Purpose_vacation              119991 non-null float64\n",
      "Loan_Purpose_wedding               119991 non-null float64\n",
      "Payment_rate                       119991 non-null float64\n",
      "Payment_ratio                      119991 non-null float64\n",
      "dtypes: category(1), float64(52)\n",
      "memory usage: 48.6 MB\n"
     ]
    }
   ],
   "source": [
    "loan_df.info()"
   ]
  },
  {
   "cell_type": "code",
   "execution_count": 10,
   "metadata": {
    "collapsed": false
   },
   "outputs": [
    {
     "name": "stdout",
     "output_type": "stream",
     "text": [
      "ShuffleSplit(119991, n_iter=5, test_size=0.2, random_state=None)\n"
     ]
    }
   ],
   "source": [
    "from sklearn.cross_validation import ShuffleSplit\n",
    "from sklearn.linear_model import LogisticRegression\n",
    "from sklearn import metrics as mt\n",
    "from sklearn.preprocessing import StandardScaler\n",
    "from sklearn.linear_model import SGDClassifier\n",
    "\n",
    "from matplotlib import pyplot as plt\n",
    "\n",
    "\n",
    "# Split our data frame into our classification of Loan_Class and the rest of the data set\n",
    "if 'Loan_Class' in loan_df:\n",
    "    y = loan_df['Loan_Class'].values\n",
    "    del loan_df['Loan_Class']\n",
    "    X = loan_df.values\n",
    "\n",
    "# Shuffle split our data into an 80/20 breakdown. The 80 will be used for training and the 20 for testing\n",
    "num_cv_iterations = 5\n",
    "num_instances = len(y)\n",
    "cv_obj = ShuffleSplit(n = num_instances, n_iter = num_cv_iterations, test_size = 0.2)\n",
    "\n",
    "print cv_obj"
   ]
  },
  {
   "cell_type": "markdown",
   "metadata": {},
   "source": [
    "### Logistic Regression\n",
    "\n",
    "We will begin by conducting a logistic regression on the full data set. We will look at the accuracy of the classification to see how accurate the regression model is and the confusion matrix to see if there are any oddities in the breakdown."
   ]
  },
  {
   "cell_type": "code",
   "execution_count": 11,
   "metadata": {
    "collapsed": false
   },
   "outputs": [
    {
     "name": "stdout",
     "output_type": "stream",
     "text": [
      "====Iteration 0  ====\n",
      "accuracy 0.873161381724\n",
      "confusion matrix\n",
      "[[    0  3044]\n",
      " [    0 20955]]\n",
      "====Iteration 1  ====\n",
      "accuracy 0.871077961582\n",
      "confusion matrix\n",
      "[[    0  3094]\n",
      " [    0 20905]]\n",
      "====Iteration 2  ====\n",
      "accuracy 0.871952998042\n",
      "confusion matrix\n",
      "[[    1  3073]\n",
      " [    0 20925]]\n",
      "====Iteration 3  ====\n",
      "accuracy 0.867702820951\n",
      "confusion matrix\n",
      "[[    0  3175]\n",
      " [    0 20824]]\n",
      "====Iteration 4  ====\n",
      "accuracy 0.873869744573\n",
      "confusion matrix\n",
      "[[    0  3027]\n",
      " [    0 20972]]\n"
     ]
    }
   ],
   "source": [
    "from sklearn.linear_model import LogisticRegression\n",
    "from sklearn import metrics as mt\n",
    "\n",
    "logreg_obj = LogisticRegression(penalty='l2', C=1.0, class_weight=None)\n",
    "\n",
    "# Fit and test the regression model for each shuffled instance\n",
    "for iter_num, (train_indices, test_indices) in enumerate(cv_obj):\n",
    "    logreg_obj.fit(X[train_indices],y[train_indices])  # train object\n",
    "    y_hat = logreg_obj.predict(X[test_indices]) # get test set precitions\n",
    "\n",
    "    # print the accuracy and confusion matrix \n",
    "    print \"====Iteration\",iter_num,\" ====\"\n",
    "    print \"accuracy\", mt.accuracy_score(y[test_indices],y_hat) \n",
    "    print \"confusion matrix\\n\",mt.confusion_matrix(y[test_indices],y_hat)"
   ]
  },
  {
   "cell_type": "code",
   "execution_count": 12,
   "metadata": {
    "collapsed": false
   },
   "outputs": [],
   "source": [
    "# Add column to determine if loan is good or bad based on classification in data set\n",
    "loan_df_finished['isGoodLoan'] = loan_df_finished['Loan_Class2'] == 'Good'\n",
    "loan_df_finished.isGoodLoan = loan_df_finished.isGoodLoan.astype(np.int)\n",
    "\n",
    "#Remove Loan_Class and Loan_Class2 from the data frame so they are no longer observed for classification\n",
    "if \"Loan_Class\" in loan_df_finished:\n",
    "    del loan_df_finished[\"Loan_Class\"]\n",
    "if \"Loan_Class2\" in loan_df_finished:\n",
    "    del loan_df_finished[\"Loan_Class2\"]"
   ]
  },
  {
   "cell_type": "code",
   "execution_count": 13,
   "metadata": {
    "collapsed": false
   },
   "outputs": [],
   "source": [
    "# Split the data into our x and y matrices for testing\n",
    "if 'isGoodLoan' in loan_df_finished:\n",
    "    updated_y = loan_df_finished['isGoodLoan'].values\n",
    "    del loan_df_finished['isGoodLoan']\n",
    "    updated_X = loan_df_finished.values\n",
    "\n",
    "# Create a new Shuffle split on the narrowed classification data\n",
    "num_cv_iterations = 5\n",
    "num_instances = len(updated_y)\n",
    "updated_cv_obj = ShuffleSplit(n = num_instances, n_iter = num_cv_iterations, test_size = 0.2)"
   ]
  },
  {
   "cell_type": "code",
   "execution_count": 14,
   "metadata": {
    "collapsed": false
   },
   "outputs": [
    {
     "name": "stdout",
     "output_type": "stream",
     "text": [
      "<class 'pandas.core.frame.DataFrame'>\n",
      "Int64Index: 78690 entries, 0 to 120127\n",
      "Data columns (total 52 columns):\n",
      "funded_amnt                        78690 non-null float64\n",
      "term                               78690 non-null float64\n",
      "installment                        78690 non-null float64\n",
      "annual_inc                         78690 non-null float64\n",
      "dti                                78690 non-null float64\n",
      "delinq_2yrs                        78690 non-null float64\n",
      "inq_last_6mths                     78690 non-null float64\n",
      "open_acc                           78690 non-null float64\n",
      "total_acc                          78690 non-null float64\n",
      "acc_now_delinq                     78690 non-null float64\n",
      "grade_A                            78690 non-null float64\n",
      "grade_B                            78690 non-null float64\n",
      "grade_C                            78690 non-null float64\n",
      "grade_D                            78690 non-null float64\n",
      "grade_E                            78690 non-null float64\n",
      "grade_F                            78690 non-null float64\n",
      "grade_G                            78690 non-null float64\n",
      "Employ_1 year                      78690 non-null float64\n",
      "Employ_10+ years                   78690 non-null float64\n",
      "Employ_2 years                     78690 non-null float64\n",
      "Employ_3 years                     78690 non-null float64\n",
      "Employ_4 years                     78690 non-null float64\n",
      "Employ_5 years                     78690 non-null float64\n",
      "Employ_6 years                     78690 non-null float64\n",
      "Employ_7 years                     78690 non-null float64\n",
      "Employ_8 years                     78690 non-null float64\n",
      "Employ_9 years                     78690 non-null float64\n",
      "Employ_< 1 year                    78690 non-null float64\n",
      "Employ_n/a                         78690 non-null float64\n",
      "Int_Rate_Range                     78690 non-null category\n",
      "Verify_Status                      78690 non-null float64\n",
      "Home_MORTGAGE                      78690 non-null float64\n",
      "Home_NONE                          78690 non-null float64\n",
      "Home_OTHER                         78690 non-null float64\n",
      "Home_OWN                           78690 non-null float64\n",
      "Home_RENT                          78690 non-null float64\n",
      "Loan_Purpose_car                   78690 non-null float64\n",
      "Loan_Purpose_credit_card           78690 non-null float64\n",
      "Loan_Purpose_debt_consolidation    78690 non-null float64\n",
      "Loan_Purpose_educational           78690 non-null float64\n",
      "Loan_Purpose_home_improvement      78690 non-null float64\n",
      "Loan_Purpose_house                 78690 non-null float64\n",
      "Loan_Purpose_major_purchase        78690 non-null float64\n",
      "Loan_Purpose_medical               78690 non-null float64\n",
      "Loan_Purpose_moving                78690 non-null float64\n",
      "Loan_Purpose_other                 78690 non-null float64\n",
      "Loan_Purpose_renewable_energy      78690 non-null float64\n",
      "Loan_Purpose_small_business        78690 non-null float64\n",
      "Loan_Purpose_vacation              78690 non-null float64\n",
      "Loan_Purpose_wedding               78690 non-null float64\n",
      "Payment_rate                       78690 non-null float64\n",
      "Payment_ratio                      78690 non-null float64\n",
      "dtypes: category(1), float64(51)\n",
      "memory usage: 31.3 MB\n"
     ]
    }
   ],
   "source": [
    "loan_df_finished.info()"
   ]
  },
  {
   "cell_type": "code",
   "execution_count": 15,
   "metadata": {
    "collapsed": false
   },
   "outputs": [
    {
     "name": "stdout",
     "output_type": "stream",
     "text": [
      "==== Iteration 0  ====\n",
      "accuracy 0.828694878638\n",
      "confusion matrix\n",
      "[[  627  2388]\n",
      " [  308 12415]]\n",
      "==== Iteration 1  ====\n",
      "accuracy 0.82462828822\n",
      "confusion matrix\n",
      "[[  616  2439]\n",
      " [  321 12362]]\n",
      "==== Iteration 2  ====\n",
      "accuracy 0.82704282628\n",
      "confusion matrix\n",
      "[[  614  2429]\n",
      " [  293 12402]]\n",
      "==== Iteration 3  ====\n",
      "accuracy 0.820688778752\n",
      "confusion matrix\n",
      "[[  580  2539]\n",
      " [  283 12336]]\n",
      "==== Iteration 4  ====\n",
      "accuracy 0.827296988181\n",
      "confusion matrix\n",
      "[[  642  2368]\n",
      " [  350 12378]]\n"
     ]
    }
   ],
   "source": [
    "updated_logreg_obj = LogisticRegression(penalty='l2', C=10, class_weight=None)\n",
    "\n",
    "for iter_num, (train_indices, test_indices) in enumerate(updated_cv_obj):\n",
    "    updated_logreg_obj.fit(updated_X[train_indices],updated_y[train_indices])  # train object\n",
    "    updated_y_hat = updated_logreg_obj.predict(updated_X[test_indices]) # get test set precitions\n",
    "\n",
    "    # print the accuracy and confusion matrix \n",
    "    print \"==== Iteration\",iter_num,\" ====\"\n",
    "    print \"accuracy\", mt.accuracy_score(updated_y[test_indices],updated_y_hat) \n",
    "    print \"confusion matrix\\n\",mt.confusion_matrix(updated_y[test_indices],updated_y_hat)"
   ]
  },
  {
   "cell_type": "markdown",
   "metadata": {},
   "source": [
    "The results of this classification not only have a higher accuracy than the original, full data set, right around 97.9% on average rather than 93.1%, but it also has better looking confusion mattrices. There are data points that are classified correctly. Although there are still a large number of bad loans being incorrectly identified as good, it is much better distributed than the original set.\n",
    "\n",
    "We follow up this analysis by looking at the weight of each factor used. This will help us figure out if there are certain features that are more influential than others to help with the classification of each point."
   ]
  },
  {
   "cell_type": "code",
   "execution_count": 16,
   "metadata": {
    "collapsed": false
   },
   "outputs": [
    {
     "name": "stdout",
     "output_type": "stream",
     "text": [
      "funded_amnt has weight of -0.000246177271187\n",
      "term has weight of 0.0154134407877\n",
      "installment has weight of 0.000488716048863\n",
      "annual_inc has weight of 1.11391807371e-05\n",
      "dti has weight of 0.00264371557629\n",
      "delinq_2yrs has weight of -0.000191555413752\n",
      "inq_last_6mths has weight of -0.000328872081796\n",
      "open_acc has weight of 0.00268786243907\n",
      "total_acc has weight of 0.00686944009792\n",
      "acc_now_delinq has weight of -7.74550672785e-06\n",
      "grade_A has weight of 0.000758107916881\n",
      "grade_B has weight of 0.00052775514859\n",
      "grade_C has weight of -2.48922144832e-05\n",
      "grade_D has weight of -0.000216620135025\n",
      "grade_E has weight of -0.000184715112781\n",
      "grade_F has weight of -0.000144100596558\n",
      "grade_G has weight of -4.18882392495e-05\n",
      "Employ_1 year has weight of 8.79305077563e-05\n",
      "Employ_10+ years has weight of -4.14595821805e-05\n",
      "Employ_2 years has weight of 0.00013883503275\n",
      "Employ_3 years has weight of 0.000124673059859\n",
      "Employ_4 years has weight of 0.000100125048952\n",
      "Employ_5 years has weight of 7.55581836664e-05\n",
      "Employ_6 years has weight of 2.77420138602e-05\n",
      "Employ_7 years has weight of 7.29291669808e-06\n",
      "Employ_8 years has weight of 7.8453701817e-06\n",
      "Employ_9 years has weight of 9.34899207747e-06\n",
      "Employ_< 1 year has weight of 0.000153845192793\n",
      "Employ_n/a has weight of -1.80899690397e-05\n",
      "Int_Rate_Range has weight of -0.00090059027246\n",
      "Verify_Status has weight of -1.18977103048e-05\n",
      "Home_MORTGAGE has weight of 0.000169956025516\n",
      "Home_NONE has weight of 4.02636302413e-07\n",
      "Home_OTHER has weight of 3.09863453485e-06\n",
      "Home_OWN has weight of 5.09800481553e-05\n",
      "Home_RENT has weight of 0.000449209422866\n",
      "Loan_Purpose_car has weight of 6.51184155976e-05\n",
      "Loan_Purpose_credit_card has weight of 0.000121855679169\n",
      "Loan_Purpose_debt_consolidation has weight of 0.000215411202115\n",
      "Loan_Purpose_educational has weight of 1.09307453701e-05\n",
      "Loan_Purpose_home_improvement has weight of 5.18665221839e-05\n",
      "Loan_Purpose_house has weight of 8.72565773292e-06\n",
      "Loan_Purpose_major_purchase has weight of 9.47683612719e-05\n",
      "Loan_Purpose_medical has weight of 1.15797056302e-05\n",
      "Loan_Purpose_moving has weight of 1.35840898961e-05\n",
      "Loan_Purpose_other has weight of 5.27958431532e-05\n",
      "Loan_Purpose_renewable_energy has weight of 1.14201161801e-06\n",
      "Loan_Purpose_small_business has weight of -2.71264624043e-05\n",
      "Loan_Purpose_vacation has weight of 1.02661793062e-05\n",
      "Loan_Purpose_wedding has weight of 4.27288167339e-05\n",
      "Payment_rate has weight of 0.00458026401237\n",
      "Payment_ratio has weight of 0.00109506910818\n"
     ]
    }
   ],
   "source": [
    "# Non-normalized weights\n",
    "# Iterate over the coefficients to get the weight for each variable\n",
    "weights = updated_logreg_obj.coef_.T # take transpose to make a column vector\n",
    "variable_names = loan_df_finished.columns\n",
    "for coef, name in zip(weights,variable_names):\n",
    "    print name, 'has weight of', coef[0]"
   ]
  },
  {
   "cell_type": "markdown",
   "metadata": {},
   "source": [
    "We want to normalize the weights for each variable so that a much larger valued variable, such as the funded amount, is weighted the same as a small valued variable such as one that is binary or nominal."
   ]
  },
  {
   "cell_type": "code",
   "execution_count": 17,
   "metadata": {
    "collapsed": false
   },
   "outputs": [
    {
     "name": "stdout",
     "output_type": "stream",
     "text": [
      "Home_OTHER has weight of 0.000397427002215\n",
      "Loan_Purpose_renewable_energy has weight of 0.000960838278647\n",
      "Home_RENT has weight of 0.00177672666076\n",
      "Loan_Purpose_vacation has weight of 0.00200346569907\n",
      "Loan_Purpose_medical has weight of -0.00242403185564\n",
      "Loan_Purpose_moving has weight of 0.00323443900007\n",
      "Home_NONE has weight of -0.00435688595927\n",
      "Loan_Purpose_debt_consolidation has weight of -0.00579566782653\n",
      "Home_MORTGAGE has weight of 0.00772828015904\n",
      "Employ_9 years has weight of -0.00895489779833\n",
      "Loan_Purpose_home_improvement has weight of 0.00950591529707\n",
      "Loan_Purpose_other has weight of -0.0102198521342\n",
      "Loan_Purpose_house has weight of 0.0114797949884\n",
      "Employ_7 years has weight of -0.0117572911304\n",
      "Employ_6 years has weight of -0.0129085518948\n",
      "Loan_Purpose_educational has weight of -0.0140209772964\n",
      "Employ_1 year has weight of 0.0141878727607\n",
      "Home_OWN has weight of -0.0171496258425\n",
      "Employ_5 years has weight of 0.017413077837\n",
      "Loan_Purpose_credit_card has weight of -0.0204247532141\n",
      "Employ_8 years has weight of -0.020484232857\n",
      "Verify_Status has weight of -0.0230234879249\n",
      "acc_now_delinq has weight of -0.0283215595445\n",
      "Employ_< 1 year has weight of 0.029702224301\n",
      "Employ_2 years has weight of 0.0345911505448\n",
      "Loan_Purpose_major_purchase has weight of 0.041461218629\n",
      "Employ_4 years has weight of 0.0416664002965\n",
      "Employ_3 years has weight of 0.0450585310764\n",
      "delinq_2yrs has weight of -0.0452043446234\n",
      "Loan_Purpose_car has weight of 0.0455404405989\n",
      "Employ_10+ years has weight of -0.0456913966788\n",
      "grade_D has weight of 0.0517736865822\n",
      "grade_A has weight of -0.0556694604908\n",
      "grade_C has weight of -0.0558081062867\n",
      "Loan_Purpose_wedding has weight of 0.0607593872235\n",
      "total_acc has weight of 0.0633388154166\n",
      "Loan_Purpose_small_business has weight of -0.0639062587514\n",
      "open_acc has weight of -0.0667746409475\n",
      "grade_B has weight of -0.0791242553027\n",
      "grade_F has weight of 0.084948297517\n",
      "inq_last_6mths has weight of -0.0912873123646\n",
      "Employ_n/a has weight of -0.107703528386\n",
      "grade_G has weight of 0.11280260056\n",
      "grade_E has weight of 0.13887545251\n",
      "dti has weight of -0.207494702031\n",
      "funded_amnt has weight of -0.21494706171\n",
      "annual_inc has weight of 0.246148268742\n",
      "term has weight of -0.367259020554\n",
      "installment has weight of -0.586563288674\n",
      "Int_Rate_Range has weight of -0.898896222438\n",
      "Payment_rate has weight of 7.79720060268\n",
      "Payment_ratio has weight of 11.5680813741\n",
      "accuracy: 0.863578599568\n"
     ]
    },
    {
     "data": {
      "image/png": "[encoded data removed]",
      "text/plain": [
       "<matplotlib.figure.Figure at 0x29cd27b8>"
      ]
     },
     "metadata": {},
     "output_type": "display_data"
    }
   ],
   "source": [
    "warnings.simplefilter(\"ignore\")\n",
    "%matplotlib inline\n",
    "\n",
    "# Normalize the features\n",
    "scale_obj = StandardScaler()\n",
    "scale_obj.fit(updated_X[train_indices])\n",
    "\n",
    "X_train_scaled = scale_obj.transform(updated_X[train_indices]) # apply to training\n",
    "X_test_scaled = scale_obj.transform(updated_X[test_indices])\n",
    "\n",
    "# Fit the regression to the new scaled data\n",
    "updated_logreg_obj.fit(X_train_scaled, updated_y[train_indices])\n",
    "\n",
    "y_hat = updated_logreg_obj.predict(X_test_scaled)\n",
    "\n",
    "# Rescore the accuracy and confusion matrix for the scaled data\n",
    "acc = mt.accuracy_score(updated_y[test_indices],y_hat)\n",
    "conf = mt.confusion_matrix(updated_y[test_indices],y_hat)\n",
    "\n",
    "\n",
    "# Sort the attributes on size and print them out in order of weight\n",
    "zip_vars = zip(updated_logreg_obj.coef_.T,loan_df_finished.columns) # combine attributes\n",
    "zip_vars.sort(key = lambda t: np.abs(t[0])) # sort them by the magnitude of the weight\n",
    "for coef, name in zip_vars:\n",
    "    print name, 'has weight of', coef[0] # now print them out\n",
    "    \n",
    "fig, ax = plt.subplots(figsize=(2.5,2.5))\n",
    "ax.matshow(conf, cmap=plt.cm.Blues, alpha = 0.3)\n",
    "for i in range (conf.shape[0]):\n",
    "    for j in range (conf.shape[1]):\n",
    "        ax.text(x=j, y=i, s=conf[i, j], va = 'center', ha = 'center')\n",
    "plt.xlabel ('Predicted Class')\n",
    "plt.ylabel ('True Class')\n",
    "plt.show\n",
    "\n",
    "print 'accuracy:', acc"
   ]
  },
  {
   "cell_type": "markdown",
   "metadata": {},
   "source": [
    "After scaling the data, we still get a similar accuracy to before and our confusion matrix has remained proportional. The scaled view of the variables provides a better way to compare each of the variables to one another and see which have a significant impact. In the graph below, it is even easier to note which variables have the most impact. The funded amount and total payment variables have a significant impact over any of the rest of the variables. Other notable variables that are valued slightly higher than the other factors are the Interst Rate Range, annual income and the number of total accounts someone has.\n",
    "\n",
    "These values make a lot of sense as to why they are the most important. The total payment should definitely be a factor that plays into determining if a loan is good or bad. If the loan is in good standing, the full principle amount will be paid off. This will relate positively because as you pay more back to the bank, you will become closer to finishing the loan. Alternatively, the less money you have paid the more likely you are to default on the loan. Funded amount and interest rate range are also valuable. Banks probably use these in relation to one another to determine who will default and give certain rates for ceratin funded amounts. They are negatively weighted in this case which means the higher the interest rate and the higher the funded amount, the more likely someone is to default. As a loan increases in value and interest rate, it gets more difficult to pay off the loan and so someone is more likely to go into default and end up with a \"bad\" loan."
   ]
  },
  {
   "cell_type": "code",
   "execution_count": 18,
   "metadata": {
    "collapsed": false
   },
   "outputs": [
    {
     "data": {
      "image/png": "[encoded data removed]",
      "text/plain": [
       "<matplotlib.figure.Figure at 0x153c1710>"
      ]
     },
     "metadata": {},
     "output_type": "display_data"
    }
   ],
   "source": [
    "# now let's make a pandas Series with the names and values, and plot them\n",
    "\n",
    "%matplotlib inline\n",
    "plt.style.use('ggplot')\n",
    "fig = plt.figure(figsize=(16, 4))\n",
    "\n",
    "weights = pd.Series(updated_logreg_obj.coef_[0],index=loan_df_finished.columns)\n",
    "weights.plot(kind='bar')\n",
    "plt.show()"
   ]
  },
  {
   "cell_type": "markdown",
   "metadata": {},
   "source": [
    "### Support Vector Machines\n",
    "\n",
    "We continue our trials by observing the Support Vector Machines (SVM) to see if this method of classification can classify our data set better than logistic regression. We will start by observing the SVM of our original data set. Although it will most likely turn out the same way, not giving very good data, the SVM may reveal new splits in the decision. We will follow that up with looking at the SVM of the reduced data set that contains the completed loans. We can compare the accuracy of the SVM with the above logistic regression to determine if one classifies this data better than the other.\n",
    "\n",
    "Note: We use the SGDClassifier due to the size of our data set. Both sets are large and would take too long to train with a normal SVM in a time that is reasonable."
   ]
  },
  {
   "cell_type": "code",
   "execution_count": 19,
   "metadata": {
    "collapsed": false
   },
   "outputs": [
    {
     "name": "stdout",
     "output_type": "stream",
     "text": [
      "SVM: 0.875828159507\n",
      "Confusion Matrix:\n",
      "[[    0  2980]\n",
      " [    0 21019]]\n",
      "Coefficients [[  3.11550362e-04  -3.11015037e-04  -3.00446352e-04   1.01377016e-04\n",
      "   -5.55860113e-05  -8.20095644e-05   9.18510357e-05  -3.27614469e-04\n",
      "   -1.42746684e-04   3.56534288e-04   3.10714842e-04  -1.53643261e-05\n",
      "   -4.30783595e-05   4.43464091e-05  -2.18949869e-04  -1.37505337e-05\n",
      "   -5.00854569e-04  -4.38257122e-07   1.73848588e-04   3.22812410e-05\n",
      "    9.07831991e-05   1.33680047e-04   1.35504275e-05  -2.72136382e-04\n",
      "    2.21751078e-05  -2.23844821e-04  -7.06659124e-05  -5.71900014e-05\n",
      "   -7.64268252e-05  -1.54388661e-04   4.68026254e-05   4.15975784e-05\n",
      "   -2.05732556e-03   2.38551071e-04  -1.00234849e-04   3.58639786e-05\n",
      "    6.54756250e-05   4.11149085e-05  -1.34610554e-04   6.30506936e-06\n",
      "   -1.83227622e-04   3.50813165e-04   5.12264466e-05  -7.04652486e-06\n",
      "    7.33423610e-05   4.93427921e-05   1.57268834e-04   8.19007245e-05\n",
      "   -1.70302243e-04   2.54858229e-04   2.66863606e-04   2.61714039e-03]]\n"
     ]
    },
    {
     "data": {
      "text/plain": [
       "<matplotlib.axes._subplots.AxesSubplot at 0x126e7828>"
      ]
     },
     "execution_count": 19,
     "metadata": {},
     "output_type": "execute_result"
    },
    {
     "data": {
      "image/png": "[encoded data removed]",
      "text/plain": [
       "<matplotlib.figure.Figure at 0x127c0390>"
      ]
     },
     "metadata": {},
     "output_type": "display_data"
    }
   ],
   "source": [
    "# SVM of full data set\n",
    "warnings.simplefilter(\"ignore\")\n",
    "\n",
    "# SGDClassifier using 'hinge' for loss to get an SVM\n",
    "from sklearn.linear_model import SGDClassifier\n",
    "\n",
    "# Get SVM classifier\n",
    "regularize_const = 0.1\n",
    "iterations = 5\n",
    "svm_sgd = SGDClassifier(alpha=regularize_const,\n",
    "        fit_intercept=True, l1_ratio=0.0, learning_rate='optimal',\n",
    "        loss='hinge', n_iter=iterations, n_jobs=-1, penalty='l2')\n",
    "\n",
    "# Fit our data (after it is scaled) to an SVM classification\n",
    "scl = StandardScaler()\n",
    "for train_idx, test_idx in cv_obj:\n",
    "    svm_sgd.fit(scl.fit_transform(X[train_idx]),y[train_idx])\n",
    "    yhat = svm_sgd.predict(scl.transform(X[test_idx]))\n",
    "    \n",
    "    conf = mt.confusion_matrix(y[test_idx],yhat)\n",
    "    acc = mt.accuracy_score(y[test_idx],yhat)\n",
    "\n",
    "print 'SVM:', acc\n",
    "print 'Confusion Matrix:\\n', conf\n",
    "print 'Coefficients', svm_sgd.coef_\n",
    "weights = pd.Series(svm_sgd.coef_[0],index=loan_df_finished.columns)\n",
    "weights.plot(kind='bar', figsize=(16,4))"
   ]
  },
  {
   "cell_type": "markdown",
   "metadata": {},
   "source": [
    "The accuracy of the full data set remained very similar. It stayed at around 93% accuracy, but still has the same style of confusion matrix from the logistic regression with bad loans being classified as good ones. We now look at the SVM of the reduced data to see how it performs."
   ]
  },
  {
   "cell_type": "code",
   "execution_count": 20,
   "metadata": {
    "collapsed": false
   },
   "outputs": [
    {
     "name": "stdout",
     "output_type": "stream",
     "text": [
      "SVM: 0.804231795654\n",
      "Confusion Matrix:\n",
      "[[    0  3081]\n",
      " [    0 12657]]\n",
      "Coefficients [[ -4.81310455e-03  -5.73028647e-03  -3.89063449e-03   3.84099512e-03\n",
      "   -1.65318157e-03  -6.71902892e-04  -9.21159311e-04  -1.70905760e-03\n",
      "    1.51771630e-03  -1.42174334e-04  -2.60156483e-03   7.17487521e-05\n",
      "    1.14633480e-04   7.10412837e-04   7.38825294e-04   1.36021191e-03\n",
      "    2.36601134e-03   2.51872301e-04  -8.79034662e-04   1.02078957e-03\n",
      "    7.98485252e-04   6.19171395e-05  -6.75012790e-04  -8.25366025e-04\n",
      "   -3.35863917e-04  -6.29302264e-05   4.36788145e-04   4.96419996e-04\n",
      "    3.26666528e-05  -1.07048729e-02   6.02827801e-05  -4.98561112e-04\n",
      "    1.47412789e-04   5.71372237e-04  -7.89543789e-05   4.95895715e-04\n",
      "    1.05488153e-03  -1.81776851e-04  -7.71343195e-05   2.06853628e-04\n",
      "    6.78965844e-05  -6.36174136e-04   6.28129077e-04  -1.19957968e-04\n",
      "    5.22818987e-04  -7.50388541e-04   1.36975491e-03  -1.16279287e-03\n",
      "    7.77148371e-04   8.32675001e-04   6.51680808e-02   6.82483719e-02]]\n"
     ]
    },
    {
     "data": {
      "text/plain": [
       "<matplotlib.axes._subplots.AxesSubplot at 0x119743c8>"
      ]
     },
     "execution_count": 20,
     "metadata": {},
     "output_type": "execute_result"
    },
    {
     "data": {
      "image/png": "[encoded data removed]",
      "text/plain": [
       "<matplotlib.figure.Figure at 0x11bdba58>"
      ]
     },
     "metadata": {},
     "output_type": "display_data"
    }
   ],
   "source": [
    "# SGDClassifier using 'hinge' for loss to get an SVM\n",
    "from sklearn.linear_model import SGDClassifier\n",
    "\n",
    "regularize_const = 0.1\n",
    "iterations = 5\n",
    "svm_sgd = SGDClassifier(alpha=regularize_const,\n",
    "        fit_intercept=True, l1_ratio=0.0, learning_rate='optimal',\n",
    "        loss='hinge', n_iter=iterations, n_jobs=-1, penalty='l2')\n",
    "\n",
    "scl = StandardScaler()\n",
    "for train_idx, test_idx in updated_cv_obj:\n",
    "    svm_sgd.fit(scl.fit_transform(updated_X[train_idx]),updated_y[train_idx])\n",
    "    yhat = svm_sgd.predict(scl.transform(updated_X[test_idx]))\n",
    "    \n",
    "    conf = mt.confusion_matrix(updated_y[test_idx],yhat)\n",
    "    acc = mt.accuracy_score(updated_y[test_idx],yhat)\n",
    "\n",
    "print 'SVM:', acc\n",
    "print 'Confusion Matrix:\\n', conf\n",
    "print 'Coefficients', svm_sgd.coef_\n",
    "weights = pd.Series(svm_sgd.coef_[0],index=loan_df_finished.columns)\n",
    "weights.plot(kind='bar', figsize=(16,4))"
   ]
  },
  {
   "cell_type": "markdown",
   "metadata": {},
   "source": [
    "The SVM for the reduced data, which includes just completed loans, has a much lower accuracy than the logistic regression classification of the same data. The accuracy dropped from just below 98.0% to around 86.8%. This is a significant difference. It is possible that part of this is due to SGDClassifier taking the Stochastic Gradient instead of the full gradient of the SVM. Although the SGD runs faster than the linear regression model we used (LinearRegression()), it does not have the accuracy that we would expect or want in this situation, especially when the original data stayed around the same accuracy between the two different classifications.\n",
    "\n",
    "It is interesting to note that the classes that the SVM pulls out are almost identical to the ones the logistic regression uses. Funded amount and total payment are still at the top of the list with Interest Rate Range being a distant fourth, but still near the top. Surprisingly, it has added importance on the 'Term' variable that the logistic regression did not pull out."
   ]
  },
  {
   "cell_type": "markdown",
   "metadata": {},
   "source": [
    "### Additional Analysis: Are there better parameter or variable choices?\n",
    "\n",
    "As suggested by the Batch SVM previously, it looks like there might be better parameter set that can help us generage the best Bias-variance trade-off. In this section, we want to see if we can improve the overall accuracy of our model by adjusting the parameters we pass into our Logistic Regression and SVM models and by reducing the number of variables we look at with our model. Either of these changes could lead to better performance in both accuracy and the confusion mattrices.\n",
    "\n",
    "Overfitting is a common problem in machine learning, where a model performs well on training data but does not generalize well to unseen data (test data). If a model suffers from overfitting, we also say that the model has a high variance, which can be caused by having too many parameters that lead to a model that is too complex given the underlying data. Similarly, our model can also suffer from underfitting (high bias), which means that our model is not complex enough to capture the pattern in the training data well and therefore also suffers from low performance\n",
    "on unseen data. There are various parameters for finding a good bias-variance tradeoff and to tune the complexity of the model via regularization. \n",
    "\n",
    "Cost Function 'C' : A large C gives you low bias and high variance. Low bias because you penalize the cost of missclasification a lot. A small C gives you higher bias and lower variance. A lower C means higher regularization. A lower C thus prevents overfitting.\n",
    "\n",
    "L1/L2 Regularization : L2 regularization (sometimes also called L2 shrinkage or weight decay) or L1 regularization where penalty is the sum of the absolute weight coefficients while in L2 that term is quadratic)\n",
    "\n",
    "Below we will try to change the model parameters and try find the optimal values for these parameters.\n",
    "\n",
    "Please note that both SVC and LinearSVC have the regularization hyperparameter C, but the SGDClassifier has the regularization hyperparameter alpha. Where C = n_samples / alpha"
   ]
  },
  {
   "cell_type": "markdown",
   "metadata": {},
   "source": [
    "### Analysis 1: Changing Model Parameters"
   ]
  },
  {
   "cell_type": "raw",
   "metadata": {},
   "source": [
    "We first look to see if we can alter the parameters of our models to get better accuracy. It may be difficult to see an increase with the Logistic Regression since it is already a high accuracy of 98%, but our stochastic SVM could perform better. We start by changing the C value (the penalty value of the error) and then also look at changing the penalty type itself. Our original set was run at a penalty of L2 and a C of 1.0."
   ]
  },
  {
   "cell_type": "code",
   "execution_count": 34,
   "metadata": {
    "collapsed": false
   },
   "outputs": [
    {
     "name": "stdout",
     "output_type": "stream",
     "text": [
      "======= L1 Penalty with alpha = 1 ========\n",
      "SVM: 0.804867200407\n",
      "Confusion Matrix:\n",
      "[[    0  3071]\n",
      " [    0 12667]]\n",
      "======= L1 Penalty with alpha = 0.1 ========\n",
      "SVM: 0.803088067099\n",
      "Confusion Matrix:\n",
      "[[    0  3099]\n",
      " [    0 12639]]\n",
      "======= L1 Penalty with alpha = 0.01 ========\n",
      "SVM: 0.80562968611\n",
      "Confusion Matrix:\n",
      "[[    0  3059]\n",
      " [    0 12679]]\n",
      "======= L1 Penalty with alpha = 0.001 ========\n",
      "SVM: 0.845215402211\n",
      "Confusion Matrix:\n",
      "[[  796  2271]\n",
      " [  165 12506]]\n",
      "======= L1 Penalty with alpha = 0.0001 ========\n",
      "SVM: 0.849472614055\n",
      "Confusion Matrix:\n",
      "[[  906  2123]\n",
      " [  246 12463]]\n",
      "======= L1 Penalty with alpha = 1e-05 ========\n",
      "SVM: 0.82799593341\n",
      "Confusion Matrix:\n",
      "[[ 1438  1610]\n",
      " [ 1097 11593]]\n",
      "======= L1 Penalty with l1_ratio = 0.0 ========\n",
      "SVM: 0.842165459398\n",
      "Confusion Matrix:\n",
      "[[  803  2291]\n",
      " [  193 12451]]\n",
      "======= L1 Penalty with l1_ratio = 0.25 ========\n",
      "SVM: 0.835430169018\n",
      "Confusion Matrix:\n",
      "[[  629  2519]\n",
      " [   71 12519]]\n",
      "======= L1 Penalty with l1_ratio = 0.5 ========\n",
      "SVM: 0.856462066336\n",
      "Confusion Matrix:\n",
      "[[ 1098  1917]\n",
      " [  342 12381]]\n",
      "======= L1 Penalty with l1_ratio = 0.75 ========\n",
      "SVM: 0.846867454569\n",
      "Confusion Matrix:\n",
      "[[  962  2115]\n",
      " [  295 12366]]\n",
      "======= L1 Penalty with l1_ratio = 1.0 ========\n",
      "SVM: 0.849027830728\n",
      "Confusion Matrix:\n",
      "[[  924  2171]\n",
      " [  205 12438]]\n",
      "======= L1 Penalty with l1_ratio = 1.25 ========\n",
      "SVM: 0.855763121108\n",
      "Confusion Matrix:\n",
      "[[ 1061  1909]\n",
      " [  361 12407]]\n",
      "======= L2 Penalty with alpha = 1 ========\n",
      "SVM: 0.802198500445\n",
      "Confusion Matrix:\n",
      "[[    0  3113]\n",
      " [    0 12625]]\n",
      "======= L2 Penalty with alpha = 0.1 ========\n",
      "SVM: 0.806328631338\n",
      "Confusion Matrix:\n",
      "[[    0  3048]\n",
      " [    0 12690]]\n",
      "======= L2 Penalty with alpha = 0.01 ========\n",
      "SVM: 0.804358876604\n",
      "Confusion Matrix:\n",
      "[[    0  3079]\n",
      " [    0 12659]]\n",
      "======= L2 Penalty with alpha = 0.001 ========\n",
      "SVM: 0.81789299784\n",
      "Confusion Matrix:\n",
      "[[  196  2853]\n",
      " [   13 12676]]\n",
      "======= L2 Penalty with alpha = 0.0001 ========\n",
      "SVM: 0.846930995044\n",
      "Confusion Matrix:\n",
      "[[ 1387  1658]\n",
      " [  751 11942]]\n",
      "======= L2 Penalty with alpha = 1e-05 ========\n",
      "SVM: 0.830219850044\n",
      "Confusion Matrix:\n",
      "[[  398  2646]\n",
      " [   26 12668]]\n"
     ]
    }
   ],
   "source": [
    "# Changing SVM Model Parameters - can alter penalty, L1 ratio and alpha\n",
    "\n",
    "for val in range(6):\n",
    "    print \"======= L1 Penalty with alpha =\", 10**(-val), \"========\"\n",
    "    regularize_const = 10**(-val)\n",
    "    iterations = 6\n",
    "    svm_sgd = SGDClassifier(alpha=regularize_const,\n",
    "            fit_intercept=True, l1_ratio=1, learning_rate='optimal',\n",
    "            loss='hinge', n_iter=iterations, n_jobs=-1, penalty='L1')\n",
    "\n",
    "    scl = StandardScaler()\n",
    "    for train_idx, test_idx in updated_cv_obj:\n",
    "        svm_sgd.fit(scl.fit_transform(updated_X[train_idx]),updated_y[train_idx])\n",
    "        yhat = svm_sgd.predict(scl.transform(updated_X[test_idx]))\n",
    "\n",
    "        conf = mt.confusion_matrix(updated_y[test_idx],yhat)\n",
    "        acc = mt.accuracy_score(updated_y[test_idx],yhat)\n",
    "\n",
    "    print 'SVM:', acc\n",
    "    print 'Confusion Matrix:\\n', conf\n",
    "    \n",
    "for val in range(6):\n",
    "    print \"======= L1 Penalty with l1_ratio =\", (val/4.0), \"========\"\n",
    "    regularize_const = 0.0001\n",
    "    iterations = 6\n",
    "    svm_sgd = SGDClassifier(alpha=regularize_const,\n",
    "            fit_intercept=True, l1_ratio=val/4, learning_rate='optimal',\n",
    "            loss='hinge', n_iter=iterations, n_jobs=-1, penalty='L1')\n",
    "\n",
    "    scl = StandardScaler()\n",
    "    for train_idx, test_idx in updated_cv_obj:\n",
    "        svm_sgd.fit(scl.fit_transform(updated_X[train_idx]),updated_y[train_idx])\n",
    "        yhat = svm_sgd.predict(scl.transform(updated_X[test_idx]))\n",
    "\n",
    "        conf = mt.confusion_matrix(updated_y[test_idx],yhat)\n",
    "        acc = mt.accuracy_score(updated_y[test_idx],yhat)\n",
    "\n",
    "    print 'SVM:', acc\n",
    "    print 'Confusion Matrix:\\n', conf\n",
    "    \n",
    "for val in range(6):\n",
    "    print \"======= L2 Penalty with alpha =\", 10**(-val), \"========\"\n",
    "    regularize_const = 10**(-val)\n",
    "    iterations = 6\n",
    "    svm_sgd = SGDClassifier(alpha=regularize_const,\n",
    "            fit_intercept=True, l1_ratio=0.0, learning_rate='optimal',\n",
    "            loss='hinge', n_iter=iterations, n_jobs=-1, penalty='L2')\n",
    "\n",
    "    scl = StandardScaler()\n",
    "    for train_idx, test_idx in updated_cv_obj:\n",
    "        svm_sgd.fit(scl.fit_transform(updated_X[train_idx]),updated_y[train_idx])\n",
    "        yhat = svm_sgd.predict(scl.transform(updated_X[test_idx]))\n",
    "\n",
    "        conf = mt.confusion_matrix(updated_y[test_idx],yhat)\n",
    "        acc = mt.accuracy_score(updated_y[test_idx],yhat)\n",
    "\n",
    "    print 'SVM:', acc\n",
    "    print 'Confusion Matrix:\\n', conf"
   ]
  },
  {
   "cell_type": "markdown",
   "metadata": {
    "collapsed": true
   },
   "source": [
    "The unscaled data of this significantly reduced data set has a marginally better fit than the original reduced data set. If you compare the 98.1% average of the newly reduced data set to the 97.9% of the base reduced data, you get a slightly better performance by taking out some of the less important, according to the logistic regression, variables. The scaled data comes in at a similar accuracy rating of the original sample at 97.9% so there really is not a huge change here. Even looking at the weights of each, the funded amount and total payment factors still far outweigh the others."
   ]
  },
  {
   "cell_type": "markdown",
   "metadata": {},
   "source": [
    "### Analysis 2: Reduced Number of Factors\n",
    "In this section, we will use the logistic regression classification, which seemed to perform better for our reduced data set, to see if we can increase the accuracy of our model by looking at different variable inputs. The idea is to reduce the number of inputs to try and improve the data. What if we look at our major regression factors and limit our dataset to those factors? Do we improve accuracy any by limiting the data given to the classifier?"
   ]
  },
  {
   "cell_type": "code",
   "execution_count": 22,
   "metadata": {
    "collapsed": false
   },
   "outputs": [
    {
     "name": "stdout",
     "output_type": "stream",
     "text": [
      "====Iteration 0  ====\n",
      "accuracy 0.822150209684\n",
      "confusion matrix\n",
      "[[  795  2306]\n",
      " [  493 12144]]\n",
      "====Iteration 1  ====\n",
      "accuracy 0.822023128733\n",
      "confusion matrix\n",
      "[[  827  2301]\n",
      " [  500 12110]]\n",
      "====Iteration 2  ====\n",
      "accuracy 0.823992883467\n",
      "confusion matrix\n",
      "[[  805  2301]\n",
      " [  469 12163]]\n",
      "====Iteration 3  ====\n",
      "accuracy 0.824818909645\n",
      "confusion matrix\n",
      "[[  798  2268]\n",
      " [  489 12183]]\n",
      "====Iteration 4  ====\n",
      "accuracy 0.824501207269\n",
      "confusion matrix\n",
      "[[  789  2285]\n",
      " [  477 12187]]\n"
     ]
    }
   ],
   "source": [
    "used_temp_df = pd.DataFrame()\n",
    "major_factors_df = loan_df_finished\n",
    "\n",
    "for col in ['funded_amnt', 'Int_Rate_Range' , 'Payment_rate' , 'Payment_ratio', 'annual_inc', 'Verify_Status']:\n",
    "    if col in major_factors_df:\n",
    "        used_temp_df[col] = major_factors_df[col]\n",
    "        \n",
    "updated_X = used_temp_df.values\n",
    "\n",
    "updated_logreg_obj = LogisticRegression(penalty='l2', C=1.0, class_weight=None)\n",
    "\n",
    "for iter_num, (train_indices, test_indices) in enumerate(updated_cv_obj):\n",
    "    updated_logreg_obj.fit(updated_X[train_indices],updated_y[train_indices])  # train object\n",
    "    updated_y_hat = updated_logreg_obj.predict(updated_X[test_indices]) # get test set precitions\n",
    "\n",
    "    # print the accuracy and confusion matrix \n",
    "    print \"====Iteration\",iter_num,\" ====\"\n",
    "    print \"accuracy\", mt.accuracy_score(updated_y[test_indices],updated_y_hat) \n",
    "    print \"confusion matrix\\n\",mt.confusion_matrix(updated_y[test_indices],updated_y_hat)"
   ]
  },
  {
   "cell_type": "code",
   "execution_count": 23,
   "metadata": {
    "collapsed": false,
    "scrolled": false
   },
   "outputs": [
    {
     "name": "stdout",
     "output_type": "stream",
     "text": [
      "accuracy: 0.851505909264\n",
      "[[ 1170  1904]\n",
      " [  433 12231]]\n"
     ]
    },
    {
     "data": {
      "text/plain": [
       "<function matplotlib.pyplot.show>"
      ]
     },
     "execution_count": 23,
     "metadata": {},
     "output_type": "execute_result"
    },
    {
     "data": {
      "image/png": "[encoded data removed]",
      "text/plain": [
       "<matplotlib.figure.Figure at 0x125d29e8>"
      ]
     },
     "metadata": {},
     "output_type": "display_data"
    },
    {
     "data": {
      "image/png": "[encoded data removed]",
      "text/plain": [
       "<matplotlib.figure.Figure at 0x11953c88>"
      ]
     },
     "metadata": {},
     "output_type": "display_data"
    }
   ],
   "source": [
    "scl = StandardScaler()\n",
    "scl.fit(updated_X[train_indices])\n",
    "\n",
    "X_train_scaled = scl.transform(updated_X[train_indices]) # apply to training\n",
    "X_test_scaled = scl.transform(updated_X[test_indices])\n",
    "\n",
    "# Fit the regression to the new scaled data\n",
    "updated_logreg_obj.fit(X_train_scaled, updated_y[train_indices])\n",
    "\n",
    "y_hat = updated_logreg_obj.predict(X_test_scaled)\n",
    "\n",
    "# Rescore the accuracy and confusion matrix for the scaled data\n",
    "acc = mt.accuracy_score(updated_y[test_indices],y_hat)\n",
    "conf = mt.confusion_matrix(updated_y[test_indices],y_hat)\n",
    "print 'accuracy:', acc \n",
    "print conf\n",
    "weights = pd.Series(updated_logreg_obj.coef_[0],index=used_temp_df.columns)\n",
    "weights.plot(kind='bar', figsize=(14,6))\n",
    "\n",
    "fig, ax = plt.subplots(figsize=(2.5,2.5))\n",
    "ax.matshow(conf, cmap=plt.cm.Blues, alpha = 0.3)\n",
    "for i in range (conf.shape[0]):\n",
    "    for j in range (conf.shape[1]):\n",
    "        ax.text(x=j, y=i, s=conf[i, j], va = 'center', ha = 'center')\n",
    "plt.xlabel ('Predicted Class')\n",
    "plt.ylabel ('True Class')\n",
    "plt.show"
   ]
  },
  {
   "cell_type": "code",
   "execution_count": 35,
   "metadata": {
    "collapsed": false
   },
   "outputs": [
    {
     "name": "stdout",
     "output_type": "stream",
     "text": [
      "0.848011183124\n",
      "{'clf__C': 10, 'clf__kernel': 'linear'}\n"
     ]
    }
   ],
   "source": [
    "from sklearn.learning_curve import validation_curve\n",
    "from sklearn.preprocessing import  StandardScaler\n",
    "from sklearn.svm import SVC\n",
    "from sklearn.pipeline import Pipeline\n",
    "from sklearn.grid_search import GridSearchCV\n",
    "\n",
    "pipe_svc = Pipeline([('scl', StandardScaler()), ('clf', SVC(random_state=1))])\n",
    "\n",
    "param_range = [0.001, 0.01, 0.1, 1, 10, 100]\n",
    "param_grid = [{'clf__C': param_range, 'clf__kernel': ['linear']}]\n",
    "\n",
    "gs = GridSearchCV(estimator=pipe_svc, param_grid=param_grid, scoring = 'accuracy', cv=10, n_jobs=-1)\n",
    "gs = gs.fit(updated_X[train_indices],updated_y[train_indices])\n",
    "\n",
    "print (gs.best_score_)\n",
    "print (gs.best_params_)"
   ]
  },
  {
   "cell_type": "code",
   "execution_count": null,
   "metadata": {
    "collapsed": true
   },
   "outputs": [],
   "source": []
  }
 ],
 "metadata": {
  "kernelspec": {
   "display_name": "Python 2",
   "language": "python",
   "name": "python2"
  },
  "language_info": {
   "codemirror_mode": {
    "name": "ipython",
    "version": 2
   },
   "file_extension": ".py",
   "mimetype": "text/x-python",
   "name": "python",
   "nbconvert_exporter": "python",
   "pygments_lexer": "ipython2",
   "version": "2.7.11"
  }
 },
 "nbformat": 4,
 "nbformat_minor": 0
}
