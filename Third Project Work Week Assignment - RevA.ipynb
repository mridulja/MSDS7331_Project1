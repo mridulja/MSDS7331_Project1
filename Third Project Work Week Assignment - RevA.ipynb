{
 "cells": [
  {
   "cell_type": "markdown",
   "metadata": {},
   "source": [
    "# Project 3 - Recommender Systems\n",
    "\n",
    "## Association Rule mining, Collaborative Filtering and Content Based Filtering\n",
    "\n",
    "\n",
    "### Brett Hallum, Mridul Jain, and Solomon Ndungu\n",
    "\n",
    "\n",
    "# Introduction\n",
    "\n",
    "The goal of this project is to analyze Movilens Dataset to understand. We will use this data to generate some of the movie recommendations for specific users, by looking at the movies they already watched and ratings they gave. By using the concepts of collaborative filtering we can find \" Movie \"X\" \"LIKED\" BY “SIMILAR” USERS as \"User-A\" \" and hence can be recommended to User-A as well.\n",
    "\n",
    "# Understanding the Data\n",
    "GroupLens Research has collected and made available rating data sets from the MovieLens web site (http://movielens.org). The data sets were collected over various periods of time, depending on the size of the set.\n",
    "There are multiple files in this dataset. There are 2 files that we are interested in u.data - this has the userId, the movieId, the rating and the date that rating was given. \n",
    "\n",
    "The data was collected through the MovieLens web site (movielens.umn.edu) during the seven-month period from September 19th, 1997 through April 22nd, 1998. This data has been cleaned up - users who had less than 20 ratings or did not have complete demographic information were removed from this data set.\n",
    "\n",
    "u.data     -- The full u data set, 100000 ratings by 943 users on 1682 items.\n",
    "              Each user has rated at least 20 movies.  Users and items are\n",
    "              numbered consecutively from 1.  The data is randomly\n",
    "              ordered. This is a tab separated list of \n",
    "\t         user id | item id | rating | timestamp. \n",
    "              The time stamps are unix seconds since 1/1/1970 UTC   \n",
    "\n",
    "\n",
    "u.item     -- Information about the items (movies); this is a tab separated\n",
    "              list of\n",
    "              movie id | movie title | release date | video release date |\n",
    "              IMDb URL | unknown | Action | Adventure | Animation |\n",
    "              Children's | Comedy | Crime | Documentary | Drama | Fantasy |\n",
    "              Film-Noir | Horror | Musical | Mystery | Romance | Sci-Fi |\n",
    "              Thriller | War | Western |\n",
    "              The last 19 fields are the genres, a 1 indicates the movie\n",
    "              is of that genre, a 0 indicates it is not; movies can be in\n",
    "              several genres at once.\n",
    "              The movie ids are the ones used in the u.data data set.\n",
    "\n",
    "\n",
    "# Data Exploration and Visualization\n"
   ]
  },
  {
   "cell_type": "code",
   "execution_count": 1,
   "metadata": {
    "collapsed": false
   },
   "outputs": [
    {
     "data": {
      "text/plain": [
       "'C:\\\\Users\\\\emrijai\\\\Documents\\\\IPython Notebooks\\\\MS7331\\\\Project3\\\\ml-100k\\\\ml-100k'"
      ]
     },
     "execution_count": 1,
     "metadata": {},
     "output_type": "execute_result"
    }
   ],
   "source": [
    "import os\n",
    "os.chdir('C:/Users/emrijai/Documents/IPython Notebooks/MS7331/Project3/ml-100k/ml-100k/')\n",
    "os.getcwd()"
   ]
  },
  {
   "cell_type": "code",
   "execution_count": 2,
   "metadata": {
    "collapsed": true
   },
   "outputs": [],
   "source": [
    "import numpy as np \n",
    "import pandas as pd"
   ]
  },
  {
   "cell_type": "code",
   "execution_count": 3,
   "metadata": {
    "collapsed": true
   },
   "outputs": [],
   "source": [
    "#Files to be used for analysis\n",
    "\n",
    "dataFile='u.data'\n",
    "movieInfoFile='u.item'"
   ]
  },
  {
   "cell_type": "code",
   "execution_count": 4,
   "metadata": {
    "collapsed": false
   },
   "outputs": [],
   "source": [
    "#We are passing the header explicitly as there is no header info in the files\n",
    "#We are not interested in all the columns of 'u.item'. We are going to use only 0,1 columns from this file.\n",
    "\n",
    "data=pd.read_csv(dataFile,sep=\"\\t\",header=None,names=['userId','itemId','rating','timestamp'])\n",
    "movieInfo=pd.read_csv(movieInfoFile,sep=\"|\", header=None, index_col=False,\n",
    "                     names=['itemId','title'], usecols=[0,1])"
   ]
  },
  {
   "cell_type": "code",
   "execution_count": 5,
   "metadata": {
    "collapsed": false
   },
   "outputs": [
    {
     "name": "stdout",
     "output_type": "stream",
     "text": [
      "   userId  itemId  rating  timestamp\n",
      "0     196     242       3  881250949\n",
      "1     186     302       3  891717742\n",
      "2      22     377       1  878887116\n",
      "3     244      51       2  880606923\n",
      "4     166     346       1  886397596\n",
      "\n",
      "\n",
      "   itemId              title\n",
      "0       1   Toy Story (1995)\n",
      "1       2   GoldenEye (1995)\n",
      "2       3  Four Rooms (1995)\n",
      "3       4  Get Shorty (1995)\n",
      "4       5     Copycat (1995)\n"
     ]
    }
   ],
   "source": [
    "print data.head()\n",
    "print '\\n'\n",
    "print movieInfo.head()"
   ]
  },
  {
   "cell_type": "code",
   "execution_count": 6,
   "metadata": {
    "collapsed": false
   },
   "outputs": [],
   "source": [
    "# Merging the two files together into one single dataFrame. We will use this dataFrame in the further analysis.\n",
    "\n",
    "data=pd.merge(data,movieInfo,left_on='itemId',right_on=\"itemId\")"
   ]
  },
  {
   "cell_type": "code",
   "execution_count": 7,
   "metadata": {
    "collapsed": false
   },
   "outputs": [
    {
     "name": "stdout",
     "output_type": "stream",
     "text": [
      "(100000, 5)\n",
      "   userId  itemId  rating  timestamp         title\n",
      "0     196     242       3  881250949  Kolya (1996)\n",
      "1      63     242       3  875747190  Kolya (1996)\n",
      "2     226     242       5  883888671  Kolya (1996)\n",
      "3     154     242       3  879138235  Kolya (1996)\n",
      "4     306     242       5  876503793  Kolya (1996)\n"
     ]
    }
   ],
   "source": [
    "print data.shape\n",
    "print data.head()"
   ]
  },
  {
   "cell_type": "code",
   "execution_count": 8,
   "metadata": {
    "collapsed": false,
    "scrolled": true
   },
   "outputs": [
    {
     "name": "stdout",
     "output_type": "stream",
     "text": [
      "Number of Users:  943\n",
      "Number of Movies:  1682\n",
      "\n",
      "\n",
      "Number of users that rate a particular Movie: \n",
      "\n",
      "Star Wars (1977)             583\n",
      "Contact (1997)               509\n",
      "Fargo (1996)                 508\n",
      "Return of the Jedi (1983)    507\n",
      "Liar Liar (1997)             485\n",
      "Name: title, dtype: int64\n",
      "\n",
      "\n",
      "Number of movies rated by particular User: \n",
      "\n",
      "405    737\n",
      "655    685\n",
      "13     636\n",
      "450    540\n",
      "276    518\n",
      "Name: userId, dtype: int64\n"
     ]
    }
   ],
   "source": [
    "data=pd.DataFrame.sort_values(data,['userId','itemId'],ascending=[0,1])\n",
    "\n",
    "# Let's see how many users and how  many movies there are \n",
    "numUsers=max(data.userId)\n",
    "numMovies=max(data.itemId)\n",
    "\n",
    "moviesPerUser=data.userId.value_counts()\n",
    "usersPerMovie=data.title.value_counts()\n",
    "\n",
    "print 'Number of Users: ', numUsers\n",
    "print 'Number of Movies: ', numMovies\n",
    "print '\\n'\n",
    "print 'Number of users that rate a particular Movie: \\n\\n', usersPerMovie.head()\n",
    "print '\\n'\n",
    "print 'Number of movies rated by particular User: \\n\\n', moviesPerUser.head()"
   ]
  },
  {
   "cell_type": "code",
   "execution_count": 9,
   "metadata": {
    "collapsed": false
   },
   "outputs": [
    {
     "data": {
      "text/html": [
       "<div>\n",
       "<table border=\"1\" class=\"dataframe\">\n",
       "  <thead>\n",
       "    <tr style=\"text-align: right;\">\n",
       "      <th></th>\n",
       "      <th>userId</th>\n",
       "      <th>itemId</th>\n",
       "      <th>rating</th>\n",
       "      <th>timestamp</th>\n",
       "      <th>title</th>\n",
       "    </tr>\n",
       "  </thead>\n",
       "  <tbody>\n",
       "    <tr>\n",
       "      <th>23781</th>\n",
       "      <td>943</td>\n",
       "      <td>2</td>\n",
       "      <td>5</td>\n",
       "      <td>888639953</td>\n",
       "      <td>GoldenEye (1995)</td>\n",
       "    </tr>\n",
       "    <tr>\n",
       "      <th>65410</th>\n",
       "      <td>943</td>\n",
       "      <td>9</td>\n",
       "      <td>3</td>\n",
       "      <td>875501960</td>\n",
       "      <td>Dead Man Walking (1995)</td>\n",
       "    </tr>\n",
       "    <tr>\n",
       "      <th>35098</th>\n",
       "      <td>943</td>\n",
       "      <td>11</td>\n",
       "      <td>4</td>\n",
       "      <td>888639000</td>\n",
       "      <td>Seven (Se7en) (1995)</td>\n",
       "    </tr>\n",
       "    <tr>\n",
       "      <th>43773</th>\n",
       "      <td>943</td>\n",
       "      <td>12</td>\n",
       "      <td>5</td>\n",
       "      <td>888639093</td>\n",
       "      <td>Usual Suspects, The (1995)</td>\n",
       "    </tr>\n",
       "    <tr>\n",
       "      <th>57040</th>\n",
       "      <td>943</td>\n",
       "      <td>22</td>\n",
       "      <td>4</td>\n",
       "      <td>888639042</td>\n",
       "      <td>Braveheart (1995)</td>\n",
       "    </tr>\n",
       "  </tbody>\n",
       "</table>\n",
       "</div>"
      ],
      "text/plain": [
       "       userId  itemId  rating  timestamp                       title\n",
       "23781     943       2       5  888639953            GoldenEye (1995)\n",
       "65410     943       9       3  875501960     Dead Man Walking (1995)\n",
       "35098     943      11       4  888639000        Seven (Se7en) (1995)\n",
       "43773     943      12       5  888639093  Usual Suspects, The (1995)\n",
       "57040     943      22       4  888639042           Braveheart (1995)"
      ]
     },
     "execution_count": 9,
     "metadata": {},
     "output_type": "execute_result"
    }
   ],
   "source": [
    "data.head()"
   ]
  },
  {
   "cell_type": "code",
   "execution_count": 10,
   "metadata": {
    "collapsed": true
   },
   "outputs": [],
   "source": [
    "#Function to return the topN Movies for a specific user. N is an arbitrary number, and can be changed as needed.\n",
    "\n",
    "def topN(activeUser,N):\n",
    "    user_topN = data.loc[data.userId == activeUser]\n",
    "    return user_topN.loc[user_topN.rating > 4].head(N)"
   ]
  },
  {
   "cell_type": "code",
   "execution_count": 11,
   "metadata": {
    "collapsed": false
   },
   "outputs": [
    {
     "data": {
      "text/plain": [
       "Int64Index([405, 655, 13, 450, 276, 416, 537, 303, 234, 393], dtype='int64')"
      ]
     },
     "execution_count": 11,
     "metadata": {},
     "output_type": "execute_result"
    }
   ],
   "source": [
    "moviesPerUser.index[:10]"
   ]
  },
  {
   "cell_type": "code",
   "execution_count": 12,
   "metadata": {
    "collapsed": false,
    "scrolled": false
   },
   "outputs": [
    {
     "name": "stdout",
     "output_type": "stream",
     "text": [
      "\n",
      "Movies that are rated highly by most active movie raters in the dataset\n",
      "\n",
      "Star Wars (1977)                                                               15\n",
      "Godfather, The (1972)                                                          13\n",
      "Usual Suspects, The (1995)                                                     11\n",
      "Monty Python and the Holy Grail (1974)                                         10\n",
      "Pulp Fiction (1994)                                                            10\n",
      "Apocalypse Now (1979)                                                           9\n",
      "Jaws (1975)                                                                     9\n",
      "Schindler's List (1993)                                                         9\n",
      "Dr. Strangelove or: How I Learned to Stop Worrying and Love the Bomb (1963)     9\n",
      "Empire Strikes Back, The (1980)                                                 9\n",
      "Raising Arizona (1987)                                                          9\n",
      "Raiders of the Lost Ark (1981)                                                  9\n",
      "Shawshank Redemption, The (1994)                                                9\n",
      "Princess Bride, The (1987)                                                      9\n",
      "Godfather: Part II, The (1974)                                                  9\n",
      "Chinatown (1974)                                                                9\n",
      "Fargo (1996)                                                                    9\n",
      "Bridge on the River Kwai, The (1957)                                            8\n",
      "Lawrence of Arabia (1962)                                                       8\n",
      "Braveheart (1995)                                                               8\n",
      "GoodFellas (1990)                                                               8\n",
      "Return of the Jedi (1983)                                                       8\n",
      "One Flew Over the Cuckoo's Nest (1975)                                          8\n",
      "Maltese Falcon, The (1941)                                                      8\n",
      "Young Frankenstein (1974)                                                       7\n",
      "Casablanca (1942)                                                               7\n",
      "Clockwork Orange, A (1971)                                                      7\n",
      "Amadeus (1984)                                                                  7\n",
      "E.T. the Extra-Terrestrial (1982)                                               7\n",
      "Taxi Driver (1976)                                                              7\n",
      "                                                                               ..\n",
      "Stand by Me (1986)                                                              6\n",
      "Field of Dreams (1989)                                                          6\n",
      "Reservoir Dogs (1992)                                                           6\n",
      "Terminator, The (1984)                                                          6\n",
      "Glory (1989)                                                                    6\n",
      "It's a Wonderful Life (1946)                                                    5\n",
      "Die Hard (1988)                                                                 5\n",
      "This Is Spinal Tap (1984)                                                       5\n",
      "Right Stuff, The (1983)                                                         5\n",
      "Forrest Gump (1994)                                                             5\n",
      "L.A. Confidential (1997)                                                        5\n",
      "Some Like It Hot (1959)                                                         5\n",
      "Arsenic and Old Lace (1944)                                                     5\n",
      "Seven (Se7en) (1995)                                                            5\n",
      "Hunt for Red October, The (1990)                                                5\n",
      "Vertigo (1958)                                                                  5\n",
      "M*A*S*H (1970)                                                                  5\n",
      "Wrong Trousers, The (1993)                                                      5\n",
      "Raging Bull (1980)                                                              5\n",
      "Ed Wood (1994)                                                                  5\n",
      "Wizard of Oz, The (1939)                                                        5\n",
      "Monty Python's Life of Brian (1979)                                             5\n",
      "Shining, The (1980)                                                             5\n",
      "Back to the Future (1985)                                                       5\n",
      "Brazil (1985)                                                                   5\n",
      "Bananas (1971)                                                                  5\n",
      "Singin' in the Rain (1952)                                                      5\n",
      "Platoon (1986)                                                                  5\n",
      "Killing Fields, The (1984)                                                      5\n",
      "Dead Man Walking (1995)                                                         5\n",
      "Name: title, dtype: int64\n"
     ]
    }
   ],
   "source": [
    "TopMoviesList = pd.DataFrame()\n",
    "\n",
    "Num_Active_Critics_to_Check = 20\n",
    "Num_Movies_by_Each_Critic = 500\n",
    "\n",
    "for i in moviesPerUser.index[:Num_Active_Critics_to_Check]:\n",
    "    TopMoviesList = TopMoviesList.append(topN(i,Num_Movies_by_Each_Critic))\n",
    "\n",
    "del TopMoviesList['userId']\n",
    "del TopMoviesList['timestamp']\n",
    "\n",
    "#Atleast 20% of the critics are agreein to the top rating for the movies\n",
    "\n",
    "TopMoviesList = TopMoviesList.title.value_counts()\n",
    "TopMoviesList = TopMoviesList[TopMoviesList>Num_Active_Critics_to_Check/5]\n",
    "\n",
    "print '\\nMovies that are rated highly by most active movie raters in the dataset\\n\\n', TopMoviesList"
   ]
  },
  {
   "cell_type": "code",
   "execution_count": 15,
   "metadata": {
    "collapsed": false
   },
   "outputs": [],
   "source": [
    "# Since userID 405 is the most active user and seems like a movie buff. Its a good idea to check which movies he liked\n",
    "# Lets see user ID 405's highest and lowest rated movies.\n",
    "\n",
    "user_405 = data.loc[data.userId == 405]\n",
    "user_405_HighestRatings = user_405.loc[user_405.rating > 4]\n",
    "user_405_LowestRatings = user_405.loc[user_405.rating < 2]"
   ]
  },
  {
   "cell_type": "code",
   "execution_count": 16,
   "metadata": {
    "collapsed": false,
    "scrolled": true
   },
   "outputs": [
    {
     "name": "stdout",
     "output_type": "stream",
     "text": [
      "5 Highest Rated Movies by UserID 405        userId  itemId  rating  timestamp                       title\n",
      "43709     405      12       5  885545306  Usual Suspects, The (1995)\n",
      "56861     405      22       5  885545167           Braveheart (1995)\n",
      "14992     405      23       5  885545372          Taxi Driver (1976)\n",
      "68788     405      38       5  885548093             Net, The (1995)\n",
      "48303     405      47       5  885545429              Ed Wood (1994)\n",
      "\n",
      "5 Lowest Rated Movies by UserID 405        userId  itemId  rating  timestamp                 title\n",
      "23701     405       2       1  885547953      GoldenEye (1995)\n",
      "72281     405      27       1  885546487       Bad Boys (1995)\n",
      "89654     405      30       1  885549544  Belle de jour (1967)\n",
      "87587     405      31       1  885548579   Crimson Tide (1995)\n",
      "6166      405      32       1  885546025          Crumb (1994)\n"
     ]
    }
   ],
   "source": [
    "print '5 Highest Rated Movies by UserID 405', user_405_HighestRatings.head(5)\n",
    "print '\\n5 Lowest Rated Movies by UserID 405', user_405_LowestRatings.head(5)"
   ]
  },
  {
   "cell_type": "markdown",
   "metadata": {},
   "source": [
    "As in the personalized recommendation scenario, the introduction of new users or new items can \n",
    "cause the cold start problem, as there will be insufficient data on these new entries for the \n",
    "collaborative filtering to work accurately\n",
    "Next we can quickly find the active raters, we call them Movie Critics, and see which movies they rated highest\n",
    "and which movies they rated lowest. These movies in general can be recommended to the people who have not rated\n",
    "or seen any movies yet, and are new to the system."
   ]
  },
  {
   "cell_type": "code",
   "execution_count": 13,
   "metadata": {
    "collapsed": true
   },
   "outputs": [],
   "source": [
    "#Function to return the topN Movies for a specific user. N is an arbitrary number, and can be changed as needed.\n",
    "\n",
    "def bottomN(activeUser,N):\n",
    "    user_bottomN = data.loc[data.userId == activeUser]\n",
    "    return user_bottomN.loc[user_bottomN.rating < 3].head(N)"
   ]
  },
  {
   "cell_type": "code",
   "execution_count": 14,
   "metadata": {
    "collapsed": false
   },
   "outputs": [
    {
     "name": "stdout",
     "output_type": "stream",
     "text": [
      "\n",
      "Movies that are rated low by most active movie raters in the dataset\n",
      "\n",
      "Batman Forever (1995)                                      8\n",
      "Very Brady Sequel, A (1996)                                7\n",
      "Volcano (1997)                                             7\n",
      "Waterworld (1995)                                          7\n",
      "Die Hard: With a Vengeance (1995)                          7\n",
      "Natural Born Killers (1994)                                7\n",
      "Pretty Woman (1990)                                        7\n",
      "Lord of Illusions (1995)                                   6\n",
      "Free Willy (1993)                                          6\n",
      "Long Kiss Goodnight, The (1996)                            6\n",
      "Event Horizon (1997)                                       6\n",
      "Remains of the Day, The (1993)                             6\n",
      "Twister (1996)                                             6\n",
      "High School High (1996)                                    6\n",
      "Liar Liar (1997)                                           6\n",
      "Broken Arrow (1996)                                        6\n",
      "Brady Bunch Movie, The (1995)                              6\n",
      "Money Train (1995)                                         6\n",
      "Showgirls (1995)                                           6\n",
      "Nightmare on Elm Street, A (1984)                          6\n",
      "Mission: Impossible (1996)                                 6\n",
      "Speed 2: Cruise Control (1997)                             6\n",
      "Candyman (1992)                                            6\n",
      "First Knight (1995)                                        5\n",
      "William Shakespeare's Romeo and Juliet (1996)              5\n",
      "Cutthroat Island (1995)                                    5\n",
      "Air Force One (1997)                                       5\n",
      "Dante's Peak (1997)                                        5\n",
      "Walk in the Clouds, A (1995)                               5\n",
      "Jurassic Park (1993)                                       5\n",
      "                                                          ..\n",
      "Wolf (1994)                                                5\n",
      "Rising Sun (1993)                                          5\n",
      "Bio-Dome (1996)                                            5\n",
      "Tin Cup (1996)                                             5\n",
      "Murder at 1600 (1997)                                      5\n",
      "Hard Target (1993)                                         5\n",
      "Demolition Man (1993)                                      5\n",
      "Milk Money (1994)                                          5\n",
      "Star Trek IV: The Voyage Home (1986)                       5\n",
      "Mixed Nuts (1994)                                          5\n",
      "While You Were Sleeping (1995)                             5\n",
      "Dirty Dancing (1987)                                       5\n",
      "Program, The (1993)                                        5\n",
      "Serial Mom (1994)                                          5\n",
      "Free Willy 3: The Rescue (1997)                            5\n",
      "Die Hard 2 (1990)                                          5\n",
      "Crash (1996)                                               5\n",
      "Chain Reaction (1996)                                      5\n",
      "Aristocats, The (1970)                                     5\n",
      "McHale's Navy (1997)                                       5\n",
      "Beavis and Butt-head Do America (1996)                     5\n",
      "Jungle2Jungle (1997)                                       5\n",
      "Mars Attacks! (1996)                                       5\n",
      "Airheads (1994)                                            5\n",
      "Specialist, The (1994)                                     5\n",
      "Nine Months (1995)                                         5\n",
      "Mad Love (1995)                                            5\n",
      "To Wong Foo, Thanks for Everything! Julie Newmar (1995)    5\n",
      "Hot Shots! Part Deux (1993)                                5\n",
      "From Dusk Till Dawn (1996)                                 5\n",
      "Name: title, dtype: int64\n"
     ]
    }
   ],
   "source": [
    "bottomMoviesList = pd.DataFrame()\n",
    "\n",
    "Num_Active_Critics_to_Check = 20\n",
    "Num_Movies_by_Each_Critic = 500\n",
    "\n",
    "for i in moviesPerUser.index[:Num_Active_Critics_to_Check]:\n",
    "    bottomMoviesList = bottomMoviesList.append(bottomN(i,Num_Movies_by_Each_Critic))\n",
    "\n",
    "del bottomMoviesList['userId']\n",
    "del bottomMoviesList['timestamp']\n",
    "\n",
    "#Atleast 20% of the critics are agreein to the bottom rating for the movies\n",
    "\n",
    "bottomMoviesList = bottomMoviesList.title.value_counts()\n",
    "bottomMoviesList = bottomMoviesList[bottomMoviesList>Num_Active_Critics_to_Check/5]\n",
    "\n",
    "print '\\nMovies that are rated low by most active movie raters in the dataset\\n\\n', bottomMoviesList"
   ]
  },
  {
   "cell_type": "code",
   "execution_count": 18,
   "metadata": {
    "collapsed": true
   },
   "outputs": [],
   "source": [
    "from scipy.spatial.distance import correlation \n",
    "def similarity(user1,user2):\n",
    "    user1=np.array(user1)-np.nanmean(user1) # we are first normalizing user1 by \n",
    "    # the mean rating of user 1 for any movie. Note the use of np.nanmean() - this \n",
    "    # returns the mean of an array after ignoring and NaN values \n",
    "    user2=np.array(user2)-np.nanmean(user2)\n",
    "    # Now to find the similarity between 2 users\n",
    "    # We'll first subset each user to be represented only by the ratings for the \n",
    "    # movies the 2 users have in common \n",
    "    commonItemIds=[i for i in range(len(user1)) if user1[i]>0 and user2[i]>0]\n",
    "    # Gives us movies for which both users have non NaN ratings \n",
    "    if len(commonItemIds)==0:\n",
    "        # If there are no movies in common \n",
    "        return 0\n",
    "    else:\n",
    "        user1=np.array([user1[i] for i in commonItemIds])\n",
    "        user2=np.array([user2[i] for i in commonItemIds])\n",
    "        return correlation(user1,user2)"
   ]
  },
  {
   "cell_type": "code",
   "execution_count": 19,
   "metadata": {
    "collapsed": true
   },
   "outputs": [],
   "source": [
    "#Creating a very sparse Matrix \"user_to_Movie_Rating_Matrix\" of UserID and MovieRatig which we will use later \n",
    "# on to find the user-user correlation and hence will be able to find which users are similar to each other.\n",
    "\n",
    "user_to_Movie_Rating_Matrix=pd.pivot_table(data, values='rating',\n",
    "                                    index=['userId'], columns=['itemId'])"
   ]
  },
  {
   "cell_type": "code",
   "execution_count": 20,
   "metadata": {
    "collapsed": false
   },
   "outputs": [
    {
     "data": {
      "text/html": [
       "<div>\n",
       "<table border=\"1\" class=\"dataframe\">\n",
       "  <thead>\n",
       "    <tr style=\"text-align: right;\">\n",
       "      <th>itemId</th>\n",
       "      <th>1</th>\n",
       "      <th>2</th>\n",
       "      <th>3</th>\n",
       "      <th>4</th>\n",
       "      <th>5</th>\n",
       "      <th>6</th>\n",
       "      <th>7</th>\n",
       "      <th>8</th>\n",
       "      <th>9</th>\n",
       "      <th>10</th>\n",
       "      <th>...</th>\n",
       "      <th>1673</th>\n",
       "      <th>1674</th>\n",
       "      <th>1675</th>\n",
       "      <th>1676</th>\n",
       "      <th>1677</th>\n",
       "      <th>1678</th>\n",
       "      <th>1679</th>\n",
       "      <th>1680</th>\n",
       "      <th>1681</th>\n",
       "      <th>1682</th>\n",
       "    </tr>\n",
       "    <tr>\n",
       "      <th>userId</th>\n",
       "      <th></th>\n",
       "      <th></th>\n",
       "      <th></th>\n",
       "      <th></th>\n",
       "      <th></th>\n",
       "      <th></th>\n",
       "      <th></th>\n",
       "      <th></th>\n",
       "      <th></th>\n",
       "      <th></th>\n",
       "      <th></th>\n",
       "      <th></th>\n",
       "      <th></th>\n",
       "      <th></th>\n",
       "      <th></th>\n",
       "      <th></th>\n",
       "      <th></th>\n",
       "      <th></th>\n",
       "      <th></th>\n",
       "      <th></th>\n",
       "      <th></th>\n",
       "    </tr>\n",
       "  </thead>\n",
       "  <tbody>\n",
       "    <tr>\n",
       "      <th>1</th>\n",
       "      <td>5.0</td>\n",
       "      <td>3.0</td>\n",
       "      <td>4.0</td>\n",
       "      <td>3.0</td>\n",
       "      <td>3.0</td>\n",
       "      <td>5.0</td>\n",
       "      <td>4.0</td>\n",
       "      <td>1.0</td>\n",
       "      <td>5.0</td>\n",
       "      <td>3.0</td>\n",
       "      <td>...</td>\n",
       "      <td>NaN</td>\n",
       "      <td>NaN</td>\n",
       "      <td>NaN</td>\n",
       "      <td>NaN</td>\n",
       "      <td>NaN</td>\n",
       "      <td>NaN</td>\n",
       "      <td>NaN</td>\n",
       "      <td>NaN</td>\n",
       "      <td>NaN</td>\n",
       "      <td>NaN</td>\n",
       "    </tr>\n",
       "    <tr>\n",
       "      <th>2</th>\n",
       "      <td>4.0</td>\n",
       "      <td>NaN</td>\n",
       "      <td>NaN</td>\n",
       "      <td>NaN</td>\n",
       "      <td>NaN</td>\n",
       "      <td>NaN</td>\n",
       "      <td>NaN</td>\n",
       "      <td>NaN</td>\n",
       "      <td>NaN</td>\n",
       "      <td>2.0</td>\n",
       "      <td>...</td>\n",
       "      <td>NaN</td>\n",
       "      <td>NaN</td>\n",
       "      <td>NaN</td>\n",
       "      <td>NaN</td>\n",
       "      <td>NaN</td>\n",
       "      <td>NaN</td>\n",
       "      <td>NaN</td>\n",
       "      <td>NaN</td>\n",
       "      <td>NaN</td>\n",
       "      <td>NaN</td>\n",
       "    </tr>\n",
       "    <tr>\n",
       "      <th>3</th>\n",
       "      <td>NaN</td>\n",
       "      <td>NaN</td>\n",
       "      <td>NaN</td>\n",
       "      <td>NaN</td>\n",
       "      <td>NaN</td>\n",
       "      <td>NaN</td>\n",
       "      <td>NaN</td>\n",
       "      <td>NaN</td>\n",
       "      <td>NaN</td>\n",
       "      <td>NaN</td>\n",
       "      <td>...</td>\n",
       "      <td>NaN</td>\n",
       "      <td>NaN</td>\n",
       "      <td>NaN</td>\n",
       "      <td>NaN</td>\n",
       "      <td>NaN</td>\n",
       "      <td>NaN</td>\n",
       "      <td>NaN</td>\n",
       "      <td>NaN</td>\n",
       "      <td>NaN</td>\n",
       "      <td>NaN</td>\n",
       "    </tr>\n",
       "    <tr>\n",
       "      <th>4</th>\n",
       "      <td>NaN</td>\n",
       "      <td>NaN</td>\n",
       "      <td>NaN</td>\n",
       "      <td>NaN</td>\n",
       "      <td>NaN</td>\n",
       "      <td>NaN</td>\n",
       "      <td>NaN</td>\n",
       "      <td>NaN</td>\n",
       "      <td>NaN</td>\n",
       "      <td>NaN</td>\n",
       "      <td>...</td>\n",
       "      <td>NaN</td>\n",
       "      <td>NaN</td>\n",
       "      <td>NaN</td>\n",
       "      <td>NaN</td>\n",
       "      <td>NaN</td>\n",
       "      <td>NaN</td>\n",
       "      <td>NaN</td>\n",
       "      <td>NaN</td>\n",
       "      <td>NaN</td>\n",
       "      <td>NaN</td>\n",
       "    </tr>\n",
       "    <tr>\n",
       "      <th>5</th>\n",
       "      <td>4.0</td>\n",
       "      <td>3.0</td>\n",
       "      <td>NaN</td>\n",
       "      <td>NaN</td>\n",
       "      <td>NaN</td>\n",
       "      <td>NaN</td>\n",
       "      <td>NaN</td>\n",
       "      <td>NaN</td>\n",
       "      <td>NaN</td>\n",
       "      <td>NaN</td>\n",
       "      <td>...</td>\n",
       "      <td>NaN</td>\n",
       "      <td>NaN</td>\n",
       "      <td>NaN</td>\n",
       "      <td>NaN</td>\n",
       "      <td>NaN</td>\n",
       "      <td>NaN</td>\n",
       "      <td>NaN</td>\n",
       "      <td>NaN</td>\n",
       "      <td>NaN</td>\n",
       "      <td>NaN</td>\n",
       "    </tr>\n",
       "  </tbody>\n",
       "</table>\n",
       "<p>5 rows × 1682 columns</p>\n",
       "</div>"
      ],
      "text/plain": [
       "itemId  1     2     3     4     5     6     7     8     9     10    ...   \\\n",
       "userId                                                              ...    \n",
       "1        5.0   3.0   4.0   3.0   3.0   5.0   4.0   1.0   5.0   3.0  ...    \n",
       "2        4.0   NaN   NaN   NaN   NaN   NaN   NaN   NaN   NaN   2.0  ...    \n",
       "3        NaN   NaN   NaN   NaN   NaN   NaN   NaN   NaN   NaN   NaN  ...    \n",
       "4        NaN   NaN   NaN   NaN   NaN   NaN   NaN   NaN   NaN   NaN  ...    \n",
       "5        4.0   3.0   NaN   NaN   NaN   NaN   NaN   NaN   NaN   NaN  ...    \n",
       "\n",
       "itemId  1673  1674  1675  1676  1677  1678  1679  1680  1681  1682  \n",
       "userId                                                              \n",
       "1        NaN   NaN   NaN   NaN   NaN   NaN   NaN   NaN   NaN   NaN  \n",
       "2        NaN   NaN   NaN   NaN   NaN   NaN   NaN   NaN   NaN   NaN  \n",
       "3        NaN   NaN   NaN   NaN   NaN   NaN   NaN   NaN   NaN   NaN  \n",
       "4        NaN   NaN   NaN   NaN   NaN   NaN   NaN   NaN   NaN   NaN  \n",
       "5        NaN   NaN   NaN   NaN   NaN   NaN   NaN   NaN   NaN   NaN  \n",
       "\n",
       "[5 rows x 1682 columns]"
      ]
     },
     "execution_count": 20,
     "metadata": {},
     "output_type": "execute_result"
    }
   ],
   "source": [
    "user_to_Movie_Rating_Matrix.head()"
   ]
  },
  {
   "cell_type": "markdown",
   "metadata": {},
   "source": [
    "### Collaborative Filtering\n",
    "\n",
    "#### Memory-based: Find similar users (user-based CF) or items (item-based CF) to predict missing ratings\n",
    "1. Produce recommendations based on the preferences of similar users \n",
    "\t(Goldberg et al., 1992; Resnick et al., 1994; Mild and Reutterer, 2001)\n",
    "2. Produce recommendations based on the relationship between items in the user-item matrix \n",
    "\t(Kitts et al., 2000; Sarwar et al., 2001)\n",
    "\n",
    "#### Model-based: Build a model from the rating data (clustering, latent semantic structure, etc.) and then use this model to predict missing ratings\n",
    "There are many techniques:\n",
    "1. Cluster users and then recommend items the users in the cluster closest to the active user like\n",
    "2. Mine association rules and then use the rules to recommend items (for binary/binarized data)\n",
    "3. Define a null-model (a stochastic process which models usage of independent items) and then find significant deviation from the null-model\n",
    "4. Learn a latent factor model from the data and then use the discovered factors to find items with high expected ratings\n",
    "\n",
    "First we are going to use the K Nearest Neighbors technique (Memory Based Collaborative Filtering technique)\n",
    "To achieve this we are going to create a K-Nearest Neighbors (Similar Users) of the user in question, and looking at \"Neighbors / Similar Users\" ratings for a specific item/movie, predict the rating for the user in question.\n",
    "\n",
    "The idea here is to predict users ratings for the Movies/Products they have not yet rated based on the ratings or feedback received by other users who are in one way or other very similar to the user we are trying to recommend/predict for\n",
    "\n",
    "Next we are going to use model based approach by using Latent Factor and Association Rules mining to predict the ratings and recommend the movies to users.\n",
    "    "
   ]
  },
  {
   "cell_type": "code",
   "execution_count": 21,
   "metadata": {
    "collapsed": false
   },
   "outputs": [],
   "source": [
    "similarityMatrix=pd.DataFrame(index=user_to_Movie_Rating_Matrix.index,\n",
    "                                  columns=['Similarity'])"
   ]
  },
  {
   "cell_type": "code",
   "execution_count": 22,
   "metadata": {
    "collapsed": false,
    "scrolled": true
   },
   "outputs": [
    {
     "data": {
      "text/html": [
       "<div>\n",
       "<table border=\"1\" class=\"dataframe\">\n",
       "  <thead>\n",
       "    <tr style=\"text-align: right;\">\n",
       "      <th></th>\n",
       "      <th>Similarity</th>\n",
       "    </tr>\n",
       "    <tr>\n",
       "      <th>userId</th>\n",
       "      <th></th>\n",
       "    </tr>\n",
       "  </thead>\n",
       "  <tbody>\n",
       "    <tr>\n",
       "      <th>1</th>\n",
       "      <td>NaN</td>\n",
       "    </tr>\n",
       "    <tr>\n",
       "      <th>2</th>\n",
       "      <td>NaN</td>\n",
       "    </tr>\n",
       "    <tr>\n",
       "      <th>3</th>\n",
       "      <td>NaN</td>\n",
       "    </tr>\n",
       "    <tr>\n",
       "      <th>4</th>\n",
       "      <td>NaN</td>\n",
       "    </tr>\n",
       "    <tr>\n",
       "      <th>5</th>\n",
       "      <td>NaN</td>\n",
       "    </tr>\n",
       "  </tbody>\n",
       "</table>\n",
       "</div>"
      ],
      "text/plain": [
       "       Similarity\n",
       "userId           \n",
       "1             NaN\n",
       "2             NaN\n",
       "3             NaN\n",
       "4             NaN\n",
       "5             NaN"
      ]
     },
     "execution_count": 22,
     "metadata": {},
     "output_type": "execute_result"
    }
   ],
   "source": [
    "similarityMatrix.head()"
   ]
  },
  {
   "cell_type": "code",
   "execution_count": 23,
   "metadata": {
    "collapsed": false
   },
   "outputs": [],
   "source": [
    "for i in user_to_Movie_Rating_Matrix.index:\n",
    "    similarityMatrix.loc[i]=similarity(user_to_Movie_Rating_Matrix.loc[2],\n",
    "                                          user_to_Movie_Rating_Matrix.loc[i])\n",
    "    \n",
    "    # Find the similarity between user_i and user_1 and add it to the similarityMatrix\n",
    "        \n",
    "    similarityMatrix=pd.DataFrame.sort_values(similarityMatrix,\n",
    "                                              ['Similarity'],ascending=[0])"
   ]
  },
  {
   "cell_type": "code",
   "execution_count": 24,
   "metadata": {
    "collapsed": false
   },
   "outputs": [
    {
     "data": {
      "text/html": [
       "<div>\n",
       "<table border=\"1\" class=\"dataframe\">\n",
       "  <thead>\n",
       "    <tr style=\"text-align: right;\">\n",
       "      <th></th>\n",
       "      <th>Similarity</th>\n",
       "    </tr>\n",
       "    <tr>\n",
       "      <th>userId</th>\n",
       "      <th></th>\n",
       "    </tr>\n",
       "  </thead>\n",
       "  <tbody>\n",
       "    <tr>\n",
       "      <th>55</th>\n",
       "      <td>2</td>\n",
       "    </tr>\n",
       "    <tr>\n",
       "      <th>107</th>\n",
       "      <td>2</td>\n",
       "    </tr>\n",
       "    <tr>\n",
       "      <th>77</th>\n",
       "      <td>2</td>\n",
       "    </tr>\n",
       "    <tr>\n",
       "      <th>443</th>\n",
       "      <td>2</td>\n",
       "    </tr>\n",
       "    <tr>\n",
       "      <th>847</th>\n",
       "      <td>2</td>\n",
       "    </tr>\n",
       "  </tbody>\n",
       "</table>\n",
       "</div>"
      ],
      "text/plain": [
       "       Similarity\n",
       "userId           \n",
       "55              2\n",
       "107             2\n",
       "77              2\n",
       "443             2\n",
       "847             2"
      ]
     },
     "execution_count": 24,
     "metadata": {},
     "output_type": "execute_result"
    }
   ],
   "source": [
    "similarityMatrix.head()"
   ]
  },
  {
   "cell_type": "code",
   "execution_count": 25,
   "metadata": {
    "collapsed": false
   },
   "outputs": [
    {
     "data": {
      "text/html": [
       "<div>\n",
       "<table border=\"1\" class=\"dataframe\">\n",
       "  <thead>\n",
       "    <tr style=\"text-align: right;\">\n",
       "      <th></th>\n",
       "      <th>Similarity</th>\n",
       "    </tr>\n",
       "    <tr>\n",
       "      <th>userId</th>\n",
       "      <th></th>\n",
       "    </tr>\n",
       "  </thead>\n",
       "  <tbody>\n",
       "    <tr>\n",
       "      <th>55</th>\n",
       "      <td>2</td>\n",
       "    </tr>\n",
       "    <tr>\n",
       "      <th>107</th>\n",
       "      <td>2</td>\n",
       "    </tr>\n",
       "    <tr>\n",
       "      <th>77</th>\n",
       "      <td>2</td>\n",
       "    </tr>\n",
       "    <tr>\n",
       "      <th>443</th>\n",
       "      <td>2</td>\n",
       "    </tr>\n",
       "    <tr>\n",
       "      <th>847</th>\n",
       "      <td>2</td>\n",
       "    </tr>\n",
       "    <tr>\n",
       "      <th>370</th>\n",
       "      <td>1.66667</td>\n",
       "    </tr>\n",
       "    <tr>\n",
       "      <th>314</th>\n",
       "      <td>1.6455</td>\n",
       "    </tr>\n",
       "    <tr>\n",
       "      <th>230</th>\n",
       "      <td>1.63246</td>\n",
       "    </tr>\n",
       "    <tr>\n",
       "      <th>913</th>\n",
       "      <td>1.61237</td>\n",
       "    </tr>\n",
       "    <tr>\n",
       "      <th>675</th>\n",
       "      <td>1.61237</td>\n",
       "    </tr>\n",
       "  </tbody>\n",
       "</table>\n",
       "</div>"
      ],
      "text/plain": [
       "       Similarity\n",
       "userId           \n",
       "55              2\n",
       "107             2\n",
       "77              2\n",
       "443             2\n",
       "847             2\n",
       "370       1.66667\n",
       "314        1.6455\n",
       "230       1.63246\n",
       "913       1.61237\n",
       "675       1.61237"
      ]
     },
     "execution_count": 25,
     "metadata": {},
     "output_type": "execute_result"
    }
   ],
   "source": [
    "nearestNeighbours=similarityMatrix[:10]\n",
    "nearestNeighbours"
   ]
  },
  {
   "cell_type": "code",
   "execution_count": null,
   "metadata": {
    "collapsed": true
   },
   "outputs": [],
   "source": []
  }
 ],
 "metadata": {
  "kernelspec": {
   "display_name": "Python 2",
   "language": "python",
   "name": "python2"
  },
  "language_info": {
   "codemirror_mode": {
    "name": "ipython",
    "version": 2
   },
   "file_extension": ".py",
   "mimetype": "text/x-python",
   "name": "python",
   "nbconvert_exporter": "python",
   "pygments_lexer": "ipython2",
   "version": "2.7.12"
  }
 },
 "nbformat": 4,
 "nbformat_minor": 0
}
