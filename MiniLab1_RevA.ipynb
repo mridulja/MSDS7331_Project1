{
 "cells": [
  {
   "cell_type": "code",
   "execution_count": 1,
   "metadata": {
    "collapsed": false
   },
   "outputs": [
    {
     "data": {
      "text/plain": [
       "'C:\\\\Users\\\\emrijai\\\\Documents\\\\IPython Notebooks\\\\MS7331\\\\Project1\\\\MSDS7331_Project1'"
      ]
     },
     "execution_count": 1,
     "metadata": {},
     "output_type": "execute_result"
    }
   ],
   "source": [
    "import os\n",
    "os.chdir('C:/Users/emrijai/Documents/IPython Notebooks/MS7331/Project1/MSDS7331_Project1')\n",
    "os.getcwd()"
   ]
  },
  {
   "cell_type": "code",
   "execution_count": 2,
   "metadata": {
    "collapsed": false
   },
   "outputs": [
    {
     "name": "stderr",
     "output_type": "stream",
     "text": [
      "C:\\Anaconda2\\lib\\site-packages\\IPython\\core\\interactiveshell.py:2723: DtypeWarning: Columns (19,55) have mixed types. Specify dtype option on import or set low_memory=False.\n",
      "  interactivity=interactivity, compiler=compiler, result=result)\n"
     ]
    }
   ],
   "source": [
    "import pandas as pd\n",
    "import numpy as np\n",
    "import copy\n",
    "import seaborn as sns\n",
    "\n",
    "import matplotlib\n",
    "import matplotlib.pyplot as plt\n",
    "%matplotlib inline\n",
    "\n",
    "matplotlib.style.use('ggplot')\n",
    "\n",
    "import warnings\n",
    "warnings.simplefilter('ignore', DeprecationWarning)\n",
    "warnings.simplefilter('ignore', FutureWarning)\n",
    "\n",
    "from pandas.tools.plotting import scatter_matrix\n",
    "\n",
    "#Bring in data set\n",
    "loan_df = pd.read_csv('LoanData/loanData.csv')"
   ]
  },
  {
   "cell_type": "code",
   "execution_count": 3,
   "metadata": {
    "collapsed": true
   },
   "outputs": [],
   "source": [
    "#Remove unwanted attributes from the data set based on specific criteria\n",
    "for col in ['id','funded_amnt_inv','sub_grade','emp_title','pymnt_plan','url','title','zip_code','earliest_cr_line',\n",
    "            'mths_since_last_delinq','mths_since_last_record','pub_rec','revol_bal','revol_util','total_acc',\n",
    "            'initial_list_status','out_prncp_inv','total_pymnt_inv','recoveries','collection_recovery_fee','last_pymnt_d',\n",
    "            'last_pymnt_amnt','next_pymnt_d','last_credit_pull_d','collections_12_mths_ex_med','policy_code','application_type',\n",
    "            'annual_inc_joint','dti_joint','verification_status_joint','open_acc_6m','open_il_6m','open_il_12m','open_il_24m',\n",
    "            'mths_since_rcnt_il','total_bal_il','il_util','open_rv_12m','open_rv_24m','max_bal_bc','all_util',\n",
    "            'total_rev_hi_lim','inq_fi','total_cu_tl','inq_last_12m', 'installment', 'mths_since_last_major_derog']:\n",
    "    if col in loan_df:\n",
    "        del loan_df[col]"
   ]
  },
  {
   "cell_type": "code",
   "execution_count": 4,
   "metadata": {
    "collapsed": true
   },
   "outputs": [],
   "source": [
    "#Modify term to be integer for easier analysis\n",
    "loan_df = loan_df.replace(to_replace=\" 36 months\", value=36)\n",
    "loan_df = loan_df.replace(to_replace=\" 60 months\", value=60)\n",
    "\n",
    "#Impute missing data values with median\n",
    "for col in ['annual_inc', 'delinq_2yrs', 'inq_last_6mths', 'open_acc', 'acc_now_delinq']:\n",
    "    df_temp = copy.deepcopy(loan_df[col])\n",
    "    df_temp = df_temp.replace(to_replace=np.nan, value=df_temp.median())\n",
    "    loan_df[col] = df_temp\n",
    "    \n",
    "#Impute missing data values with median\n",
    "for col in ['tot_coll_amt', 'tot_cur_bal']:\n",
    "    df_temp = copy.deepcopy(loan_df[col])\n",
    "    df_temp = df_temp.replace(to_replace=np.nan, value= 0 )\n",
    "    loan_df[col] = df_temp"
   ]
  },
  {
   "cell_type": "markdown",
   "metadata": {},
   "source": [
    "Loan Status is divided into 3 classes of loans - Current, Bad and Good. The idea is to use the 'Bad' and 'Good' cases to train a model. The training data set from this data subset (Good+Bad) is used for train/test/validation. The reminaing data i.e. cases under status 'Current', can then be fed into the validated model to predict which loans can go 'Bad'/'Good', based on the features we have of the customers.\n",
    "Bad Loans are coded = 0\n",
    "Good Loans are coded = 1\n",
    "Current loans are separated out into new data set for predictions later on"
   ]
  },
  {
   "cell_type": "code",
   "execution_count": 5,
   "metadata": {
    "collapsed": false
   },
   "outputs": [
    {
     "name": "stdout",
     "output_type": "stream",
     "text": [
      "<class 'pandas.core.frame.DataFrame'>\n",
      "RangeIndex: 887379 entries, 0 to 887378\n",
      "Data columns (total 33 columns):\n",
      "member_id                    887379 non-null int64\n",
      "loan_amnt                    887379 non-null float64\n",
      "funded_amnt                  887379 non-null float64\n",
      "term                         887379 non-null int64\n",
      "int_rate                     887379 non-null float64\n",
      "grade                        887379 non-null object\n",
      "emp_length                   887379 non-null object\n",
      "home_ownership               887379 non-null object\n",
      "annual_inc                   887379 non-null float64\n",
      "verification_status          887379 non-null object\n",
      "issue_d                      887379 non-null object\n",
      "loan_status                  887379 non-null object\n",
      "desc                         126029 non-null object\n",
      "purpose                      887379 non-null object\n",
      "addr_state                   887379 non-null object\n",
      "dti                          887379 non-null float64\n",
      "delinq_2yrs                  887379 non-null float64\n",
      "inq_last_6mths               887379 non-null float64\n",
      "open_acc                     887379 non-null float64\n",
      "out_prncp                    887379 non-null float64\n",
      "total_pymnt                  887379 non-null float64\n",
      "total_rec_prncp              887379 non-null float64\n",
      "total_rec_int                887379 non-null float64\n",
      "total_rec_late_fee           887379 non-null float64\n",
      "acc_now_delinq               887379 non-null float64\n",
      "tot_coll_amt                 887379 non-null float64\n",
      "tot_cur_bal                  887379 non-null float64\n",
      "Loan_Class                   887379 non-null object\n",
      "Grade_Class                  887379 non-null float64\n",
      "Emp_Class                    887379 non-null float64\n",
      "home_ownership_class         887379 non-null object\n",
      "verification_status_class    887379 non-null object\n",
      "Int_Rate_Range               887379 non-null category\n",
      "dtypes: category(1), float64(18), int64(2), object(12)\n",
      "memory usage: 217.5+ MB\n"
     ]
    }
   ],
   "source": [
    "#Create new variables for classification\n",
    "#Nominal classification of loan_status\n",
    "loan_df.loc[loan_df['loan_status'] == 'Charged Off' , 'Loan_Class'] = \"Bad\"\n",
    "loan_df.loc[loan_df['loan_status'] == 'Default' , 'Loan_Class'] = \"Bad\"\n",
    "loan_df.loc[loan_df['loan_status'] == 'Late (31-120 days)' , 'Loan_Class'] = \"Bad\"\n",
    "loan_df.loc[loan_df['loan_status'] == 'Late (16-30 days)' , 'Loan_Class'] = \"Bad\"\n",
    "loan_df.loc[loan_df['loan_status'] == 'Does not meet the credit policy. Status:Charged Off' , 'Loan_Class'] = \"Bad\"\n",
    "\n",
    "loan_df.loc[loan_df['loan_status'] == 'Fully Paid' , 'Loan_Class'] = \"Good\"\n",
    "loan_df.loc[loan_df['loan_status'] == 'Does not meet the credit policy. Status:Fully Paid' , 'Loan_Class'] = \"Good\"\n",
    "\n",
    "loan_df.loc[loan_df['loan_status'] == 'Current' , 'Loan_Class'] = \"Current\"\n",
    "loan_df.loc[loan_df['loan_status'] == 'In Grace Period' , 'Loan_Class'] = \"Current\"\n",
    "loan_df.loc[loan_df['loan_status'] == 'Issued' , 'Loan_Class'] = \"Current\"\n",
    "\n",
    "#Numerical classification of grade\n",
    "loan_df.loc[loan_df['grade'] == 'A', 'Grade_Class'] = 1\n",
    "loan_df.loc[loan_df['grade'] == 'B', 'Grade_Class'] = 2\n",
    "loan_df.loc[loan_df['grade'] == 'C', 'Grade_Class'] = 3\n",
    "loan_df.loc[loan_df['grade'] == 'D', 'Grade_Class'] = 4\n",
    "loan_df.loc[loan_df['grade'] == 'E', 'Grade_Class'] = 5\n",
    "loan_df.loc[loan_df['grade'] == 'F', 'Grade_Class'] = 6\n",
    "loan_df.loc[loan_df['grade'] == 'G', 'Grade_Class'] = 7\n",
    "\n",
    "#Numerical classification of employment length\n",
    "loan_df.loc[loan_df['emp_length'] == '< 1 year', 'Emp_Class'] = 0\n",
    "loan_df.loc[loan_df['emp_length'] == '1 year', 'Emp_Class'] = 1\n",
    "loan_df.loc[loan_df['emp_length'] == '2 years', 'Emp_Class'] = 2\n",
    "loan_df.loc[loan_df['emp_length'] == '3 years', 'Emp_Class'] = 3\n",
    "loan_df.loc[loan_df['emp_length'] == '4 years', 'Emp_Class'] = 4\n",
    "loan_df.loc[loan_df['emp_length'] == '5 years', 'Emp_Class'] = 5\n",
    "loan_df.loc[loan_df['emp_length'] == '6 years', 'Emp_Class'] = 6\n",
    "loan_df.loc[loan_df['emp_length'] == '7 years', 'Emp_Class'] = 7\n",
    "loan_df.loc[loan_df['emp_length'] == '8 years', 'Emp_Class'] = 8\n",
    "loan_df.loc[loan_df['emp_length'] == '9 years', 'Emp_Class'] = 9\n",
    "loan_df.loc[loan_df['emp_length'] == '10+ years', 'Emp_Class'] = 10\n",
    "loan_df.loc[loan_df['emp_length'] == 'n/a', 'Emp_Class'] = 0\n",
    "\n",
    "#Nominal classification of home_ownership\n",
    "loan_df.loc[loan_df['home_ownership'] == 'NONE', 'home_ownership_class'] = 'OTHER'\n",
    "loan_df.loc[loan_df['home_ownership'] == 'OTHER', 'home_ownership_class'] = 'OTHER'\n",
    "loan_df.loc[loan_df['home_ownership'] == 'ANY', 'home_ownership_class'] = 'OTHER'\n",
    "loan_df.loc[loan_df['home_ownership'] == 'MORTGAGE', 'home_ownership_class'] = 'MORTGAGE'\n",
    "loan_df.loc[loan_df['home_ownership'] == 'RENT', 'home_ownership_class'] = 'RENT'\n",
    "loan_df.loc[loan_df['home_ownership'] == 'OWN', 'home_ownership_class'] = 'OWN'\n",
    "\n",
    "#Nominal classification of verification_status\n",
    "loan_df.loc[loan_df['verification_status'] == 'Verified', 'verification_status_class'] = 'V'\n",
    "loan_df.loc[loan_df['verification_status'] == 'Source Verified', 'verification_status_class'] = 'SV'\n",
    "loan_df.loc[loan_df['verification_status'] == 'Not Verified', 'verification_status_class'] = 'NV'\n",
    "\n",
    "#Range of interest rates\n",
    "loan_df['Int_Rate_Range'] = pd.cut(loan_df.int_rate, [0, 5,10,15,20,25, 30], 6, labels=[0,1,2,3,4,5])\n",
    "loan_df.info()"
   ]
  },
  {
   "cell_type": "code",
   "execution_count": 6,
   "metadata": {
    "collapsed": false
   },
   "outputs": [
    {
     "data": {
      "text/plain": [
       "Int_Rate_Range\n",
       "0         0\n",
       "1    235621\n",
       "2    372060\n",
       "3    221068\n",
       "4     52137\n",
       "5      6493\n",
       "Name: loan_amnt, dtype: int64"
      ]
     },
     "execution_count": 6,
     "metadata": {},
     "output_type": "execute_result"
    }
   ],
   "source": [
    "Int_Rate_Range = loan_df.groupby(by=\"Int_Rate_Range\")\n",
    "Int_Rate_Range.loan_amnt.count()"
   ]
  },
  {
   "cell_type": "code",
   "execution_count": 7,
   "metadata": {
    "collapsed": false
   },
   "outputs": [
    {
     "name": "stdout",
     "output_type": "stream",
     "text": [
      "<class 'pandas.core.frame.DataFrame'>\n",
      "RangeIndex: 887379 entries, 0 to 887378\n",
      "Data columns (total 33 columns):\n",
      "member_id                    887379 non-null int64\n",
      "loan_amnt                    887379 non-null float64\n",
      "funded_amnt                  887379 non-null float64\n",
      "term                         887379 non-null int64\n",
      "int_rate                     887379 non-null float64\n",
      "grade                        887379 non-null object\n",
      "emp_length                   887379 non-null object\n",
      "home_ownership               887379 non-null object\n",
      "annual_inc                   887379 non-null float64\n",
      "verification_status          887379 non-null object\n",
      "issue_d                      887379 non-null object\n",
      "loan_status                  887379 non-null object\n",
      "desc                         126029 non-null object\n",
      "purpose                      887379 non-null object\n",
      "addr_state                   887379 non-null object\n",
      "dti                          887379 non-null float64\n",
      "delinq_2yrs                  887379 non-null float64\n",
      "inq_last_6mths               887379 non-null float64\n",
      "open_acc                     887379 non-null float64\n",
      "out_prncp                    887379 non-null float64\n",
      "total_pymnt                  887379 non-null float64\n",
      "total_rec_prncp              887379 non-null float64\n",
      "total_rec_int                887379 non-null float64\n",
      "total_rec_late_fee           887379 non-null float64\n",
      "acc_now_delinq               887379 non-null float64\n",
      "tot_coll_amt                 887379 non-null float64\n",
      "tot_cur_bal                  887379 non-null float64\n",
      "Loan_Class                   887379 non-null object\n",
      "Grade_Class                  887379 non-null int64\n",
      "Emp_Class                    887379 non-null int64\n",
      "home_ownership_class         887379 non-null object\n",
      "verification_status_class    887379 non-null object\n",
      "Int_Rate_Range               887379 non-null category\n",
      "dtypes: category(1), float64(16), int64(4), object(12)\n",
      "memory usage: 217.5+ MB\n"
     ]
    }
   ],
   "source": [
    "categorical = [\"Loan_Class\", \"term\", \"home_ownership\", \"verification_status\", \"purpose\", \"addr_state\", \"Int_Rate_Range\", \"home_ownership_class\",\"verification_status_class\" ]\n",
    "\n",
    "continuous = [\"loan_amnt\", \"funded_amnt\", \"int_rate\", \"annual_inc\", \"dti\", \"total_pymnt\", \"total_rec_prncp\", \"total_rec_int\",\n",
    "             \"total_rec_late_fee\", \"tot_coll_amt\", \"tot_cur_bal\"]\n",
    "\n",
    "ordinal = [\"Grade_Class\", \"Emp_Class\"]\n",
    "\n",
    "loan_df[continuous] = loan_df[continuous].astype(np.float64)\n",
    "loan_df[ordinal] = loan_df[ordinal].astype(np.int64)\n",
    "\n",
    "loan_df.info()"
   ]
  },
  {
   "cell_type": "code",
   "execution_count": 8,
   "metadata": {
    "collapsed": true
   },
   "outputs": [],
   "source": [
    "#Creating the copy of the dataset with all transformed the variables retained\n",
    "loan_df_copy = loan_df.copy()"
   ]
  },
  {
   "cell_type": "code",
   "execution_count": 9,
   "metadata": {
    "collapsed": false
   },
   "outputs": [
    {
     "name": "stdout",
     "output_type": "stream",
     "text": [
      "<class 'pandas.core.frame.DataFrame'>\n",
      "RangeIndex: 887379 entries, 0 to 887378\n",
      "Data columns (total 33 columns):\n",
      "member_id                    887379 non-null int64\n",
      "loan_amnt                    887379 non-null float64\n",
      "funded_amnt                  887379 non-null float64\n",
      "term                         887379 non-null int64\n",
      "int_rate                     887379 non-null float64\n",
      "grade                        887379 non-null object\n",
      "emp_length                   887379 non-null object\n",
      "home_ownership               887379 non-null object\n",
      "annual_inc                   887379 non-null float64\n",
      "verification_status          887379 non-null object\n",
      "issue_d                      887379 non-null object\n",
      "loan_status                  887379 non-null object\n",
      "desc                         126029 non-null object\n",
      "purpose                      887379 non-null object\n",
      "addr_state                   887379 non-null object\n",
      "dti                          887379 non-null float64\n",
      "delinq_2yrs                  887379 non-null float64\n",
      "inq_last_6mths               887379 non-null float64\n",
      "open_acc                     887379 non-null float64\n",
      "out_prncp                    887379 non-null float64\n",
      "total_pymnt                  887379 non-null float64\n",
      "total_rec_prncp              887379 non-null float64\n",
      "total_rec_int                887379 non-null float64\n",
      "total_rec_late_fee           887379 non-null float64\n",
      "acc_now_delinq               887379 non-null float64\n",
      "tot_coll_amt                 887379 non-null float64\n",
      "tot_cur_bal                  887379 non-null float64\n",
      "Loan_Class                   887379 non-null object\n",
      "Grade_Class                  887379 non-null int64\n",
      "Emp_Class                    887379 non-null int64\n",
      "home_ownership_class         887379 non-null object\n",
      "verification_status_class    887379 non-null object\n",
      "Int_Rate_Range               887379 non-null category\n",
      "dtypes: category(1), float64(16), int64(4), object(12)\n",
      "memory usage: 217.5+ MB\n"
     ]
    }
   ],
   "source": [
    "loan_df_copy.info()"
   ]
  },
  {
   "cell_type": "code",
   "execution_count": 10,
   "metadata": {
    "collapsed": true
   },
   "outputs": [],
   "source": [
    "# Now let's clean up the dataset. We don't need features for now.\n",
    "if 'member_id' in loan_df:\n",
    "    del loan_df['member_id'] # if 'member_id' column still exists, delete it. We don't need this for feature for now.\n",
    "    \n",
    "if 'emp_length' in loan_df:\n",
    "    del loan_df['emp_length']\n",
    "    \n",
    "if 'verification_status' in loan_df:\n",
    "    del loan_df['verification_status']\n",
    "    \n",
    "if 'home_ownership' in loan_df:\n",
    "    del loan_df['home_ownership']\n",
    "    \n",
    "if 'issue_d' in loan_df:\n",
    "    del loan_df['issue_d']\n",
    "\n",
    "if 'desc' in loan_df:\n",
    "    del loan_df['desc']\n",
    "\n",
    "if 'addr_state' in loan_df:\n",
    "    del loan_df['addr_state']\n",
    "\n",
    "if 'grade' in loan_df:\n",
    "    del loan_df['grade']\n",
    "\n",
    "if 'loan_status' in loan_df:\n",
    "    del loan_df['loan_status']\n",
    "    \n",
    "if 'loan_amnt' in loan_df:\n",
    "    del loan_df['loan_amnt']"
   ]
  },
  {
   "cell_type": "code",
   "execution_count": 11,
   "metadata": {
    "collapsed": false,
    "scrolled": true
   },
   "outputs": [
    {
     "data": {
      "text/html": [
       "<div>\n",
       "<table border=\"1\" class=\"dataframe\">\n",
       "  <thead>\n",
       "    <tr style=\"text-align: right;\">\n",
       "      <th></th>\n",
       "      <th>funded_amnt</th>\n",
       "      <th>term</th>\n",
       "      <th>int_rate</th>\n",
       "      <th>annual_inc</th>\n",
       "      <th>purpose</th>\n",
       "      <th>dti</th>\n",
       "      <th>delinq_2yrs</th>\n",
       "      <th>inq_last_6mths</th>\n",
       "      <th>open_acc</th>\n",
       "      <th>out_prncp</th>\n",
       "      <th>...</th>\n",
       "      <th>total_rec_late_fee</th>\n",
       "      <th>acc_now_delinq</th>\n",
       "      <th>tot_coll_amt</th>\n",
       "      <th>tot_cur_bal</th>\n",
       "      <th>Loan_Class</th>\n",
       "      <th>Grade_Class</th>\n",
       "      <th>Emp_Class</th>\n",
       "      <th>home_ownership_class</th>\n",
       "      <th>verification_status_class</th>\n",
       "      <th>Int_Rate_Range</th>\n",
       "    </tr>\n",
       "  </thead>\n",
       "  <tbody>\n",
       "    <tr>\n",
       "      <th>0</th>\n",
       "      <td>5000.0</td>\n",
       "      <td>36</td>\n",
       "      <td>10.65</td>\n",
       "      <td>24000.0</td>\n",
       "      <td>credit_card</td>\n",
       "      <td>27.65</td>\n",
       "      <td>0.0</td>\n",
       "      <td>1.0</td>\n",
       "      <td>3.0</td>\n",
       "      <td>0.0</td>\n",
       "      <td>...</td>\n",
       "      <td>0.00</td>\n",
       "      <td>0.0</td>\n",
       "      <td>0.0</td>\n",
       "      <td>0.0</td>\n",
       "      <td>Good</td>\n",
       "      <td>2</td>\n",
       "      <td>10</td>\n",
       "      <td>RENT</td>\n",
       "      <td>V</td>\n",
       "      <td>2</td>\n",
       "    </tr>\n",
       "    <tr>\n",
       "      <th>1</th>\n",
       "      <td>2500.0</td>\n",
       "      <td>60</td>\n",
       "      <td>15.27</td>\n",
       "      <td>30000.0</td>\n",
       "      <td>car</td>\n",
       "      <td>1.00</td>\n",
       "      <td>0.0</td>\n",
       "      <td>5.0</td>\n",
       "      <td>3.0</td>\n",
       "      <td>0.0</td>\n",
       "      <td>...</td>\n",
       "      <td>0.00</td>\n",
       "      <td>0.0</td>\n",
       "      <td>0.0</td>\n",
       "      <td>0.0</td>\n",
       "      <td>Bad</td>\n",
       "      <td>3</td>\n",
       "      <td>0</td>\n",
       "      <td>RENT</td>\n",
       "      <td>SV</td>\n",
       "      <td>3</td>\n",
       "    </tr>\n",
       "    <tr>\n",
       "      <th>2</th>\n",
       "      <td>2400.0</td>\n",
       "      <td>36</td>\n",
       "      <td>15.96</td>\n",
       "      <td>12252.0</td>\n",
       "      <td>small_business</td>\n",
       "      <td>8.72</td>\n",
       "      <td>0.0</td>\n",
       "      <td>2.0</td>\n",
       "      <td>2.0</td>\n",
       "      <td>0.0</td>\n",
       "      <td>...</td>\n",
       "      <td>0.00</td>\n",
       "      <td>0.0</td>\n",
       "      <td>0.0</td>\n",
       "      <td>0.0</td>\n",
       "      <td>Good</td>\n",
       "      <td>3</td>\n",
       "      <td>10</td>\n",
       "      <td>RENT</td>\n",
       "      <td>NV</td>\n",
       "      <td>3</td>\n",
       "    </tr>\n",
       "    <tr>\n",
       "      <th>3</th>\n",
       "      <td>10000.0</td>\n",
       "      <td>36</td>\n",
       "      <td>13.49</td>\n",
       "      <td>49200.0</td>\n",
       "      <td>other</td>\n",
       "      <td>20.00</td>\n",
       "      <td>0.0</td>\n",
       "      <td>1.0</td>\n",
       "      <td>10.0</td>\n",
       "      <td>0.0</td>\n",
       "      <td>...</td>\n",
       "      <td>16.97</td>\n",
       "      <td>0.0</td>\n",
       "      <td>0.0</td>\n",
       "      <td>0.0</td>\n",
       "      <td>Good</td>\n",
       "      <td>3</td>\n",
       "      <td>10</td>\n",
       "      <td>RENT</td>\n",
       "      <td>SV</td>\n",
       "      <td>2</td>\n",
       "    </tr>\n",
       "    <tr>\n",
       "      <th>4</th>\n",
       "      <td>3000.0</td>\n",
       "      <td>60</td>\n",
       "      <td>12.69</td>\n",
       "      <td>80000.0</td>\n",
       "      <td>other</td>\n",
       "      <td>17.94</td>\n",
       "      <td>0.0</td>\n",
       "      <td>0.0</td>\n",
       "      <td>15.0</td>\n",
       "      <td>766.9</td>\n",
       "      <td>...</td>\n",
       "      <td>0.00</td>\n",
       "      <td>0.0</td>\n",
       "      <td>0.0</td>\n",
       "      <td>0.0</td>\n",
       "      <td>Current</td>\n",
       "      <td>2</td>\n",
       "      <td>1</td>\n",
       "      <td>RENT</td>\n",
       "      <td>SV</td>\n",
       "      <td>2</td>\n",
       "    </tr>\n",
       "  </tbody>\n",
       "</table>\n",
       "<p>5 rows × 23 columns</p>\n",
       "</div>"
      ],
      "text/plain": [
       "   funded_amnt  term  int_rate  annual_inc         purpose    dti  \\\n",
       "0       5000.0    36     10.65     24000.0     credit_card  27.65   \n",
       "1       2500.0    60     15.27     30000.0             car   1.00   \n",
       "2       2400.0    36     15.96     12252.0  small_business   8.72   \n",
       "3      10000.0    36     13.49     49200.0           other  20.00   \n",
       "4       3000.0    60     12.69     80000.0           other  17.94   \n",
       "\n",
       "   delinq_2yrs  inq_last_6mths  open_acc  out_prncp       ...        \\\n",
       "0          0.0             1.0       3.0        0.0       ...         \n",
       "1          0.0             5.0       3.0        0.0       ...         \n",
       "2          0.0             2.0       2.0        0.0       ...         \n",
       "3          0.0             1.0      10.0        0.0       ...         \n",
       "4          0.0             0.0      15.0      766.9       ...         \n",
       "\n",
       "   total_rec_late_fee  acc_now_delinq  tot_coll_amt  tot_cur_bal  Loan_Class  \\\n",
       "0                0.00             0.0           0.0          0.0        Good   \n",
       "1                0.00             0.0           0.0          0.0         Bad   \n",
       "2                0.00             0.0           0.0          0.0        Good   \n",
       "3               16.97             0.0           0.0          0.0        Good   \n",
       "4                0.00             0.0           0.0          0.0     Current   \n",
       "\n",
       "   Grade_Class  Emp_Class home_ownership_class  verification_status_class  \\\n",
       "0            2         10                 RENT                          V   \n",
       "1            3          0                 RENT                         SV   \n",
       "2            3         10                 RENT                         NV   \n",
       "3            3         10                 RENT                         SV   \n",
       "4            2          1                 RENT                         SV   \n",
       "\n",
       "   Int_Rate_Range  \n",
       "0               2  \n",
       "1               3  \n",
       "2               3  \n",
       "3               2  \n",
       "4               2  \n",
       "\n",
       "[5 rows x 23 columns]"
      ]
     },
     "execution_count": 11,
     "metadata": {},
     "output_type": "execute_result"
    }
   ],
   "source": [
    "#Stats of nominal and continous data\n",
    "loan_df.head()"
   ]
  },
  {
   "cell_type": "code",
   "execution_count": 12,
   "metadata": {
    "collapsed": false
   },
   "outputs": [
    {
     "data": {
      "text/html": [
       "<div>\n",
       "<table border=\"1\" class=\"dataframe\">\n",
       "  <thead>\n",
       "    <tr style=\"text-align: right;\">\n",
       "      <th></th>\n",
       "      <th>member_id</th>\n",
       "      <th>loan_amnt</th>\n",
       "      <th>funded_amnt</th>\n",
       "      <th>term</th>\n",
       "      <th>int_rate</th>\n",
       "      <th>grade</th>\n",
       "      <th>emp_length</th>\n",
       "      <th>home_ownership</th>\n",
       "      <th>annual_inc</th>\n",
       "      <th>verification_status</th>\n",
       "      <th>...</th>\n",
       "      <th>total_rec_late_fee</th>\n",
       "      <th>acc_now_delinq</th>\n",
       "      <th>tot_coll_amt</th>\n",
       "      <th>tot_cur_bal</th>\n",
       "      <th>Loan_Class</th>\n",
       "      <th>Grade_Class</th>\n",
       "      <th>Emp_Class</th>\n",
       "      <th>home_ownership_class</th>\n",
       "      <th>verification_status_class</th>\n",
       "      <th>Int_Rate_Range</th>\n",
       "    </tr>\n",
       "  </thead>\n",
       "  <tbody>\n",
       "    <tr>\n",
       "      <th>0</th>\n",
       "      <td>1296599</td>\n",
       "      <td>5000.0</td>\n",
       "      <td>5000.0</td>\n",
       "      <td>36</td>\n",
       "      <td>10.65</td>\n",
       "      <td>B</td>\n",
       "      <td>10+ years</td>\n",
       "      <td>RENT</td>\n",
       "      <td>24000.0</td>\n",
       "      <td>Verified</td>\n",
       "      <td>...</td>\n",
       "      <td>0.00</td>\n",
       "      <td>0.0</td>\n",
       "      <td>0.0</td>\n",
       "      <td>0.0</td>\n",
       "      <td>Good</td>\n",
       "      <td>2</td>\n",
       "      <td>10</td>\n",
       "      <td>RENT</td>\n",
       "      <td>V</td>\n",
       "      <td>2</td>\n",
       "    </tr>\n",
       "    <tr>\n",
       "      <th>1</th>\n",
       "      <td>1314167</td>\n",
       "      <td>2500.0</td>\n",
       "      <td>2500.0</td>\n",
       "      <td>60</td>\n",
       "      <td>15.27</td>\n",
       "      <td>C</td>\n",
       "      <td>&lt; 1 year</td>\n",
       "      <td>RENT</td>\n",
       "      <td>30000.0</td>\n",
       "      <td>Source Verified</td>\n",
       "      <td>...</td>\n",
       "      <td>0.00</td>\n",
       "      <td>0.0</td>\n",
       "      <td>0.0</td>\n",
       "      <td>0.0</td>\n",
       "      <td>Bad</td>\n",
       "      <td>3</td>\n",
       "      <td>0</td>\n",
       "      <td>RENT</td>\n",
       "      <td>SV</td>\n",
       "      <td>3</td>\n",
       "    </tr>\n",
       "    <tr>\n",
       "      <th>2</th>\n",
       "      <td>1313524</td>\n",
       "      <td>2400.0</td>\n",
       "      <td>2400.0</td>\n",
       "      <td>36</td>\n",
       "      <td>15.96</td>\n",
       "      <td>C</td>\n",
       "      <td>10+ years</td>\n",
       "      <td>RENT</td>\n",
       "      <td>12252.0</td>\n",
       "      <td>Not Verified</td>\n",
       "      <td>...</td>\n",
       "      <td>0.00</td>\n",
       "      <td>0.0</td>\n",
       "      <td>0.0</td>\n",
       "      <td>0.0</td>\n",
       "      <td>Good</td>\n",
       "      <td>3</td>\n",
       "      <td>10</td>\n",
       "      <td>RENT</td>\n",
       "      <td>NV</td>\n",
       "      <td>3</td>\n",
       "    </tr>\n",
       "    <tr>\n",
       "      <th>3</th>\n",
       "      <td>1277178</td>\n",
       "      <td>10000.0</td>\n",
       "      <td>10000.0</td>\n",
       "      <td>36</td>\n",
       "      <td>13.49</td>\n",
       "      <td>C</td>\n",
       "      <td>10+ years</td>\n",
       "      <td>RENT</td>\n",
       "      <td>49200.0</td>\n",
       "      <td>Source Verified</td>\n",
       "      <td>...</td>\n",
       "      <td>16.97</td>\n",
       "      <td>0.0</td>\n",
       "      <td>0.0</td>\n",
       "      <td>0.0</td>\n",
       "      <td>Good</td>\n",
       "      <td>3</td>\n",
       "      <td>10</td>\n",
       "      <td>RENT</td>\n",
       "      <td>SV</td>\n",
       "      <td>2</td>\n",
       "    </tr>\n",
       "    <tr>\n",
       "      <th>4</th>\n",
       "      <td>1311748</td>\n",
       "      <td>3000.0</td>\n",
       "      <td>3000.0</td>\n",
       "      <td>60</td>\n",
       "      <td>12.69</td>\n",
       "      <td>B</td>\n",
       "      <td>1 year</td>\n",
       "      <td>RENT</td>\n",
       "      <td>80000.0</td>\n",
       "      <td>Source Verified</td>\n",
       "      <td>...</td>\n",
       "      <td>0.00</td>\n",
       "      <td>0.0</td>\n",
       "      <td>0.0</td>\n",
       "      <td>0.0</td>\n",
       "      <td>Current</td>\n",
       "      <td>2</td>\n",
       "      <td>1</td>\n",
       "      <td>RENT</td>\n",
       "      <td>SV</td>\n",
       "      <td>2</td>\n",
       "    </tr>\n",
       "  </tbody>\n",
       "</table>\n",
       "<p>5 rows × 33 columns</p>\n",
       "</div>"
      ],
      "text/plain": [
       "   member_id  loan_amnt  funded_amnt  term  int_rate grade emp_length  \\\n",
       "0    1296599     5000.0       5000.0    36     10.65     B  10+ years   \n",
       "1    1314167     2500.0       2500.0    60     15.27     C   < 1 year   \n",
       "2    1313524     2400.0       2400.0    36     15.96     C  10+ years   \n",
       "3    1277178    10000.0      10000.0    36     13.49     C  10+ years   \n",
       "4    1311748     3000.0       3000.0    60     12.69     B     1 year   \n",
       "\n",
       "  home_ownership  annual_inc verification_status       ...        \\\n",
       "0           RENT     24000.0            Verified       ...         \n",
       "1           RENT     30000.0     Source Verified       ...         \n",
       "2           RENT     12252.0        Not Verified       ...         \n",
       "3           RENT     49200.0     Source Verified       ...         \n",
       "4           RENT     80000.0     Source Verified       ...         \n",
       "\n",
       "  total_rec_late_fee acc_now_delinq tot_coll_amt tot_cur_bal Loan_Class  \\\n",
       "0               0.00            0.0          0.0         0.0       Good   \n",
       "1               0.00            0.0          0.0         0.0        Bad   \n",
       "2               0.00            0.0          0.0         0.0       Good   \n",
       "3              16.97            0.0          0.0         0.0       Good   \n",
       "4               0.00            0.0          0.0         0.0    Current   \n",
       "\n",
       "   Grade_Class  Emp_Class  home_ownership_class  verification_status_class  \\\n",
       "0            2         10                  RENT                          V   \n",
       "1            3          0                  RENT                         SV   \n",
       "2            3         10                  RENT                         NV   \n",
       "3            3         10                  RENT                         SV   \n",
       "4            2          1                  RENT                         SV   \n",
       "\n",
       "   Int_Rate_Range  \n",
       "0               2  \n",
       "1               3  \n",
       "2               3  \n",
       "3               2  \n",
       "4               2  \n",
       "\n",
       "[5 rows x 33 columns]"
      ]
     },
     "execution_count": 12,
     "metadata": {},
     "output_type": "execute_result"
    }
   ],
   "source": [
    "loan_df_copy.head()"
   ]
  },
  {
   "cell_type": "code",
   "execution_count": 13,
   "metadata": {
    "collapsed": true
   },
   "outputs": [],
   "source": [
    "# perform one-hot encoding of the categorical data \"embarked\"\n",
    "tmp_df = pd.get_dummies(loan_df.home_ownership_class,prefix='HOC')\n",
    "loan_df = pd.concat((loan_df,tmp_df),axis=1) # add back into the dataframe\n",
    "\n",
    "tmp_df = pd.get_dummies(loan_df.verification_status_class,prefix='VSC')\n",
    "loan_df = pd.concat((loan_df,tmp_df),axis=1) # add back into the dataframe\n",
    "\n",
    "tmp_df = pd.get_dummies(loan_df.purpose,prefix='Loan_Purpose')\n",
    "loan_df = pd.concat((loan_df,tmp_df),axis=1) # add back into the dataframe"
   ]
  },
  {
   "cell_type": "code",
   "execution_count": 14,
   "metadata": {
    "collapsed": false
   },
   "outputs": [
    {
     "data": {
      "text/html": [
       "<div>\n",
       "<table border=\"1\" class=\"dataframe\">\n",
       "  <thead>\n",
       "    <tr style=\"text-align: right;\">\n",
       "      <th></th>\n",
       "      <th>count</th>\n",
       "      <th>unique</th>\n",
       "      <th>top</th>\n",
       "      <th>freq</th>\n",
       "    </tr>\n",
       "  </thead>\n",
       "  <tbody>\n",
       "    <tr>\n",
       "      <th>home_ownership_class</th>\n",
       "      <td>887379</td>\n",
       "      <td>4</td>\n",
       "      <td>MORTGAGE</td>\n",
       "      <td>443557</td>\n",
       "    </tr>\n",
       "    <tr>\n",
       "      <th>verification_status_class</th>\n",
       "      <td>887379</td>\n",
       "      <td>3</td>\n",
       "      <td>SV</td>\n",
       "      <td>329558</td>\n",
       "    </tr>\n",
       "    <tr>\n",
       "      <th>purpose</th>\n",
       "      <td>887379</td>\n",
       "      <td>14</td>\n",
       "      <td>debt_consolidation</td>\n",
       "      <td>524215</td>\n",
       "    </tr>\n",
       "    <tr>\n",
       "      <th>Loan_Class</th>\n",
       "      <td>887379</td>\n",
       "      <td>3</td>\n",
       "      <td>Current</td>\n",
       "      <td>616492</td>\n",
       "    </tr>\n",
       "    <tr>\n",
       "      <th>Int_Rate_Range</th>\n",
       "      <td>887379</td>\n",
       "      <td>5</td>\n",
       "      <td>2</td>\n",
       "      <td>372060</td>\n",
       "    </tr>\n",
       "  </tbody>\n",
       "</table>\n",
       "</div>"
      ],
      "text/plain": [
       "                            count unique                 top    freq\n",
       "home_ownership_class       887379      4            MORTGAGE  443557\n",
       "verification_status_class  887379      3                  SV  329558\n",
       "purpose                    887379     14  debt_consolidation  524215\n",
       "Loan_Class                 887379      3             Current  616492\n",
       "Int_Rate_Range             887379      5                   2  372060"
      ]
     },
     "execution_count": 14,
     "metadata": {},
     "output_type": "execute_result"
    }
   ],
   "source": [
    "loan_df[['home_ownership_class','verification_status_class', 'purpose', 'Loan_Class', 'Int_Rate_Range']].describe().transpose()"
   ]
  },
  {
   "cell_type": "code",
   "execution_count": 15,
   "metadata": {
    "collapsed": false
   },
   "outputs": [
    {
     "name": "stdout",
     "output_type": "stream",
     "text": [
      "<class 'pandas.core.frame.DataFrame'>\n",
      "RangeIndex: 887379 entries, 0 to 887378\n",
      "Data columns (total 44 columns):\n",
      "funded_amnt                        887379 non-null float64\n",
      "term                               887379 non-null int64\n",
      "int_rate                           887379 non-null float64\n",
      "annual_inc                         887379 non-null float64\n",
      "purpose                            887379 non-null object\n",
      "dti                                887379 non-null float64\n",
      "delinq_2yrs                        887379 non-null float64\n",
      "inq_last_6mths                     887379 non-null float64\n",
      "open_acc                           887379 non-null float64\n",
      "out_prncp                          887379 non-null float64\n",
      "total_pymnt                        887379 non-null float64\n",
      "total_rec_prncp                    887379 non-null float64\n",
      "total_rec_int                      887379 non-null float64\n",
      "total_rec_late_fee                 887379 non-null float64\n",
      "acc_now_delinq                     887379 non-null float64\n",
      "tot_coll_amt                       887379 non-null float64\n",
      "tot_cur_bal                        887379 non-null float64\n",
      "Loan_Class                         887379 non-null object\n",
      "Grade_Class                        887379 non-null int64\n",
      "Emp_Class                          887379 non-null int64\n",
      "home_ownership_class               887379 non-null object\n",
      "verification_status_class          887379 non-null object\n",
      "Int_Rate_Range                     887379 non-null category\n",
      "HOC_MORTGAGE                       887379 non-null float64\n",
      "HOC_OTHER                          887379 non-null float64\n",
      "HOC_OWN                            887379 non-null float64\n",
      "HOC_RENT                           887379 non-null float64\n",
      "VSC_NV                             887379 non-null float64\n",
      "VSC_SV                             887379 non-null float64\n",
      "VSC_V                              887379 non-null float64\n",
      "Loan_Purpose_car                   887379 non-null float64\n",
      "Loan_Purpose_credit_card           887379 non-null float64\n",
      "Loan_Purpose_debt_consolidation    887379 non-null float64\n",
      "Loan_Purpose_educational           887379 non-null float64\n",
      "Loan_Purpose_home_improvement      887379 non-null float64\n",
      "Loan_Purpose_house                 887379 non-null float64\n",
      "Loan_Purpose_major_purchase        887379 non-null float64\n",
      "Loan_Purpose_medical               887379 non-null float64\n",
      "Loan_Purpose_moving                887379 non-null float64\n",
      "Loan_Purpose_other                 887379 non-null float64\n",
      "Loan_Purpose_renewable_energy      887379 non-null float64\n",
      "Loan_Purpose_small_business        887379 non-null float64\n",
      "Loan_Purpose_vacation              887379 non-null float64\n",
      "Loan_Purpose_wedding               887379 non-null float64\n",
      "dtypes: category(1), float64(36), int64(3), object(4)\n",
      "memory usage: 292.0+ MB\n"
     ]
    }
   ],
   "source": [
    "loan_df.info()"
   ]
  },
  {
   "cell_type": "code",
   "execution_count": 16,
   "metadata": {
    "collapsed": true
   },
   "outputs": [],
   "source": [
    "#Remove the redundant variables\n",
    "if 'home_ownership_class' in loan_df:\n",
    "    del loan_df['home_ownership_class']\n",
    "    \n",
    "if 'verification_status_class' in loan_df:\n",
    "    del loan_df['verification_status_class']\n",
    "    \n",
    "if 'purpose' in loan_df:\n",
    "    del loan_df['purpose']"
   ]
  },
  {
   "cell_type": "code",
   "execution_count": 17,
   "metadata": {
    "collapsed": false
   },
   "outputs": [
    {
     "name": "stdout",
     "output_type": "stream",
     "text": [
      "<class 'pandas.core.frame.DataFrame'>\n",
      "RangeIndex: 887379 entries, 0 to 887378\n",
      "Data columns (total 41 columns):\n",
      "funded_amnt                        887379 non-null float64\n",
      "term                               887379 non-null int64\n",
      "int_rate                           887379 non-null float64\n",
      "annual_inc                         887379 non-null float64\n",
      "dti                                887379 non-null float64\n",
      "delinq_2yrs                        887379 non-null float64\n",
      "inq_last_6mths                     887379 non-null float64\n",
      "open_acc                           887379 non-null float64\n",
      "out_prncp                          887379 non-null float64\n",
      "total_pymnt                        887379 non-null float64\n",
      "total_rec_prncp                    887379 non-null float64\n",
      "total_rec_int                      887379 non-null float64\n",
      "total_rec_late_fee                 887379 non-null float64\n",
      "acc_now_delinq                     887379 non-null float64\n",
      "tot_coll_amt                       887379 non-null float64\n",
      "tot_cur_bal                        887379 non-null float64\n",
      "Loan_Class                         887379 non-null object\n",
      "Grade_Class                        887379 non-null int64\n",
      "Emp_Class                          887379 non-null int64\n",
      "Int_Rate_Range                     887379 non-null category\n",
      "HOC_MORTGAGE                       887379 non-null float64\n",
      "HOC_OTHER                          887379 non-null float64\n",
      "HOC_OWN                            887379 non-null float64\n",
      "HOC_RENT                           887379 non-null float64\n",
      "VSC_NV                             887379 non-null float64\n",
      "VSC_SV                             887379 non-null float64\n",
      "VSC_V                              887379 non-null float64\n",
      "Loan_Purpose_car                   887379 non-null float64\n",
      "Loan_Purpose_credit_card           887379 non-null float64\n",
      "Loan_Purpose_debt_consolidation    887379 non-null float64\n",
      "Loan_Purpose_educational           887379 non-null float64\n",
      "Loan_Purpose_home_improvement      887379 non-null float64\n",
      "Loan_Purpose_house                 887379 non-null float64\n",
      "Loan_Purpose_major_purchase        887379 non-null float64\n",
      "Loan_Purpose_medical               887379 non-null float64\n",
      "Loan_Purpose_moving                887379 non-null float64\n",
      "Loan_Purpose_other                 887379 non-null float64\n",
      "Loan_Purpose_renewable_energy      887379 non-null float64\n",
      "Loan_Purpose_small_business        887379 non-null float64\n",
      "Loan_Purpose_vacation              887379 non-null float64\n",
      "Loan_Purpose_wedding               887379 non-null float64\n",
      "dtypes: category(1), float64(36), int64(3), object(1)\n",
      "memory usage: 271.7+ MB\n"
     ]
    }
   ],
   "source": [
    "loan_df.info()"
   ]
  },
  {
   "cell_type": "code",
   "execution_count": 18,
   "metadata": {
    "collapsed": false
   },
   "outputs": [],
   "source": [
    "loan_df_Current = loan_df[loan_df['Loan_Class'] == 'Current']\n",
    "loan_df_Historical = loan_df[(loan_df['Loan_Class'] == 'Bad') | (loan_df['Loan_Class']=='Good')]"
   ]
  },
  {
   "cell_type": "code",
   "execution_count": 19,
   "metadata": {
    "collapsed": false
   },
   "outputs": [
    {
     "data": {
      "text/plain": [
       "(270887, 41)"
      ]
     },
     "execution_count": 19,
     "metadata": {},
     "output_type": "execute_result"
    }
   ],
   "source": [
    "loan_df_Historical.shape"
   ]
  },
  {
   "cell_type": "code",
   "execution_count": 20,
   "metadata": {
    "collapsed": false
   },
   "outputs": [
    {
     "data": {
      "text/plain": [
       "(616492, 41)"
      ]
     },
     "execution_count": 20,
     "metadata": {},
     "output_type": "execute_result"
    }
   ],
   "source": [
    "loan_df_Current.shape"
   ]
  },
  {
   "cell_type": "code",
   "execution_count": 21,
   "metadata": {
    "collapsed": false
   },
   "outputs": [
    {
     "name": "stderr",
     "output_type": "stream",
     "text": [
      "C:\\Anaconda2\\lib\\site-packages\\ipykernel\\__main__.py:4: SettingWithCopyWarning: \n",
      "A value is trying to be set on a copy of a slice from a DataFrame.\n",
      "Try using .loc[row_indexer,col_indexer] = value instead\n",
      "\n",
      "See the caveats in the documentation: http://pandas.pydata.org/pandas-docs/stable/indexing.html#indexing-view-versus-copy\n",
      "C:\\Anaconda2\\lib\\site-packages\\pandas\\core\\generic.py:2698: SettingWithCopyWarning: \n",
      "A value is trying to be set on a copy of a slice from a DataFrame.\n",
      "Try using .loc[row_indexer,col_indexer] = value instead\n",
      "\n",
      "See the caveats in the documentation: http://pandas.pydata.org/pandas-docs/stable/indexing.html#indexing-view-versus-copy\n",
      "  self[name] = value\n"
     ]
    },
    {
     "name": "stdout",
     "output_type": "stream",
     "text": [
      "<class 'pandas.core.frame.DataFrame'>\n",
      "Int64Index: 270887 entries, 0 to 887371\n",
      "Data columns (total 42 columns):\n",
      "funded_amnt                        270887 non-null float64\n",
      "term                               270887 non-null int64\n",
      "int_rate                           270887 non-null float64\n",
      "annual_inc                         270887 non-null float64\n",
      "dti                                270887 non-null float64\n",
      "delinq_2yrs                        270887 non-null float64\n",
      "inq_last_6mths                     270887 non-null float64\n",
      "open_acc                           270887 non-null float64\n",
      "out_prncp                          270887 non-null float64\n",
      "total_pymnt                        270887 non-null float64\n",
      "total_rec_prncp                    270887 non-null float64\n",
      "total_rec_int                      270887 non-null float64\n",
      "total_rec_late_fee                 270887 non-null float64\n",
      "acc_now_delinq                     270887 non-null float64\n",
      "tot_coll_amt                       270887 non-null float64\n",
      "tot_cur_bal                        270887 non-null float64\n",
      "Loan_Class                         270887 non-null object\n",
      "Grade_Class                        270887 non-null int64\n",
      "Emp_Class                          270887 non-null int64\n",
      "Int_Rate_Range                     270887 non-null category\n",
      "HOC_MORTGAGE                       270887 non-null float64\n",
      "HOC_OTHER                          270887 non-null float64\n",
      "HOC_OWN                            270887 non-null float64\n",
      "HOC_RENT                           270887 non-null float64\n",
      "VSC_NV                             270887 non-null float64\n",
      "VSC_SV                             270887 non-null float64\n",
      "VSC_V                              270887 non-null float64\n",
      "Loan_Purpose_car                   270887 non-null float64\n",
      "Loan_Purpose_credit_card           270887 non-null float64\n",
      "Loan_Purpose_debt_consolidation    270887 non-null float64\n",
      "Loan_Purpose_educational           270887 non-null float64\n",
      "Loan_Purpose_home_improvement      270887 non-null float64\n",
      "Loan_Purpose_house                 270887 non-null float64\n",
      "Loan_Purpose_major_purchase        270887 non-null float64\n",
      "Loan_Purpose_medical               270887 non-null float64\n",
      "Loan_Purpose_moving                270887 non-null float64\n",
      "Loan_Purpose_other                 270887 non-null float64\n",
      "Loan_Purpose_renewable_energy      270887 non-null float64\n",
      "Loan_Purpose_small_business        270887 non-null float64\n",
      "Loan_Purpose_vacation              270887 non-null float64\n",
      "Loan_Purpose_wedding               270887 non-null float64\n",
      "IsGoodLoan                         270887 non-null int32\n",
      "dtypes: category(1), float64(36), int32(1), int64(3), object(1)\n",
      "memory usage: 86.0+ MB\n"
     ]
    }
   ],
   "source": [
    "#Assigining the labels to Good and Bad loans\n",
    "#Good = 1 and Bad = 0\n",
    "\n",
    "loan_df_Historical['IsGoodLoan'] = loan_df_Historical.Loan_Class == 'Good' \n",
    "loan_df_Historical.IsGoodLoan = loan_df_Historical.IsGoodLoan.astype(np.int)\n",
    "\n",
    "loan_df_Historical.info()"
   ]
  },
  {
   "cell_type": "code",
   "execution_count": 22,
   "metadata": {
    "collapsed": true
   },
   "outputs": [],
   "source": [
    "#Delete Loan_Class as its now encoded into 0/1 (IsGoodLoan) variable\n",
    "if 'Loan_Class' in loan_df_Historical:\n",
    "    del loan_df_Historical['Loan_Class']"
   ]
  },
  {
   "cell_type": "markdown",
   "metadata": {},
   "source": [
    "Using the hitorical data frame we can train the model.\n",
    "Splitting this dataframe for training and testing"
   ]
  },
  {
   "cell_type": "code",
   "execution_count": 23,
   "metadata": {
    "collapsed": false
   },
   "outputs": [
    {
     "name": "stdout",
     "output_type": "stream",
     "text": [
      "ShuffleSplit(270887, n_iter=3, test_size=0.2, random_state=None)\n"
     ]
    }
   ],
   "source": [
    "from sklearn.cross_validation import ShuffleSplit\n",
    "\n",
    "# we want to predict the X and y data as follows:\n",
    "if 'IsGoodLoan' in loan_df_Historical:\n",
    "    y = loan_df_Historical['IsGoodLoan'].values # get the labels we want\n",
    "    del loan_df_Historical['IsGoodLoan'] # get rid of the class label\n",
    "    X = loan_df_Historical.values # use everything else to predict!\n",
    "\n",
    "    ## X and y are now numpy matrices, by calling 'values' on the pandas data frames we\n",
    "    #    have converted them into simple matrices to use with scikit learn\n",
    "    \n",
    "    \n",
    "# to use the cross validation object in scikit learn, we need to grab an instance\n",
    "#    of the object and set it up. This object will be able to split our data into \n",
    "#    training and testing splits\n",
    "num_cv_iterations = 3\n",
    "num_instances = len(y)\n",
    "cv_object = ShuffleSplit(n=num_instances,\n",
    "                         n_iter=num_cv_iterations,\n",
    "                         test_size  = 0.2)\n",
    "                         \n",
    "print cv_object"
   ]
  },
  {
   "cell_type": "markdown",
   "metadata": {},
   "source": [
    "# Logistic Regression\n",
    "Now let's use Logistic Regression from scikit-learn"
   ]
  },
  {
   "cell_type": "code",
   "execution_count": 24,
   "metadata": {
    "collapsed": false
   },
   "outputs": [
    {
     "name": "stdout",
     "output_type": "stream",
     "text": [
      "====Iteration 0  ====\n",
      "accuracy 0.992266233527\n",
      "confusion matrix\n",
      "[[12039   346]\n",
      " [   73 41720]]\n",
      "====Iteration 1  ====\n",
      "accuracy 0.992229318173\n",
      "confusion matrix\n",
      "[[11969   341]\n",
      " [   80 41788]]\n",
      "====Iteration 2  ====\n",
      "accuracy 0.992580014028\n",
      "confusion matrix\n",
      "[[11841   328]\n",
      " [   74 41935]]\n"
     ]
    }
   ],
   "source": [
    "# run logistic regression and vary some parameters\n",
    "from sklearn.linear_model import LogisticRegression\n",
    "from sklearn import metrics as mt\n",
    "\n",
    "# first we create a reusable logisitic regression object\n",
    "#   here we can setup the object with different learning parameters and constants\n",
    "lr_clf = LogisticRegression(penalty='l2', C=1.0, class_weight=None) # get object\n",
    "\n",
    "# now we can use the cv_object that we setup before to iterate through the \n",
    "#    different training and testing sets. Each time we will reuse the logisitic regression \n",
    "#    object, but it gets trained on different data each time we use it.\n",
    "\n",
    "iter_num=0\n",
    "# the indices are the rows used for training and testing in each iteration\n",
    "for train_indices, test_indices in cv_object: \n",
    "    # I will create new variables here so that it is more obvious what \n",
    "    # the code is doing (you can compact this syntax and avoid duplicating memory,\n",
    "    # but it makes this code less readable)\n",
    "    X_train = X[train_indices]\n",
    "    y_train = y[train_indices]\n",
    "    \n",
    "    X_test = X[test_indices]\n",
    "    y_test = y[test_indices]\n",
    "    \n",
    "    # train the reusable logisitc regression model on the training data\n",
    "    lr_clf.fit(X_train,y_train)  # train object\n",
    "    y_hat = lr_clf.predict(X_test) # get test set precitions\n",
    "\n",
    "    # now let's get the accuracy and confusion matrix for this iterations of training/testing\n",
    "    acc = mt.accuracy_score(y_test,y_hat)\n",
    "    conf = mt.confusion_matrix(y_test,y_hat)\n",
    "    print \"====Iteration\",iter_num,\" ====\"\n",
    "    print \"accuracy\", acc \n",
    "    print \"confusion matrix\\n\",conf\n",
    "    iter_num+=1\n",
    "    \n",
    "# Also note that every time you run the above code\n",
    "#   it randomly creates a new training and testing set, \n",
    "#   so accuracy will be different each time"
   ]
  },
  {
   "cell_type": "code",
   "execution_count": 25,
   "metadata": {
    "collapsed": false
   },
   "outputs": [
    {
     "name": "stderr",
     "output_type": "stream",
     "text": [
      "C:\\Anaconda2\\lib\\site-packages\\sklearn\\utils\\validation.py:420: DataConversionWarning: Data with input dtype object was converted to float64 by StandardScaler.\n",
      "  warnings.warn(msg, DataConversionWarning)\n",
      "C:\\Anaconda2\\lib\\site-packages\\sklearn\\utils\\validation.py:420: DataConversionWarning: Data with input dtype object was converted to float64 by StandardScaler.\n",
      "  warnings.warn(msg, DataConversionWarning)\n",
      "C:\\Anaconda2\\lib\\site-packages\\sklearn\\utils\\validation.py:420: DataConversionWarning: Data with input dtype object was converted to float64 by StandardScaler.\n",
      "  warnings.warn(msg, DataConversionWarning)\n"
     ]
    },
    {
     "name": "stdout",
     "output_type": "stream",
     "text": [
      "accuracy: 0.987559526007\n",
      "[[11582   587]\n",
      " [   87 41922]]\n",
      "\n",
      "Loan_Purpose_renewable_energy has weight of -0.00219607027675\n",
      "HOC_OTHER has weight of -0.0024845380716\n",
      "Loan_Purpose_educational has weight of -0.00297150531645\n",
      "Loan_Purpose_home_improvement has weight of -0.00320692333126\n",
      "open_acc has weight of -0.00341214407751\n",
      "Loan_Purpose_house has weight of -0.00363275108989\n",
      "Loan_Purpose_vacation has weight of 0.0041602983625\n",
      "Loan_Purpose_wedding has weight of 0.00602202527043\n",
      "Loan_Purpose_moving has weight of -0.00640140385213\n",
      "Emp_Class has weight of 0.00646851025205\n",
      "HOC_RENT has weight of 0.00768317102832\n",
      "VSC_NV has weight of -0.00857917369729\n",
      "Loan_Purpose_debt_consolidation has weight of -0.0111877262427\n",
      "HOC_OWN has weight of 0.0114578352159\n",
      "Loan_Purpose_medical has weight of -0.0118974409628\n",
      "Loan_Purpose_other has weight of -0.0137314850066\n",
      "HOC_MORTGAGE has weight of -0.013930895827\n",
      "Loan_Purpose_car has weight of 0.0145811573754\n",
      "acc_now_delinq has weight of 0.0199903140155\n",
      "Loan_Purpose_credit_card has weight of 0.0248098141513\n",
      "delinq_2yrs has weight of 0.0251704545798\n",
      "VSC_V has weight of -0.0321235218519\n",
      "Loan_Purpose_major_purchase has weight of 0.0422290617867\n",
      "VSC_SV has weight of 0.0427586892626\n",
      "inq_last_6mths has weight of -0.0469669911358\n",
      "Loan_Purpose_small_business has weight of -0.0528563470206\n",
      "annual_inc has weight of 0.0571306564507\n",
      "Int_Rate_Range has weight of -0.0666309772379\n",
      "dti has weight of -0.0791777523691\n",
      "tot_coll_amt has weight of 0.0974378736792\n",
      "int_rate has weight of -0.248345441286\n",
      "tot_cur_bal has weight of 0.282652898277\n",
      "total_rec_late_fee has weight of -0.307719314242\n",
      "Grade_Class has weight of 0.335795662661\n",
      "term has weight of 0.40534689509\n",
      "total_rec_int has weight of -2.62084213601\n",
      "total_pymnt has weight of 4.09145963619\n",
      "out_prncp has weight of -4.7851334958\n",
      "funded_amnt has weight of -8.89439403162\n",
      "total_rec_prncp has weight of 9.17647655254\n"
     ]
    }
   ],
   "source": [
    "from sklearn.preprocessing import StandardScaler\n",
    "\n",
    "# we want to normalize the features based upon the mean and standard deviation of each column. \n",
    "# However, we do not want to accidentally use the testing data to find out the mean and std (this would be snooping)\n",
    "# to Make things easier, let's start by just using whatever was last stored in the variables:\n",
    "##    X_train , y_train , X_test, y_test (they were set in a for loop above)\n",
    "\n",
    "# scale attributes by the training set\n",
    "scl_obj = StandardScaler()\n",
    "scl_obj.fit(X_train) # find scalings for each column that make this zero mean and unit std\n",
    "# the line of code above only looks at training data to get mean and std and we can use it \n",
    "# to transform new feature data\n",
    "\n",
    "X_train_scaled = scl_obj.transform(X_train) # apply to training\n",
    "X_test_scaled = scl_obj.transform(X_test) # apply those means and std to the test set (without snooping at the test set values)\n",
    "\n",
    "# train the model just as before\n",
    "lr_clf = LogisticRegression(penalty='l2', C=0.05) # get object, the 'C' value is less (can you guess why??)\n",
    "lr_clf.fit(X_train_scaled,y_train)  # train object\n",
    "\n",
    "y_hat = lr_clf.predict(X_test_scaled) # get test set precitions\n",
    "\n",
    "acc = mt.accuracy_score(y_test,y_hat)\n",
    "conf = mt.confusion_matrix(y_test,y_hat)\n",
    "print 'accuracy:', acc \n",
    "print conf\n",
    "print \n",
    "\n",
    "# sort these attributes and spit them out\n",
    "zip_vars = zip(lr_clf.coef_.T,loan_df_Historical.columns) # combine attributes\n",
    "zip_vars.sort(key = lambda t: np.abs(t[0])) # sort them by the magnitude of the weight\n",
    "for coef, name in zip_vars:\n",
    "    print name, 'has weight of', coef[0] # now print them out"
   ]
  },
  {
   "cell_type": "code",
   "execution_count": 26,
   "metadata": {
    "collapsed": false
   },
   "outputs": [
    {
     "data": {
      "image/png": "[encoded data removed]",
      "text/plain": [
       "<matplotlib.figure.Figure at 0xa1b0518>"
      ]
     },
     "metadata": {},
     "output_type": "display_data"
    }
   ],
   "source": [
    "# now let's make a pandas Series with the names and values, and plot them\n",
    "from matplotlib import pyplot as plt\n",
    "%matplotlib inline\n",
    "plt.style.use('ggplot')\n",
    "fig = plt.figure(figsize=(20, 20))\n",
    "\n",
    "weights = pd.Series(lr_clf.coef_[0],index=loan_df_Historical.columns)\n",
    "weights.plot(kind='bar')\n",
    "plt.show()"
   ]
  },
  {
   "cell_type": "code",
   "execution_count": null,
   "metadata": {
    "collapsed": true
   },
   "outputs": [],
   "source": []
  }
 ],
 "metadata": {
  "kernelspec": {
   "display_name": "Python 2",
   "language": "python",
   "name": "python2"
  },
  "language_info": {
   "codemirror_mode": {
    "name": "ipython",
    "version": 2
   },
   "file_extension": ".py",
   "mimetype": "text/x-python",
   "name": "python",
   "nbconvert_exporter": "python",
   "pygments_lexer": "ipython2",
   "version": "2.7.11"
  }
 },
 "nbformat": 4,
 "nbformat_minor": 0
}
